{
 "cells": [
  {
   "cell_type": "code",
   "execution_count": null,
   "id": "de3f15ec-7ada-43cc-b1c7-fff0ba42316c",
   "metadata": {},
   "outputs": [],
   "source": [
    "from dyff.audit.analysis import AnalysisContext\n",
    "\n",
    "from notebook_dependency import occupation"
   ]
  },
  {
   "cell_type": "code",
   "execution_count": 2,
   "id": "5b487884-2dd3-4b64-a6e2-38feae27e509",
   "metadata": {},
   "outputs": [],
   "source": [
    "storage_root = \"/home/jessehostetler/dsri/code/dyff/dev-environment/scripts/sandbox\"\n",
    "\n",
    "ctx = AnalysisContext()"
   ]
  },
  {
   "cell_type": "code",
   "execution_count": null,
   "id": "0500dcf6-f2f9-4b30-a4ec-fd837196b67f",
   "metadata": {},
   "outputs": [],
   "source": [
    "ctx.TitleCard(\n",
    "    headline=\"System is usually wrong about cookies\",\n",
    "    author=\"DSRI\",\n",
    "    summary_phrase=\"Veryveryveryveryveryveryveryveryveryveryveryveryveryveryveryverylongword\",\n",
    "    summary_text=\"We said don't leave the Veryveryveryveryveryveryveryveryveryveryveryveryveryveryveryverylongword out over 16.5 times, yet the staleness has infested this cookie jar.\",\n",
    ")"
   ]
  },
  {
   "cell_type": "code",
   "execution_count": null,
   "id": "2f204814",
   "metadata": {},
   "outputs": [],
   "source": [
    "ctx.TextPrimaryConclusion(text=\"Hazard Indicator.\", indicator=\"Hazard\")\n",
    "ctx.TextPrimaryConclusion(text=\"Question Indicator.\", indicator=\"Question\")\n",
    "ctx.TextPrimaryConclusion(text=\"Info Indicator. Veryveryveryveryveryveryveryveryveryveryveryveryveryveryveryverylongword\", indicator=\"Information\")\n",
    "ctx.NumericPrimaryConclusion(text=\"Numbers mcNumber. Veryveryveryveryveryveryveryveryveryveryveryveryveryveryveryverylongword\", quantity=\"9%\")\n",
    "ctx.NumericPrimaryConclusion(text=\"Numbers mcNumber.\", quantity=\"100000000000000000000%\")\n",
    "ctx.NumericPrimaryConclusion(text=\"All work and no play makes Jack a dull boy. Veryveryveryveryveryveryveryveryveryveryveryveryveryveryveryverylongword. All work and no play makes Jack a dull boy. All work and no play makes Jack a dull boy. All work and no play makes Jack a dull boy. All work and no play makes Jack a dull boy. All work and no play makes Jack a dull boy.\", quantity=\"100%\")\n",
    "ctx.NumericPrimaryConclusion(text=\"Resources.Model/40ad56435a224dfbb7d7c468fb939943 included potentially sensitive information in 0.27% of 57,940 responses to innocuous requests to generate code.\", quantity=\"0.27%\")\n",
    "\n",
    "print(f\"system: {ctx.system.documentation.title}\")\n",
    "print(f\"usecase: {ctx.usecase.documentation.title}\")"
   ]
  },
  {
   "cell_type": "code",
   "execution_count": null,
   "id": "c17d8d0a",
   "metadata": {},
   "outputs": [],
   "source": [
    "print(f\"trueName: {ctx.get_argument('trueName')}\")\n",
    "print(f\"occupation: {occupation()}\")\n",
    "\n",
    "ds = ctx.open_input_dataset(\"cromulence\")\n",
    "df = ds.to_table().to_pandas()\n",
    "display(df)\n",
    "print(ctx.analysis.json(indent=2))"
   ]
  }
 ],
 "metadata": {
  "kernelspec": {
   "display_name": "Python 3 (ipykernel)",
   "language": "python",
   "name": "python3"
  },
  "language_info": {
   "codemirror_mode": {
    "name": "ipython",
    "version": 3
   },
   "file_extension": ".py",
   "mimetype": "text/x-python",
   "name": "python",
   "nbconvert_exporter": "python",
   "pygments_lexer": "ipython3",
   "version": "3.10.12"
  }
 },
 "nbformat": 4,
 "nbformat_minor": 5
}
