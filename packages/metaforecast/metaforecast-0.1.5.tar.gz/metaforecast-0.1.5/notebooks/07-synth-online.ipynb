{
 "cells": [
  {
   "cell_type": "markdown",
   "id": "9499baf3-9451-4d5c-b439-11474b7a9155",
   "metadata": {},
   "source": [
    "# Online Data Augmentation using Callbacks\n",
    "\n",
    "Time series synthetic data generation can be useful in scenarios where an adequate sample size in not available.\n",
    "\n",
    "This notebook explores how to do data augmentation and apply this process in the context of forecasting\n",
    "\n",
    "1. Loading M3's Monthly dataset\n",
    "2. Use synthetic time series to augment the training set\n",
    "3. Fitting two version of NHITS, one in each dataset (original and augmented)\n",
    "4. Evaluating both models"
   ]
  },
  {
   "cell_type": "code",
   "execution_count": 1,
   "id": "117c7462-2f17-4b9f-93ae-d5ef7839b6bb",
   "metadata": {},
   "outputs": [],
   "source": [
    "import warnings\n",
    "\n",
    "warnings.filterwarnings(\"ignore\")"
   ]
  },
  {
   "cell_type": "markdown",
   "id": "928efe74-4127-4ea9-bfd5-4519d79ed50d",
   "metadata": {},
   "source": [
    "If necessary, install the package using pip:"
   ]
  },
  {
   "cell_type": "code",
   "execution_count": 2,
   "id": "65b145a0-7260-4fe4-8321-6220574984a0",
   "metadata": {},
   "outputs": [],
   "source": [
    "# !pip install metaforecast -U"
   ]
  },
  {
   "cell_type": "markdown",
   "id": "9879e5fe-8948-42ce-a21e-b1f86895198a",
   "metadata": {},
   "source": [
    "## 1. Data preparation\n",
    "\n",
    "Let's start by loading the dataset.\n",
    "This tutorial uses the ETTm2 dataset available on datasetsforecast.\n",
    "\n",
    "We also set the forecasting horizon and input size (number of lags) to 360, 6 hours of data."
   ]
  },
  {
   "cell_type": "code",
   "execution_count": 3,
   "id": "1ee2182c-d0ac-46a0-aa37-3d7f86480622",
   "metadata": {},
   "outputs": [],
   "source": [
    "import pandas as pd\n",
    "\n",
    "from datasetsforecast.m3 import M3\n",
    "from metaforecast.utils.data import DataUtils\n",
    "\n",
    "horizon = 12\n",
    "n_lags = 12\n",
    "\n",
    "df, *_ = M3.load('.',group='Monthly')"
   ]
  },
  {
   "cell_type": "markdown",
   "id": "bd22ff99-3ebe-441f-92fa-c520fb647775",
   "metadata": {},
   "source": [
    "Split the dataset into training and testing sets:"
   ]
  },
  {
   "cell_type": "code",
   "execution_count": 4,
   "id": "bb10ae13-393b-4467-8f8a-02a32e276b8c",
   "metadata": {},
   "outputs": [
    {
     "data": {
      "text/html": [
       "<div>\n",
       "<style scoped>\n",
       "    .dataframe tbody tr th:only-of-type {\n",
       "        vertical-align: middle;\n",
       "    }\n",
       "\n",
       "    .dataframe tbody tr th {\n",
       "        vertical-align: top;\n",
       "    }\n",
       "\n",
       "    .dataframe thead th {\n",
       "        text-align: right;\n",
       "    }\n",
       "</style>\n",
       "<table border=\"1\" class=\"dataframe\">\n",
       "  <thead>\n",
       "    <tr style=\"text-align: right;\">\n",
       "      <th></th>\n",
       "      <th>unique_id</th>\n",
       "      <th>ds</th>\n",
       "      <th>y</th>\n",
       "    </tr>\n",
       "  </thead>\n",
       "  <tbody>\n",
       "    <tr>\n",
       "      <th>286</th>\n",
       "      <td>M1000</td>\n",
       "      <td>1992-10-31</td>\n",
       "      <td>4563.4</td>\n",
       "    </tr>\n",
       "    <tr>\n",
       "      <th>287</th>\n",
       "      <td>M1000</td>\n",
       "      <td>1992-11-30</td>\n",
       "      <td>4551.8</td>\n",
       "    </tr>\n",
       "    <tr>\n",
       "      <th>288</th>\n",
       "      <td>M1000</td>\n",
       "      <td>1992-12-31</td>\n",
       "      <td>4577.4</td>\n",
       "    </tr>\n",
       "    <tr>\n",
       "      <th>289</th>\n",
       "      <td>M1000</td>\n",
       "      <td>1993-01-31</td>\n",
       "      <td>4592.4</td>\n",
       "    </tr>\n",
       "    <tr>\n",
       "      <th>290</th>\n",
       "      <td>M1000</td>\n",
       "      <td>1993-02-28</td>\n",
       "      <td>4632.2</td>\n",
       "    </tr>\n",
       "  </tbody>\n",
       "</table>\n",
       "</div>"
      ],
      "text/plain": [
       "    unique_id         ds       y\n",
       "286     M1000 1992-10-31  4563.4\n",
       "287     M1000 1992-11-30  4551.8\n",
       "288     M1000 1992-12-31  4577.4\n",
       "289     M1000 1993-01-31  4592.4\n",
       "290     M1000 1993-02-28  4632.2"
      ]
     },
     "execution_count": 4,
     "metadata": {},
     "output_type": "execute_result"
    }
   ],
   "source": [
    "train, test = DataUtils.train_test_split(df, horizon)\n",
    "\n",
    "train.query('unique_id==\"M1000\"').tail()"
   ]
  },
  {
   "cell_type": "code",
   "execution_count": 5,
   "id": "eadec7b7-ea0c-4f12-8ae9-e90ff9734ff3",
   "metadata": {},
   "outputs": [
    {
     "data": {
      "text/html": [
       "<div>\n",
       "<style scoped>\n",
       "    .dataframe tbody tr th:only-of-type {\n",
       "        vertical-align: middle;\n",
       "    }\n",
       "\n",
       "    .dataframe tbody tr th {\n",
       "        vertical-align: top;\n",
       "    }\n",
       "\n",
       "    .dataframe thead th {\n",
       "        text-align: right;\n",
       "    }\n",
       "</style>\n",
       "<table border=\"1\" class=\"dataframe\">\n",
       "  <thead>\n",
       "    <tr style=\"text-align: right;\">\n",
       "      <th></th>\n",
       "      <th>unique_id</th>\n",
       "      <th>ds</th>\n",
       "      <th>y</th>\n",
       "    </tr>\n",
       "  </thead>\n",
       "  <tbody>\n",
       "    <tr>\n",
       "      <th>36</th>\n",
       "      <td>M1000</td>\n",
       "      <td>1993-03-31</td>\n",
       "      <td>4625.6</td>\n",
       "    </tr>\n",
       "    <tr>\n",
       "      <th>37</th>\n",
       "      <td>M1000</td>\n",
       "      <td>1993-04-30</td>\n",
       "      <td>4668.2</td>\n",
       "    </tr>\n",
       "    <tr>\n",
       "      <th>38</th>\n",
       "      <td>M1000</td>\n",
       "      <td>1993-05-31</td>\n",
       "      <td>4598.0</td>\n",
       "    </tr>\n",
       "    <tr>\n",
       "      <th>39</th>\n",
       "      <td>M1000</td>\n",
       "      <td>1993-06-30</td>\n",
       "      <td>4619.4</td>\n",
       "    </tr>\n",
       "    <tr>\n",
       "      <th>40</th>\n",
       "      <td>M1000</td>\n",
       "      <td>1993-07-31</td>\n",
       "      <td>4640.4</td>\n",
       "    </tr>\n",
       "  </tbody>\n",
       "</table>\n",
       "</div>"
      ],
      "text/plain": [
       "   unique_id         ds       y\n",
       "36     M1000 1993-03-31  4625.6\n",
       "37     M1000 1993-04-30  4668.2\n",
       "38     M1000 1993-05-31  4598.0\n",
       "39     M1000 1993-06-30  4619.4\n",
       "40     M1000 1993-07-31  4640.4"
      ]
     },
     "execution_count": 5,
     "metadata": {},
     "output_type": "execute_result"
    }
   ],
   "source": [
    "test.query('unique_id==\"M1000\"').head()"
   ]
  },
  {
   "cell_type": "markdown",
   "id": "313f7deb-9599-4e1d-bdc4-5c9d6fadf41c",
   "metadata": {},
   "source": [
    "## 2. Data Augmentation\n",
    "\n",
    "Use seasonal MBB to do data augmentation\n",
    "\n",
    "First, setup the callback"
   ]
  },
  {
   "cell_type": "code",
   "execution_count": 6,
   "id": "ee993224-8d65-4107-848e-cefa0f6d3e0a",
   "metadata": {},
   "outputs": [
    {
     "ename": "ModuleNotFoundError",
     "evalue": "No module named 'metaforecast.synth.callbacks'",
     "output_type": "error",
     "traceback": [
      "\u001b[0;31m---------------------------------------------------------------------------\u001b[0m",
      "\u001b[0;31mModuleNotFoundError\u001b[0m                       Traceback (most recent call last)",
      "Cell \u001b[0;32mIn[6], line 1\u001b[0m\n\u001b[0;32m----> 1\u001b[0m \u001b[38;5;28;01mfrom\u001b[39;00m \u001b[38;5;21;01mmetaforecast\u001b[39;00m\u001b[38;5;21;01m.\u001b[39;00m\u001b[38;5;21;01msynth\u001b[39;00m\u001b[38;5;21;01m.\u001b[39;00m\u001b[38;5;21;01mcallbacks\u001b[39;00m \u001b[38;5;28;01mimport\u001b[39;00m OnlineDataAugmentationCallback\n\u001b[1;32m      3\u001b[0m tsgen \u001b[38;5;241m=\u001b[39m SeasonalMBB(seas_period\u001b[38;5;241m=\u001b[39m\u001b[38;5;241m12\u001b[39m)\n\u001b[1;32m      5\u001b[0m augmentation_cb \u001b[38;5;241m=\u001b[39m OnlineDataAugmentationCallback(generator\u001b[38;5;241m=\u001b[39mtsgen)\n",
      "\u001b[0;31mModuleNotFoundError\u001b[0m: No module named 'metaforecast.synth.callbacks'"
     ]
    }
   ],
   "source": [
    "from metaforecast.synth.callbacks import OnlineDataAugmentationCallback\n",
    "\n",
    "tsgen = SeasonalMBB(seas_period=12)\n",
    "\n",
    "augmentation_cb = OnlineDataAugmentationCallback(generator=tsgen)"
   ]
  },
  {
   "cell_type": "markdown",
   "id": "4a1054d0-b628-4a1a-88e3-7a7b6606f7c5",
   "metadata": {},
   "source": [
    "## 3. Model setup and fitting\n",
    "\n",
    "We focus on NHITS, with a default configuration\n",
    "\n",
    "We train two version of NHITS: one on the original data (train), and another on the augmented dataset."
   ]
  },
  {
   "cell_type": "code",
   "execution_count": 7,
   "id": "83d67275-de84-4d20-b669-f18a910bc6ed",
   "metadata": {},
   "outputs": [
    {
     "name": "stderr",
     "output_type": "stream",
     "text": [
      "2024-10-18 10:54:50,406\tINFO util.py:154 -- Missing packages: ['ipywidgets']. Run `pip install -U ipywidgets`, then restart the notebook server for rich notebook output.\n",
      "2024-10-18 10:54:50,464\tINFO util.py:154 -- Missing packages: ['ipywidgets']. Run `pip install -U ipywidgets`, then restart the notebook server for rich notebook output.\n",
      "INFO:lightning_fabric.utilities.seed:Seed set to 1\n"
     ]
    },
    {
     "ename": "NameError",
     "evalue": "name 'augmentation_cb' is not defined",
     "output_type": "error",
     "traceback": [
      "\u001b[0;31m---------------------------------------------------------------------------\u001b[0m",
      "\u001b[0;31mNameError\u001b[0m                                 Traceback (most recent call last)",
      "Cell \u001b[0;32mIn[7], line 12\u001b[0m\n\u001b[1;32m      1\u001b[0m \u001b[38;5;28;01mfrom\u001b[39;00m \u001b[38;5;21;01mneuralforecast\u001b[39;00m \u001b[38;5;28;01mimport\u001b[39;00m NeuralForecast\n\u001b[1;32m      2\u001b[0m \u001b[38;5;28;01mfrom\u001b[39;00m \u001b[38;5;21;01mneuralforecast\u001b[39;00m\u001b[38;5;21;01m.\u001b[39;00m\u001b[38;5;21;01mmodels\u001b[39;00m \u001b[38;5;28;01mimport\u001b[39;00m NHITS\n\u001b[1;32m      4\u001b[0m models \u001b[38;5;241m=\u001b[39m [NHITS(input_size\u001b[38;5;241m=\u001b[39mhorizon,\n\u001b[1;32m      5\u001b[0m                 h\u001b[38;5;241m=\u001b[39mhorizon,\n\u001b[1;32m      6\u001b[0m                 start_padding_enabled\u001b[38;5;241m=\u001b[39m\u001b[38;5;28;01mTrue\u001b[39;00m,\n\u001b[1;32m      7\u001b[0m                 accelerator\u001b[38;5;241m=\u001b[39m\u001b[38;5;124m'\u001b[39m\u001b[38;5;124mmps\u001b[39m\u001b[38;5;124m'\u001b[39m), \n\u001b[1;32m      8\u001b[0m           NHITS(input_size\u001b[38;5;241m=\u001b[39mhorizon,\n\u001b[1;32m      9\u001b[0m                 h\u001b[38;5;241m=\u001b[39mhorizon,\n\u001b[1;32m     10\u001b[0m                 start_padding_enabled\u001b[38;5;241m=\u001b[39m\u001b[38;5;28;01mTrue\u001b[39;00m,\n\u001b[1;32m     11\u001b[0m                 accelerator\u001b[38;5;241m=\u001b[39m\u001b[38;5;124m'\u001b[39m\u001b[38;5;124mmps\u001b[39m\u001b[38;5;124m'\u001b[39m,\n\u001b[0;32m---> 12\u001b[0m                 callbacks\u001b[38;5;241m=\u001b[39m[\u001b[43maugmentation_cb\u001b[49m])]\n\u001b[1;32m     14\u001b[0m nf \u001b[38;5;241m=\u001b[39m NeuralForecast(models\u001b[38;5;241m=\u001b[39mmodels, freq\u001b[38;5;241m=\u001b[39m\u001b[38;5;124m'\u001b[39m\u001b[38;5;124mME\u001b[39m\u001b[38;5;124m'\u001b[39m)\n",
      "\u001b[0;31mNameError\u001b[0m: name 'augmentation_cb' is not defined"
     ]
    }
   ],
   "source": [
    "from neuralforecast import NeuralForecast\n",
    "from neuralforecast.models import NHITS\n",
    "\n",
    "models = [NHITS(input_size=horizon,\n",
    "                h=horizon,\n",
    "                start_padding_enabled=True,\n",
    "                accelerator='mps'), \n",
    "          NHITS(input_size=horizon,\n",
    "                h=horizon,\n",
    "                start_padding_enabled=True,\n",
    "                accelerator='mps',\n",
    "                callbacks=[augmentation_cb])]\n",
    "\n",
    "nf = NeuralForecast(models=models, freq='ME')"
   ]
  },
  {
   "cell_type": "code",
   "execution_count": 10,
   "id": "f6940dfb-c7ec-4260-90f0-3cc36088cfc0",
   "metadata": {},
   "outputs": [
    {
     "name": "stderr",
     "output_type": "stream",
     "text": [
      "INFO:pytorch_lightning.utilities.rank_zero:GPU available: True (mps), used: False\n",
      "INFO:pytorch_lightning.utilities.rank_zero:TPU available: False, using: 0 TPU cores\n",
      "INFO:pytorch_lightning.utilities.rank_zero:HPU available: False, using: 0 HPUs\n",
      "INFO:pytorch_lightning.callbacks.model_summary:\n",
      "  | Name         | Type          | Params | Mode \n",
      "-------------------------------------------------------\n",
      "0 | loss         | MAE           | 0      | train\n",
      "1 | padder_train | ConstantPad1d | 0      | train\n",
      "2 | scaler       | TemporalNorm  | 0      | train\n",
      "3 | blocks       | ModuleList    | 2.4 M  | train\n",
      "-------------------------------------------------------\n",
      "2.4 M     Trainable params\n",
      "0         Non-trainable params\n",
      "2.4 M     Total params\n",
      "9.628     Total estimated model params size (MB)\n",
      "INFO:pytorch_lightning.utilities.rank_zero:`Trainer.fit` stopped: `max_steps=1000` reached.\n",
      "INFO:pytorch_lightning.utilities.rank_zero:GPU available: True (mps), used: False\n",
      "INFO:pytorch_lightning.utilities.rank_zero:TPU available: False, using: 0 TPU cores\n",
      "INFO:pytorch_lightning.utilities.rank_zero:HPU available: False, using: 0 HPUs\n",
      "INFO:pytorch_lightning.callbacks.model_summary:\n",
      "  | Name         | Type          | Params | Mode \n",
      "-------------------------------------------------------\n",
      "0 | loss         | MAE           | 0      | train\n",
      "1 | padder_train | ConstantPad1d | 0      | train\n",
      "2 | scaler       | TemporalNorm  | 0      | train\n",
      "3 | blocks       | ModuleList    | 2.4 M  | train\n",
      "-------------------------------------------------------\n",
      "2.4 M     Trainable params\n",
      "0         Non-trainable params\n",
      "2.4 M     Total params\n",
      "9.628     Total estimated model params size (MB)\n",
      "INFO:pytorch_lightning.utilities.rank_zero:`Trainer.fit` stopped: `max_steps=1000` reached.\n"
     ]
    }
   ],
   "source": [
    "%%capture\n",
    "\n",
    "nf.fit(df=train)"
   ]
  },
  {
   "cell_type": "code",
   "execution_count": 11,
   "id": "5c3fb7d5-e0c6-4269-b941-431ea388f2e9",
   "metadata": {},
   "outputs": [
    {
     "name": "stderr",
     "output_type": "stream",
     "text": [
      "INFO:pytorch_lightning.utilities.rank_zero:GPU available: True (mps), used: False\n",
      "INFO:pytorch_lightning.utilities.rank_zero:TPU available: False, using: 0 TPU cores\n",
      "INFO:pytorch_lightning.utilities.rank_zero:HPU available: False, using: 0 HPUs\n"
     ]
    },
    {
     "name": "stdout",
     "output_type": "stream",
     "text": [
      "Predicting DataLoader 0: 100%|████████████████████████████████████████████████████████████████████████████████████████████████████████████████████████| 45/45 [00:00<00:00, 365.14it/s]"
     ]
    },
    {
     "name": "stderr",
     "output_type": "stream",
     "text": [
      "INFO:pytorch_lightning.utilities.rank_zero:GPU available: True (mps), used: False\n",
      "INFO:pytorch_lightning.utilities.rank_zero:TPU available: False, using: 0 TPU cores\n",
      "INFO:pytorch_lightning.utilities.rank_zero:HPU available: False, using: 0 HPUs\n"
     ]
    },
    {
     "name": "stdout",
     "output_type": "stream",
     "text": [
      "\n",
      "Predicting DataLoader 0: 100%|████████████████████████████████████████████████████████████████████████████████████████████████████████████████████████| 45/45 [00:00<00:00, 340.97it/s]\n"
     ]
    }
   ],
   "source": [
    "fcst = nf.predict()"
   ]
  },
  {
   "cell_type": "code",
   "execution_count": 12,
   "id": "9e430797-1192-404a-bd02-ebbcb6969290",
   "metadata": {},
   "outputs": [
    {
     "data": {
      "text/html": [
       "<div>\n",
       "<style scoped>\n",
       "    .dataframe tbody tr th:only-of-type {\n",
       "        vertical-align: middle;\n",
       "    }\n",
       "\n",
       "    .dataframe tbody tr th {\n",
       "        vertical-align: top;\n",
       "    }\n",
       "\n",
       "    .dataframe thead th {\n",
       "        text-align: right;\n",
       "    }\n",
       "</style>\n",
       "<table border=\"1\" class=\"dataframe\">\n",
       "  <thead>\n",
       "    <tr style=\"text-align: right;\">\n",
       "      <th></th>\n",
       "      <th>ds</th>\n",
       "      <th>NHITS(MBB)</th>\n",
       "      <th>NHITS</th>\n",
       "    </tr>\n",
       "    <tr>\n",
       "      <th>unique_id</th>\n",
       "      <th></th>\n",
       "      <th></th>\n",
       "      <th></th>\n",
       "    </tr>\n",
       "  </thead>\n",
       "  <tbody>\n",
       "    <tr>\n",
       "      <th>M1</th>\n",
       "      <td>1994-09-30</td>\n",
       "      <td>3200.186279</td>\n",
       "      <td>2964.885498</td>\n",
       "    </tr>\n",
       "    <tr>\n",
       "      <th>M1</th>\n",
       "      <td>1994-10-31</td>\n",
       "      <td>2518.282959</td>\n",
       "      <td>2712.033936</td>\n",
       "    </tr>\n",
       "    <tr>\n",
       "      <th>M1</th>\n",
       "      <td>1994-11-30</td>\n",
       "      <td>2716.197998</td>\n",
       "      <td>2643.748291</td>\n",
       "    </tr>\n",
       "    <tr>\n",
       "      <th>M1</th>\n",
       "      <td>1994-12-31</td>\n",
       "      <td>3212.451416</td>\n",
       "      <td>2930.787842</td>\n",
       "    </tr>\n",
       "    <tr>\n",
       "      <th>M1</th>\n",
       "      <td>1995-01-31</td>\n",
       "      <td>2180.542480</td>\n",
       "      <td>2436.013672</td>\n",
       "    </tr>\n",
       "  </tbody>\n",
       "</table>\n",
       "</div>"
      ],
      "text/plain": [
       "                  ds   NHITS(MBB)        NHITS\n",
       "unique_id                                     \n",
       "M1        1994-09-30  3200.186279  2964.885498\n",
       "M1        1994-10-31  2518.282959  2712.033936\n",
       "M1        1994-11-30  2716.197998  2643.748291\n",
       "M1        1994-12-31  3212.451416  2930.787842\n",
       "M1        1995-01-31  2180.542480  2436.013672"
      ]
     },
     "execution_count": 12,
     "metadata": {},
     "output_type": "execute_result"
    }
   ],
   "source": [
    "fcst = fcst.rename(columns={'NHITS1':'NHITS(MBB)'})\n",
    "\n",
    "fcst.head()"
   ]
  },
  {
   "cell_type": "markdown",
   "id": "8b31c374-7359-40f9-b5ac-97f4032a047b",
   "metadata": {},
   "source": [
    "## 4. Evaluation\n",
    "\n",
    "Finally, we compare both approaches"
   ]
  },
  {
   "cell_type": "code",
   "execution_count": 13,
   "id": "6d1aa52c-d2dd-421a-95fa-1b1e22b193c1",
   "metadata": {},
   "outputs": [
    {
     "data": {
      "text/html": [
       "<div>\n",
       "<style scoped>\n",
       "    .dataframe tbody tr th:only-of-type {\n",
       "        vertical-align: middle;\n",
       "    }\n",
       "\n",
       "    .dataframe tbody tr th {\n",
       "        vertical-align: top;\n",
       "    }\n",
       "\n",
       "    .dataframe thead th {\n",
       "        text-align: right;\n",
       "    }\n",
       "</style>\n",
       "<table border=\"1\" class=\"dataframe\">\n",
       "  <thead>\n",
       "    <tr style=\"text-align: right;\">\n",
       "      <th></th>\n",
       "      <th>unique_id</th>\n",
       "      <th>ds</th>\n",
       "      <th>y</th>\n",
       "      <th>NHITS(MBB)</th>\n",
       "      <th>NHITS</th>\n",
       "    </tr>\n",
       "  </thead>\n",
       "  <tbody>\n",
       "    <tr>\n",
       "      <th>0</th>\n",
       "      <td>M1</td>\n",
       "      <td>1994-09-30</td>\n",
       "      <td>1560.0</td>\n",
       "      <td>3200.186279</td>\n",
       "      <td>2964.885498</td>\n",
       "    </tr>\n",
       "    <tr>\n",
       "      <th>1</th>\n",
       "      <td>M1</td>\n",
       "      <td>1994-10-31</td>\n",
       "      <td>1440.0</td>\n",
       "      <td>2518.282959</td>\n",
       "      <td>2712.033936</td>\n",
       "    </tr>\n",
       "    <tr>\n",
       "      <th>2</th>\n",
       "      <td>M1</td>\n",
       "      <td>1994-11-30</td>\n",
       "      <td>240.0</td>\n",
       "      <td>2716.197998</td>\n",
       "      <td>2643.748291</td>\n",
       "    </tr>\n",
       "    <tr>\n",
       "      <th>3</th>\n",
       "      <td>M1</td>\n",
       "      <td>1994-12-31</td>\n",
       "      <td>1800.0</td>\n",
       "      <td>3212.451416</td>\n",
       "      <td>2930.787842</td>\n",
       "    </tr>\n",
       "    <tr>\n",
       "      <th>4</th>\n",
       "      <td>M1</td>\n",
       "      <td>1995-01-31</td>\n",
       "      <td>4680.0</td>\n",
       "      <td>2180.542480</td>\n",
       "      <td>2436.013672</td>\n",
       "    </tr>\n",
       "  </tbody>\n",
       "</table>\n",
       "</div>"
      ],
      "text/plain": [
       "  unique_id         ds       y   NHITS(MBB)        NHITS\n",
       "0        M1 1994-09-30  1560.0  3200.186279  2964.885498\n",
       "1        M1 1994-10-31  1440.0  2518.282959  2712.033936\n",
       "2        M1 1994-11-30   240.0  2716.197998  2643.748291\n",
       "3        M1 1994-12-31  1800.0  3212.451416  2930.787842\n",
       "4        M1 1995-01-31  4680.0  2180.542480  2436.013672"
      ]
     },
     "execution_count": 13,
     "metadata": {},
     "output_type": "execute_result"
    }
   ],
   "source": [
    "test = test.merge(fcst, on=['unique_id','ds'], how=\"left\")\n",
    "\n",
    "test.head()"
   ]
  },
  {
   "cell_type": "code",
   "execution_count": 14,
   "id": "cb4ba260-be22-4dcf-a9fa-9982c82de3b2",
   "metadata": {},
   "outputs": [],
   "source": [
    "from neuralforecast.losses.numpy import smape\n",
    "from datasetsforecast.evaluation import accuracy\n",
    "\n",
    "evaluation_df = accuracy(test, [smape], agg_by=['unique_id'])"
   ]
  },
  {
   "cell_type": "code",
   "execution_count": 15,
   "id": "f1baebe8-959b-421c-acdb-a69fb17d8f1e",
   "metadata": {},
   "outputs": [
    {
     "data": {
      "text/html": [
       "<div>\n",
       "<style scoped>\n",
       "    .dataframe tbody tr th:only-of-type {\n",
       "        vertical-align: middle;\n",
       "    }\n",
       "\n",
       "    .dataframe tbody tr th {\n",
       "        vertical-align: top;\n",
       "    }\n",
       "\n",
       "    .dataframe thead th {\n",
       "        text-align: right;\n",
       "    }\n",
       "</style>\n",
       "<table border=\"1\" class=\"dataframe\">\n",
       "  <thead>\n",
       "    <tr style=\"text-align: right;\">\n",
       "      <th></th>\n",
       "      <th>NHITS(MBB)</th>\n",
       "      <th>NHITS</th>\n",
       "    </tr>\n",
       "  </thead>\n",
       "  <tbody>\n",
       "    <tr>\n",
       "      <th>0</th>\n",
       "      <td>0.618445</td>\n",
       "      <td>0.608299</td>\n",
       "    </tr>\n",
       "    <tr>\n",
       "      <th>1</th>\n",
       "      <td>0.176442</td>\n",
       "      <td>0.202950</td>\n",
       "    </tr>\n",
       "    <tr>\n",
       "      <th>2</th>\n",
       "      <td>0.082508</td>\n",
       "      <td>0.093589</td>\n",
       "    </tr>\n",
       "    <tr>\n",
       "      <th>3</th>\n",
       "      <td>0.004968</td>\n",
       "      <td>0.013117</td>\n",
       "    </tr>\n",
       "    <tr>\n",
       "      <th>4</th>\n",
       "      <td>0.018100</td>\n",
       "      <td>0.020635</td>\n",
       "    </tr>\n",
       "    <tr>\n",
       "      <th>...</th>\n",
       "      <td>...</td>\n",
       "      <td>...</td>\n",
       "    </tr>\n",
       "    <tr>\n",
       "      <th>1423</th>\n",
       "      <td>0.008247</td>\n",
       "      <td>0.006558</td>\n",
       "    </tr>\n",
       "    <tr>\n",
       "      <th>1424</th>\n",
       "      <td>0.018236</td>\n",
       "      <td>0.024858</td>\n",
       "    </tr>\n",
       "    <tr>\n",
       "      <th>1425</th>\n",
       "      <td>0.072545</td>\n",
       "      <td>0.079717</td>\n",
       "    </tr>\n",
       "    <tr>\n",
       "      <th>1426</th>\n",
       "      <td>0.012381</td>\n",
       "      <td>0.008905</td>\n",
       "    </tr>\n",
       "    <tr>\n",
       "      <th>1427</th>\n",
       "      <td>0.010193</td>\n",
       "      <td>0.012599</td>\n",
       "    </tr>\n",
       "  </tbody>\n",
       "</table>\n",
       "<p>1428 rows × 2 columns</p>\n",
       "</div>"
      ],
      "text/plain": [
       "      NHITS(MBB)     NHITS\n",
       "0       0.618445  0.608299\n",
       "1       0.176442  0.202950\n",
       "2       0.082508  0.093589\n",
       "3       0.004968  0.013117\n",
       "4       0.018100  0.020635\n",
       "...          ...       ...\n",
       "1423    0.008247  0.006558\n",
       "1424    0.018236  0.024858\n",
       "1425    0.072545  0.079717\n",
       "1426    0.012381  0.008905\n",
       "1427    0.010193  0.012599\n",
       "\n",
       "[1428 rows x 2 columns]"
      ]
     },
     "execution_count": 15,
     "metadata": {},
     "output_type": "execute_result"
    }
   ],
   "source": [
    "eval_df = evaluation_df.drop(columns=['metric','unique_id'])\n",
    "\n",
    "eval_df"
   ]
  },
  {
   "cell_type": "code",
   "execution_count": 18,
   "id": "fded64cd-977a-4486-afe2-4a09b2f5bb64",
   "metadata": {
    "scrolled": true
   },
   "outputs": [
    {
     "data": {
      "text/plain": [
       "NHITS         0.127942\n",
       "NHITS(MBB)    0.128179\n",
       "dtype: float64"
      ]
     },
     "execution_count": 18,
     "metadata": {},
     "output_type": "execute_result"
    }
   ],
   "source": [
    "eval_df.mean().sort_values()"
   ]
  }
 ],
 "metadata": {
  "kernelspec": {
   "display_name": "Python 3 (ipykernel)",
   "language": "python",
   "name": "python3"
  },
  "language_info": {
   "codemirror_mode": {
    "name": "ipython",
    "version": 3
   },
   "file_extension": ".py",
   "mimetype": "text/x-python",
   "name": "python",
   "nbconvert_exporter": "python",
   "pygments_lexer": "ipython3",
   "version": "3.9.19"
  }
 },
 "nbformat": 4,
 "nbformat_minor": 5
}
