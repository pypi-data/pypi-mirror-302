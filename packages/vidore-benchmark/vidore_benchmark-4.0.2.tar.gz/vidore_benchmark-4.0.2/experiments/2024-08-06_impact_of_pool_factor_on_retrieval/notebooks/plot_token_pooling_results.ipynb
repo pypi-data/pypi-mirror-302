{
 "cells": [
  {
   "cell_type": "markdown",
   "metadata": {},
   "source": [
    "## Imports"
   ]
  },
  {
   "cell_type": "code",
   "execution_count": null,
   "metadata": {},
   "outputs": [],
   "source": [
    "%load_ext autoreload\n",
    "%autoreload 2"
   ]
  },
  {
   "cell_type": "code",
   "execution_count": 21,
   "metadata": {},
   "outputs": [],
   "source": [
    "import os\n",
    "from pathlib import Path\n",
    "\n",
    "import matplotlib.pyplot as plt\n",
    "import pandas as pd\n",
    "import seaborn as sns\n",
    "\n",
    "from vidore_benchmark.evaluation.eval_manager import EvalManager\n",
    "from vidore_benchmark.utils.constants import OUTPUT_DIR\n",
    "\n",
    "RESULTS_DIR = OUTPUT_DIR / \"token_pooling\"\n",
    "RESULTS_DIR.mkdir(exist_ok=True, parents=True)\n",
    "\n",
    "sns.set_style(\"whitegrid\")\n",
    "\n",
    "while \"experiments\" not in os.listdir():\n",
    "    os.chdir(\"..\")"
   ]
  },
  {
   "cell_type": "markdown",
   "metadata": {},
   "source": [
    "## Load data"
   ]
  },
  {
   "cell_type": "code",
   "execution_count": null,
   "metadata": {},
   "outputs": [],
   "source": [
    "metrics_paths = list(Path.cwd().glob(\"./experiments/2024-08-06_impact_of_pool_factor_on_retrieval/outputs/**/metrics/\"))\n",
    "eval_managers = [EvalManager.from_dir(str(path)) for path in metrics_paths]\n",
    "list_df = [eval_manager.melted for eval_manager in eval_managers]\n",
    "\n",
    "df = pd.concat(list_df, ignore_index=True)\n",
    "df"
   ]
  },
  {
   "cell_type": "markdown",
   "metadata": {},
   "source": [
    "## Data preprocessing"
   ]
  },
  {
   "cell_type": "code",
   "execution_count": 23,
   "metadata": {},
   "outputs": [],
   "source": [
    "# Extract pool factor and model name from file name\n",
    "df[\"pool_factor\"] = df[\"model\"].str.extract(r\"pool_factor_(\\d+)\").astype(int)\n",
    "df[\"model\"] = \"vidore/colpali\"\n",
    "\n",
    "# Keep only metric of interest\n",
    "METRIC_OF_INTEREST = \"ndcg_at_5\"\n",
    "df = df[df[\"metric\"] == METRIC_OF_INTEREST].copy()\n",
    "\n",
    "# Compute relative performance\n",
    "df[\"max_score\"] = df.sort_values(\"pool_factor\").groupby([\"model\", \"dataset\"])[\"score\"].transform(\"first\")\n",
    "df[\"relative_performance\"] = df[\"score\"] / df[\"max_score\"]\n",
    "df[\"relative_performance_percent\"] = df[\"relative_performance\"] * 100\n",
    "df = df.drop(columns=[\"max_score\"])\n",
    "\n",
    "# Compute relative storage\n",
    "df[\"relative_storage\"] = 1 / df[\"pool_factor\"]\n",
    "df[\"relative_storage_percent\"] = df[\"relative_storage\"] * 100"
   ]
  },
  {
   "cell_type": "markdown",
   "metadata": {},
   "source": [
    "## Sanitize DataFrame"
   ]
  },
  {
   "cell_type": "code",
   "execution_count": 24,
   "metadata": {},
   "outputs": [],
   "source": [
    "column_mapping = {\n",
    "    \"model\": \"Model\",\n",
    "    \"dataset\": \"Dataset\",\n",
    "    \"pool_factor\": \"Pool Factor\",\n",
    "    \"score\": \"NDCG@5\",\n",
    "    \"relative_performance\": \"Relative NDCG@5\",\n",
    "    \"relative_performance_percent\": \"Relative NDCG@5 (%)\",\n",
    "    \"relative_storage\": \"Relative Storage\",\n",
    "    \"relative_storage_percent\": \"Relative Storage (%)\",\n",
    "}\n",
    "\n",
    "df_sanitized = df.rename(columns=column_mapping)"
   ]
  },
  {
   "cell_type": "markdown",
   "metadata": {},
   "source": [
    "## Plots"
   ]
  },
  {
   "cell_type": "markdown",
   "metadata": {},
   "source": [
    "### Figure 1"
   ]
  },
  {
   "cell_type": "code",
   "execution_count": null,
   "metadata": {},
   "outputs": [],
   "source": [
    "fig, ax = plt.subplots(\n",
    "    figsize=(9, 5),\n",
    ")\n",
    "\n",
    "sns.lineplot(data=df_sanitized, x=\"Pool Factor\", y=\"NDCG@5\", hue=\"Dataset\")\n",
    "ax.set_title(\n",
    "    \"Impact of pool factor on retrieval performance of ColPali on the ViDoRe benchmark\",\n",
    "    fontsize=14,\n",
    "    fontweight=\"bold\",\n",
    ")\n",
    "\n",
    "fig.tight_layout()\n",
    "savepath = RESULTS_DIR / f\"pool_factor_vs_{METRIC_OF_INTEREST}.png\"\n",
    "fig.savefig(str(savepath), bbox_inches=\"tight\")"
   ]
  },
  {
   "cell_type": "markdown",
   "metadata": {},
   "source": [
    "### Figure 1bis"
   ]
  },
  {
   "cell_type": "code",
   "execution_count": null,
   "metadata": {},
   "outputs": [],
   "source": [
    "df_with_mean = df_sanitized.groupby(\"Pool Factor\")[[\"Relative NDCG@5 (%)\"]].mean().reset_index()\n",
    "df_with_mean[\"Model\"] = \"vidore/colpali\"\n",
    "df_with_mean[\"Dataset\"] = \"Average\"\n",
    "\n",
    "df_with_mean"
   ]
  },
  {
   "cell_type": "code",
   "execution_count": null,
   "metadata": {},
   "outputs": [],
   "source": [
    "fig, ax = plt.subplots(figsize=(9, 5))\n",
    "\n",
    "sns.lineplot(data=df_sanitized, x=\"Pool Factor\", y=\"Relative NDCG@5 (%)\", hue=\"Dataset\", linewidth=1.5, alpha=0.5)\n",
    "sns.lineplot(\n",
    "    data=df_with_mean, x=\"Pool Factor\", y=\"Relative NDCG@5 (%)\", color=\"red\", linewidth=3.0, alpha=1, label=\"Average\"\n",
    ")\n",
    "ax.legend(title=\"Dataset\")\n",
    "ax.set_title(\n",
    "    \"Impact of pool factor on relative retrieval performance of ColPali\\non the ViDoRe benchmark\",\n",
    "    fontsize=14,\n",
    "    fontweight=\"bold\",\n",
    ")\n",
    "\n",
    "fig.tight_layout()\n",
    "savepath = RESULTS_DIR / f\"pool_factor_vs_relative_{METRIC_OF_INTEREST}.png\"\n",
    "fig.savefig(str(savepath), bbox_inches=\"tight\")"
   ]
  },
  {
   "cell_type": "markdown",
   "metadata": {},
   "source": [
    "### Figure 2"
   ]
  },
  {
   "cell_type": "code",
   "execution_count": null,
   "metadata": {},
   "outputs": [],
   "source": [
    "df_sanitized_agg = (\n",
    "    df_sanitized.groupby([\"Model\", \"Pool Factor\"])[[\"Relative NDCG@5 (%)\", \"Relative Storage (%)\"]].mean().reset_index()\n",
    ")\n",
    "\n",
    "# Set relative performance to 100 for pool factor 1\n",
    "df_sanitized_agg.loc[df_sanitized_agg[\"Pool Factor\"] == 1, \"Relative NDCG@5 (%)\"] = 100\n",
    "\n",
    "df_sanitized_agg"
   ]
  },
  {
   "cell_type": "code",
   "execution_count": null,
   "metadata": {},
   "outputs": [],
   "source": [
    "fig, ax = plt.subplots(figsize=(6, 5))\n",
    "\n",
    "sns.scatterplot(data=df_sanitized_agg, x=\"Relative Storage (%)\", y=\"Relative NDCG@5 (%)\", size=\"Pool Factor\")\n",
    "ax.set_title(\n",
    "    \"Trade-off between relative storage and retrieval performance\\nfor ColPali on the ViDoRe benchmark\",\n",
    "    fontsize=14,\n",
    "    fontweight=\"bold\",\n",
    ")\n",
    "\n",
    "# Move the legend outside of the plot\n",
    "sns.move_legend(ax, loc=\"center left\", bbox_to_anchor=(1, 0.5))\n",
    "\n",
    "plt.axvline(x=100, color=\"red\", linestyle=\"--\")\n",
    "plt.axhline(y=100, color=\"red\", linestyle=\"--\")\n",
    "\n",
    "fig.tight_layout()\n",
    "savepath = RESULTS_DIR / f\"storage_vs_{METRIC_OF_INTEREST}.png\"\n",
    "\n",
    "fig.savefig(str(savepath), bbox_inches=\"tight\")"
   ]
  },
  {
   "cell_type": "markdown",
   "metadata": {},
   "source": [
    "## Paper version"
   ]
  },
  {
   "cell_type": "code",
   "execution_count": 30,
   "metadata": {},
   "outputs": [],
   "source": [
    "ds_clean_mapping = {\n",
    "    \"vidore/shiftproject_test\": \"Shift\",\n",
    "    \"vidore/infovqa_test_subsampled\": \"InfoVQA\",\n",
    "    \"vidore/syntheticDocQA_energy_test\": \"Energy\",\n",
    "    \"vidore/tabfquad_test_subsampled\": \"TabFQuad\",\n",
    "    \"vidore/docvqa_test_subsampled\": \"DocVQA\",\n",
    "    \"vidore/arxivqa_test_subsampled\": \"ArxivQA\",\n",
    "}\n",
    "\n",
    "\n",
    "df_sanitized_clean = df_sanitized.copy()\n",
    "df_sanitized_clean[\"Dataset\"] = df_sanitized_clean[\"Dataset\"].map(ds_clean_mapping)"
   ]
  },
  {
   "cell_type": "code",
   "execution_count": null,
   "metadata": {},
   "outputs": [],
   "source": [
    "fig, ax = plt.subplots(figsize=(5, 3))\n",
    "\n",
    "sns.lineplot(\n",
    "    data=df_sanitized_clean,\n",
    "    x=\"Pool Factor\",\n",
    "    y=\"Relative NDCG@5 (%)\",\n",
    "    hue=\"Dataset\",\n",
    "    linewidth=1,\n",
    "    alpha=0.5,\n",
    "    marker=\"o\",\n",
    "    linestyle=\"-\",\n",
    "    ax=ax,\n",
    ")\n",
    "\n",
    "sns.lineplot(\n",
    "    data=df_with_mean,\n",
    "    x=\"Pool Factor\",\n",
    "    y=\"Relative NDCG@5 (%)\",\n",
    "    color=\"black\",\n",
    "    linewidth=2.0,\n",
    "    alpha=1,\n",
    "    linestyle=\"--\",\n",
    "    label=\"Average\",\n",
    "    ax=ax,\n",
    ")\n",
    "\n",
    "ax.legend(title=\"Dataset\")\n",
    "\n",
    "ax.set_xlabel(\"Pool Factor\", fontsize=14)\n",
    "ax.set_ylabel(\"Relative NDCG@5 (%)\", fontsize=14)\n",
    "\n",
    "savepath = RESULTS_DIR / \"paper_version\" / \"token_pooling_ndcg.png\"\n",
    "fig.savefig(str(savepath), bbox_inches=\"tight\")\n",
    "\n",
    "savepath = RESULTS_DIR / \"paper_version\" / \"token_pooling_ndcg.pdf\"\n",
    "fig.savefig(str(savepath), bbox_inches=\"tight\")"
   ]
  },
  {
   "cell_type": "code",
   "execution_count": null,
   "metadata": {},
   "outputs": [],
   "source": [
    "fig, ax = plt.subplots(figsize=(3, 3))\n",
    "\n",
    "sns.scatterplot(\n",
    "    data=df_sanitized_agg,\n",
    "    x=\"Relative Storage (%)\",\n",
    "    y=\"Relative NDCG@5 (%)\",\n",
    "    size=\"Pool Factor\",\n",
    "    ax=ax,\n",
    "    legend=\"full\",\n",
    ")\n",
    "\n",
    "# Move the legend outside of the plot\n",
    "sns.move_legend(ax, loc=\"center left\", bbox_to_anchor=(0.5, 0.4))\n",
    "\n",
    "# Add vertical and horizontal lines at 100%\n",
    "ax.axvline(x=100, color=\"lightgray\", linestyle=\"--\", zorder=0)\n",
    "ax.axhline(y=100, color=\"lightgray\", linestyle=\"--\", zorder=0)\n",
    "\n",
    "ax.set_xlabel(\"Relative storage (%)\", fontsize=14)\n",
    "ax.set_ylabel(\"Relative nDCG@5 (%)\", fontsize=14)\n",
    "\n",
    "# Adjust layout to prevent overlap\n",
    "fig.tight_layout()\n",
    "\n",
    "savepath = RESULTS_DIR / \"paper_version\" / \"token_pooling_relative_storage.png\"\n",
    "fig.savefig(str(savepath), bbox_inches=\"tight\")\n",
    "\n",
    "savepath = RESULTS_DIR / \"paper_version\" / \"token_pooling_relative_storage.pdf\"\n",
    "fig.savefig(str(savepath), bbox_inches=\"tight\")"
   ]
  },
  {
   "cell_type": "code",
   "execution_count": null,
   "metadata": {},
   "outputs": [],
   "source": [
    "# Create a figure with two subplots side by side\n",
    "fig, (ax1, ax2) = plt.subplots(1, 2, figsize=(10, 3), gridspec_kw={\"width_ratios\": [2, 1]})\n",
    "\n",
    "# -----------------------------\n",
    "# First Plot: Line Plots on ax1\n",
    "# -----------------------------\n",
    "\n",
    "sns.lineplot(\n",
    "    data=df_sanitized_clean,\n",
    "    x=\"Pool Factor\",\n",
    "    y=\"Relative NDCG@5 (%)\",\n",
    "    hue=\"Dataset\",\n",
    "    linewidth=1,\n",
    "    alpha=0.5,\n",
    "    marker=\"o\",\n",
    "    linestyle=\"-\",\n",
    "    ax=ax1,\n",
    ")\n",
    "\n",
    "sns.lineplot(\n",
    "    data=df_with_mean,\n",
    "    x=\"Pool Factor\",\n",
    "    y=\"Relative NDCG@5 (%)\",\n",
    "    color=\"black\",\n",
    "    linewidth=2.0,\n",
    "    alpha=1,\n",
    "    linestyle=\"--\",\n",
    "    label=\"Average\",\n",
    "    ax=ax1,\n",
    ")\n",
    "\n",
    "ax1.legend(title=\"Dataset\")\n",
    "\n",
    "ax1.set_xlabel(\"Pool Factor\", fontsize=14)\n",
    "ax1.set_ylabel(\"Relative NDCG@5 (%)\", fontsize=14)\n",
    "\n",
    "# -------------------------------\n",
    "# Second Plot: Scatter Plot on ax2\n",
    "# -------------------------------\n",
    "\n",
    "sns.scatterplot(\n",
    "    data=df_sanitized_agg,\n",
    "    x=\"Relative Storage (%)\",\n",
    "    y=\"Relative NDCG@5 (%)\",\n",
    "    size=\"Pool Factor\",\n",
    "    ax=ax2,\n",
    "    legend=\"full\",\n",
    ")\n",
    "\n",
    "# Move the legend outside of the plot\n",
    "sns.move_legend(ax2, loc=\"center left\", bbox_to_anchor=(0.6, 0.4))\n",
    "\n",
    "# Add vertical and horizontal lines at 100%\n",
    "ax2.axvline(x=100, color=\"lightgray\", linestyle=\"--\", zorder=0)\n",
    "ax2.axhline(y=100, color=\"lightgray\", linestyle=\"--\", zorder=0)\n",
    "\n",
    "ax2.set_xlabel(\"Relative storage (%)\", fontsize=14)\n",
    "ax2.set_ylabel(\"Relative nDCG@5 (%)\", fontsize=14)\n",
    "\n",
    "# Adjust layout to prevent overlap\n",
    "fig.tight_layout()\n",
    "\n",
    "# Create the directory if it doesn't exist\n",
    "(RESULTS_DIR / \"paper_version\").mkdir(exist_ok=True, parents=True)\n",
    "\n",
    "# Save the figure\n",
    "savepath = RESULTS_DIR / \"paper_version\" / \"token_pooling.png\"\n",
    "fig.savefig(str(savepath), bbox_inches=\"tight\")\n",
    "\n",
    "savepath = RESULTS_DIR / \"paper_version\" / \"token_pooling.pdf\"\n",
    "fig.savefig(str(savepath), bbox_inches=\"tight\")"
   ]
  },
  {
   "cell_type": "code",
   "execution_count": null,
   "metadata": {},
   "outputs": [],
   "source": []
  }
 ],
 "metadata": {
  "kernelspec": {
   "display_name": ".venv",
   "language": "python",
   "name": "python3"
  },
  "language_info": {
   "codemirror_mode": {
    "name": "ipython",
    "version": 3
   },
   "file_extension": ".py",
   "mimetype": "text/x-python",
   "name": "python",
   "nbconvert_exporter": "python",
   "pygments_lexer": "ipython3",
   "version": "3.11.6"
  }
 },
 "nbformat": 4,
 "nbformat_minor": 2
}
