{
 "cells": [
  {
   "cell_type": "markdown",
   "metadata": {},
   "source": [
    "# Hi Split\n",
    "A five-minute tutorial"
   ]
  },
  {
   "cell_type": "code",
   "execution_count": 1,
   "metadata": {},
   "outputs": [],
   "source": [
    "import pandas as pd\n",
    "import numpy as np\n",
    "import matplotlib.pyplot as plt\n",
    "\n",
    "import lohi_splitter as lohi"
   ]
  },
  {
   "cell_type": "markdown",
   "metadata": {},
   "source": [
    "## Data Loading"
   ]
  },
  {
   "cell_type": "code",
   "execution_count": 2,
   "metadata": {},
   "outputs": [
    {
     "data": {
      "text/html": [
       "<div>\n",
       "<style scoped>\n",
       "    .dataframe tbody tr th:only-of-type {\n",
       "        vertical-align: middle;\n",
       "    }\n",
       "\n",
       "    .dataframe tbody tr th {\n",
       "        vertical-align: top;\n",
       "    }\n",
       "\n",
       "    .dataframe thead th {\n",
       "        text-align: right;\n",
       "    }\n",
       "</style>\n",
       "<table border=\"1\" class=\"dataframe\">\n",
       "  <thead>\n",
       "    <tr style=\"text-align: right;\">\n",
       "      <th></th>\n",
       "      <th>smiles</th>\n",
       "      <th>value</th>\n",
       "    </tr>\n",
       "  </thead>\n",
       "  <tbody>\n",
       "    <tr>\n",
       "      <th>0</th>\n",
       "      <td>Brc1ccc(-[n+]2cc[n+](Cc3ccccc3)cc2)c2cc[nH]c12</td>\n",
       "      <td>True</td>\n",
       "    </tr>\n",
       "    <tr>\n",
       "      <th>1</th>\n",
       "      <td>Brc1ccc(CNCCN2CCN(Cc3cc4ccccc4[nH]3)CC2)cc1</td>\n",
       "      <td>False</td>\n",
       "    </tr>\n",
       "    <tr>\n",
       "      <th>2</th>\n",
       "      <td>Brc1ccc(N2CCN(Cc3ccccc3)CC2)c2cc[nH]c12</td>\n",
       "      <td>True</td>\n",
       "    </tr>\n",
       "    <tr>\n",
       "      <th>3</th>\n",
       "      <td>Brc1ccc(NCCN2CCN(CCc3c[nH]c4ccccc34)CC2)cc1</td>\n",
       "      <td>True</td>\n",
       "    </tr>\n",
       "    <tr>\n",
       "      <th>4</th>\n",
       "      <td>Brc1ccc(NCCN2CCN(Cc3cc4ccccc4[nH]3)CC2)cc1</td>\n",
       "      <td>True</td>\n",
       "    </tr>\n",
       "    <tr>\n",
       "      <th>...</th>\n",
       "      <td>...</td>\n",
       "      <td>...</td>\n",
       "    </tr>\n",
       "    <tr>\n",
       "      <th>6262</th>\n",
       "      <td>c1cnc(N2CCN(CCCOc3ccc(-c4nc5ccccc5o4)cc3)CC2)nc1</td>\n",
       "      <td>True</td>\n",
       "    </tr>\n",
       "    <tr>\n",
       "      <th>6263</th>\n",
       "      <td>c1cnc(N2CCN(CCCSc3nc4ccccc4s3)CC2)nc1</td>\n",
       "      <td>True</td>\n",
       "    </tr>\n",
       "    <tr>\n",
       "      <th>6264</th>\n",
       "      <td>c1cnc(N2CCN(Cc3c[nH]c4ncccc34)CC2)nc1</td>\n",
       "      <td>False</td>\n",
       "    </tr>\n",
       "    <tr>\n",
       "      <th>6265</th>\n",
       "      <td>c1cncc(CN[C@H]2C3C4CC5C6C4CC3C6C52)c1</td>\n",
       "      <td>False</td>\n",
       "    </tr>\n",
       "    <tr>\n",
       "      <th>6266</th>\n",
       "      <td>c1nc2c(s1)CCN(CCCCN1CCc3ncsc3CC1)CC2</td>\n",
       "      <td>False</td>\n",
       "    </tr>\n",
       "  </tbody>\n",
       "</table>\n",
       "<p>6267 rows × 2 columns</p>\n",
       "</div>"
      ],
      "text/plain": [
       "                                                smiles  value\n",
       "0       Brc1ccc(-[n+]2cc[n+](Cc3ccccc3)cc2)c2cc[nH]c12   True\n",
       "1          Brc1ccc(CNCCN2CCN(Cc3cc4ccccc4[nH]3)CC2)cc1  False\n",
       "2              Brc1ccc(N2CCN(Cc3ccccc3)CC2)c2cc[nH]c12   True\n",
       "3          Brc1ccc(NCCN2CCN(CCc3c[nH]c4ccccc34)CC2)cc1   True\n",
       "4           Brc1ccc(NCCN2CCN(Cc3cc4ccccc4[nH]3)CC2)cc1   True\n",
       "...                                                ...    ...\n",
       "6262  c1cnc(N2CCN(CCCOc3ccc(-c4nc5ccccc5o4)cc3)CC2)nc1   True\n",
       "6263             c1cnc(N2CCN(CCCSc3nc4ccccc4s3)CC2)nc1   True\n",
       "6264             c1cnc(N2CCN(Cc3c[nH]c4ncccc34)CC2)nc1  False\n",
       "6265             c1cncc(CN[C@H]2C3C4CC5C6C4CC3C6C52)c1  False\n",
       "6266              c1nc2c(s1)CCN(CCCCN1CCc3ncsc3CC1)CC2  False\n",
       "\n",
       "[6267 rows x 2 columns]"
      ]
     },
     "execution_count": 2,
     "metadata": {},
     "output_type": "execute_result"
    }
   ],
   "source": [
    "drd2_hi = pd.read_csv('data/drd2_hi.csv', index_col=0)\n",
    "drd2_hi"
   ]
  },
  {
   "cell_type": "markdown",
   "metadata": {},
   "source": [
    "We will use a small subset to speed up calculations. If you have a larger dataset, refer to the next tutorial: '01_hi_split_coarsening.ipynb'."
   ]
  },
  {
   "cell_type": "code",
   "execution_count": 3,
   "metadata": {},
   "outputs": [
    {
     "data": {
      "text/html": [
       "<div>\n",
       "<style scoped>\n",
       "    .dataframe tbody tr th:only-of-type {\n",
       "        vertical-align: middle;\n",
       "    }\n",
       "\n",
       "    .dataframe tbody tr th {\n",
       "        vertical-align: top;\n",
       "    }\n",
       "\n",
       "    .dataframe thead th {\n",
       "        text-align: right;\n",
       "    }\n",
       "</style>\n",
       "<table border=\"1\" class=\"dataframe\">\n",
       "  <thead>\n",
       "    <tr style=\"text-align: right;\">\n",
       "      <th></th>\n",
       "      <th>smiles</th>\n",
       "      <th>value</th>\n",
       "    </tr>\n",
       "  </thead>\n",
       "  <tbody>\n",
       "    <tr>\n",
       "      <th>5374</th>\n",
       "      <td>O=C1NCc2cc(F)c(OCCCN3CCN(c4cccc5ccccc45)CC3)cc21</td>\n",
       "      <td>True</td>\n",
       "    </tr>\n",
       "    <tr>\n",
       "      <th>4787</th>\n",
       "      <td>O=C(NCCCCN1CCN(c2cccc(O)c2)CC1)c1ccc2ccccc2c1</td>\n",
       "      <td>True</td>\n",
       "    </tr>\n",
       "    <tr>\n",
       "      <th>3299</th>\n",
       "      <td>Cc1cc2c(c(N3CCN(CC[C@H]4CC[C@H](NC(=O)C5CCOCC5...</td>\n",
       "      <td>False</td>\n",
       "    </tr>\n",
       "    <tr>\n",
       "      <th>4958</th>\n",
       "      <td>O=C(N[C@H]1CC[C@H](CCN2CCC(c3cccc4c3OCO4)CC2)C...</td>\n",
       "      <td>True</td>\n",
       "    </tr>\n",
       "    <tr>\n",
       "      <th>2511</th>\n",
       "      <td>COc1cccc(-c2cc(=O)oc3cc(OCCCCN4CCC(c5noc6cc(F)...</td>\n",
       "      <td>True</td>\n",
       "    </tr>\n",
       "    <tr>\n",
       "      <th>...</th>\n",
       "      <td>...</td>\n",
       "      <td>...</td>\n",
       "    </tr>\n",
       "    <tr>\n",
       "      <th>2423</th>\n",
       "      <td>COc1ccc2[nH]cc(CCCN3CCN(c4cccc5c4OCCO5)CC3)c2c1</td>\n",
       "      <td>True</td>\n",
       "    </tr>\n",
       "    <tr>\n",
       "      <th>3712</th>\n",
       "      <td>Cc1ncoc1-c1nnc(SCCCN2[C@H]3CC[C@@H]2C[C@H](c2c...</td>\n",
       "      <td>True</td>\n",
       "    </tr>\n",
       "    <tr>\n",
       "      <th>4799</th>\n",
       "      <td>O=C(NCCCCN1CCN(c2ccccc2)CC1)c1cc2ccccc2o1</td>\n",
       "      <td>False</td>\n",
       "    </tr>\n",
       "    <tr>\n",
       "      <th>2384</th>\n",
       "      <td>COc1ccc(S(=O)(=O)N[C@H]2CC[C@@H](N3CCC(c4cc(F)...</td>\n",
       "      <td>True</td>\n",
       "    </tr>\n",
       "    <tr>\n",
       "      <th>3159</th>\n",
       "      <td>C[C@H]1CN(CC[C@H]2CC[C@H](NC(=O)C3CCCCC3)CC2)C...</td>\n",
       "      <td>True</td>\n",
       "    </tr>\n",
       "  </tbody>\n",
       "</table>\n",
       "<p>400 rows × 2 columns</p>\n",
       "</div>"
      ],
      "text/plain": [
       "                                                 smiles  value\n",
       "5374   O=C1NCc2cc(F)c(OCCCN3CCN(c4cccc5ccccc45)CC3)cc21   True\n",
       "4787      O=C(NCCCCN1CCN(c2cccc(O)c2)CC1)c1ccc2ccccc2c1   True\n",
       "3299  Cc1cc2c(c(N3CCN(CC[C@H]4CC[C@H](NC(=O)C5CCOCC5...  False\n",
       "4958  O=C(N[C@H]1CC[C@H](CCN2CCC(c3cccc4c3OCO4)CC2)C...   True\n",
       "2511  COc1cccc(-c2cc(=O)oc3cc(OCCCCN4CCC(c5noc6cc(F)...   True\n",
       "...                                                 ...    ...\n",
       "2423    COc1ccc2[nH]cc(CCCN3CCN(c4cccc5c4OCCO5)CC3)c2c1   True\n",
       "3712  Cc1ncoc1-c1nnc(SCCCN2[C@H]3CC[C@@H]2C[C@H](c2c...   True\n",
       "4799          O=C(NCCCCN1CCN(c2ccccc2)CC1)c1cc2ccccc2o1  False\n",
       "2384  COc1ccc(S(=O)(=O)N[C@H]2CC[C@@H](N3CCC(c4cc(F)...   True\n",
       "3159  C[C@H]1CN(CC[C@H]2CC[C@H](NC(=O)C3CCCCC3)CC2)C...   True\n",
       "\n",
       "[400 rows x 2 columns]"
      ]
     },
     "execution_count": 3,
     "metadata": {},
     "output_type": "execute_result"
    }
   ],
   "source": [
    "# Select a random subset of 400 molecules\n",
    "idx = np.arange(len(drd2_hi))\n",
    "np.random.shuffle(idx)\n",
    "idx = idx[:400]\n",
    "drd2_hi = drd2_hi.iloc[idx]\n",
    "drd2_hi"
   ]
  },
  {
   "cell_type": "markdown",
   "metadata": {},
   "source": [
    "## Problem Formulation\n",
    "\n",
    "In molecular property prediction, datasets are commonly divided using either a random split or a scaffold split. However, when the objective is to discover novel molecules, these methods might not be the most suitable. Let's explore why."
   ]
  },
  {
   "cell_type": "markdown",
   "metadata": {},
   "source": [
    "### Random Split"
   ]
  },
  {
   "cell_type": "code",
   "execution_count": 4,
   "metadata": {},
   "outputs": [],
   "source": [
    "from sklearn.model_selection import train_test_split\n",
    "\n",
    "smiles = drd2_hi['smiles'].to_list()\n",
    "train_smiles, test_smiles = train_test_split(smiles, train_size=0.8, test_size=0.2)"
   ]
  },
  {
   "cell_type": "markdown",
   "metadata": {},
   "source": [
    "For each molecule in the test set, find its similarity to the most similar molecule in the training set."
   ]
  },
  {
   "cell_type": "code",
   "execution_count": 5,
   "metadata": {},
   "outputs": [
    {
     "data": {
      "text/plain": [
       "Text(0.5, 1.0, 'Maximal similarity to train')"
      ]
     },
     "execution_count": 5,
     "metadata": {},
     "output_type": "execute_result"
    },
    {
     "data": {
      "image/png": "[encoded data removed]",
      "text/plain": [
       "<Figure size 640x480 with 1 Axes>"
      ]
     },
     "metadata": {},
     "output_type": "display_data"
    }
   ],
   "source": [
    "nearest_sim, nearest_idx = lohi.get_similar_mols(test_smiles, train_smiles, return_idx=True)\n",
    "plt.hist(nearest_sim, bins=50)\n",
    "plt.axvline(x=0.4, color = 'r', ls='--')\n",
    "plt.title('Maximal similarity to train')"
   ]
  },
  {
   "cell_type": "markdown",
   "metadata": {},
   "source": [
    "Using a random split will likely favor models that perform best on molecules similar to those in the training set, as most of the test molecules have a similarity score greater than 0.4 with the training set."
   ]
  },
  {
   "cell_type": "markdown",
   "metadata": {},
   "source": [
    "### Scaffold split\n",
    "\n",
    "Some researchers argue that a scaffold split results in better and more meaningful dataset divisions.\n",
    "\n",
    "If you encounter the error `ModuleNotFoundError: No module named 'tensorflow'`, eyou can either skip this step, trusting my word that it won't resolve the problem, or you can execute `pip install tensorflow`."
   ]
  },
  {
   "cell_type": "code",
   "execution_count": 6,
   "metadata": {},
   "outputs": [
    {
     "name": "stderr",
     "output_type": "stream",
     "text": [
      "2023-10-13 10:05:40.673921: I tensorflow/core/util/port.cc:111] oneDNN custom operations are on. You may see slightly different numerical results due to floating-point round-off errors from different computation orders. To turn them off, set the environment variable `TF_ENABLE_ONEDNN_OPTS=0`.\n",
      "2023-10-13 10:05:40.675449: I tensorflow/tsl/cuda/cudart_stub.cc:28] Could not find cuda drivers on your machine, GPU will not be used.\n",
      "2023-10-13 10:05:40.696073: E tensorflow/compiler/xla/stream_executor/cuda/cuda_dnn.cc:9342] Unable to register cuDNN factory: Attempting to register factory for plugin cuDNN when one has already been registered\n",
      "2023-10-13 10:05:40.696098: E tensorflow/compiler/xla/stream_executor/cuda/cuda_fft.cc:609] Unable to register cuFFT factory: Attempting to register factory for plugin cuFFT when one has already been registered\n",
      "2023-10-13 10:05:40.696110: E tensorflow/compiler/xla/stream_executor/cuda/cuda_blas.cc:1518] Unable to register cuBLAS factory: Attempting to register factory for plugin cuBLAS when one has already been registered\n",
      "2023-10-13 10:05:40.700407: I tensorflow/tsl/cuda/cudart_stub.cc:28] Could not find cuda drivers on your machine, GPU will not be used.\n",
      "2023-10-13 10:05:40.700918: I tensorflow/core/platform/cpu_feature_guard.cc:182] This TensorFlow binary is optimized to use available CPU instructions in performance-critical operations.\n",
      "To enable the following instructions: AVX2 AVX_VNNI FMA, in other operations, rebuild TensorFlow with the appropriate compiler flags.\n",
      "2023-10-13 10:05:41.215966: W tensorflow/compiler/tf2tensorrt/utils/py_utils.cc:38] TF-TRT Warning: Could not find TensorRT\n"
     ]
    }
   ],
   "source": [
    "from deepchem.data import NumpyDataset\n",
    "from deepchem.splits import ScaffoldSplitter\n",
    "dataset = NumpyDataset(X=smiles, y=smiles, ids=smiles)\n",
    "scaffold_splitter = ScaffoldSplitter()\n",
    "train, test = scaffold_splitter.train_test_split(dataset)\n",
    "train_smiles = train.ids\n",
    "test_smiles = test.ids"
   ]
  },
  {
   "cell_type": "code",
   "execution_count": 7,
   "metadata": {},
   "outputs": [
    {
     "data": {
      "text/plain": [
       "Text(0.5, 1.0, 'Maximal similarity to train')"
      ]
     },
     "execution_count": 7,
     "metadata": {},
     "output_type": "execute_result"
    },
    {
     "data": {
      "image/png": "[encoded data removed]",
      "text/plain": [
       "<Figure size 640x480 with 1 Axes>"
      ]
     },
     "metadata": {},
     "output_type": "display_data"
    }
   ],
   "source": [
    "nearest_sim, nearest_idx = lohi.get_similar_mols(test_smiles, train_smiles, return_idx=True)\n",
    "plt.hist(nearest_sim, bins=50)\n",
    "plt.axvline(x=0.4, color = 'r', ls='--')\n",
    "plt.title('Maximal similarity to train')"
   ]
  },
  {
   "cell_type": "markdown",
   "metadata": {},
   "source": [
    "The problem is the same. Let's fix that."
   ]
  },
  {
   "cell_type": "markdown",
   "metadata": {},
   "source": [
    "## Hi Split, Train-Test\n",
    "The Hi splitter divides the dataset into training and test sets in such a manner that no molecule in the test set is similar to any molecule in the training set. Occasionally, an exact split might not be feasible, leading to the discarding of some molecules. To minimize the number of discarded molecules, the Hi splitter implements the minimal vertex k-cut method."
   ]
  },
  {
   "cell_type": "code",
   "execution_count": 8,
   "metadata": {},
   "outputs": [
    {
     "name": "stdout",
     "output_type": "stream",
     "text": [
      "Total molecules in the giant component: 253.0\n",
      "Min train size 177\n",
      "Min test size 25\n",
      "Welcome to the CBC MILP Solver \n",
      "Version: Trunk\n",
      "Build Date: Oct 24 2021 \n",
      "\n",
      "Starting solution of the Linear programming relaxation problem using Primal Simplex\n",
      "\n",
      "Coin0506I Presolve 3201 (-506) rows, 506 (0) columns and 6904 (-1012) elements\n",
      "Clp1000I sum of infeasibilities 9.35496e-07 - average 2.92251e-10, 0 fixed columns\n",
      "Coin0506I Presolve 3201 (0) rows, 506 (0) columns and 6904 (0) elements\n",
      "Clp0029I End of values pass after 506 iterations\n",
      "Clp0014I Perturbing problem by 0.001% of 1.0540599 - largest nonzero change 2.9990307e-05 ( 0.0014995153%) - largest zero change 0\n",
      "Clp0000I Optimal - objective value 253\n",
      "Clp0000I Optimal - objective value 253\n",
      "Clp0000I Optimal - objective value 253\n",
      "Coin0511I After Postsolve, objective 253, infeasibilities - dual 0 (0), primal 0 (0)\n",
      "Clp0032I Optimal objective 253 - 0 iterations time 0.082, Presolve 0.00, Idiot 0.08\n",
      "\n",
      "Starting MIP optimization\n",
      "Cgl0004I processed model has 3201 rows, 506 columns (506 integer (506 of which binary)) and 6904 elements\n",
      "Coin3009W Conflict graph built in 0.000 seconds, density: 0.723%\n",
      "Cgl0015I Clique Strengthening extended 0 cliques, 0 were dominated\n",
      "Cbc0045I Nauty: 3537 orbits (44 useful covering 110 variables), 65 generators, group size: 4.30812e+24 - sparse size 24260 - took 0.01543 seconds\n",
      "Cbc0038I Initial state - 506 integers unsatisfied sum - 151.8\n",
      "Cbc0038I Pass   1: (0.04 seconds) suminf.   50.60000 (506) obj. -253 iterations 148\n",
      "Cbc0038I Pass   2: (0.05 seconds) suminf.   44.06480 (494) obj. -247.535 iterations 125\n",
      "Cbc0038I Pass   3: (0.06 seconds) suminf.   44.06480 (494) obj. -247.535 iterations 33\n",
      "Cbc0038I Pass   4: (0.06 seconds) suminf.    5.13000 (19) obj. -241.73 iterations 120\n",
      "Cbc0038I Solution found of -242\n",
      "Cbc0038I Before mini branch and bound, 0 integers at bound fixed and 0 continuous\n",
      "Cbc0038I Full problem 3201 rows 506 columns, reduced to 3201 rows 506 columns - 65 fixed gives 211, 140 - ok now\n",
      "Cbc0038I Full problem 3201 rows 506 columns, reduced to 211 rows 140 columns\n",
      "Cbc0038I Mini branch and bound improved solution from -242 to -245 (0.09 seconds)\n",
      "Cbc0038I Round again with cutoff of -246.7\n",
      "Cbc0038I Pass   5: (0.09 seconds) suminf.   50.60000 (506) obj. -253 iterations 0\n",
      "Cbc0038I Pass   6: (0.10 seconds) suminf.   18.82299 (386) obj. -246.7 iterations 204\n",
      "Cbc0038I Pass   7: (0.11 seconds) suminf.   18.75054 (468) obj. -246.7 iterations 65\n",
      "Cbc0038I Pass   8: (0.11 seconds) suminf.   20.09991 (48) obj. -246.7 iterations 96\n",
      "Cbc0038I Pass   9: (0.12 seconds) suminf.    0.90027 (9) obj. -246.7 iterations 158\n",
      "Cbc0038I Solution found of -247\n",
      "Cbc0038I Before mini branch and bound, 0 integers at bound fixed and 0 continuous\n",
      "Cbc0038I Full problem 3201 rows 506 columns, reduced to 3201 rows 506 columns - 206 fixed gives 213, 73 - ok now\n",
      "Cbc0038I Full problem 3201 rows 506 columns, reduced to 213 rows 73 columns\n",
      "Cbc0038I Mini branch and bound did not improve solution (0.14 seconds)\n",
      "Cbc0038I Round again with cutoff of -249\n",
      "Cbc0038I Pass  10: (0.14 seconds) suminf.   50.60000 (506) obj. -253 iterations 0\n",
      "Cbc0038I Pass  11: (0.16 seconds) suminf.   49.15305 (424) obj. -249 iterations 238\n",
      "Cbc0038I Pass  12: (0.16 seconds) suminf.   14.60008 (466) obj. -249 iterations 72\n",
      "Cbc0038I Pass  13: (0.17 seconds) suminf.   12.49231 (464) obj. -249.108 iterations 98\n",
      "Cbc0038I Pass  14: (0.17 seconds) suminf.   12.49231 (464) obj. -249.108 iterations 1\n",
      "Cbc0038I Pass  15: (0.18 seconds) suminf.   20.39992 (64) obj. -249 iterations 162\n",
      "Cbc0038I Pass  16: (0.18 seconds) suminf.   10.33251 (31) obj. -249 iterations 149\n",
      "Cbc0038I Pass  17: (0.19 seconds) suminf.    0.00008 (1) obj. -249 iterations 375\n",
      "Cbc0038I Solution found of -249\n",
      "Cbc0038I Before mini branch and bound, 0 integers at bound fixed and 0 continuous\n",
      "Cbc0038I Full problem 3201 rows 506 columns, reduced to 3201 rows 506 columns - 178 fixed gives 420, 132 - ok now\n",
      "Cbc0038I Mini branch and bound did not improve solution (0.21 seconds)\n",
      "Cbc0038I Round again with cutoff of -250.9\n",
      "Cbc0038I Pass  18: (0.21 seconds) suminf.   50.60000 (506) obj. -253 iterations 0\n",
      "Cbc0038I Pass  19: (0.22 seconds) suminf.   47.87322 (457) obj. -250.9 iterations 172\n",
      "Cbc0038I Pass  20: (0.22 seconds) suminf.   47.44906 (506) obj. -250.9 iterations 36\n",
      "Cbc0038I Pass  21: (0.24 seconds) suminf.   50.70007 (422) obj. -250.9 iterations 165\n",
      "Cbc0038I Pass  22: (0.25 seconds) suminf.   50.40000 (504) obj. -251.2 iterations 150\n",
      "Cbc0038I Pass  23: (0.26 seconds) suminf.   52.70007 (260) obj. -250.9 iterations 239\n",
      "Cbc0038I Pass  24: (0.28 seconds) suminf.   50.60000 (506) obj. -253 iterations 263\n",
      "Cbc0038I Pass  25: (0.29 seconds) suminf.   52.41916 (108) obj. -250.9 iterations 224\n",
      "Cbc0038I Pass  26: (0.30 seconds) suminf.   50.50000 (505) obj. -252.1 iterations 265\n",
      "Cbc0038I Pass  27: (0.31 seconds) suminf.   46.34304 (506) obj. -250.9 iterations 157\n",
      "Cbc0038I Pass  28: (0.32 seconds) suminf.   46.34304 (506) obj. -250.9 iterations 20\n",
      "Cbc0038I Pass  29: (0.33 seconds) suminf.   46.70007 (418) obj. -250.9 iterations 183\n",
      "Cbc0038I Pass  30: (0.34 seconds) suminf.   46.41434 (500) obj. -251.186 iterations 170\n",
      "Cbc0038I Pass  31: (0.35 seconds) suminf.   47.70007 (501) obj. -250.9 iterations 151\n",
      "Cbc0038I Pass  32: (0.36 seconds) suminf.   46.50717 (501) obj. -252.093 iterations 127\n",
      "Cbc0038I Pass  33: (0.37 seconds) suminf.   47.70007 (501) obj. -250.9 iterations 149\n",
      "Cbc0038I Pass  34: (0.39 seconds) suminf.   47.70007 (358) obj. -250.9 iterations 220\n",
      "Cbc0038I Pass  35: (0.40 seconds) suminf.   14.70007 (433) obj. -250.9 iterations 198\n",
      "Cbc0038I Pass  36: (0.41 seconds) suminf.   14.53787 (468) obj. -251.062 iterations 202\n",
      "Cbc0038I Pass  37: (0.42 seconds) suminf.   14.70007 (468) obj. -250.9 iterations 133\n",
      "Cbc0038I Pass  38: (0.43 seconds) suminf.   10.70007 (395) obj. -250.9 iterations 199\n",
      "Cbc0038I Pass  39: (0.44 seconds) suminf.   10.55451 (464) obj. -251.045 iterations 197\n",
      "Cbc0038I Pass  40: (0.45 seconds) suminf.   10.70007 (464) obj. -250.9 iterations 142\n",
      "Cbc0038I Pass  41: (0.47 seconds) suminf.    8.70007 (418) obj. -250.9 iterations 238\n",
      "Cbc0038I Pass  42: (0.48 seconds) suminf.    8.56293 (462) obj. -251.037 iterations 191\n",
      "Cbc0038I Pass  43: (0.49 seconds) suminf.    8.70007 (413) obj. -250.9 iterations 191\n",
      "Cbc0038I Pass  44: (0.50 seconds) suminf.    8.70007 (462) obj. -250.9 iterations 154\n",
      "Cbc0038I Pass  45: (0.52 seconds) suminf.   10.70007 (386) obj. -250.9 iterations 191\n",
      "Cbc0038I Pass  46: (0.53 seconds) suminf.    8.70007 (462) obj. -250.9 iterations 224\n",
      "Cbc0038I Pass  47: (0.55 seconds) suminf.    8.70007 (462) obj. -250.9 iterations 197\n",
      "Cbc0038I No solution found this major pass\n",
      "Cbc0038I Before mini branch and bound, 0 integers at bound fixed and 0 continuous\n",
      "Cbc0038I Full problem 3201 rows 506 columns, reduced to 3201 rows 506 columns - 178 fixed gives 420, 132 - ok now\n",
      "Cbc0038I Mini branch and bound did not improve solution (0.56 seconds)\n",
      "Cbc0038I After 0.56 seconds - Feasibility pump exiting with objective of -249 - took 0.51 seconds\n",
      "Cbc0012I Integer solution of -249 found by feasibility pump after 0 iterations and 0 nodes (0.56 seconds)\n",
      "Cbc0030I Thread 0 used 0 times,  waiting to start 0.030677557, 0 cpu time, 0 locks, 0 locked, 0 waiting for locks\n",
      "Cbc0030I Thread 1 used 0 times,  waiting to start 0.029710293, 0 cpu time, 0 locks, 0 locked, 0 waiting for locks\n",
      "Cbc0030I Thread 2 used 0 times,  waiting to start 0.028245687, 0 cpu time, 0 locks, 0 locked, 0 waiting for locks\n",
      "Cbc0030I Thread 3 used 0 times,  waiting to start 0.02685833, 0 cpu time, 0 locks, 0 locked, 0 waiting for locks\n",
      "Cbc0030I Thread 4 used 0 times,  waiting to start 0.025629282, 0 cpu time, 0 locks, 0 locked, 0 waiting for locks\n",
      "Cbc0030I Thread 5 used 0 times,  waiting to start 0.02407527, 0 cpu time, 0 locks, 0 locked, 0 waiting for locks\n",
      "Cbc0030I Thread 6 used 0 times,  waiting to start 0.022550106, 0 cpu time, 0 locks, 0 locked, 0 waiting for locks\n",
      "Cbc0030I Thread 7 used 0 times,  waiting to start 0.021329165, 0 cpu time, 0 locks, 0 locked, 0 waiting for locks\n",
      "Cbc0030I Thread 8 used 0 times,  waiting to start 0.020095825, 0 cpu time, 0 locks, 0 locked, 0 waiting for locks\n",
      "Cbc0030I Thread 9 used 0 times,  waiting to start 0.018773794, 0 cpu time, 0 locks, 0 locked, 0 waiting for locks\n",
      "Cbc0030I Thread 10 used 0 times,  waiting to start 0.017153263, 0 cpu time, 0 locks, 0 locked, 0 waiting for locks\n",
      "Cbc0030I Thread 11 used 0 times,  waiting to start 0.015647411, 0 cpu time, 0 locks, 0 locked, 0 waiting for locks\n",
      "Cbc0030I Thread 12 used 0 times,  waiting to start 0.014219284, 0 cpu time, 0 locks, 0 locked, 0 waiting for locks\n",
      "Cbc0030I Thread 13 used 0 times,  waiting to start 0.012823582, 0 cpu time, 0 locks, 0 locked, 0 waiting for locks\n",
      "Cbc0030I Thread 14 used 0 times,  waiting to start 0.011369228, 0 cpu time, 0 locks, 0 locked, 0 waiting for locks\n",
      "Cbc0030I Thread 15 used 0 times,  waiting to start 0.0096879005, 0 cpu time, 0 locks, 0 locked, 0 waiting for locks\n",
      "Cbc0030I Thread 16 used 0 times,  waiting to start 0.0081245899, 0 cpu time, 0 locks, 0 locked, 0 waiting for locks\n",
      "Cbc0030I Thread 17 used 0 times,  waiting to start 0.0065703392, 0 cpu time, 0 locks, 0 locked, 0 waiting for locks\n",
      "Cbc0030I Thread 18 used 0 times,  waiting to start 0.0046949387, 0 cpu time, 0 locks, 0 locked, 0 waiting for locks\n",
      "Cbc0030I Thread 19 used 0 times,  waiting to start 0.0029423237, 0 cpu time, 0 locks, 0 locked, 0 waiting for locks\n",
      "Cbc0030I Main thread 0 waiting for threads,  1 locks, 1.4305115e-06 locked, 4.7683716e-07 waiting for locks\n",
      "Cbc0011I Exiting as integer gap of 4 less than 1e-10 or 10%\n",
      "Cbc0001I Search completed - best objective -249, took 0 iterations and 0 nodes (0.59 seconds)\n",
      "Cbc0035I Maximum depth 0, 0 variables fixed on reduced cost\n",
      "Total time (CPU seconds):       0.57   (Wallclock seconds):       0.61\n",
      "\n",
      "\n",
      "Total partitions: 2\n",
      "Number of discarded molecules: 4\n",
      "Molecules in partition 0 : 346\n",
      "Molecules in partition 1 : 50\n"
     ]
    }
   ],
   "source": [
    "smiles = drd2_hi['smiles'].to_list()\n",
    "\n",
    "# Define a threshold for similarity. Molecules with a similarity score greater than 0.4 are considered similar.\n",
    "similarity_threshold = 0.4\n",
    "\n",
    "# Set proportions for the train and test sets.\n",
    "train_min_frac = 0.7\n",
    "test_min_frac = 0.1\n",
    "\n",
    "# The combined fraction of train and test sets does not sum up to 1.0. This is because the splitter \n",
    "# might need to discard some molecules to achieve an approximate solution. In some cases, it's \n",
    "# challenging to partition the dataset precisely without excluding certain molecules. As a general \n",
    "# guideline, if the combined fractions are less than 1.0, the splitting process will be quicker, \n",
    "# but there's a possibility that more molecules will be discarded.\n",
    "\n",
    "partition = lohi.hi_train_test_split(smiles, similarity_threshold, \n",
    "                                    train_min_frac, test_min_frac)\n"
   ]
  },
  {
   "cell_type": "code",
   "execution_count": 9,
   "metadata": {},
   "outputs": [],
   "source": [
    "train_idx = partition[0]\n",
    "test_idx = partition[1]\n",
    "\n",
    "train_smiles = drd2_hi.iloc[train_idx]['smiles'].to_list()\n",
    "test_smiles = drd2_hi.iloc[test_idx]['smiles'].to_list()"
   ]
  },
  {
   "cell_type": "code",
   "execution_count": 10,
   "metadata": {},
   "outputs": [
    {
     "data": {
      "text/plain": [
       "Text(0.5, 1.0, 'Maximal similarity to train')"
      ]
     },
     "execution_count": 10,
     "metadata": {},
     "output_type": "execute_result"
    },
    {
     "data": {
      "image/png": "[encoded data removed]",
      "text/plain": [
       "<Figure size 640x480 with 1 Axes>"
      ]
     },
     "metadata": {},
     "output_type": "display_data"
    }
   ],
   "source": [
    "nearest_sim, nearest_idx = lohi.get_similar_mols(test_smiles, train_smiles, return_idx=True)\n",
    "plt.hist(nearest_sim, bins=50)\n",
    "plt.axvline(x=0.4, color = 'r', ls='--')\n",
    "plt.title('Maximal similarity to train')"
   ]
  },
  {
   "cell_type": "markdown",
   "metadata": {},
   "source": [
    "nice."
   ]
  },
  {
   "cell_type": "markdown",
   "metadata": {},
   "source": [
    "# Hi Split: k-fold\n",
    "The Hi splitter can also partition the dataset into k equal parts, which can be useful for conducting k-fold cross-validation, especially with smaller datasets. \n",
    "Let's divide our data into three parts for 3-fold cross-validation."
   ]
  },
  {
   "cell_type": "code",
   "execution_count": 11,
   "metadata": {},
   "outputs": [
    {
     "name": "stdout",
     "output_type": "stream",
     "text": [
      "Total molecules in the giant component: 253.0\n",
      "Min size of a partition: 75\n",
      "Starting solution of the Linear programming relaxation problem using Primal Simplex\n",
      "\n",
      "Coin0506I Presolve 9853 (-759) rows, 759 (0) columns and 20712 (-1518) elements\n",
      "Clp1000I sum of infeasibilities 0 - average 0, 0 fixed columns\n",
      "Coin0506I Presolve 9853 (0) rows, 759 (0) columns and 20712 (0) elements\n",
      "Clp0006I 0  Obj 225.3132 Dual inf 75899.999 (759)\n",
      "Clp0029I End of values pass after 759 iterations\n",
      "Clp0014I Perturbing problem by 0.001% of 1.0209197 - largest nonzero change 2.9973545e-05 ( 0.0014986773%) - largest zero change 2.982246e-05\n",
      "Clp0000I Optimal - objective value 253\n",
      "Clp0000I Optimal - objective value 253\n",
      "Clp0000I Optimal - objective value 253\n",
      "Coin0511I After Postsolve, objective 253, infeasibilities - dual 0 (0), primal 0 (0)\n",
      "Clp0032I Optimal objective 253 - 0 iterations time 0.422, Presolve 0.00, Idiot 0.41\n",
      "\n",
      "Starting MIP optimization\n",
      "Cgl0003I 0 fixed, 0 tightened bounds, 8904 strengthened rows, 0 substitutions\n",
      "Cgl0003I 0 fixed, 0 tightened bounds, 666 strengthened rows, 0 substitutions\n",
      "Cgl0003I 0 fixed, 0 tightened bounds, 27 strengthened rows, 0 substitutions\n",
      "Cgl0004I processed model has 8815 rows, 759 columns (759 integer (759 of which binary)) and 27195 elements\n",
      "Coin3009W Conflict graph built in 0.001 seconds, density: 0.898%\n",
      "Cgl0015I Clique Strengthening extended 0 cliques, 0 were dominated\n",
      "Cbc0045I Nauty: 10312 orbits (4 useful covering 8 variables), 2 generators, group size: 4 - sparse size 78094 - took 0.029944 seconds\n",
      "Cbc0038I Initial state - 759 integers unsatisfied sum - 253\n",
      "Cbc0038I Pass   1: (1.29 seconds) suminf.  122.42043 (386) obj. -225 iterations 3249\n",
      "Cbc0038I Pass   2: (1.43 seconds) suminf.   68.94252 (369) obj. -230.057 iterations 878\n",
      "Cbc0038I Pass   3: (1.43 seconds) suminf.   68.94252 (369) obj. -230.057 iterations 24\n",
      "Cbc0038I Pass   4: (1.45 seconds) suminf.   51.37143 (298) obj. -225 iterations 152\n",
      "Cbc0038I Pass   5: (1.47 seconds) suminf.   46.09351 (324) obj. -225 iterations 74\n",
      "Cbc0038I Pass   6: (1.50 seconds) suminf.   29.05195 (272) obj. -225 iterations 218\n",
      "Cbc0038I Pass   7: (1.52 seconds) suminf.   28.66410 (285) obj. -225.336 iterations 226\n",
      "Cbc0038I Pass   8: (1.54 seconds) suminf.   29.05195 (272) obj. -225 iterations 207\n",
      "Cbc0038I Pass   9: (1.64 seconds) suminf.   30.57692 (106) obj. -225 iterations 830\n",
      "Cbc0038I Pass  10: (1.70 seconds) suminf.   15.65217 (45) obj. -225.652 iterations 510\n",
      "Cbc0038I Pass  11: (1.73 seconds) suminf.   14.00000 (48) obj. -226 iterations 570\n",
      "Cbc0038I Pass  12: (1.79 seconds) suminf.    2.40909 (28) obj. -225 iterations 666\n",
      "Cbc0038I Pass  13: (1.83 seconds) suminf.    1.94444 (35) obj. -225.056 iterations 592\n",
      "Cbc0038I Pass  14: (1.95 seconds) suminf.    4.37500 (166) obj. -225 iterations 1083\n",
      "Cbc0038I Pass  15: (1.99 seconds) suminf.    1.83212 (251) obj. -226.168 iterations 527\n",
      "Cbc0038I Pass  16: (2.01 seconds) suminf.    0.00000 (0) obj. -227 iterations 473\n",
      "Cbc0038I Solution found of -227\n",
      "Cbc0038I Rounding solution of -231 is better than previous of -227\n",
      "\n",
      "Cbc0038I Before mini branch and bound, 0 integers at bound fixed and 0 continuous\n",
      "Cbc0038I Full problem 8815 rows 759 columns, reduced to 8815 rows 759 columns - 69 fixed gives 451, 150 - ok now\n",
      "Cbc0038I Full problem 8815 rows 759 columns, reduced to 102 rows 39 columns\n",
      "Cbc0038I Mini branch and bound improved solution from -231 to -232 (2.24 seconds)\n",
      "Cbc0038I Round again with cutoff of -235\n",
      "Cbc0038I Pass  17: (2.34 seconds) suminf.  122.31739 (405) obj. -235 iterations 384\n",
      "Cbc0038I Pass  18: (2.47 seconds) suminf.   52.89543 (252) obj. -235 iterations 899\n",
      "Cbc0038I Pass  19: (2.48 seconds) suminf.   52.89543 (252) obj. -235 iterations 44\n",
      "Cbc0038I Pass  20: (2.54 seconds) suminf.   34.26012 (197) obj. -235 iterations 436\n",
      "Cbc0038I Pass  21: (2.62 seconds) suminf.   33.88235 (192) obj. -235.118 iterations 635\n",
      "Cbc0038I Pass  22: (2.70 seconds) suminf.   15.73210 (205) obj. -235 iterations 770\n",
      "Cbc0038I Pass  23: (2.73 seconds) suminf.   15.14021 (224) obj. -235 iterations 205\n",
      "Cbc0038I Pass  24: (2.82 seconds) suminf.   19.51397 (237) obj. -235 iterations 556\n",
      "Cbc0038I Pass  25: (2.87 seconds) suminf.   15.51050 (268) obj. -235 iterations 281\n",
      "Cbc0038I Pass  26: (2.93 seconds) suminf.    6.00009 (21) obj. -235 iterations 854\n",
      "Cbc0038I Solution found of -235\n",
      "Cbc0038I Before mini branch and bound, 0 integers at bound fixed and 0 continuous\n",
      "Cbc0038I Full problem 8815 rows 759 columns, reduced to 8815 rows 759 columns - 168 fixed gives 1558, 183 - ok now\n",
      "Cbc0038I Full problem 8815 rows 759 columns, reduced to 1558 rows 183 columns\n",
      "Cbc0038I Mini branch and bound improved solution from -235 to -238 (3.18 seconds)\n",
      "Cbc0038I Round again with cutoff of -241.8\n",
      "Cbc0038I Pass  27: (3.39 seconds) suminf.  162.67038 (586) obj. -241.8 iterations 810\n",
      "Cbc0038I Pass  28: (3.63 seconds) suminf.   93.20008 (405) obj. -241.8 iterations 1636\n",
      "Cbc0038I Pass  29: (3.64 seconds) suminf.   91.12004 (403) obj. -241.88 iterations 94\n",
      "Cbc0038I Pass  30: (3.64 seconds) suminf.   91.12004 (403) obj. -241.88 iterations 0\n",
      "Cbc0038I Pass  31: (3.73 seconds) suminf.   84.15096 (305) obj. -241.8 iterations 588\n",
      "Cbc0038I Pass  32: (3.79 seconds) suminf.   69.43639 (436) obj. -241.8 iterations 278\n",
      "Cbc0038I Pass  33: (3.81 seconds) suminf.   69.43639 (436) obj. -241.8 iterations 39\n",
      "Cbc0038I Pass  34: (3.88 seconds) suminf.   36.60982 (471) obj. -241.8 iterations 287\n",
      "Cbc0038I Pass  35: (3.93 seconds) suminf.   35.77526 (440) obj. -241.8 iterations 224\n",
      "Cbc0038I Pass  36: (3.94 seconds) suminf.   35.77526 (440) obj. -241.8 iterations 15\n",
      "Cbc0038I Pass  37: (3.96 seconds) suminf.   35.86586 (440) obj. -241.8 iterations 67\n",
      "Cbc0038I Pass  38: (4.01 seconds) suminf.   42.16583 (440) obj. -241.8 iterations 257\n",
      "Cbc0038I Pass  39: (4.06 seconds) suminf.   34.72191 (439) obj. -241.8 iterations 191\n",
      "Cbc0038I Pass  40: (4.07 seconds) suminf.   34.72191 (439) obj. -241.8 iterations 37\n",
      "Cbc0038I Pass  41: (4.08 seconds) suminf.   34.77741 (439) obj. -241.8 iterations 43\n",
      "Cbc0038I Pass  42: (4.14 seconds) suminf.   34.97832 (443) obj. -241.8 iterations 247\n",
      "Cbc0038I Pass  43: (4.21 seconds) suminf.   33.94433 (440) obj. -241.8 iterations 232\n",
      "Cbc0038I Pass  44: (4.25 seconds) suminf.   33.76843 (438) obj. -241.8 iterations 141\n",
      "Cbc0038I Pass  45: (4.26 seconds) suminf.   33.78290 (438) obj. -241.8 iterations 48\n",
      "Cbc0038I Pass  46: (4.33 seconds) suminf.   37.16269 (359) obj. -241.8 iterations 277\n",
      "Cbc0038I Pass  47: (4.39 seconds) suminf.   33.76717 (438) obj. -241.8 iterations 228\n",
      "Cbc0038I Pass  48: (4.41 seconds) suminf.   33.78290 (438) obj. -241.8 iterations 79\n",
      "Cbc0038I Pass  49: (4.49 seconds) suminf.   38.43479 (420) obj. -241.8 iterations 358\n",
      "Cbc0038I Pass  50: (4.57 seconds) suminf.   34.59368 (438) obj. -241.8 iterations 295\n",
      "Cbc0038I Pass  51: (4.58 seconds) suminf.   34.54072 (438) obj. -241.8 iterations 18\n",
      "Cbc0038I Pass  52: (4.60 seconds) suminf.   34.59368 (438) obj. -241.8 iterations 46\n",
      "Cbc0038I Pass  53: (4.70 seconds) suminf.   36.22057 (359) obj. -241.8 iterations 478\n",
      "Cbc0038I Pass  54: (4.77 seconds) suminf.   33.76843 (438) obj. -241.8 iterations 396\n",
      "Cbc0038I Pass  55: (4.79 seconds) suminf.   33.78290 (438) obj. -241.8 iterations 75\n",
      "Cbc0038I Pass  56: (4.87 seconds) suminf.   36.68430 (432) obj. -241.8 iterations 335\n",
      "Cbc0038I No solution found this major pass\n",
      "Cbc0038I Before mini branch and bound, 0 integers at bound fixed and 0 continuous\n",
      "Cbc0038I Full problem 8815 rows 759 columns, reduced to 8815 rows 759 columns - 168 fixed gives 1558, 183 - ok now\n",
      "Cbc0038I Mini branch and bound did not improve solution (5.00 seconds)\n",
      "Cbc0038I After 5.00 seconds - Feasibility pump exiting with objective of -238 - took 4.26 seconds\n",
      "Cbc0012I Integer solution of -238 found by feasibility pump after 0 iterations and 0 nodes (5.00 seconds)\n",
      "Cbc0030I Thread 0 used 0 times,  waiting to start 0.081852674, 0 cpu time, 0 locks, 0 locked, 0 waiting for locks\n",
      "Cbc0030I Thread 1 used 0 times,  waiting to start 0.079487324, 0 cpu time, 0 locks, 0 locked, 0 waiting for locks\n",
      "Cbc0030I Thread 2 used 0 times,  waiting to start 0.077312469, 0 cpu time, 0 locks, 0 locked, 0 waiting for locks\n",
      "Cbc0030I Thread 3 used 0 times,  waiting to start 0.073893309, 0 cpu time, 0 locks, 0 locked, 0 waiting for locks\n",
      "Cbc0030I Thread 4 used 0 times,  waiting to start 0.069631577, 0 cpu time, 0 locks, 0 locked, 0 waiting for locks\n",
      "Cbc0030I Thread 5 used 0 times,  waiting to start 0.065536261, 0 cpu time, 0 locks, 0 locked, 0 waiting for locks\n",
      "Cbc0030I Thread 6 used 0 times,  waiting to start 0.061637878, 0 cpu time, 0 locks, 0 locked, 0 waiting for locks\n",
      "Cbc0030I Thread 7 used 0 times,  waiting to start 0.057372332, 0 cpu time, 0 locks, 0 locked, 0 waiting for locks\n",
      "Cbc0030I Thread 8 used 0 times,  waiting to start 0.053206921, 0 cpu time, 0 locks, 0 locked, 0 waiting for locks\n",
      "Cbc0030I Thread 9 used 0 times,  waiting to start 0.049195766, 0 cpu time, 0 locks, 0 locked, 0 waiting for locks\n",
      "Cbc0030I Thread 10 used 0 times,  waiting to start 0.044830084, 0 cpu time, 0 locks, 0 locked, 0 waiting for locks\n",
      "Cbc0030I Thread 11 used 0 times,  waiting to start 0.040723801, 0 cpu time, 0 locks, 0 locked, 0 waiting for locks\n",
      "Cbc0030I Thread 12 used 0 times,  waiting to start 0.036324024, 0 cpu time, 0 locks, 0 locked, 0 waiting for locks\n",
      "Cbc0030I Thread 13 used 0 times,  waiting to start 0.031960011, 0 cpu time, 0 locks, 0 locked, 0 waiting for locks\n",
      "Cbc0030I Thread 14 used 0 times,  waiting to start 0.027462006, 0 cpu time, 0 locks, 0 locked, 0 waiting for locks\n",
      "Cbc0030I Thread 15 used 0 times,  waiting to start 0.02306962, 0 cpu time, 0 locks, 0 locked, 0 waiting for locks\n",
      "Cbc0030I Thread 16 used 0 times,  waiting to start 0.018826008, 0 cpu time, 0 locks, 0 locked, 0 waiting for locks\n",
      "Cbc0030I Thread 17 used 0 times,  waiting to start 0.014582157, 0 cpu time, 0 locks, 0 locked, 0 waiting for locks\n",
      "Cbc0030I Thread 18 used 0 times,  waiting to start 0.010207415, 0 cpu time, 0 locks, 0 locked, 0 waiting for locks\n",
      "Cbc0030I Thread 19 used 0 times,  waiting to start 0.0061013699, 0 cpu time, 0 locks, 0 locked, 0 waiting for locks\n",
      "Cbc0030I Main thread 0 waiting for threads,  1 locks, 1.9073486e-06 locked, 4.7683716e-07 waiting for locks\n",
      "Cbc0011I Exiting as integer gap of 15 less than 1e-10 or 10%\n",
      "Cbc0001I Search completed - best objective -238, took 0 iterations and 0 nodes (5.09 seconds)\n",
      "Cbc0035I Maximum depth 0, 0 variables fixed on reduced cost\n",
      "Total time (CPU seconds):       5.29   (Wallclock seconds):       5.35\n",
      "\n",
      "\n",
      "Total partitions: 3\n",
      "Number of discarded molecules: 15\n",
      "Molecules in partition 0 : 129\n",
      "Molecules in partition 1 : 128\n",
      "Molecules in partition 2 : 128\n"
     ]
    }
   ],
   "source": [
    "smiles = drd2_hi['smiles'].to_list()\n",
    "partition = lohi.hi_k_fold_split(smiles, similarity_threshold=0.4, k=3)"
   ]
  },
  {
   "cell_type": "code",
   "execution_count": 12,
   "metadata": {},
   "outputs": [],
   "source": [
    "first_idx = partition[0]\n",
    "second_idx = partition[1]\n",
    "third_idx = partition[2]\n",
    "\n",
    "first_smiles = drd2_hi.iloc[first_idx]['smiles'].to_list()\n",
    "second_smiles = drd2_hi.iloc[second_idx]['smiles'].to_list()\n",
    "third_smiles = drd2_hi.iloc[third_idx]['smiles'].to_list()"
   ]
  },
  {
   "cell_type": "code",
   "execution_count": 13,
   "metadata": {},
   "outputs": [
    {
     "data": {
      "text/plain": [
       "Text(0.5, 1.0, 'Maximal similarity between first and second')"
      ]
     },
     "execution_count": 13,
     "metadata": {},
     "output_type": "execute_result"
    },
    {
     "data": {
      "image/png": "[encoded data removed]",
      "text/plain": [
       "<Figure size 640x480 with 1 Axes>"
      ]
     },
     "metadata": {},
     "output_type": "display_data"
    }
   ],
   "source": [
    "nearest_sim, nearest_idx = lohi.get_similar_mols(first_smiles, second_smiles, return_idx=True)\n",
    "plt.hist(nearest_sim, bins=50)\n",
    "plt.axvline(x=0.4, color = 'r', ls='--')\n",
    "plt.title('Maximal similarity between first and second')"
   ]
  },
  {
   "cell_type": "code",
   "execution_count": 14,
   "metadata": {},
   "outputs": [
    {
     "data": {
      "text/plain": [
       "Text(0.5, 1.0, 'Maximal similarity between the second and the third')"
      ]
     },
     "execution_count": 14,
     "metadata": {},
     "output_type": "execute_result"
    },
    {
     "data": {
      "image/png": "[encoded data removed]",
      "text/plain": [
       "<Figure size 640x480 with 1 Axes>"
      ]
     },
     "metadata": {},
     "output_type": "display_data"
    }
   ],
   "source": [
    "nearest_sim, nearest_idx = lohi.get_similar_mols(second_smiles, third_smiles, return_idx=True)\n",
    "plt.hist(nearest_sim, bins=50)\n",
    "plt.axvline(x=0.4, color = 'r', ls='--')\n",
    "plt.title('Maximal similarity between the second and the third')"
   ]
  },
  {
   "cell_type": "code",
   "execution_count": 15,
   "metadata": {},
   "outputs": [
    {
     "data": {
      "text/plain": [
       "Text(0.5, 1.0, 'Maximal similarity between the third and the first')"
      ]
     },
     "execution_count": 15,
     "metadata": {},
     "output_type": "execute_result"
    },
    {
     "data": {
      "image/png": "[encoded data removed]",
      "text/plain": [
       "<Figure size 640x480 with 1 Axes>"
      ]
     },
     "metadata": {},
     "output_type": "display_data"
    }
   ],
   "source": [
    "nearest_sim, nearest_idx = lohi.get_similar_mols(third_smiles, first_smiles, return_idx=True)\n",
    "plt.hist(nearest_sim, bins=50)\n",
    "plt.axvline(x=0.4, color = 'r', ls='--')\n",
    "plt.title('Maximal similarity between the third and the first')"
   ]
  },
  {
   "cell_type": "code",
   "execution_count": null,
   "metadata": {},
   "outputs": [],
   "source": []
  }
 ],
 "metadata": {
  "kernelspec": {
   "display_name": "test_lohi_splitter",
   "language": "python",
   "name": "python3"
  },
  "language_info": {
   "codemirror_mode": {
    "name": "ipython",
    "version": 3
   },
   "file_extension": ".py",
   "mimetype": "text/x-python",
   "name": "python",
   "nbconvert_exporter": "python",
   "pygments_lexer": "ipython3",
   "version": "3.11.5"
  },
  "orig_nbformat": 4
 },
 "nbformat": 4,
 "nbformat_minor": 2
}
