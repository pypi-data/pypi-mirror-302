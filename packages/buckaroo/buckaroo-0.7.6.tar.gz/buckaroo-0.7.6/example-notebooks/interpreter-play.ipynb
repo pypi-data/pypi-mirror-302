{
 "cells": [
  {
   "cell_type": "code",
   "execution_count": 1,
   "id": "f86217cf-c3d5-41ed-be56-879ad54ef997",
   "metadata": {
    "tags": []
   },
   "outputs": [
    {
     "name": "stdout",
     "output_type": "stream",
     "text": [
      "Buckaroo has been enabled as the default DataFrame viewer.  To return to default dataframe visualization use `from buckaroo import disable; disable()`\n"
     ]
    }
   ],
   "source": [
    "import buckaroo\n",
    "import pandas as pd\n",
    "simple_df = pd.DataFrame({'int_col':[1, 2, 3], 'str_col':['a', 'b', 'c']})"
   ]
  },
  {
   "cell_type": "code",
   "execution_count": 2,
   "id": "e724f7ab-f926-429f-bb4f-de4e68f1ba81",
   "metadata": {
    "tags": []
   },
   "outputs": [],
   "source": [
    "bw = buckaroo.BuckarooWidget(simple_df)"
   ]
  },
  {
   "cell_type": "code",
   "execution_count": 3,
   "id": "15d2e77b-316c-4c14-b0d0-69cd39897032",
   "metadata": {
    "tags": []
   },
   "outputs": [
    {
     "data": {
      "text/plain": [
       "[]"
      ]
     },
     "execution_count": 3,
     "metadata": {},
     "output_type": "execute_result"
    }
   ],
   "source": [
    "bw.operations"
   ]
  },
  {
   "cell_type": "code",
   "execution_count": 4,
   "id": "739c0b56-5d8f-4889-94d2-2da98548d0af",
   "metadata": {
    "tags": []
   },
   "outputs": [
    {
     "data": {
      "text/plain": [
       "{'transformed_df': {'pinned_rows': [], 'column_config': [], 'data': []},\n",
       " 'generated_py_code': '# instantiation, unused'}"
      ]
     },
     "execution_count": 4,
     "metadata": {},
     "output_type": "execute_result"
    }
   ],
   "source": [
    "bw.operation_results"
   ]
  },
  {
   "cell_type": "code",
   "execution_count": 12,
   "id": "8a9da30e-4313-4805-8a7c-99eeb9ef1b61",
   "metadata": {
    "tags": []
   },
   "outputs": [],
   "source": [
    "bw.existing_operations =    [[{\"symbol\":\"dropcol\"},{\"symbol\":\"df\"},\"str_col\"]]"
   ]
  },
  {
   "cell_type": "code",
   "execution_count": 14,
   "id": "6fc6bed3-43e8-4157-b574-ece328ea7302",
   "metadata": {
    "tags": []
   },
   "outputs": [
    {
     "data": {
      "text/plain": [
       "buckaroo.dataflow.autocleaning.SentinelAutocleaning"
      ]
     },
     "execution_count": 14,
     "metadata": {},
     "output_type": "execute_result"
    }
   ],
   "source": [
    "bw.autocleaning_klass"
   ]
  },
  {
   "cell_type": "code",
   "execution_count": 13,
   "id": "d8157e85-28db-4679-8757-8142ef87783d",
   "metadata": {
    "tags": []
   },
   "outputs": [
    {
     "data": {
      "text/plain": [
       "{'transformed_df': {'pinned_rows': [], 'column_config': [], 'data': []},\n",
       " 'generated_py_code': '# instantiation, unused'}"
      ]
     },
     "execution_count": 13,
     "metadata": {},
     "output_type": "execute_result"
    }
   ],
   "source": [
    "\n",
    "bw.operation_results"
   ]
  },
  {
   "cell_type": "code",
   "execution_count": 7,
   "id": "42da1997-0255-4fdd-9d75-fb914ffc3c49",
   "metadata": {
    "tags": []
   },
   "outputs": [
    {
     "data": {
      "text/plain": [
       "['DFStatsClass',\n",
       " '__annotations__',\n",
       " '__class__',\n",
       " '__del__',\n",
       " '__delattr__',\n",
       " '__dict__',\n",
       " '__dir__',\n",
       " '__doc__',\n",
       " '__eq__',\n",
       " '__format__',\n",
       " '__ge__',\n",
       " '__getattribute__',\n",
       " '__getstate__',\n",
       " '__gt__',\n",
       " '__hash__',\n",
       " '__init__',\n",
       " '__init_subclass__',\n",
       " '__le__',\n",
       " '__lt__',\n",
       " '__module__',\n",
       " '__ne__',\n",
       " '__new__',\n",
       " '__reduce__',\n",
       " '__reduce_ex__',\n",
       " '__repr__',\n",
       " '__setattr__',\n",
       " '__setstate__',\n",
       " '__sizeof__',\n",
       " '__str__',\n",
       " '__subclasshook__',\n",
       " '__weakref__',\n",
       " '_active_widgets',\n",
       " '_add_notifiers',\n",
       " '_all_trait_default_generators',\n",
       " '_buckaroo_state',\n",
       " '_build_error_dataframe',\n",
       " '_call_widget_constructed',\n",
       " '_comm_changed',\n",
       " '_compare',\n",
       " '_compute_processed_result',\n",
       " '_compute_sampled_df',\n",
       " '_control_comm',\n",
       " '_cross_validation_lock',\n",
       " '_default_keys',\n",
       " '_descriptors',\n",
       " '_df_to_obj',\n",
       " '_dom_classes',\n",
       " '_gen_repr_from_keys',\n",
       " '_get_dfviewer_config',\n",
       " '_get_embed_state',\n",
       " '_get_summary_sd',\n",
       " '_get_trait_default_generator',\n",
       " '_handle_control_comm_msg',\n",
       " '_handle_custom_msg',\n",
       " '_handle_msg',\n",
       " '_handle_widget_change',\n",
       " '_holding_sync',\n",
       " '_instance_inits',\n",
       " '_is_numpy',\n",
       " '_lock_property',\n",
       " '_log_default',\n",
       " '_merged_sd',\n",
       " '_model_id',\n",
       " '_model_module',\n",
       " '_model_module_version',\n",
       " '_model_name',\n",
       " '_msg_callbacks',\n",
       " '_notify_observers',\n",
       " '_notify_trait',\n",
       " '_operation_result',\n",
       " '_processed_result',\n",
       " '_property_lock',\n",
       " '_register_validator',\n",
       " '_remove_notifiers',\n",
       " '_repr_keys',\n",
       " '_repr_mimebundle_',\n",
       " '_run_df_interpreter',\n",
       " '_sampled_df',\n",
       " '_sd_to_jsondf',\n",
       " '_send',\n",
       " '_should_send_property',\n",
       " '_states_to_send',\n",
       " '_static_immutable_initial_values',\n",
       " '_summary_sd',\n",
       " '_trait_default_generators',\n",
       " '_trait_from_json',\n",
       " '_trait_notifiers',\n",
       " '_trait_to_json',\n",
       " '_trait_validators',\n",
       " '_trait_values',\n",
       " '_traits',\n",
       " '_view_count',\n",
       " '_view_module',\n",
       " '_view_module_version',\n",
       " '_view_name',\n",
       " '_widget_config',\n",
       " '_widget_construction_callback',\n",
       " '_widget_types',\n",
       " 'ac_obj',\n",
       " 'add_analysis',\n",
       " 'add_class',\n",
       " 'add_command',\n",
       " 'add_processing',\n",
       " 'add_traits',\n",
       " 'analysis_klasses',\n",
       " 'autocleaning_klass',\n",
       " 'blur',\n",
       " 'buckaroo_options',\n",
       " 'buckaroo_state',\n",
       " 'class_own_trait_events',\n",
       " 'class_own_traits',\n",
       " 'class_trait_names',\n",
       " 'class_traits',\n",
       " 'cleaned',\n",
       " 'cleaned_df',\n",
       " 'cleaned_sd',\n",
       " 'cleaning_method',\n",
       " 'cleaning_operations',\n",
       " 'close',\n",
       " 'close_all',\n",
       " 'column_config',\n",
       " 'column_config_overrides',\n",
       " 'comm',\n",
       " 'commandConfig',\n",
       " 'command_klasses',\n",
       " 'component_config',\n",
       " 'cross_validation_lock',\n",
       " 'debug',\n",
       " 'df_data_dict',\n",
       " 'df_display_args',\n",
       " 'df_display_klasses',\n",
       " 'df_meta',\n",
       " 'df_name',\n",
       " 'exception',\n",
       " 'existing_operations',\n",
       " 'extra_grid_config',\n",
       " 'focus',\n",
       " 'generated_code',\n",
       " 'get_manager_state',\n",
       " 'get_state',\n",
       " 'get_view_spec',\n",
       " 'handle_comm_opened',\n",
       " 'handle_control_comm_opened',\n",
       " 'has_trait',\n",
       " 'hold_sync',\n",
       " 'hold_trait_notifications',\n",
       " 'keys',\n",
       " 'layout',\n",
       " 'log',\n",
       " 'lowcode_operations',\n",
       " 'merged_column_config',\n",
       " 'merged_operations',\n",
       " 'merged_sd',\n",
       " 'model_id',\n",
       " 'notify_change',\n",
       " 'observe',\n",
       " 'on_msg',\n",
       " 'on_trait_change',\n",
       " 'on_widget_constructed',\n",
       " 'open',\n",
       " 'operation_results',\n",
       " 'operations',\n",
       " 'pinned_rows',\n",
       " 'populate_df_meta',\n",
       " 'post_processing_klasses',\n",
       " 'post_processing_method',\n",
       " 'processed_df',\n",
       " 'processed_result',\n",
       " 'processed_sd',\n",
       " 'raw_df',\n",
       " 'remove_class',\n",
       " 'run_code_generator',\n",
       " 'sample_method',\n",
       " 'sampled_df',\n",
       " 'sampling_klass',\n",
       " 'send',\n",
       " 'send_state',\n",
       " 'set_state',\n",
       " 'set_trait',\n",
       " 'setup_instance',\n",
       " 'setup_options_from_analysis',\n",
       " 'style_method',\n",
       " 'summary_sd',\n",
       " 'tabbable',\n",
       " 'tooltip',\n",
       " 'trait_defaults',\n",
       " 'trait_events',\n",
       " 'trait_has_value',\n",
       " 'trait_metadata',\n",
       " 'trait_names',\n",
       " 'trait_values',\n",
       " 'traits',\n",
       " 'unobserve',\n",
       " 'unobserve_all',\n",
       " 'widget_args_tuple',\n",
       " 'widget_types',\n",
       " 'widgets']"
      ]
     },
     "execution_count": 7,
     "metadata": {},
     "output_type": "execute_result"
    }
   ],
   "source": [
    "dir(bw)"
   ]
  },
  {
   "cell_type": "code",
   "execution_count": 11,
   "id": "9be040ff-98d1-469b-8e9a-7d9f01d98652",
   "metadata": {
    "tags": []
   },
   "outputs": [
    {
     "data": {
      "text/plain": [
       "[{'col_name': 'index',\n",
       "  'displayer_args': {'displayer': 'float',\n",
       "   'min_fraction_digits': 0,\n",
       "   'max_fraction_digits': 0}},\n",
       " {'col_name': 'int_col',\n",
       "  'displayer_args': {'displayer': 'float',\n",
       "   'min_fraction_digits': 0,\n",
       "   'max_fraction_digits': 0}},\n",
       " {'col_name': 'str_col',\n",
       "  'displayer_args': {'displayer': 'string', 'max_length': 35}}]"
      ]
     },
     "execution_count": 11,
     "metadata": {},
     "output_type": "execute_result"
    }
   ],
   "source": [
    "bw.df_display_args['main']['df_viewer_config']['column_config']"
   ]
  },
  {
   "cell_type": "code",
   "execution_count": null,
   "id": "5014a910-de6b-4519-861e-feac885d2919",
   "metadata": {},
   "outputs": [],
   "source": []
  }
 ],
 "metadata": {
  "kernelspec": {
   "display_name": "Python 3 (ipykernel)",
   "language": "python",
   "name": "python3"
  },
  "language_info": {
   "codemirror_mode": {
    "name": "ipython",
    "version": 3
   },
   "file_extension": ".py",
   "mimetype": "text/x-python",
   "name": "python",
   "nbconvert_exporter": "python",
   "pygments_lexer": "ipython3",
   "version": "3.8.18"
  },
  "widgets": {
   "application/vnd.jupyter.widget-state+json": {
    "state": {
     "3944bf3303db42dcb76199bed275ed61": {
      "model_module": "buckaroo",
      "model_module_version": "^0.6.2",
      "model_name": "DCEFWidgetModel",
      "state": {
       "_model_module_version": "^0.6.2",
       "_view_module_version": "^0.6.2",
       "_view_name": "DCEFWidgetView",
       "buckaroo_options": {
        "auto_clean": [
         "aggressive",
         "conservative"
        ],
        "df_display": [
         "main",
         "summary"
        ],
        "post_processing": [
         ""
        ],
        "sampled": [
         "random"
        ],
        "show_commands": [
         "on"
        ],
        "summary_stats": [
         "all"
        ]
       },
       "buckaroo_state": {
        "auto_clean": "conservative",
        "df_display": "main",
        "post_processing": "",
        "sampled": false,
        "search_string": "",
        "show_commands": false
       },
       "commandConfig": {},
       "df_data_dict": {
        "all_stats": [
         {
          "bar": "object",
          "foo": "int64",
          "index": "dtype"
         },
         {
          "bar": false,
          "foo": true,
          "index": "is_numeric"
         },
         {
          "bar": false,
          "foo": true,
          "index": "is_integer"
         },
         {
          "bar": false,
          "foo": false,
          "index": "is_datetime"
         },
         {
          "bar": false,
          "foo": false,
          "index": "is_bool"
         },
         {
          "bar": false,
          "foo": false,
          "index": "is_float"
         },
         {
          "bar": "string",
          "foo": "integer",
          "index": "_type"
         },
         {
          "bar": true,
          "foo": false,
          "index": "is_string"
         },
         {
          "bar": 144,
          "foo": 144,
          "index": "memory_usage"
         },
         {
          "bar": 2,
          "foo": 2,
          "index": "length"
         },
         {
          "bar": null,
          "foo": 10,
          "index": "min"
         },
         {
          "bar": null,
          "foo": 20,
          "index": "max"
         },
         {
          "bar": 0,
          "foo": 15,
          "index": "mean"
         },
         {
          "bar": 0,
          "foo": 0,
          "index": "nan_count"
         },
         {
          "bar": [
           1,
           1
          ],
          "foo": [
           1,
           1
          ],
          "index": "value_counts"
         },
         {
          "bar": "asdf",
          "foo": 10,
          "index": "mode"
         },
         {
          "bar": 1,
          "foo": 1,
          "index": "distinct_per"
         },
         {
          "bar": 0,
          "foo": 0,
          "index": "empty_per"
         },
         {
          "bar": 1,
          "foo": 1,
          "index": "unique_per"
         },
         {
          "bar": 0,
          "foo": 0,
          "index": "nan_per"
         },
         {
          "bar": 2,
          "foo": 2,
          "index": "unique_count"
         },
         {
          "bar": 0,
          "foo": 0,
          "index": "empty_count"
         },
         {
          "bar": 2,
          "foo": 2,
          "index": "distinct_count"
         },
         {
          "bar": [
           {
            "cat_pop": 50,
            "name": "asdf"
           },
           {
            "cat_pop": 50,
            "name": "iii"
           },
           {
            "name": "longtail",
            "unique": 100
           }
          ],
          "foo": [
           {
            "cat_pop": 50,
            "name": 10
           },
           {
            "cat_pop": 50,
            "name": 20
           },
           {
            "name": "longtail",
            "unique": 100
           }
          ],
          "index": "histogram"
         },
         {
          "bar": {},
          "foo": {},
          "index": "histogram_args"
         },
         {
          "bar": [],
          "foo": [],
          "index": "histogram_bins"
         }
        ],
        "empty": [],
        "main": [
         {
          "bar": "asdf",
          "foo": 10,
          "index": 0
         },
         {
          "bar": "iii",
          "foo": 20,
          "index": 1
         }
        ]
       },
       "df_display_args": {
        "main": {
         "data_key": "main",
         "df_viewer_config": {
          "column_config": [
           {
            "col_name": "index",
            "displayer_args": {
             "displayer": "float",
             "max_fraction_digits": 0,
             "min_fraction_digits": 0
            }
           },
           {
            "col_name": "foo",
            "displayer_args": {
             "displayer": "float",
             "max_fraction_digits": 0,
             "min_fraction_digits": 0
            }
           },
           {
            "col_name": "bar",
            "displayer_args": {
             "displayer": "string",
             "max_length": 35
            }
           }
          ],
          "component_config": {},
          "extra_grid_config": {},
          "pinned_rows": [
           {
            "displayer_args": {
             "displayer": "obj"
            },
            "primary_key_val": "dtype"
           },
           {
            "displayer_args": {
             "displayer": "histogram"
            },
            "primary_key_val": "histogram"
           }
          ]
         },
         "summary_stats_key": "all_stats"
        },
        "summary": {
         "data_key": "empty",
         "df_viewer_config": {
          "column_config": [
           {
            "col_name": "index",
            "displayer_args": {
             "displayer": "obj"
            }
           },
           {
            "col_name": "foo",
            "displayer_args": {
             "displayer": "obj"
            }
           },
           {
            "col_name": "bar",
            "displayer_args": {
             "displayer": "obj"
            }
           }
          ],
          "component_config": {},
          "extra_grid_config": {},
          "pinned_rows": [
           {
            "displayer_args": {
             "displayer": "obj"
            },
            "primary_key_val": "dtype"
           },
           {
            "displayer_args": {
             "displayer": "float",
             "max_fraction_digits": 3,
             "min_fraction_digits": 3
            },
            "primary_key_val": "min"
           },
           {
            "displayer_args": {
             "displayer": "float",
             "max_fraction_digits": 3,
             "min_fraction_digits": 3
            },
            "primary_key_val": "mean"
           },
           {
            "displayer_args": {
             "displayer": "float",
             "max_fraction_digits": 3,
             "min_fraction_digits": 3
            },
            "primary_key_val": "max"
           },
           {
            "displayer_args": {
             "displayer": "float",
             "max_fraction_digits": 0,
             "min_fraction_digits": 0
            },
            "primary_key_val": "unique_count"
           },
           {
            "displayer_args": {
             "displayer": "float",
             "max_fraction_digits": 0,
             "min_fraction_digits": 0
            },
            "primary_key_val": "distinct_count"
           },
           {
            "displayer_args": {
             "displayer": "float",
             "max_fraction_digits": 0,
             "min_fraction_digits": 0
            },
            "primary_key_val": "empty_count"
           }
          ]
         },
         "summary_stats_key": "all_stats"
        }
       },
       "df_meta": {
        "columns": 2,
        "rows_shown": 3,
        "total_rows": 3
       },
       "layout": "IPY_MODEL_b5062f643faa456584391802f3a818ce",
       "operation_results": {
        "generated_py_code": "# instantiation, unused",
        "transformed_df": {
         "column_config": [],
         "data": [],
         "pinned_rows": []
        }
       },
       "operations": [
        [
         {
          "symbol": "dropcol"
         },
         {
          "symbol": "df"
         },
         "str_col"
        ]
       ]
      }
     },
     "b5062f643faa456584391802f3a818ce": {
      "model_module": "@jupyter-widgets/base",
      "model_module_version": "2.0.0",
      "model_name": "LayoutModel",
      "state": {}
     }
    },
    "version_major": 2,
    "version_minor": 0
   }
  }
 },
 "nbformat": 4,
 "nbformat_minor": 5
}
