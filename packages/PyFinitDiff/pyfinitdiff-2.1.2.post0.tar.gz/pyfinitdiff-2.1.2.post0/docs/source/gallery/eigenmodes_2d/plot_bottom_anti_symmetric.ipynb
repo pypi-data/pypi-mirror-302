{
  "cells": [
    {
      "cell_type": "markdown",
      "metadata": {},
      "source": [
        "\n# Example: eigenmodes 0\n"
      ]
    },
    {
      "cell_type": "markdown",
      "metadata": {},
      "source": [
        "+-------------+------------+--------------+------------+------------+\n| Boundaries  |    left    |     right    |    top     |   bottom   |\n+=============+============+==============+============+============+\n|      -      |    zero    |     zero     |   zero     |  anti-sym  |\n+-------------+------------+--------------+------------+------------+\n\n"
      ]
    },
    {
      "cell_type": "code",
      "execution_count": null,
      "metadata": {
        "collapsed": false
      },
      "outputs": [],
      "source": [
        "from scipy.sparse import linalg\nfrom MPSPlots.render2D import SceneList\n\nfrom PyFinitDiff.finite_difference_2D import FiniteDifference\nfrom PyFinitDiff.finite_difference_2D import get_circular_mesh_triplet\nfrom PyFinitDiff.finite_difference_2D import Boundaries\n\n\nn_y = n_x = 80\n\n\nsparse_instance = FiniteDifference(\n    n_x=n_x,\n    n_y=n_y,\n    dx=1,\n    dy=1,\n    derivative=2,\n    accuracy=2,\n    boundaries=Boundaries(bottom='anti-symmetric')\n)\n\nmesh_triplet = get_circular_mesh_triplet(\n    n_x=n_x,\n    n_y=n_y,\n    value_out=1.0,\n    value_in=1.4444,\n    x_offset=0,\n    y_offset=-100,\n    radius=70\n)\n\ndynamic_triplet = sparse_instance.triplet + mesh_triplet\n\neigen_values, eigen_vectors = linalg.eigs(\n    dynamic_triplet.to_scipy_sparse(),\n    k=4,\n    which='LM',\n    sigma=1.4444\n)\n\nshape = [sparse_instance.n_x, sparse_instance.n_y]\n\nfigure = SceneList(unit_size=(3, 3), tight_layout=True, ax_orientation='horizontal')\n\nfor i in range(4):\n    Vector = eigen_vectors[:, i].real.reshape(shape)\n    ax = figure.append_ax(title=f'eigenvalues: \\n{eigen_values[i]:.3f}')\n    ax.add_mesh(scalar=Vector)\n\nfigure.show()\n\n\n# -"
      ]
    }
  ],
  "metadata": {
    "kernelspec": {
      "display_name": "Python 3",
      "language": "python",
      "name": "python3"
    },
    "language_info": {
      "codemirror_mode": {
        "name": "ipython",
        "version": 3
      },
      "file_extension": ".py",
      "mimetype": "text/x-python",
      "name": "python",
      "nbconvert_exporter": "python",
      "pygments_lexer": "ipython3",
      "version": "3.11.0"
    }
  },
  "nbformat": 4,
  "nbformat_minor": 0
}