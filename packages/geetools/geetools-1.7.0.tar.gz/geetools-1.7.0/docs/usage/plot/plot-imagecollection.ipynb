{
 "cells": [
  {
   "cell_type": "markdown",
   "metadata": {},
   "source": [
    "# Plot ee.ImageCollection\n",
    "\n",
    "```{warning}\n",
    "This notebook is a work in progress. It is not yet functional.\n",
    "```"
   ]
  },
  {
   "cell_type": "markdown",
   "metadata": {},
   "source": [
    "[![github](https://img.shields.io/badge/-see%20sources-white?logo=github&labelColor=555)](https://github.com/gee-community/geetools/blob/main/docs/usage/plot/plot-imagecollection.ipynb)\n",
    "[![colab](https://img.shields.io/badge/-open%20in%20colab-blue?logo=googlecolab&labelColor=555)](https://colab.research.google.com/github/gee-community/geetools/blob/main/docs/usage/plot/plot-imagecollection.ipynb)"
   ]
  },
  {
   "cell_type": "code",
   "execution_count": 1,
   "metadata": {
    "tags": [
     "remove-input"
    ]
   },
   "outputs": [],
   "source": [
    "import ee, pytest_gee, os\n",
    "\n",
    "if \"EARTHENGINE_SERVICE_ACCOUNT\" in os.environ:\n",
    "    pytest_gee.init_ee_from_service_account()\n",
    "elif \"EARTHENGINE_PROJECT\" in os.environ:\n",
    "    pytest_gee.init_ee_from_token()\n",
    "else:\n",
    "    raise ValueError(\"Cannot authenticate with Earth Engine.\")"
   ]
  }
 ],
 "metadata": {
  "language_info": {
   "name": "python"
  }
 },
 "nbformat": 4,
 "nbformat_minor": 2
}
