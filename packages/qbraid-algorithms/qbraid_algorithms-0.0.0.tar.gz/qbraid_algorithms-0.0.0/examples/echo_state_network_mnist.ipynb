{
 "cells": [
  {
   "cell_type": "markdown",
   "metadata": {},
   "source": [
    "# Echo State Network example"
   ]
  },
  {
   "cell_type": "code",
   "execution_count": null,
   "metadata": {},
   "outputs": [],
   "source": [
    "import time\n",
    "\n",
    "import matplotlib.pyplot as plt\n",
    "import torch\n",
    "import torchvision\n",
    "\n",
    "from qbraid_algorithms.esn import EchoStateNetwork, EchoStateReservoir"
   ]
  },
  {
   "cell_type": "markdown",
   "metadata": {},
   "source": [
    "Download MNIST train and test data"
   ]
  },
  {
   "cell_type": "code",
   "execution_count": null,
   "metadata": {},
   "outputs": [],
   "source": [
    "transform = torchvision.transforms.Compose(\n",
    "    [torchvision.transforms.ToTensor(), torchvision.transforms.Normalize([0.5], [0.5])]\n",
    ")\n",
    "trainset = torchvision.datasets.MNIST(root=\"./data\", train=True, transform=transform)\n",
    "trainloader = torch.utils.data.DataLoader(trainset, shuffle=True)\n",
    "testset = torchvision.datasets.MNIST(root=\"./data\", train=False, transform=transform)\n",
    "testloader = torch.utils.data.DataLoader(testset, shuffle=False)"
   ]
  },
  {
   "cell_type": "code",
   "execution_count": null,
   "metadata": {},
   "outputs": [],
   "source": [
    "input_size = torch.prod(torch.tensor(trainset.data.shape[1:])).item()\n",
    "output_size = len(torch.unique(trainset.targets.clone().detach()))"
   ]
  },
  {
   "cell_type": "markdown",
   "metadata": {},
   "source": [
    "Initialize echo state network"
   ]
  },
  {
   "cell_type": "code",
   "execution_count": null,
   "metadata": {},
   "outputs": [],
   "source": [
    "hyperparams = {\n",
    "    \"hidden_size\": 5000,\n",
    "    \"sparsity\": 0.9,\n",
    "    \"spectral_radius\": 0.99,\n",
    "    \"a\": 0.6,\n",
    "    \"leak\": 1.0,\n",
    "}\n",
    "\n",
    "reservoir = EchoStateReservoir(input_size, **hyperparams)\n",
    "esn = EchoStateNetwork(reservoir, output_size).float()"
   ]
  },
  {
   "cell_type": "markdown",
   "metadata": {},
   "source": [
    "Initialize optimizer using ESN parameters, and define loss criterion"
   ]
  },
  {
   "cell_type": "code",
   "execution_count": null,
   "metadata": {},
   "outputs": [],
   "source": [
    "optimizer = torch.optim.Adam(esn.parameters(), lr=1e-5)\n",
    "criterion = torch.nn.CrossEntropyLoss()"
   ]
  },
  {
   "cell_type": "markdown",
   "metadata": {},
   "source": [
    "Train network"
   ]
  },
  {
   "cell_type": "code",
   "execution_count": null,
   "metadata": {},
   "outputs": [],
   "source": [
    "nsamples = 1000\n",
    "nepochs = 200\n",
    "loss_values = []\n",
    "\n",
    "start = time.time()\n",
    "for epoch in range(nepochs):\n",
    "    running_loss = 0.0\n",
    "    for i, data in enumerate(trainset, 0):\n",
    "        if i > nsamples:\n",
    "            break\n",
    "        images, labels = data\n",
    "\n",
    "        # forward + backward + optimize\n",
    "        outputs = esn(images)\n",
    "        loss = criterion(outputs, torch.tensor([labels]))\n",
    "\n",
    "        # zero the parameter gradients\n",
    "        optimizer.zero_grad()\n",
    "        loss.backward()\n",
    "        optimizer.step()\n",
    "\n",
    "        # log statistics\n",
    "        running_loss += loss.item()\n",
    "        if i % nsamples == (nsamples - 1):\n",
    "            # print(f\"epoch {epoch}, loss: {running_loss / nsamples:.3f}\")\n",
    "            loss_values.append(running_loss / nsamples)\n",
    "\n",
    "end = time.time()\n",
    "\n",
    "seconds = int(end - start)\n",
    "minutes = seconds // 60\n",
    "print(f\"Training duration: {minutes} min {seconds % 60} sec\")"
   ]
  },
  {
   "cell_type": "code",
   "execution_count": null,
   "metadata": {},
   "outputs": [],
   "source": [
    "fig, ax = plt.subplots(dpi=100)\n",
    "ax.set_xlabel(\"Epoch\")\n",
    "ax.set_ylabel(\"Loss\")\n",
    "ax.plot(range(1, nepochs + 1), loss_values, color=\"red\")\n",
    "plt.show()"
   ]
  },
  {
   "cell_type": "markdown",
   "metadata": {},
   "source": [
    "Test network accuracy"
   ]
  },
  {
   "cell_type": "code",
   "execution_count": null,
   "metadata": {},
   "outputs": [],
   "source": [
    "total = 0\n",
    "correct = 0\n",
    "\n",
    "for i, data in enumerate(testset, 0):\n",
    "    if i > nsamples / 4:\n",
    "        break\n",
    "    images, labels = data\n",
    "    pred = torch.argmax(esn(images)).item()\n",
    "    if pred == labels:\n",
    "        correct += 1\n",
    "    total += 1\n",
    "percent_correct = correct * 100.0 / total\n",
    "\n",
    "print(f\"Accuracy: {percent_correct:.2f} %\")"
   ]
  }
 ],
 "metadata": {
  "kernelspec": {
   "display_name": "algorithms",
   "language": "python",
   "name": "python3"
  },
  "language_info": {
   "codemirror_mode": {
    "name": "ipython",
    "version": 3
   },
   "file_extension": ".py",
   "mimetype": "text/x-python",
   "name": "python",
   "nbconvert_exporter": "python",
   "pygments_lexer": "ipython3",
   "version": "3.11.9"
  }
 },
 "nbformat": 4,
 "nbformat_minor": 2
}
