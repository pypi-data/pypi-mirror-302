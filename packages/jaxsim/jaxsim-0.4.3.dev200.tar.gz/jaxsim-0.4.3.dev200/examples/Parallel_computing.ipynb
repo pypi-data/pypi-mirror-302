{
 "cells": [
  {
   "cell_type": "markdown",
   "metadata": {},
   "source": [
    "# `JAXsim` Showcase: Parallel Simulation of a free-falling body"
   ]
  },
  {
   "cell_type": "markdown",
   "metadata": {},
   "source": [
    "First, we install the necessary packages and import them."
   ]
  },
  {
   "cell_type": "code",
   "execution_count": null,
   "metadata": {},
   "outputs": [],
   "source": [
    "# @title Imports and setup\n",
    "import sys\n",
    "\n",
    "IS_COLAB = \"google.colab\" in sys.modules\n",
    "\n",
    "# Install JAX and Gazebo\n",
    "if IS_COLAB:\n",
    "    !{sys.executable} -m pip install -qU jaxsim\n",
    "    !apt install -qq lsb-release wget gnupg\n",
    "    !wget https://packages.osrfoundation.org/gazebo.gpg -O /usr/share/keyrings/pkgs-osrf-archive-keyring.gpg\n",
    "    !echo \"deb [arch=$(dpkg --print-architecture) signed-by=/usr/share/keyrings/pkgs-osrf-archive-keyring.gpg] http://packages.osrfoundation.org/gazebo/ubuntu-stable $(lsb_release -cs) main\" | sudo tee /etc/apt/sources.list.d/gazebo-stable.list > /dev/null\n",
    "    !apt -qq update\n",
    "    !apt install -qq --no-install-recommends libsdformat13 gz-tools2\n",
    "\n",
    "# Set environment variable to avoid GPU out of memory errors\n",
    "%env XLA_PYTHON_CLIENT_MEM_PREALLOCATE=false\n",
    "\n",
    "import time\n",
    "\n",
    "import jax\n",
    "import jax.numpy as jnp\n",
    "import rod\n",
    "from rod.builder.primitives import SphereBuilder\n",
    "\n",
    "from jaxsim import logging\n",
    "\n",
    "logging.set_logging_level(logging.LoggingLevel.INFO)\n",
    "logging.info(f\"Running on {jax.devices()}\")"
   ]
  },
  {
   "cell_type": "markdown",
   "metadata": {},
   "source": [
    "We will use a simple sphere model to simulate a free-falling body. The spheres set will be composed of 9 spheres, each with a different position. The spheres will be simulated in parallel, and the simulation will be run for 3000 steps corresponding to 3 seconds of simulation.\n",
    "\n",
    "**Note**: Parallel simulations are independent of each other, the different position is imposed only to show the parallelization visually."
   ]
  },
  {
   "cell_type": "code",
   "execution_count": null,
   "metadata": {},
   "outputs": [],
   "source": [
    "# @title Create a sphere model\n",
    "model_sdf_string = rod.Sdf(\n",
    "    version=\"1.7\",\n",
    "    model=SphereBuilder(radius=0.10, mass=1.0, name=\"sphere\")\n",
    "    .build_model()\n",
    "    .add_link()\n",
    "    .add_inertial()\n",
    "    .add_visual()\n",
    "    .add_collision()\n",
    "    .build(),\n",
    ").serialize(pretty=True)"
   ]
  },
  {
   "cell_type": "markdown",
   "metadata": {},
   "source": [
    "JAXsim offers a simple functional API in order to interact in a memory-efficient way with the simulation. Four main elements are used to define a simulation:\n",
    "\n",
    "- `model`: an object that defines the dynamics of the system.\n",
    "- `data`: an object that contains the state of the system.\n",
    "- `integrator`: an object that defines the integration method.\n",
    "- `integrator_state`: an object that contains the state of the integrator."
   ]
  },
  {
   "cell_type": "code",
   "execution_count": null,
   "metadata": {},
   "outputs": [],
   "source": [
    "import jaxsim.api as js\n",
    "from jaxsim import integrators\n",
    "\n",
    "dt = 0.001\n",
    "integration_time = 1.5  # seconds\n",
    "\n",
    "model = js.model.JaxSimModel.build_from_model_description(\n",
    "    model_description=model_sdf_string\n",
    ")\n",
    "data = js.data.JaxSimModelData.build(model=model)\n",
    "integrator = integrators.fixed_step.RungeKutta4SO3.build(\n",
    "    dynamics=js.ode.wrap_system_dynamics_for_integration(\n",
    "        model=model,\n",
    "        data=data,\n",
    "        system_dynamics=js.ode.system_dynamics,\n",
    "    ),\n",
    ")\n",
    "integrator_state = integrator.init(x0=data.state, t0=0.0, dt=dt)"
   ]
  },
  {
   "cell_type": "markdown",
   "metadata": {},
   "source": [
    "It is possible to automatically choose a good set of parameters for the terrain. \n",
    "\n",
    "By default, in JaxSim a sphere primitive has 250 collision points. This can be modified by setting the `JAXSIM_COLLISION_SPHERE_POINTS` environment variable.\n",
    "\n",
    "Given that at its steady-state the sphere will act on two or three points, we can estimate the ground parameters by explicitly setting the number of active points to these values. \n",
    "\n",
    "Eventually, you can specify the maximum penetration depth of the sphere into the terrain by passing `max_penetraion` to the `estimate_good_soft_contacts_parameters` function."
   ]
  },
  {
   "cell_type": "code",
   "execution_count": null,
   "metadata": {},
   "outputs": [],
   "source": [
    "data = data.replace(\n",
    "    contacts_params=js.contact.estimate_good_soft_contacts_parameters(\n",
    "        model=model,\n",
    "        number_of_active_collidable_points_steady_state=3,\n",
    "        max_penetration=None,\n",
    "    )\n",
    ")"
   ]
  },
  {
   "cell_type": "markdown",
   "metadata": {},
   "source": [
    "Let's create a position vector for a 4x4 grid. Every sphere will be placed at a different height."
   ]
  },
  {
   "cell_type": "code",
   "execution_count": null,
   "metadata": {},
   "outputs": [],
   "source": [
    "# Primary Calculations\n",
    "envs_per_row = 4  # @slider(2, 10, 1)\n",
    "\n",
    "env_spacing = 0.5\n",
    "edge_len = env_spacing * (2 * envs_per_row - 1)\n",
    "\n",
    "\n",
    "# Create Grid\n",
    "def grid(edge_len, envs_per_row):\n",
    "    edge = jnp.linspace(-edge_len, edge_len, envs_per_row)\n",
    "    xx, yy = jnp.meshgrid(edge, edge)\n",
    "    zz = 0.2 + 0.1 * (\n",
    "        jnp.arange(envs_per_row**2) % envs_per_row\n",
    "        + jnp.arange(envs_per_row**2) // envs_per_row\n",
    "    )\n",
    "    zz = zz.reshape(envs_per_row, envs_per_row)\n",
    "    poses = jnp.stack([xx, yy, zz], axis=-1).reshape(envs_per_row**2, 3)\n",
    "    return poses\n",
    "\n",
    "\n",
    "logging.info(f\"Simulating {envs_per_row**2} environments\")\n",
    "poses = grid(edge_len, envs_per_row)"
   ]
  },
  {
   "cell_type": "markdown",
   "metadata": {},
   "source": [
    "In order to parallelize the simulation, we first need to define a function `simulate` for a single element of the batch."
   ]
  },
  {
   "cell_type": "code",
   "execution_count": null,
   "metadata": {},
   "outputs": [],
   "source": [
    "# Define a function to simulate a single model instance\n",
    "def simulate(\n",
    "    data: js.data.JaxSimModelData, integrator_state: dict, pose: jnp.array\n",
    ") -> tuple:\n",
    "    # Set the base position to the initial pose\n",
    "    data = data.reset_base_position(base_position=pose)\n",
    "\n",
    "    # Create a list to store the base position over time\n",
    "    x_t_i = []\n",
    "\n",
    "    for _ in range(int(integration_time // dt)):\n",
    "        data, integrator_state = js.model.step(\n",
    "            dt=dt,\n",
    "            model=model,\n",
    "            data=data,\n",
    "            integrator=integrator,\n",
    "            integrator_state=integrator_state,\n",
    "            joint_force_references=None,\n",
    "            link_forces=None,\n",
    "        )\n",
    "        x_t_i.append(data.base_position())\n",
    "\n",
    "    return x_t_i"
   ]
  },
  {
   "cell_type": "markdown",
   "metadata": {},
   "source": [
    "We will make use of `jax.vmap` to simulate multiple models in parallel. This is a very powerful feature of JAX that allows to write code that is very similar to the single-model case, but can be executed in parallel on multiple models.\n",
    "In order to do so, we need to first apply `jax.vmap` to the `simulate` function, and then call the resulting function with the batch of different poses as input.\n",
    "\n",
    "Note that in our case we are vectorizing over the `pose` argument of the function `simulate`, this correspond to the value assigned to the `in_axes` parameter of `jax.vmap`:\n",
    "\n",
    "`in_axes=(None, None, 0)` means that the first two arguments of `simulate` are not vectorized, while the third argument is vectorized over the zero-th dimension."
   ]
  },
  {
   "cell_type": "code",
   "execution_count": null,
   "metadata": {},
   "outputs": [],
   "source": [
    "# Define a function to simulate multiple model instances\n",
    "simulate_vectorized = jax.vmap(simulate, in_axes=(None, None, 0))\n",
    "\n",
    "# Run and time the simulation\n",
    "now = time.perf_counter()\n",
    "\n",
    "x_t = simulate_vectorized(data, integrator_state, poses)\n",
    "\n",
    "comp_time = time.perf_counter() - now\n",
    "\n",
    "logging.info(\n",
    "    f\"Running simulation with {envs_per_row**2} models took {comp_time} seconds.\"\n",
    ")\n",
    "logging.info(\n",
    "    f\"This corresponds to an RTF (Real Time Factor) of {(envs_per_row**2 * integration_time / comp_time):.2f}\"\n",
    ")"
   ]
  },
  {
   "cell_type": "markdown",
   "metadata": {},
   "source": [
    "Now let's extract the data from the simulation and plot it. We expect to see the height time series of each sphere starting from a different value."
   ]
  },
  {
   "cell_type": "code",
   "execution_count": null,
   "metadata": {},
   "outputs": [],
   "source": [
    "import matplotlib.pyplot as plt\n",
    "import numpy as np\n",
    "\n",
    "plt.plot(np.arange(len(x_t)) * dt, np.array(x_t)[:, :, 2])\n",
    "plt.grid(True)\n",
    "plt.xlabel(\"Time [s]\")\n",
    "plt.ylabel(\"Height [m]\")\n",
    "plt.title(\"Trajectory of the model's base\")\n",
    "plt.show()"
   ]
  }
 ],
 "metadata": {
  "accelerator": "GPU",
  "colab": {
   "gpuClass": "premium",
   "gpuType": "V100",
   "private_outputs": true,
   "provenance": [
    {
     "file_id": "1QsuS7EJhdPEHxxAu9XwozvA7eb4ZnlAb",
     "timestamp": 1701993737024
    }
   ],
   "toc_visible": true
  },
  "kernelspec": {
   "display_name": "Python 3 (ipykernel)",
   "language": "python",
   "name": "python3"
  },
  "language_info": {
   "codemirror_mode": {
    "name": "ipython",
    "version": 3
   },
   "file_extension": ".py",
   "mimetype": "text/x-python",
   "name": "python",
   "nbconvert_exporter": "python",
   "pygments_lexer": "ipython3",
   "version": "3.11.8"
  }
 },
 "nbformat": 4,
 "nbformat_minor": 4
}
