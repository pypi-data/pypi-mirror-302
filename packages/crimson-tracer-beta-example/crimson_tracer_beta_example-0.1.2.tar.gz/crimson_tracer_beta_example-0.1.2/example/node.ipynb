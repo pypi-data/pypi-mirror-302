{
 "cells": [
  {
   "cell_type": "markdown",
   "metadata": {},
   "source": [
    "## Summary\n",
    "\n",
    "Convert the traced result into a tree if you want a nested structure."
   ]
  },
  {
   "cell_type": "markdown",
   "metadata": {},
   "source": [
    "# Body\n"
   ]
  },
  {
   "cell_type": "markdown",
   "metadata": {},
   "source": [
    "You can check the code of `script` in the link:\n",
    "\n",
    "[script.py](./script.py)\n"
   ]
  },
  {
   "cell_type": "code",
   "execution_count": 1,
   "metadata": {},
   "outputs": [],
   "source": [
    "from script import lvl1\n",
    "from inspect import getsource\n",
    "from crimson.tracer_beta import TraceManager\n"
   ]
  },
  {
   "cell_type": "markdown",
   "metadata": {},
   "source": [
    "## Node\n",
    "\n",
    "If you want to get the structured data from the `trace_result`,\n",
    "you can use `generate_trace_tree`.\n"
   ]
  },
  {
   "cell_type": "code",
   "execution_count": 2,
   "metadata": {},
   "outputs": [],
   "source": [
    "from crimson.tracer_beta import generate_trace_tree, TraceNode, NodeBody\n"
   ]
  },
  {
   "cell_type": "code",
   "execution_count": 3,
   "metadata": {},
   "outputs": [
    {
     "name": "stdout",
     "output_type": "stream",
     "text": [
      "class TraceNode(UniqueNode['TraceNode']):\n",
      "    def __init__(\n",
      "        self,\n",
      "        name,\n",
      "        body: NodeBody | None = None,\n",
      "        parent: \"TraceNode\" = None,\n",
      "        children: List[\"TraceNode\"] = None,\n",
      "        **kwargs_dummy,\n",
      "    ):\n",
      "        super().__init__(name, parent, children)\n",
      "        self.body = body\n",
      "\n",
      "    def to_dict(self):\n",
      "        result = {\n",
      "            \"type\": \"root\" if self.is_root else \"node\",\n",
      "            \"name\": self.name,\n",
      "            \"children\": [child.to_dict() for child in self.children],\n",
      "        }\n",
      "\n",
      "        if self.body:\n",
      "            result[\"body\"] = asdict(self.body)\n",
      "\n",
      "        return result\n",
      "\n"
     ]
    }
   ],
   "source": [
    "print(getsource(TraceNode))"
   ]
  },
  {
   "cell_type": "code",
   "execution_count": 4,
   "metadata": {},
   "outputs": [
    {
     "name": "stdout",
     "output_type": "stream",
     "text": [
      "@dataclass\n",
      "class NodeBody:\n",
      "    function: str\n",
      "    level: int\n",
      "    filename: str\n",
      "    lineno: int\n",
      "    args: Dict[str, Any]\n",
      "    return_lineno: int | None = None\n",
      "    return_value: Any = None\n",
      "    called_filename: str | None = None\n",
      "    called_lineno: int | None = None\n",
      "\n"
     ]
    }
   ],
   "source": [
    "print(getsource(NodeBody))"
   ]
  },
  {
   "cell_type": "code",
   "execution_count": 5,
   "metadata": {},
   "outputs": [],
   "source": [
    "TraceManager.run_trace(lvl1)\n",
    "trace_result = TraceManager.get_trace('lvl1', custom_type=int)\n",
    "root = generate_trace_tree(trace_result)"
   ]
  },
  {
   "cell_type": "code",
   "execution_count": 6,
   "metadata": {},
   "outputs": [
    {
     "data": {
      "text/plain": [
       "{'type': 'root',\n",
       " 'name': 'root',\n",
       " 'children': [{'type': 'node',\n",
       "   'name': 'lvl1_4',\n",
       "   'children': [{'type': 'node',\n",
       "     'name': '__init___74',\n",
       "     'children': [{'type': 'node',\n",
       "       'name': 'parent_123',\n",
       "       'children': [],\n",
       "       'body': {'function': 'parent',\n",
       "        'level': 2,\n",
       "        'filename': '/home/crimson/miniconda3/envs/tracer-beta/lib/python3.12/site-packages/anytree/node/nodemixin.py',\n",
       "        'lineno': 123,\n",
       "        'args': {'self': Node('/root'), 'value': None},\n",
       "        'return_lineno': 132,\n",
       "        'return_value': None,\n",
       "        'called_filename': '/home/crimson/miniconda3/envs/tracer-beta/lib/python3.12/site-packages/anytree/node/node.py',\n",
       "        'called_lineno': 77}}],\n",
       "     'body': {'function': '__init__',\n",
       "      'level': 1,\n",
       "      'filename': '/home/crimson/miniconda3/envs/tracer-beta/lib/python3.12/site-packages/anytree/node/node.py',\n",
       "      'lineno': 74,\n",
       "      'args': {'self': Node('/root'),\n",
       "       'name': 'root',\n",
       "       'parent': None,\n",
       "       'children': None,\n",
       "       'kwargs': {}},\n",
       "      'return_lineno': 78,\n",
       "      'return_value': None,\n",
       "      'called_filename': '/home/crimson/manager/crimson/tracer/example/script.py',\n",
       "      'called_lineno': 9}},\n",
       "    {'type': 'node',\n",
       "     'name': 'lvl2_1_21',\n",
       "     'children': [],\n",
       "     'body': {'function': 'lvl2_1',\n",
       "      'level': 1,\n",
       "      'filename': '/home/crimson/manager/crimson/tracer/example/script.py',\n",
       "      'lineno': 21,\n",
       "      'args': {},\n",
       "      'return_lineno': 27,\n",
       "      'return_value': 1,\n",
       "      'called_filename': '/home/crimson/manager/crimson/tracer/example/script.py',\n",
       "      'called_lineno': 11}},\n",
       "    {'type': 'node',\n",
       "     'name': 'lvl2_2_30',\n",
       "     'children': [{'type': 'node',\n",
       "       'name': 'lvl3_40',\n",
       "       'children': [],\n",
       "       'body': {'function': 'lvl3',\n",
       "        'level': 2,\n",
       "        'filename': '/home/crimson/manager/crimson/tracer/example/script.py',\n",
       "        'lineno': 40,\n",
       "        'args': {'name': 'lvl2_2'},\n",
       "        'return_lineno': 41,\n",
       "        'return_value': None,\n",
       "        'called_filename': '/home/crimson/manager/crimson/tracer/example/script.py',\n",
       "        'called_lineno': 34}}],\n",
       "     'body': {'function': 'lvl2_2',\n",
       "      'level': 1,\n",
       "      'filename': '/home/crimson/manager/crimson/tracer/example/script.py',\n",
       "      'lineno': 30,\n",
       "      'args': {},\n",
       "      'return_lineno': 37,\n",
       "      'return_value': 'return value with variable',\n",
       "      'called_filename': '/home/crimson/manager/crimson/tracer/example/script.py',\n",
       "      'called_lineno': 16}},\n",
       "    {'type': 'node',\n",
       "     'name': 'lvl3_40',\n",
       "     'children': [],\n",
       "     'body': {'function': 'lvl3',\n",
       "      'level': 1,\n",
       "      'filename': '/home/crimson/manager/crimson/tracer/example/script.py',\n",
       "      'lineno': 40,\n",
       "      'args': {'name': 'root'},\n",
       "      'return_lineno': 41,\n",
       "      'return_value': None,\n",
       "      'called_filename': '/home/crimson/manager/crimson/tracer/example/script.py',\n",
       "      'called_lineno': 18}}],\n",
       "   'body': {'function': 'lvl1',\n",
       "    'level': 0,\n",
       "    'filename': '/home/crimson/manager/crimson/tracer/example/script.py',\n",
       "    'lineno': 4,\n",
       "    'args': {},\n",
       "    'return_lineno': 18,\n",
       "    'return_value': None,\n",
       "    'called_filename': None,\n",
       "    'called_lineno': None}}]}"
      ]
     },
     "execution_count": 6,
     "metadata": {},
     "output_type": "execute_result"
    }
   ],
   "source": [
    "root.to_dict()"
   ]
  },
  {
   "cell_type": "markdown",
   "metadata": {},
   "source": [
    "### Node Base\n",
    "\n",
    "For node, we use `crimson-anytree-extension`, and that is a patched version of `anytree` library.\n",
    "\n",
    "If you want to customize it, you can study `anytree` library, and `crimson-anytree-extension` as well if necessary.\n"
   ]
  }
 ],
 "metadata": {
  "kernelspec": {
   "display_name": "tracer-beta",
   "language": "python",
   "name": "python3"
  },
  "language_info": {
   "codemirror_mode": {
    "name": "ipython",
    "version": 3
   },
   "file_extension": ".py",
   "mimetype": "text/x-python",
   "name": "python",
   "nbconvert_exporter": "python",
   "pygments_lexer": "ipython3",
   "version": "3.12.7"
  }
 },
 "nbformat": 4,
 "nbformat_minor": 2
}
