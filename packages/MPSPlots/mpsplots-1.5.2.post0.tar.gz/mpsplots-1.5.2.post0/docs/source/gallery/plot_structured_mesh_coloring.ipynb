{
  "cells": [
    {
      "cell_type": "markdown",
      "metadata": {},
      "source": [
        "\n# 3D Unstructured mesh & coloring\n"
      ]
    },
    {
      "cell_type": "markdown",
      "metadata": {},
      "source": [
        "Importing the script dependencies\n\n"
      ]
    },
    {
      "cell_type": "code",
      "execution_count": null,
      "metadata": {
        "collapsed": false
      },
      "outputs": [],
      "source": [
        "import numpy\nfrom MPSPlots.render3D import SceneList"
      ]
    },
    {
      "cell_type": "markdown",
      "metadata": {},
      "source": [
        "Transform spherical to cartesian\n\n"
      ]
    },
    {
      "cell_type": "code",
      "execution_count": null,
      "metadata": {
        "collapsed": false
      },
      "outputs": [],
      "source": [
        "def spherical_to_cartesian(phi: numpy.ndarray, theta: numpy.ndarray, r: numpy.ndarray = None) -> tuple:\n    phi = numpy.asarray(phi)\n    theta = numpy.asarray(theta)\n    r = r if r is not None else numpy.ones(phi.shape)\n\n    x = r * numpy.cos(phi) * numpy.cos(theta)\n    y = r * numpy.cos(phi) * numpy.sin(theta)\n    z = r * numpy.sin(phi)\n    return x, y, z"
      ]
    },
    {
      "cell_type": "markdown",
      "metadata": {},
      "source": [
        "Define data\n\n"
      ]
    },
    {
      "cell_type": "code",
      "execution_count": null,
      "metadata": {
        "collapsed": false
      },
      "outputs": [],
      "source": [
        "x = y = z = numpy.linspace(-100, 100, 100)\n\ntheta = numpy.linspace(0, 360, 100)\nphi = numpy.linspace(-90, 90, 100)\n\ntheta = numpy.deg2rad(theta)\nphi = numpy.deg2rad(phi)\n\nphi, theta = numpy.meshgrid(phi, theta)"
      ]
    },
    {
      "cell_type": "markdown",
      "metadata": {},
      "source": [
        "Creating the Scene\n\n"
      ]
    },
    {
      "cell_type": "code",
      "execution_count": null,
      "metadata": {
        "collapsed": false
      },
      "outputs": [],
      "source": [
        "scene = SceneList(unit_size=(800, 800))\nax = scene.append_ax()\nax.add_unit_sphere(opacity=0.1)\nax.add_unit_axis()\n\nscalar = (numpy.cos(phi))**2\n\nx, y, z = spherical_to_cartesian(phi=phi, theta=theta, r=scalar)\n\nax.add_mesh(x=x, y=y, z=z, scalar_coloring=scalar, colormap='viridis')\n\n_ = scene.show()"
      ]
    }
  ],
  "metadata": {
    "kernelspec": {
      "display_name": "Python 3",
      "language": "python",
      "name": "python3"
    },
    "language_info": {
      "codemirror_mode": {
        "name": "ipython",
        "version": 3
      },
      "file_extension": ".py",
      "mimetype": "text/x-python",
      "name": "python",
      "nbconvert_exporter": "python",
      "pygments_lexer": "ipython3",
      "version": "3.11.0"
    }
  },
  "nbformat": 4,
  "nbformat_minor": 0
}