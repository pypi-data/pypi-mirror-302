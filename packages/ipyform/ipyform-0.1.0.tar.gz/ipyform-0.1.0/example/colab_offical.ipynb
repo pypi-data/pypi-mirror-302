{
 "cells": [
  {
   "cell_type": "markdown",
   "metadata": {},
   "source": [
    "**Offical introduction** from colab team\n",
    "\n",
    "https://colab.research.google.com/notebooks/forms.ipynb\n",
    "\n",
    "The ONLY MODIFICATION is the following cell\n"
   ]
  },
  {
   "cell_type": "code",
   "execution_count": 10,
   "metadata": {},
   "outputs": [
    {
     "name": "stdout",
     "output_type": "stream",
     "text": [
      "The ipyform extension is already loaded. To reload it, use:\n",
      "  %reload_ext ipyform\n"
     ]
    }
   ],
   "source": [
    "%load_ext ipyform\n",
    "%form_config --auto-detect 1"
   ]
  },
  {
   "cell_type": "markdown",
   "metadata": {
    "id": "_7gRpQLXQSID"
   },
   "source": [
    "# Forms\n",
    "\n",
    "Forms provide an easy way to parameterize code. From a code cell, select **Insert → Add form field**. When you change the value in a form, the corresponding value in the code will change.\n"
   ]
  },
  {
   "cell_type": "code",
   "execution_count": 11,
   "metadata": {
    "id": "3jKM6GfzlgpS"
   },
   "outputs": [
    {
     "data": {
      "application/vnd.jupyter.widget-view+json": {
       "model_id": "c78fc99d597e4f1d9936bb3e71b3057e",
       "version_major": 2,
       "version_minor": 0
      },
      "text/plain": [
       "FormWidget(children=(VBox(children=(HTML(value='<button onClick=\"code_toggle(\\'a6eb7f550\\')\" id=\"a6eb7f550\">Hi…"
      ]
     },
     "metadata": {},
     "output_type": "display_data"
    }
   ],
   "source": [
    "# @title String fields\n",
    "\n",
    "text = \"value\"  # @param {type:\"string\"}\n",
    "dropdown = \"1st option\"  # @param [\"1st option\", \"2nd option\", \"3rd option\"]\n",
    "text_and_dropdown = \"value\"  # @param [\"1st option\", \"2nd option\", \"3rd option\"] {allow-input: true}\n",
    "text_with_placeholder = \"\"  # @param {type:\"string\", placeholder:\"enter a value\"}\n",
    "\n",
    "print(text)\n",
    "print(dropdown)\n",
    "print(text_and_dropdown)\n",
    "print(text_with_placeholder)"
   ]
  },
  {
   "cell_type": "code",
   "execution_count": 12,
   "metadata": {
    "id": "bf5LUmgZt-kT"
   },
   "outputs": [
    {
     "data": {
      "application/vnd.jupyter.widget-view+json": {
       "model_id": "4a5f1501f331442da8cfd7a26187f972",
       "version_major": 2,
       "version_minor": 0
      },
      "text/plain": [
       "FormWidget(children=(VBox(children=(HTML(value='<button onClick=\"code_toggle(\\'a6ebe31b8\\')\" id=\"a6ebe31b8\">Hi…"
      ]
     },
     "metadata": {},
     "output_type": "display_data"
    }
   ],
   "source": [
    "# @title Raw fields\n",
    "\n",
    "raw_input = None  # @param {type:\"raw\"}\n",
    "raw_dropdown = raw_input  # @param [1, \"raw_input\", \"False\", \"'string'\"] {type:\"raw\"}\n",
    "raw_with_placeholder = None  # @param {type:\"raw\", placeholder:\"enter a value\"}\n",
    "\n",
    "print(raw_input)\n",
    "print(raw_dropdown)\n",
    "print(raw_with_placeholder)"
   ]
  },
  {
   "cell_type": "code",
   "execution_count": 13,
   "metadata": {
    "id": "aw5lgeRbubeF"
   },
   "outputs": [
    {
     "data": {
      "application/vnd.jupyter.widget-view+json": {
       "model_id": "fd641ecedd8e49bab3d494ddcc0e680c",
       "version_major": 2,
       "version_minor": 0
      },
      "text/plain": [
       "FormWidget(children=(VBox(children=(HTML(value='<button onClick=\"code_toggle(\\'a6ebffe3a\\')\" id=\"a6ebffe3a\">Hi…"
      ]
     },
     "metadata": {},
     "output_type": "display_data"
    }
   ],
   "source": [
    "# @title Date fields\n",
    "date_input = \"2018-03-22\"  # @param {type:\"date\"}\n",
    "\n",
    "print(date_input)"
   ]
  },
  {
   "cell_type": "code",
   "execution_count": 14,
   "metadata": {
    "id": "eFN7-fUKs-Bu"
   },
   "outputs": [
    {
     "data": {
      "application/vnd.jupyter.widget-view+json": {
       "model_id": "0668c1ee3e9b4e778ea0912f38531e87",
       "version_major": 2,
       "version_minor": 0
      },
      "text/plain": [
       "FormWidget(children=(VBox(children=(HTML(value='<button onClick=\"code_toggle(\\'a6ec265b2\\')\" id=\"a6ec265b2\">Hi…"
      ]
     },
     "metadata": {},
     "output_type": "display_data"
    }
   ],
   "source": [
    "# @title Number fields\n",
    "number_input = 10.0  # @param {type:\"number\"}\n",
    "number_slider = 0  # @param {type:\"slider\", min:-1, max:1, step:0.1}\n",
    "\n",
    "integer_input = 10  # @param {type:\"integer\"}\n",
    "integer_slider = 1  # @param {type:\"slider\", min:0, max:100, step:1}\n",
    "\n",
    "print(number_input)\n",
    "print(number_slider)\n",
    "\n",
    "print(integer_input)\n",
    "print(integer_slider)"
   ]
  },
  {
   "cell_type": "code",
   "execution_count": 15,
   "metadata": {
    "id": "ig8PIYeLtM8g"
   },
   "outputs": [
    {
     "data": {
      "application/vnd.jupyter.widget-view+json": {
       "model_id": "7adb66c057db49158abcdf790d4edaf5",
       "version_major": 2,
       "version_minor": 0
      },
      "text/plain": [
       "FormWidget(children=(VBox(children=(HTML(value='<button onClick=\"code_toggle(\\'a6ec4165a\\')\" id=\"a6ec4165a\">Hi…"
      ]
     },
     "metadata": {},
     "output_type": "display_data"
    }
   ],
   "source": [
    "# @title Boolean fields\n",
    "boolean_checkbox = True  # @param {type:\"boolean\"}\n",
    "boolean_dropdown = True  # @param [\"False\", \"True\"] {type:\"raw\"}\n",
    "\n",
    "print(boolean_checkbox)\n",
    "print(boolean_dropdown)"
   ]
  },
  {
   "cell_type": "code",
   "execution_count": 16,
   "metadata": {
    "id": "ZCEBZPwUDGOg"
   },
   "outputs": [
    {
     "data": {
      "application/vnd.jupyter.widget-view+json": {
       "model_id": "f91334ffb4de41d4b729e0438da8ad7f",
       "version_major": 2,
       "version_minor": 0
      },
      "text/plain": [
       "FormWidget(children=(VBox(children=(HTML(value='<button onClick=\"code_toggle(\\'a6ec5c7ca\\')\" id=\"a6ec5c7ca\">Hi…"
      ]
     },
     "metadata": {},
     "output_type": "display_data"
    }
   ],
   "source": [
    "# @title ## Markdown\n",
    "# @markdown You can also include Markdown in forms.\n",
    "\n",
    "# @markdown ---\n",
    "# @markdown ### Enter a file path:\n",
    "file_path = \"\"  # @param {type:\"string\"}\n",
    "# @markdown ---\n"
   ]
  },
  {
   "cell_type": "markdown",
   "metadata": {
    "id": "hVEG5D5TxFKW"
   },
   "source": [
    "# Hiding code\n",
    "\n",
    "You can change the view of the form by selecting **View → Show/hide code** or using the toolbar above the selected code cell. You can see both code and the form, just the form, or just the code.\n"
   ]
  },
  {
   "cell_type": "code",
   "execution_count": 17,
   "metadata": {
    "id": "ad-fjFOQxoFG"
   },
   "outputs": [
    {
     "data": {
      "text/html": [
       "<script>setTimeout(function() { code_toggle('a6ec814da') }, 1000);</script>"
      ],
      "text/plain": [
       "<IPython.core.display.HTML object>"
      ]
     },
     "metadata": {},
     "output_type": "display_data"
    },
    {
     "data": {
      "application/vnd.jupyter.widget-view+json": {
       "model_id": "ea39face35d64e8aa062ea39a9849862",
       "version_major": 2,
       "version_minor": 0
      },
      "text/plain": [
       "FormWidget(children=(VBox(children=(HTML(value='<button onClick=\"code_toggle(\\'a6ec814da\\')\" id=\"a6ec814da\">Hi…"
      ]
     },
     "metadata": {},
     "output_type": "display_data"
    }
   ],
   "source": [
    "# @title Click `Show code` in the code cell. { display-mode: \"form\" }\n",
    "\n",
    "option1 = \"A\"  # @param [\"A\", \"B\", \"C\"]\n",
    "print(\"You selected\", option1)\n"
   ]
  },
  {
   "cell_type": "code",
   "execution_count": 18,
   "metadata": {
    "id": "h9aZYKhly2h_"
   },
   "outputs": [
    {
     "data": {
      "application/vnd.jupyter.widget-view+json": {
       "model_id": "5f2021c503984f2d9d2e61885e53d2ee",
       "version_major": 2,
       "version_minor": 0
      },
      "text/plain": [
       "FormWidget(children=(VBox(children=(HTML(value='<button onClick=\"code_toggle(\\'a6ec9fd68\\')\" id=\"a6ec9fd68\">Hi…"
      ]
     },
     "metadata": {},
     "output_type": "display_data"
    }
   ],
   "source": [
    "# @title After running this cell manually, it will auto-run if you change the selected value. { run: \"auto\" }\n",
    "\n",
    "option2 = \"A\"  # @param [\"A\", \"B\", \"C\"]\n",
    "print(\"You selected\", option2)\n"
   ]
  },
  {
   "cell_type": "code",
   "execution_count": null,
   "metadata": {},
   "outputs": [],
   "source": []
  },
  {
   "cell_type": "code",
   "execution_count": null,
   "metadata": {},
   "outputs": [],
   "source": []
  },
  {
   "cell_type": "code",
   "execution_count": null,
   "metadata": {},
   "outputs": [],
   "source": []
  },
  {
   "cell_type": "code",
   "execution_count": null,
   "metadata": {},
   "outputs": [],
   "source": []
  }
 ],
 "metadata": {
  "colab": {
   "name": "Forms",
   "provenance": [],
   "toc_visible": true
  },
  "kernelspec": {
   "display_name": "Python 3 (ipykernel)",
   "language": "python",
   "name": "python3"
  },
  "language_info": {
   "codemirror_mode": {
    "name": "ipython",
    "version": 3
   },
   "file_extension": ".py",
   "mimetype": "text/x-python",
   "name": "python",
   "nbconvert_exporter": "python",
   "pygments_lexer": "ipython3",
   "version": "3.9.6"
  }
 },
 "nbformat": 4,
 "nbformat_minor": 4
}
