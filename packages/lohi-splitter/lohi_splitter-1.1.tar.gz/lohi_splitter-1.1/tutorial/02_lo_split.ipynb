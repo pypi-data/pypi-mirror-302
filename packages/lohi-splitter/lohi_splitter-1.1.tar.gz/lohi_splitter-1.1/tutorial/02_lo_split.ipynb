{
 "cells": [
  {
   "cell_type": "markdown",
   "metadata": {},
   "source": [
    "# Lo Split\n",
    "A five-minute tutorial."
   ]
  },
  {
   "cell_type": "code",
   "execution_count": 1,
   "metadata": {},
   "outputs": [],
   "source": [
    "import pandas as pd\n",
    "import numpy as np\n",
    "import matplotlib.pyplot as plt \n",
    "from tqdm import tqdm\n",
    "from matplotlib_venn import venn3\n",
    "\n",
    "import lohi_splitter as lohi"
   ]
  },
  {
   "cell_type": "code",
   "execution_count": 2,
   "metadata": {},
   "outputs": [
    {
     "data": {
      "text/html": [
       "<div>\n",
       "<style scoped>\n",
       "    .dataframe tbody tr th:only-of-type {\n",
       "        vertical-align: middle;\n",
       "    }\n",
       "\n",
       "    .dataframe tbody tr th {\n",
       "        vertical-align: top;\n",
       "    }\n",
       "\n",
       "    .dataframe thead th {\n",
       "        text-align: right;\n",
       "    }\n",
       "</style>\n",
       "<table border=\"1\" class=\"dataframe\">\n",
       "  <thead>\n",
       "    <tr style=\"text-align: right;\">\n",
       "      <th></th>\n",
       "      <th>smiles</th>\n",
       "      <th>value</th>\n",
       "    </tr>\n",
       "  </thead>\n",
       "  <tbody>\n",
       "    <tr>\n",
       "      <th>0</th>\n",
       "      <td>Brc1ccc(-[n+]2cc[n+](Cc3ccccc3)cc2)c2cc[nH]c12</td>\n",
       "      <td>7.717691</td>\n",
       "    </tr>\n",
       "    <tr>\n",
       "      <th>1</th>\n",
       "      <td>Brc1ccc(CNCCN2CCN(Cc3cc4ccccc4[nH]3)CC2)cc1</td>\n",
       "      <td>5.283913</td>\n",
       "    </tr>\n",
       "    <tr>\n",
       "      <th>2</th>\n",
       "      <td>Brc1ccc(N2CCN(Cc3ccccc3)CC2)c2cc[nH]c12</td>\n",
       "      <td>7.437357</td>\n",
       "    </tr>\n",
       "    <tr>\n",
       "      <th>3</th>\n",
       "      <td>Brc1ccc(NCCN2CCN(CCc3c[nH]c4ccccc34)CC2)cc1</td>\n",
       "      <td>7.288705</td>\n",
       "    </tr>\n",
       "    <tr>\n",
       "      <th>4</th>\n",
       "      <td>Brc1ccc(NCCN2CCN(Cc3cc4ccccc4[nH]3)CC2)cc1</td>\n",
       "      <td>6.035740</td>\n",
       "    </tr>\n",
       "    <tr>\n",
       "      <th>...</th>\n",
       "      <td>...</td>\n",
       "      <td>...</td>\n",
       "    </tr>\n",
       "    <tr>\n",
       "      <th>5414</th>\n",
       "      <td>c1cnc(N2CCN(CCCOc3ccc(-c4nc5ccccc5[nH]4)cc3)CC...</td>\n",
       "      <td>6.568636</td>\n",
       "    </tr>\n",
       "    <tr>\n",
       "      <th>5415</th>\n",
       "      <td>c1cnc(N2CCN(CCCOc3ccc(-c4nc5ccccc5o4)cc3)CC2)nc1</td>\n",
       "      <td>6.701147</td>\n",
       "    </tr>\n",
       "    <tr>\n",
       "      <th>5416</th>\n",
       "      <td>c1cnc(N2CCN(CCCSc3nc4ccccc4s3)CC2)nc1</td>\n",
       "      <td>6.273273</td>\n",
       "    </tr>\n",
       "    <tr>\n",
       "      <th>5417</th>\n",
       "      <td>c1cnc(N2CCN(Cc3c[nH]c4ncccc34)CC2)nc1</td>\n",
       "      <td>5.931443</td>\n",
       "    </tr>\n",
       "    <tr>\n",
       "      <th>5418</th>\n",
       "      <td>c1nc2c(s1)CCN(CCCCN1CCc3ncsc3CC1)CC2</td>\n",
       "      <td>5.199931</td>\n",
       "    </tr>\n",
       "  </tbody>\n",
       "</table>\n",
       "<p>5419 rows × 2 columns</p>\n",
       "</div>"
      ],
      "text/plain": [
       "                                                 smiles     value\n",
       "0        Brc1ccc(-[n+]2cc[n+](Cc3ccccc3)cc2)c2cc[nH]c12  7.717691\n",
       "1           Brc1ccc(CNCCN2CCN(Cc3cc4ccccc4[nH]3)CC2)cc1  5.283913\n",
       "2               Brc1ccc(N2CCN(Cc3ccccc3)CC2)c2cc[nH]c12  7.437357\n",
       "3           Brc1ccc(NCCN2CCN(CCc3c[nH]c4ccccc34)CC2)cc1  7.288705\n",
       "4            Brc1ccc(NCCN2CCN(Cc3cc4ccccc4[nH]3)CC2)cc1  6.035740\n",
       "...                                                 ...       ...\n",
       "5414  c1cnc(N2CCN(CCCOc3ccc(-c4nc5ccccc5[nH]4)cc3)CC...  6.568636\n",
       "5415   c1cnc(N2CCN(CCCOc3ccc(-c4nc5ccccc5o4)cc3)CC2)nc1  6.701147\n",
       "5416              c1cnc(N2CCN(CCCSc3nc4ccccc4s3)CC2)nc1  6.273273\n",
       "5417              c1cnc(N2CCN(Cc3c[nH]c4ncccc34)CC2)nc1  5.931443\n",
       "5418               c1nc2c(s1)CCN(CCCCN1CCc3ncsc3CC1)CC2  5.199931\n",
       "\n",
       "[5419 rows x 2 columns]"
      ]
     },
     "execution_count": 2,
     "metadata": {},
     "output_type": "execute_result"
    }
   ],
   "source": [
    "# Load Ki values for DRD2\n",
    "drd2 = pd.read_csv('data/drd2_lo.csv', index_col=0)\n",
    "drd2"
   ]
  },
  {
   "cell_type": "markdown",
   "metadata": {},
   "source": [
    "# Lo, Train-Test\n",
    "There are works (especially in molecular generation) that assume their predictive models can distinguish minor modifications of molecules. \"Lo\" (Lead Optimization) is a split designed to simulate that scenario. It divides a dataset into two parts: test clusters and train. The test clusters consist of similar molecules, and one of those molecules is placed in the training set to imitate a known hit.\n",
    "\n",
    "Furthermore, the properties of molecules are measured with noise. We want to test if a predictive model can rank molecules within a cluster, but it doesn't make sense to test it in clusters where variability is dominated by measurement noise. Thus, the Lo splitter selects clusters with significant variability in properties."
   ]
  },
  {
   "cell_type": "code",
   "execution_count": 4,
   "metadata": {},
   "outputs": [],
   "source": [
    "smiles = drd2['smiles'].to_list()\n",
    "values = drd2['value'].to_list()\n",
    "\n",
    "# Similarity threshold for clustering molecules.\n",
    "# Molecules are considered similar if their ECFP4 Tanimoto Similarity is larger than this threshold.\n",
    "threshold=0.4\n",
    "\n",
    "## The minimum number of molecules required in a cluster.\n",
    "min_cluster_size=5\n",
    "\n",
    "# Maximum number of clusters to be created. Any additional molecules are added to the training set.\n",
    "max_clusters=50\n",
    "\n",
    "# Minimum standard deviation of values within a cluster.\n",
    "# This ensures that clusters with too little variability are filtered out.\n",
    "# For further details, refer to Appendix B of the paper.\n",
    "std_threshold=0.60\n",
    "\n",
    "cluster_smiles, train_smiles = lohi.lo_train_test_split(smiles=smiles, \n",
    "                                                        threshold=threshold, \n",
    "                                                        min_cluster_size=min_cluster_size, \n",
    "                                                        max_clusters=max_clusters, \n",
    "                                                        values=values, \n",
    "                                                        std_threshold=std_threshold)\n"
   ]
  },
  {
   "cell_type": "code",
   "execution_count": 5,
   "metadata": {},
   "outputs": [
    {
     "data": {
      "text/html": [
       "<div>\n",
       "<style scoped>\n",
       "    .dataframe tbody tr th:only-of-type {\n",
       "        vertical-align: middle;\n",
       "    }\n",
       "\n",
       "    .dataframe tbody tr th {\n",
       "        vertical-align: top;\n",
       "    }\n",
       "\n",
       "    .dataframe thead th {\n",
       "        text-align: right;\n",
       "    }\n",
       "</style>\n",
       "<table border=\"1\" class=\"dataframe\">\n",
       "  <thead>\n",
       "    <tr style=\"text-align: right;\">\n",
       "      <th></th>\n",
       "      <th>smiles</th>\n",
       "      <th>value</th>\n",
       "      <th>cluster</th>\n",
       "    </tr>\n",
       "  </thead>\n",
       "  <tbody>\n",
       "    <tr>\n",
       "      <th>0</th>\n",
       "      <td>Brc1ccc(-[n+]2cc[n+](Cc3ccccc3)cc2)c2cc[nH]c12</td>\n",
       "      <td>7.717691</td>\n",
       "      <td>1</td>\n",
       "    </tr>\n",
       "    <tr>\n",
       "      <th>1</th>\n",
       "      <td>Brc1ccc(CNCCN2CCN(Cc3cc4ccccc4[nH]3)CC2)cc1</td>\n",
       "      <td>5.283913</td>\n",
       "      <td>0</td>\n",
       "    </tr>\n",
       "    <tr>\n",
       "      <th>2</th>\n",
       "      <td>Brc1ccc(N2CCN(Cc3ccccc3)CC2)c2cc[nH]c12</td>\n",
       "      <td>7.437357</td>\n",
       "      <td>0</td>\n",
       "    </tr>\n",
       "    <tr>\n",
       "      <th>4</th>\n",
       "      <td>Brc1ccc(NCCN2CCN(Cc3cc4ccccc4[nH]3)CC2)cc1</td>\n",
       "      <td>6.035740</td>\n",
       "      <td>47</td>\n",
       "    </tr>\n",
       "    <tr>\n",
       "      <th>7</th>\n",
       "      <td>C#CC1=CCC(N(CCC)CCC)CC1</td>\n",
       "      <td>6.583678</td>\n",
       "      <td>0</td>\n",
       "    </tr>\n",
       "    <tr>\n",
       "      <th>...</th>\n",
       "      <td>...</td>\n",
       "      <td>...</td>\n",
       "      <td>...</td>\n",
       "    </tr>\n",
       "    <tr>\n",
       "      <th>5409</th>\n",
       "      <td>c1ccc2c(c1)N=C(N1CCNCC1)c1ccccc1S2</td>\n",
       "      <td>7.420216</td>\n",
       "      <td>35</td>\n",
       "    </tr>\n",
       "    <tr>\n",
       "      <th>5410</th>\n",
       "      <td>c1ccc2oc(-c3ccc(OCCCN4CCN(c5nsc6ccccc56)CC4)cc...</td>\n",
       "      <td>6.055468</td>\n",
       "      <td>0</td>\n",
       "    </tr>\n",
       "    <tr>\n",
       "      <th>5413</th>\n",
       "      <td>c1cnc(N2CCN(CCCCc3nc4ccccc4s3)CC2)nc1</td>\n",
       "      <td>7.560667</td>\n",
       "      <td>37</td>\n",
       "    </tr>\n",
       "    <tr>\n",
       "      <th>5417</th>\n",
       "      <td>c1cnc(N2CCN(Cc3c[nH]c4ncccc34)CC2)nc1</td>\n",
       "      <td>5.931443</td>\n",
       "      <td>15</td>\n",
       "    </tr>\n",
       "    <tr>\n",
       "      <th>5418</th>\n",
       "      <td>c1nc2c(s1)CCN(CCCCN1CCc3ncsc3CC1)CC2</td>\n",
       "      <td>5.199931</td>\n",
       "      <td>0</td>\n",
       "    </tr>\n",
       "  </tbody>\n",
       "</table>\n",
       "<p>2368 rows × 3 columns</p>\n",
       "</div>"
      ],
      "text/plain": [
       "                                                 smiles     value  cluster\n",
       "0        Brc1ccc(-[n+]2cc[n+](Cc3ccccc3)cc2)c2cc[nH]c12  7.717691        1\n",
       "1           Brc1ccc(CNCCN2CCN(Cc3cc4ccccc4[nH]3)CC2)cc1  5.283913        0\n",
       "2               Brc1ccc(N2CCN(Cc3ccccc3)CC2)c2cc[nH]c12  7.437357        0\n",
       "4            Brc1ccc(NCCN2CCN(Cc3cc4ccccc4[nH]3)CC2)cc1  6.035740       47\n",
       "7                               C#CC1=CCC(N(CCC)CCC)CC1  6.583678        0\n",
       "...                                                 ...       ...      ...\n",
       "5409                 c1ccc2c(c1)N=C(N1CCNCC1)c1ccccc1S2  7.420216       35\n",
       "5410  c1ccc2oc(-c3ccc(OCCCN4CCN(c5nsc6ccccc56)CC4)cc...  6.055468        0\n",
       "5413              c1cnc(N2CCN(CCCCc3nc4ccccc4s3)CC2)nc1  7.560667       37\n",
       "5417              c1cnc(N2CCN(Cc3c[nH]c4ncccc34)CC2)nc1  5.931443       15\n",
       "5418               c1nc2c(s1)CCN(CCCCN1CCc3ncsc3CC1)CC2  5.199931        0\n",
       "\n",
       "[2368 rows x 3 columns]"
      ]
     },
     "execution_count": 5,
     "metadata": {},
     "output_type": "execute_result"
    }
   ],
   "source": [
    "# It is just handy util to build pandas DataFrame\n",
    "split = lohi.set_cluster_columns(drd2, cluster_smiles, train_smiles)\n",
    "\n",
    "# cluster 0 means train\n",
    "split"
   ]
  },
  {
   "cell_type": "code",
   "execution_count": 6,
   "metadata": {},
   "outputs": [
    {
     "data": {
      "text/plain": [
       "Text(0.5, 1.0, 'STD per cluster')"
      ]
     },
     "execution_count": 6,
     "metadata": {},
     "output_type": "execute_result"
    },
    {
     "data": {
      "image/png": "[encoded data removed]",
      "text/plain": [
       "<Figure size 640x480 with 1 Axes>"
      ]
     },
     "metadata": {},
     "output_type": "display_data"
    }
   ],
   "source": [
    "# Let's plot distribution of std per cluster\n",
    "per_cluster_std = []\n",
    "for i in range(1, split['cluster'].max()):\n",
    "    cluster = split[split['cluster'] == i]\n",
    "    std = cluster['value'].std()\n",
    "    per_cluster_std.append(std)\n",
    "plt.hist(per_cluster_std, bins=50)\n",
    "plt.title('STD per cluster')"
   ]
  },
  {
   "cell_type": "markdown",
   "metadata": {},
   "source": [
    "# Lo Split with k-fold\n",
    "To create k-folds, one simple approach is to shuffle the data first."
   ]
  },
  {
   "cell_type": "code",
   "execution_count": 7,
   "metadata": {},
   "outputs": [
    {
     "name": "stderr",
     "output_type": "stream",
     "text": [
      "100%|██████████| 3/3 [05:12<00:00, 104.13s/it]\n"
     ]
    }
   ],
   "source": [
    "splits = []\n",
    "\n",
    "smiles = np.array(drd2['smiles'].to_list())\n",
    "values = np.array(drd2['value'].to_list())\n",
    "\n",
    "for i in tqdm(range(3)):\n",
    "    idx = np.arange(len(smiles))\n",
    "    np.random.seed(i)\n",
    "    np.random.shuffle(idx)\n",
    "\n",
    "    shuffled_smiles = smiles[idx]\n",
    "    shuffled_values = values[idx]\n",
    "    cluster_smiles, train_smiles = lohi.lo_train_test_split(smiles=shuffled_smiles, \n",
    "                                                        threshold=threshold, \n",
    "                                                        min_cluster_size=min_cluster_size, \n",
    "                                                        max_clusters=max_clusters, \n",
    "                                                        values=shuffled_values, \n",
    "                                                        std_threshold=std_threshold)\n",
    "    split = lohi.set_cluster_columns(drd2, cluster_smiles, train_smiles)\n",
    "    splits.append(split)"
   ]
  },
  {
   "cell_type": "code",
   "execution_count": 8,
   "metadata": {},
   "outputs": [],
   "source": [
    "data = splits[0]\n",
    "test_0 = data[data['cluster'] != 0]['smiles'].to_list()\n",
    "\n",
    "data = splits[1]\n",
    "test_1 = data[data['cluster'] != 0]['smiles'].to_list()\n",
    "\n",
    "data = splits[2]\n",
    "test_2 = data[data['cluster'] != 0]['smiles'].to_list()"
   ]
  },
  {
   "cell_type": "code",
   "execution_count": 9,
   "metadata": {},
   "outputs": [
    {
     "data": {
      "text/plain": [
       "<matplotlib_venn._common.VennDiagram at 0x7f9494dd9550>"
      ]
     },
     "execution_count": 9,
     "metadata": {},
     "output_type": "execute_result"
    },
    {
     "data": {
      "image/png": "[encoded data removed]",
      "text/plain": [
       "<Figure size 640x480 with 1 Axes>"
      ]
     },
     "metadata": {},
     "output_type": "display_data"
    }
   ],
   "source": [
    "venn3([\n",
    "    set(test_0),\n",
    "    set(test_1),\n",
    "    set(test_2),\n",
    "])"
   ]
  },
  {
   "cell_type": "code",
   "execution_count": null,
   "metadata": {},
   "outputs": [],
   "source": []
  }
 ],
 "metadata": {
  "kernelspec": {
   "display_name": "lohi_splitter_dev",
   "language": "python",
   "name": "python3"
  },
  "language_info": {
   "codemirror_mode": {
    "name": "ipython",
    "version": 3
   },
   "file_extension": ".py",
   "mimetype": "text/x-python",
   "name": "python",
   "nbconvert_exporter": "python",
   "pygments_lexer": "ipython3",
   "version": "3.7.16"
  },
  "orig_nbformat": 4
 },
 "nbformat": 4,
 "nbformat_minor": 2
}
