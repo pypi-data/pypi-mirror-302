{
 "cells": [
  {
   "cell_type": "markdown",
   "id": "90f4faae",
   "metadata": {},
   "source": [
    "# Test notebook\n",
    "\n",
    "## Test section\n",
    "\n",
    "An inline equation, $\\text{e}^{i\\pi} = -1$, and an equation on its onw:\n",
    "\\begin{equation}\n",
    "\\int\\limits_{-\\infty}^\\infty f(x) \\delta(x - x_0) dx = f(x_0)\n",
    "\\end{equation}\n",
    "\n",
    "A nice figure from the web:\n",
    "\n",
    "![Jupyter logo](https://upload.wikimedia.org/wikipedia/commons/thumb/3/38/Jupyter_logo.svg/44px-Jupyter_logo.svg.png)\n",
    "\n",
    "We will now test `pyyc.mod.read_config()`:"
   ]
  },
  {
   "cell_type": "code",
   "execution_count": 1,
   "id": "803076b0",
   "metadata": {},
   "outputs": [
    {
     "name": "stdout",
     "output_type": "stream",
     "text": [
      "Initialization top-level module\n",
      "Initialization sub-package A module A1\n",
      "Initialization sub-package A module A2\n",
      "Initialization sub-package B module + sub-package A module A1\n"
     ]
    }
   ],
   "source": [
    "from pyyc.mod import read_config"
   ]
  },
  {
   "cell_type": "code",
   "execution_count": 2,
   "id": "5cf1cd8f",
   "metadata": {},
   "outputs": [
    {
     "name": "stdout",
     "output_type": "stream",
     "text": [
      "Reading configuration from /home/ycopin/ownCloud/Enseignement/Python/pyYC/pyyc/config/default.cfg...\n"
     ]
    }
   ],
   "source": [
    "cfg = read_config()"
   ]
  },
  {
   "cell_type": "code",
   "execution_count": 3,
   "id": "9890a5e0",
   "metadata": {},
   "outputs": [
    {
     "name": "stdout",
     "output_type": "stream",
     "text": [
      "[DEFAULT]\n",
      "version = cfg-1.0\n",
      "\n"
     ]
    }
   ],
   "source": [
    "import sys\n",
    "\n",
    "cfg.write(sys.stdout)"
   ]
  },
  {
   "cell_type": "code",
   "execution_count": 4,
   "id": "38bbe9b8",
   "metadata": {},
   "outputs": [
    {
     "name": "stdout",
     "output_type": "stream",
     "text": [
      "cfg-1.0\n"
     ]
    }
   ],
   "source": [
    "print(cfg['DEFAULT']['version'])"
   ]
  },
  {
   "cell_type": "code",
   "execution_count": null,
   "id": "6f556c5a",
   "metadata": {},
   "outputs": [],
   "source": []
  }
 ],
 "metadata": {
  "kernelspec": {
   "display_name": "Python 3 (ipykernel)",
   "language": "python",
   "name": "python3"
  },
  "language_info": {
   "codemirror_mode": {
    "name": "ipython",
    "version": 3
   },
   "file_extension": ".py",
   "mimetype": "text/x-python",
   "name": "python",
   "nbconvert_exporter": "python",
   "pygments_lexer": "ipython3",
   "version": "3.8.10"
  },
  "toc": {
   "base_numbering": 1,
   "nav_menu": {},
   "number_sections": false,
   "sideBar": true,
   "skip_h1_title": false,
   "title_cell": "Table of Contents",
   "title_sidebar": "Contents",
   "toc_cell": false,
   "toc_position": {},
   "toc_section_display": true,
   "toc_window_display": true
  }
 },
 "nbformat": 4,
 "nbformat_minor": 5
}
