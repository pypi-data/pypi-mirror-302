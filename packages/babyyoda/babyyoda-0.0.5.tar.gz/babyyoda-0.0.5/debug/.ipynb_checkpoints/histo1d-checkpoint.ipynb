{
 "cells": [
  {
   "cell_type": "code",
   "execution_count": 1,
   "id": "4045b3af-f990-4dbb-990f-937c5ddeee26",
   "metadata": {},
   "outputs": [],
   "source": [
    "import babyyoda as grogu"
   ]
  },
  {
   "cell_type": "code",
   "execution_count": 2,
   "id": "9e7f5fc2-0126-4a97-b4ab-2b1539245987",
   "metadata": {},
   "outputs": [
    {
     "data": {
      "image/png": "[encoded data removed]",
      "text/plain": [
       "<Figure size 640x480 with 1 Axes>"
      ]
     },
     "metadata": {},
     "output_type": "display_data"
    }
   ],
   "source": [
    "hists = grogu.read_grogu(\"../tests/test_histo1d_v2.yoda\")\n",
    "hists[\"/\"]"
   ]
  },
  {
   "cell_type": "code",
   "execution_count": 3,
   "id": "159c7b2f-e18e-43f6-a630-c6f9ac062a25",
   "metadata": {},
   "outputs": [
    {
     "data": {
      "image/png": "[encoded data removed]",
      "text/plain": [
       "<Figure size 640x480 with 1 Axes>"
      ]
     },
     "metadata": {},
     "output_type": "display_data"
    }
   ],
   "source": [
    "hists = grogu.read_yoda(\"../tests/test_histo1d_v2.yoda\")\n",
    "hists[\"/\"]"
   ]
  },
  {
   "cell_type": "code",
   "execution_count": 4,
   "id": "2773a80a-4f50-456c-b2a5-b4db8d3d719b",
   "metadata": {},
   "outputs": [
    {
     "data": {
      "text/plain": [
       "<Dbn1D(mean=1.0, stddev=0.0)>"
      ]
     },
     "execution_count": 4,
     "metadata": {},
     "output_type": "execute_result"
    }
   ],
   "source": [
    "hists[\"/\"][grogu.loc(3.5)+1]"
   ]
  },
  {
   "cell_type": "code",
   "execution_count": null,
   "id": "d0cecc9f-4f12-4b70-b4cc-72442582dabc",
   "metadata": {},
   "outputs": [],
   "source": []
  },
  {
   "cell_type": "code",
   "execution_count": 5,
   "id": "079e91f6-0542-4962-a6e2-9070db4c69b9",
   "metadata": {},
   "outputs": [],
   "source": [
    "import yoda as yd"
   ]
  },
  {
   "cell_type": "code",
   "execution_count": 6,
   "id": "f758b849-2388-4dfd-95c5-d888962cc605",
   "metadata": {},
   "outputs": [],
   "source": [
    "import numpy as np\n",
    "class GH1D:\n",
    "    \n",
    "    def __init__(self, target):\n",
    "        # Store the target object where calls and attributes will be forwarded\n",
    "        super().__setattr__('target', target)\n",
    "        \n",
    "    @property\n",
    "    def axes(self):\n",
    "        return [list(zip(self.xMins(), self.xMaxs()))]\n",
    "    @property\n",
    "    def kind(self):\n",
    "        return \"COUNT\"\n",
    "    def values(self):\n",
    "        return self.sumWs()\n",
    "    def variances(self):\n",
    "        return np.array([b.sumW2() for b in self.bins()])\n",
    "    def counts(self):\n",
    "        return np.array([b.effNumEntries() for b in self.bins()])\n",
    "    def xMins(self):\n",
    "        return np.array([b.xMin() for b in self.bins()])\n",
    "    def xMaxs(self):\n",
    "        return np.array([b.xMax() for b in self.bins()])\n",
    "    def sumWs(self):\n",
    "        return np.array([b.sumW() for b in self.bins()])\n",
    "    def plot(self, *args, w2method=\"sqrt\", **kwargs):\n",
    "        import mplhep as hep\n",
    "\n",
    "        hep.histplot(self, w2=self.variances(), *args, w2method=w2method, **kwargs)\n",
    "\n",
    "\n",
    "    def __getattr__(self, name):\n",
    "        # First, check if the Forwarder object itself has the attribute\n",
    "        if name in self.__dict__ or hasattr(type(self), name):\n",
    "            return object.__getattribute__(self, name)\n",
    "        # If not, forward attribute access to the target\n",
    "        elif hasattr(self.target, name):\n",
    "            return getattr(self.target, name)\n",
    "        raise AttributeError(f\"'{type(self).__name__}' object and target have no attribute '{name}'\")\n",
    "\n",
    "    def __setattr__(self, name, value):\n",
    "        # First, check if the attribute belongs to the Forwarder itself\n",
    "        if name in self.__dict__ or hasattr(type(self), name):\n",
    "            object.__setattr__(self, name, value)\n",
    "        # If not, forward attribute setting to the target\n",
    "        elif hasattr(self.target, name):\n",
    "            setattr(self.target, name, value)\n",
    "        else:\n",
    "            raise AttributeError(f\"Cannot set attribute '{name}'; it does not exist in target or Forwarder.\")\n",
    "\n",
    "    def __call__(self, *args, **kwargs):\n",
    "        # If the target is callable, forward the call, otherwise raise an error\n",
    "        if callable(self.target):\n",
    "            return self.target(*args, **kwargs)\n",
    "        raise TypeError(f\"'{type(self.target).__name__}' object is not callable\")"
   ]
  },
  {
   "cell_type": "code",
   "execution_count": 7,
   "id": "c830b5c7-9d5f-45a3-b986-12fb928b46c6",
   "metadata": {},
   "outputs": [],
   "source": [
    "def grogify(hist):\n",
    "    def axes():\n",
    "        return [list(zip(self.xMins(), self.xMaxs()))]\n",
    "    def values(self):\n",
    "        return self.sumWs()\n",
    "    def variances(self):\n",
    "        return np.array([b.sumW2() for b in self.bins()])\n",
    "    def counts(self):\n",
    "        return np.array([b.effNumEntries() for b in self.bins()])\n",
    "    setattr(hist, 'axes', property(axes))\n",
    "    hist.kind = \"COUNT\"\n",
    "    hist.values = values\n",
    "    hist.variance = variances\n",
    "    hist.counts = counts"
   ]
  },
  {
   "cell_type": "code",
   "execution_count": 9,
   "id": "71587df4-b96f-48ca-8580-ed37263b7797",
   "metadata": {},
   "outputs": [],
   "source": [
    "hists = yd.read(\"../tests/test_histo1d_v2.yoda\")"
   ]
  },
  {
   "cell_type": "code",
   "execution_count": 10,
   "id": "182fd8b1-bd18-4ffe-ad39-f6d9ae377fc3",
   "metadata": {},
   "outputs": [
    {
     "data": {
      "text/plain": [
       "OrderedDict([('/', <BinnedHisto1D[d] '/' 10 bins>)])"
      ]
     },
     "execution_count": 10,
     "metadata": {},
     "output_type": "execute_result"
    }
   ],
   "source": [
    "hists"
   ]
  },
  {
   "cell_type": "code",
   "execution_count": 11,
   "id": "2d162074-fe43-411a-8e27-7876d01ee1b5",
   "metadata": {},
   "outputs": [],
   "source": [
    "h=hists['/']"
   ]
  },
  {
   "cell_type": "code",
   "execution_count": null,
   "id": "dd95041c-5e80-4fde-86da-14f3fedab072",
   "metadata": {},
   "outputs": [],
   "source": []
  },
  {
   "cell_type": "code",
   "execution_count": 15,
   "id": "5ceb1109-e2d8-4972-b0fe-80002ee91db8",
   "metadata": {},
   "outputs": [],
   "source": [
    "g = GH1D(hists['/'])"
   ]
  },
  {
   "cell_type": "code",
   "execution_count": 16,
   "id": "72ffd353-125b-4a11-8b7e-146c93413b1c",
   "metadata": {},
   "outputs": [
    {
     "data": {
      "image/png": "[encoded data removed]",
      "text/plain": [
       "<Figure size 640x480 with 1 Axes>"
      ]
     },
     "metadata": {},
     "output_type": "display_data"
    }
   ],
   "source": [
    "g.plot()"
   ]
  },
  {
   "cell_type": "code",
   "execution_count": null,
   "id": "bef63e37-e04d-4541-8eb5-bf11b315fcf8",
   "metadata": {},
   "outputs": [],
   "source": []
  },
  {
   "cell_type": "code",
   "execution_count": null,
   "id": "9391df8c-07f5-4777-87dc-619e3ff9c8e5",
   "metadata": {},
   "outputs": [],
   "source": []
  }
 ],
 "metadata": {
  "kernelspec": {
   "display_name": "Python 3 (ipykernel)",
   "language": "python",
   "name": "python3"
  },
  "language_info": {
   "codemirror_mode": {
    "name": "ipython",
    "version": 3
   },
   "file_extension": ".py",
   "mimetype": "text/x-python",
   "name": "python",
   "nbconvert_exporter": "python",
   "pygments_lexer": "ipython3",
   "version": "3.12.6"
  }
 },
 "nbformat": 4,
 "nbformat_minor": 5
}
