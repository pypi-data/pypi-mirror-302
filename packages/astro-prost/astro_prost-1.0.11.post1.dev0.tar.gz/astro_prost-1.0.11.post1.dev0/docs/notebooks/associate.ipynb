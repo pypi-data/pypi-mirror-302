{
 "cells": [
  {
   "cell_type": "markdown",
   "id": "textblock1",
   "metadata": {
    "cell_marker": "\"\"\""
   },
   "source": [
    "# Host-Galaxy Association with Pröst\n",
    "\n",
    "### This notebook shows the basics of prost for host-galaxy association."
   ]
  },
  {
   "cell_type": "markdown",
   "id": "9f4c839d-c3a4-4700-911d-7cb0672f2c34",
   "metadata": {},
   "source": [
    "First, let's import some relevant packages. We'll need distributions to define our priors and likelihoods."
   ]
  },
  {
   "cell_type": "code",
   "execution_count": 1,
   "id": "codeblock1",
   "metadata": {},
   "outputs": [],
   "source": [
    "import pandas as pd\n",
    "from scipy.stats import gamma, halfnorm, uniform\n",
    "from astropy.cosmology import LambdaCDM\n",
    "import matplotlib\n",
    "import matplotlib.pyplot as plt\n",
    "import seaborn as sns \n",
    "\n",
    "#pretty plotting\n",
    "sns.set_context(\"poster\")\n",
    "\n",
    "#enable interactive plotting\n",
    "%matplotlib inline"
   ]
  },
  {
   "cell_type": "markdown",
   "id": "1c8e3139-8800-4911-9a27-db01be81d247",
   "metadata": {},
   "source": [
    "Pröst also provides a custom distribution object for the expected redshift of a transient with a given brightness and fixed volumetric rate. "
   ]
  },
  {
   "cell_type": "code",
   "execution_count": 2,
   "id": "617ef8b0-bc3e-4834-bbc2-a4e0b96a5368",
   "metadata": {},
   "outputs": [],
   "source": [
    "from astro_prost.helpers import PriorzObservedTransients, SnRateAbsmag"
   ]
  },
  {
   "cell_type": "markdown",
   "id": "7b55aa2e-dfaa-410a-8685-284c3c528e55",
   "metadata": {},
   "source": [
    "Next, we import the functions that do the bulk of the work."
   ]
  },
  {
   "cell_type": "code",
   "execution_count": 3,
   "id": "5c12b0a7-4b89-4564-a9e9-89fc072bb7a1",
   "metadata": {
    "cell_marker": "\"\"\"",
    "lines_to_next_cell": 1
   },
   "outputs": [],
   "source": [
    "from astro_prost.associate import associate_sample, prepare_catalog"
   ]
  },
  {
   "cell_type": "markdown",
   "id": "f722140b-4fb9-40b8-bed8-3536c88053f0",
   "metadata": {},
   "source": [
    "Now let's read in a transient catalog, which should have at least the name and coordinates of the transients. Here, we use the [ZTF BTS](https://sites.astro.caltech.edu/ztf/bts/explorer.php?f=s&subsample=trans&classstring=&endpeakmag=19.0&purity=y&quality=y) sample."
   ]
  },
  {
   "cell_type": "code",
   "execution_count": 4,
   "id": "codeblock2",
   "metadata": {},
   "outputs": [
    {
     "name": "stdout",
     "output_type": "stream",
     "text": [
      "           IAUID           RA          Dec\n",
      "1527     SN2020G  01:37:12.23  +40:21:57.7\n",
      "2798   SN2021dex  15:31:29.46  +79:49:13.7\n",
      "4207   SN2022shl  00:10:29.92  +42:36:10.6\n",
      "4973   SN2023ogz  19:02:41.42  +53:53:03.2\n",
      "1567    AT2020pv  14:27:52.04  +33:34:09.6\n",
      "4935   SN2023mty  01:07:00.44  +23:33:16.9\n",
      "4244   SN2022uda  22:04:29.58  +16:04:08.7\n",
      "2608  SN2020actp  13:54:05.33  +33:34:57.5\n",
      "1331   SN2019tjc  10:01:51.58  +17:40:53.7\n",
      "4879   SN2023kxf  15:18:42.98  +79:28:16.7\n"
     ]
    }
   ],
   "source": [
    "transient_catalog = pd.read_csv(\"../../src/astro_prost/data/ZTFBTS_TransientTable.csv\")\n",
    "\n",
    "#only take the first 10 events \n",
    "transient_catalog = transient_catalog.sample(n=1)\n",
    "\n",
    "print(transient_catalog.sample(frac=1)[['IAUID', 'RA', 'Dec']])"
   ]
  },
  {
   "cell_type": "markdown",
   "id": "793ab1d1-831b-4f59-8f5e-f1c1b0611284",
   "metadata": {},
   "source": [
    "Next, we define the priors for the association. By default, Pröst defines priors on a transient's observed(!)\n",
    "* Redshift distribution\n",
    "* Fractional radial offset from its host galaxy (defined in units of the host's [Directional Light Radius](https://arxiv.org/pdf/1604.06138))\n",
    "* Host galaxy brightness, in absolute magnitude ($B$-band if associating with the glade catalog, else the median across $griz$)"
   ]
  },
  {
   "cell_type": "markdown",
   "id": "4edf6fb5-3735-407e-b9f0-68e88894ee6a",
   "metadata": {},
   "source": [
    "We'll keep things simple for now, and assume that we detect fewer events with redshift, with broad uniform priors for brightness and fractional offset. "
   ]
  },
  {
   "cell_type": "code",
   "execution_count": 5,
   "id": "codeblock3",
   "metadata": {},
   "outputs": [],
   "source": [
    "# define priors for properties\n",
    "priorfunc_z = halfnorm(loc=0.0001, scale=0.5)\n",
    "priorfunc_offset = uniform(loc=0, scale=10)\n",
    "priorfunc_absmag = uniform(loc=-30, scale=20)"
   ]
  },
  {
   "cell_type": "markdown",
   "id": "ec975d37-b2a9-4efd-bc96-3f0b1c8bfba5",
   "metadata": {},
   "source": [
    "If, instead, you want the redshift prior to be based on an observed distribution of transients within a given absolute magnitude range, \n",
    "we can build an empirical distribution by uniformly distributed transients in a cosmological volume between $z_{min}$ and $z_{max}$, and call \n",
    "the the subset with peak brightness above $mag_{cutoff}$ to be \"observed\". \n",
    "\n",
    "By default, the code draws a transient's peak brightness from a truncated gaussian from $absmag_{min}$ to $absmag_{max}$, with mean of $absmag_{mean}$. "
   ]
  },
  {
   "cell_type": "code",
   "execution_count": 6,
   "id": "501096dc-96c9-404d-9221-a183dfd151b9",
   "metadata": {},
   "outputs": [],
   "source": [
    "cosmo = LambdaCDM(H0=70, Om0=0.3, Ode0=0.7)\n",
    "priorfunc_z = PriorzObservedTransients(z_min=0, z_max=1, mag_cutoff=19, absmag_mean=-19, absmag_min=-24, absmag_max=-17, cosmo=cosmo)"
   ]
  },
  {
   "cell_type": "markdown",
   "id": "a6c9817f-595e-4856-b103-281e02eb20ac",
   "metadata": {},
   "source": [
    "We can then plot the resulting distribution:"
   ]
  },
  {
   "cell_type": "code",
   "execution_count": 7,
   "id": "65085764-6abe-4810-a022-a138b61e52ac",
   "metadata": {},
   "outputs": [
    {
     "name": "stderr",
     "output_type": "stream",
     "text": [
      "/Users/alexgagliano/miniconda3/envs/prost/lib/python3.12/site-packages/astro_prost/helpers.py:988: UserWarning: FigureCanvasAgg is non-interactive, and thus cannot be shown\n",
      "  plt.show()\n"
     ]
    }
   ],
   "source": [
    "#broken for now\n",
    "priorfunc_z.plot()"
   ]
  },
  {
   "cell_type": "markdown",
   "id": "b14b3f91-e2d5-4238-87a4-1cc696391cd7",
   "metadata": {},
   "source": [
    "The pdf of the distribution can be evaluated and sampled:"
   ]
  },
  {
   "cell_type": "code",
   "execution_count": 8,
   "id": "8226cba3-64e1-4761-9e53-60ec33c66e4f",
   "metadata": {},
   "outputs": [
    {
     "name": "stdout",
     "output_type": "stream",
     "text": [
      "[0.2850707  0.15364469 0.07633039 0.31214666 0.18164356 0.35139012\n",
      " 0.17867852 0.09928383 0.32785253 0.12659806]\n"
     ]
    }
   ],
   "source": [
    "z_samples = priorfunc_z.rvs(10)\n",
    "print(z_samples)"
   ]
  },
  {
   "cell_type": "code",
   "execution_count": 9,
   "id": "7f053623-8159-4a24-a512-aaaab7e1e6ac",
   "metadata": {},
   "outputs": [
    {
     "data": {
      "text/plain": [
       "array([1.83398018, 3.78512255, 3.06075005, 1.47774175, 3.41469851,\n",
       "       1.07860819, 3.45245412, 3.67058395, 1.29206502, 3.93763533])"
      ]
     },
     "execution_count": 9,
     "metadata": {},
     "output_type": "execute_result"
    }
   ],
   "source": [
    "priorfunc_z.pdf(z_samples)"
   ]
  },
  {
   "cell_type": "markdown",
   "id": "3f5f7fbb-0001-43d6-a756-6e8b0c6bf865",
   "metadata": {},
   "source": [
    "Next, we set the likelihoods. Note that we only set these for fractional offset and brightness; the redshift likelihood comes from comparing the photometric redshifts of candidate galaxies with the redshift of the transient (if available). "
   ]
  },
  {
   "cell_type": "code",
   "execution_count": 10,
   "id": "c070b8e9-e56c-4f5e-ae79-57e4be34f53d",
   "metadata": {},
   "outputs": [],
   "source": [
    "likefunc_offset = gamma(a=0.75)\n",
    "likefunc_absmag = SnRateAbsmag(a=-25, b=20)\n",
    "\n",
    "priors = {\"offset\": priorfunc_offset, \"absmag\": priorfunc_absmag, \"z\": priorfunc_z}\n",
    "likes = {\"offset\": likefunc_offset, \"absmag\": likefunc_absmag}"
   ]
  },
  {
   "cell_type": "code",
   "execution_count": 11,
   "id": "e3ddcac3-e17d-4d05-8bfd-1b2477a8986b",
   "metadata": {},
   "outputs": [],
   "source": [
    "plt.hist(likefunc_offset.rvs(size=10000));\n",
    "plt.xlabel(r\"Fractional Offset ($\\theta$/DLR)\");\n",
    "plt.ylabel(\"Likelihood PDF\");"
   ]
  },
  {
   "cell_type": "markdown",
   "id": "a1d4bb4d-8b81-40d0-9c1f-71d2a462b34d",
   "metadata": {},
   "source": [
    "Our likelihood for fractional offset sharply peaks near 0: if a transient is sitting on top of a galaxy, odds are very good that it's the host. The likelihood for host galaxy brightness is set here to a supernova-based likelihood, which increases with absolute magnitude."
   ]
  },
  {
   "cell_type": "code",
   "execution_count": 12,
   "id": "8b1cb3f5-19c7-487f-8d51-981dc4fb34be",
   "metadata": {},
   "outputs": [],
   "source": [
    "plt.hist(likefunc_absmag.rvs(size=1000))\n",
    "plt.xlabel(r\"Host Absolute Magnitude\");\n",
    "plt.ylabel(\"Likelihood PDF\");"
   ]
  },
  {
   "cell_type": "markdown",
   "id": "573a067e-4d77-4c3a-8cc9-4eec9afcc586",
   "metadata": {},
   "source": [
    "Next, let's set up the properties of the run:"
   ]
  },
  {
   "cell_type": "code",
   "execution_count": 13,
   "id": "2151c21f-08d1-484c-a42a-c75afd777ccf",
   "metadata": {},
   "outputs": [],
   "source": [
    "# list of catalogs to search -- options are (in order) glade, decals, panstarrs\n",
    "# If multiple are listed, the code stops whenever it finds a high-probability host\n",
    "catalogs = [\"panstarrs\"]\n",
    "\n",
    "# The name of the coordinate columns in the dataframe\n",
    "# Can be in string hourangle, deg or decimal degrees\n",
    "transient_coord_cols = (\"RA\", \"Dec\")\n",
    "\n",
    "# the column corresponding to transient names\n",
    "transient_name_col = \"IAUID\"\n",
    "\n",
    "# can be 0, 1, or 2\n",
    "verbose = 1\n",
    "\n",
    "# If true, enables multiprocessing with mpire (cannot be run in this notebook)\n",
    "parallel = False\n",
    "\n",
    "# If true, saves the results of the run to disk (alternative is to return them directly)\n",
    "save = False\n",
    "\n",
    "# If true, shows a progress bar for each association (only available when parallel=True)\n",
    "progress_bar = False\n",
    "\n",
    "# If true, concatenates the source properties from the matched catalog to the returned results\n",
    "cat_cols = True"
   ]
  },
  {
   "cell_type": "code",
   "execution_count": null,
   "id": "e88a1f19-fd0a-4b39-9e37-dc1311883b52",
   "metadata": {},
   "outputs": [
    {
     "name": "stdout",
     "output_type": "stream",
     "text": [
      "Associating for SN2019tjc at RA, DEC = 150.464917, 17.681583\n",
      "Removing panstarrs shreds...\n",
      "Removing 10 indices from tentative matches in panstarrs!\n",
      "\u001b[1m9/9\u001b[0m \u001b[32m━━━━━━━━━━━━━━━━━━━━\u001b[0m\u001b[37m\u001b[0m \u001b[1m0s\u001b[0m 4ms/step \n",
      "Association successful!\n",
      "Found a good host in panstarrs!\n",
      "Chosen galaxy has catalog ID of 129211504558839778and RA, DEC = 150.455904, 17.682694\n",
      "Associating for SN2022uda at RA, DEC = 331.123250, 16.069083\n",
      "Removing panstarrs shreds...\n",
      "Removing 15 indices from tentative matches in panstarrs!\n",
      "\u001b[1m20/20\u001b[0m \u001b[32m━━━━━━━━━━━━━━━━━━━━\u001b[0m\u001b[37m\u001b[0m \u001b[1m0s\u001b[0m 2ms/step \n",
      "Association successful!\n",
      "Found a good host in panstarrs!\n",
      "Chosen galaxy has catalog ID of 127283311236503616and RA, DEC = 331.123513, 16.069163\n",
      "Associating for SN2020G at RA, DEC = 24.300958, 40.366028\n",
      "Removing panstarrs shreds...\n",
      "Removing 11 indices from tentative matches in panstarrs!\n",
      "\u001b[1m18/18\u001b[0m \u001b[32m━━━━━━━━━━━━━━━━━━━━\u001b[0m\u001b[37m\u001b[0m \u001b[1m0s\u001b[0m 3ms/step \n"
     ]
    }
   ],
   "source": [
    "transient_catalog = prepare_catalog(\n",
    "    transient_catalog, transient_name_col=transient_name_col, transient_coord_cols=transient_coord_cols\n",
    ")\n",
    "\n",
    "# cosmology can be specified, else flat lambdaCDM is assumed with H0=70, Om0=0.3, Ode0=0.7\n",
    "transient_catalog_with_hosts = \\\n",
    "    associate_sample(\n",
    "        transient_catalog,\n",
    "        priors=priors,\n",
    "        likes=likes,\n",
    "        catalogs=catalogs,\n",
    "        parallel=parallel,\n",
    "        verbose=verbose,\n",
    "        save=save,\n",
    "        progress_bar=progress_bar,\n",
    "        cat_cols=cat_cols,\n",
    ")"
   ]
  },
  {
   "cell_type": "markdown",
   "id": "8b286f6a-0e02-4d2c-be88-bddf78185dff",
   "metadata": {},
   "source": [
    "Let's look at the results: "
   ]
  },
  {
   "cell_type": "code",
   "execution_count": null,
   "id": "df6dbc9d-1486-4457-a75f-bed673afe8e3",
   "metadata": {},
   "outputs": [],
   "source": [
    "transient_catalog_with_hosts[['IAUID', 'host_id', 'host_ra', 'host_dec', 'host_prob', 'smallcone_prob', 'missedcat_prob']]"
   ]
  }
 ],
 "metadata": {
  "jupytext": {
   "cell_markers": "\"\"\""
  },
  "kernelspec": {
   "display_name": "prost",
   "language": "python",
   "name": "prost"
  },
  "language_info": {
   "codemirror_mode": {
    "name": "ipython",
    "version": 3
   },
   "file_extension": ".py",
   "mimetype": "text/x-python",
   "name": "python",
   "nbconvert_exporter": "python",
   "pygments_lexer": "ipython3",
   "version": "3.12.7"
  }
 },
 "nbformat": 4,
 "nbformat_minor": 5
}
