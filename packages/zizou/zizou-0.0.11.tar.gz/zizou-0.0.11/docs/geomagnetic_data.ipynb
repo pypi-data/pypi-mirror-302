{
 "cells": [
  {
   "cell_type": "code",
   "execution_count": null,
   "metadata": {},
   "outputs": [],
   "source": [
    "from zizou.data import DataSource, GeoMagWaveforms\n",
    "from zizou.ssam import SSAM \n",
    "from datetime import datetime, date, timedelta, timezone\n",
    "import pandas as pd\n",
    "import requests\n",
    "from tonik import Storage\n",
    "from io import StringIO\n",
    "from obspy import UTCDateTime, Trace\n",
    "import numpy as np\n",
    "from zizou.visualise import plot_ssam_plotly\n",
    "import plotly.graph_objects as go\n",
    "from plotly.subplots import make_subplots"
   ]
  },
  {
   "cell_type": "code",
   "execution_count": null,
   "metadata": {},
   "outputs": [],
   "source": [
    "gmc = GeoMagWaveforms(base_url='https://tilde.geonet.org.nz/v3/data',\n",
    "                      method='60s', aspect='F-total-field', name='magnetic-field')\n",
    "ssam = SSAM(per_lap=0.5, timestamp='start', interval=1024*60.,\n",
    "            frequencies=np.linspace(1/1000., 1/120., 50))\n",
    "ds = DataSource(clients=[gmc])\n",
    "sg = Storage('geomag', rootdir='/tmp/geomag')\n",
    "st = sg.get_substore(site='EYWM', sensor='50', channel='F')\n",
    "startdate = UTCDateTime(2024, 4, 1)\n",
    "enddate = UTCDateTime.now()\n",
    "enddate = UTCDateTime(2024, 4, 9)\n",
    "for tr in ds.get_waveforms(net='NZ', site='EYWM', loc='50', comp='F',\n",
    "                           start=startdate, end=enddate,\n",
    "                           cache=True):\n",
    "    xds = ssam.compute(tr) \n",
    "    st.save(xds)"
   ]
  },
  {
   "cell_type": "code",
   "execution_count": null,
   "metadata": {},
   "outputs": [],
   "source": [
    "st.starttime = startdate.datetime\n",
    "st.endtime = enddate.datetime\n",
    "xds_st = st('filterbank')"
   ]
  },
  {
   "cell_type": "code",
   "execution_count": null,
   "metadata": {},
   "outputs": [],
   "source": [
    "fig = make_subplots(rows=2, cols=1, shared_xaxes=True)\n",
    "tr = next(ds.get_waveforms(net='NZ', site='EYWM', loc='50', comp='F',\n",
    "                           start=startdate, end=enddate))\n",
    "dt = [startdate.datetime + timedelta(seconds=s) for s in tr.times()]\n",
    "fig.add_trace(go.Scatter(x=dt, y=tr.data, mode='lines'), row=1, col=1)\n",
    "fig.add_trace(plot_ssam_plotly(xds_st, dbscale=True, new_fig=False), row=2, col=1)"
   ]
  }
 ],
 "metadata": {
  "kernelspec": {
   "display_name": "Python 3",
   "language": "python",
   "name": "python3"
  },
  "language_info": {
   "codemirror_mode": {
    "name": "ipython",
    "version": 3
   },
   "file_extension": ".py",
   "mimetype": "text/x-python",
   "name": "python",
   "nbconvert_exporter": "python",
   "pygments_lexer": "ipython3",
   "version": "3.9.19"
  }
 },
 "nbformat": 4,
 "nbformat_minor": 2
}
