{
  "cells": [
    {
      "cell_type": "markdown",
      "metadata": {},
      "source": [
        "\n# Generating Whittle-Mat\u00e9rn field\n"
      ]
    },
    {
      "cell_type": "code",
      "execution_count": null,
      "metadata": {
        "collapsed": false
      },
      "outputs": [],
      "source": [
        "import numpy\nfrom scipy import linalg\nfrom MPSPlots.render2D import SceneList\n\nfrom PyFinitDiff.finite_difference_2D import FiniteDifference\nfrom PyFinitDiff.finite_difference_2D import get_circular_mesh_triplet\nfrom PyFinitDiff.finite_difference_2D import Boundaries\n\n\nn_x = n_y = 80\n\nsparse_instance = FiniteDifference(\n    n_x=n_x,\n    n_y=n_y,\n    dx=1000 / n_x,\n    dy=1000 / n_y,\n    derivative=2,\n    accuracy=2,\n    boundaries=Boundaries(top='symmetric')\n)\n\n\nlaplacian = sparse_instance.triplet.to_dense()\n\n\ndef get_field(D: float, lc: float, Nc: float, shape: list):\n    n_x, n_y = shape\n    eta = numpy.random.rand(n_x * n_y)\n\n    left_hand_side = (- laplacian + lc**2)**(3 / 2)\n\n    right_hand_side = eta\n\n    field = linalg.solve(left_hand_side, right_hand_side)\n\n    return Nc * field\n\n\nfigure = SceneList(\n    unit_size=(4, 4),\n    tight_layout=True,\n    ax_orientation='horizontal'\n)\n\nfield = get_field(\n    D := 3,\n    lc := 1,\n    Nc := 1,\n    shape=[n_x, n_y]\n)\n\nax = figure.append_ax(title=f'Correlation length: {lc}')\n\nartist = ax.add_mesh(scalar=field.reshape([n_x, n_y]))\n\nax.add_colorbar(artist=artist)\n\n# ---------------\n\nfield = get_field(\n    D := 3,\n    lc := 2,\n    Nc := 1,\n    shape=[n_x, n_y]\n)\n\nax = figure.append_ax(title=f'Correlation length: {lc}')\n\nartist = ax.add_mesh(scalar=field.reshape([n_x, n_y]))\n\nax.add_colorbar(artist=artist)\n\n\n# ---------------\n\nfield = get_field(\n    D := 3,\n    lc := 4,\n    Nc := 1,\n    shape=[n_x, n_y]\n)\n\nax = figure.append_ax(title=f'Correlation length: {lc}')\n\nartist = ax.add_mesh(scalar=field.reshape([n_x, n_y]))\n\nax.add_colorbar(artist=artist)\n\nfigure.show()\n\n\n# -"
      ]
    }
  ],
  "metadata": {
    "kernelspec": {
      "display_name": "Python 3",
      "language": "python",
      "name": "python3"
    },
    "language_info": {
      "codemirror_mode": {
        "name": "ipython",
        "version": 3
      },
      "file_extension": ".py",
      "mimetype": "text/x-python",
      "name": "python",
      "nbconvert_exporter": "python",
      "pygments_lexer": "ipython3",
      "version": "3.11.0"
    }
  },
  "nbformat": 4,
  "nbformat_minor": 0
}