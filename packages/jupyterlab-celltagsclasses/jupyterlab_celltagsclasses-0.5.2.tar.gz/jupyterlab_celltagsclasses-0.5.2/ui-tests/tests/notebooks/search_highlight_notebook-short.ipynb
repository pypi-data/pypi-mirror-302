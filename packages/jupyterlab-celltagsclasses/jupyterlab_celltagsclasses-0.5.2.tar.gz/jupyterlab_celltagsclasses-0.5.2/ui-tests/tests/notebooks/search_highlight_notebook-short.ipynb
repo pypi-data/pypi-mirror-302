{
 "cells": [
  {
   "cell_type": "markdown",
   "id": "d06cb0c2-483b-4781-b283-8212ea667823",
   "metadata": {},
   "source": [
    "## a subtitle\n",
    "\n",
    "Where does it come from?\n",
    "Contrary to popular belief, Lorem Ipsum is not simply random text. It has roots in a piece of classical Latin literature from 45 BC, making it over 2000 years old. Richard McClintock, a Latin professor at Hampden-Sydney College in Virginia, looked up one of the more obscure Latin words, consectetur, from a Lorem Ipsum passage, and going through the cites of the word in classical literature, discovered the undoubtable source. Lorem Ipsum comes from sections 1.10.32 and 1.10.33 of \"de Finibus Bonorum et Malorum\" (The Extremes of Good and Evil) by Cicero, written in 45 BC. This book is a treatise on the theory of ethics, very popular during the Renaissance. The first line of Lorem Ipsum, \"Lorem ipsum dolor sit amet..\", comes from a line in section 1.10.32.\n"
   ]
  },
  {
   "cell_type": "code",
   "execution_count": null,
   "id": "5ee43821-a144-479c-b73a-d6c856884364",
   "metadata": {},
   "outputs": [],
   "source": []
  },
  {
   "cell_type": "code",
   "execution_count": null,
   "id": "db370210-865b-4bfe-ba07-3384b41023df",
   "metadata": {},
   "outputs": [],
   "source": []
  }
 ],
 "metadata": {
  "kernelspec": {
   "display_name": "Python 3 (ipykernel)",
   "language": "python",
   "name": "python3"
  },
  "language_info": {
   "codemirror_mode": {
    "name": "ipython",
    "version": 3
   },
   "file_extension": ".py",
   "mimetype": "text/x-python",
   "name": "python",
   "nbconvert_exporter": "python",
   "pygments_lexer": "ipython3",
   "version": "3.11.5"
  }
 },
 "nbformat": 4,
 "nbformat_minor": 5
}
