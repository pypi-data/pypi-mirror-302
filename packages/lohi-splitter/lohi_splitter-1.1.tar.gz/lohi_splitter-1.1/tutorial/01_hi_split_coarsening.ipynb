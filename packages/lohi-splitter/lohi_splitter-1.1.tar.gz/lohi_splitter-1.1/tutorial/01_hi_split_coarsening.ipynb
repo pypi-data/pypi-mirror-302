{
 "cells": [
  {
   "cell_type": "markdown",
   "metadata": {},
   "source": [
    "# Hi Split + Coarsening\n",
    "Hi splitting for bigger datasets"
   ]
  },
  {
   "cell_type": "markdown",
   "metadata": {},
   "source": [
    "Running the Hi Splitter on large datasets can be extremely time-consuming. In this tutorial, we'll explore methods to expedite the process without compromising the quality of the splits.\n"
   ]
  },
  {
   "cell_type": "code",
   "execution_count": 1,
   "metadata": {},
   "outputs": [],
   "source": [
    "import pandas as pd\n",
    "import numpy as np\n",
    "\n",
    "import lohi_splitter as lohi"
   ]
  },
  {
   "cell_type": "markdown",
   "metadata": {},
   "source": [
    "## Data Loading\n",
    "In this tutorial, we will partition a dataset containing 6,000 molecules."
   ]
  },
  {
   "cell_type": "code",
   "execution_count": 2,
   "metadata": {},
   "outputs": [
    {
     "data": {
      "text/html": [
       "<div>\n",
       "<style scoped>\n",
       "    .dataframe tbody tr th:only-of-type {\n",
       "        vertical-align: middle;\n",
       "    }\n",
       "\n",
       "    .dataframe tbody tr th {\n",
       "        vertical-align: top;\n",
       "    }\n",
       "\n",
       "    .dataframe thead th {\n",
       "        text-align: right;\n",
       "    }\n",
       "</style>\n",
       "<table border=\"1\" class=\"dataframe\">\n",
       "  <thead>\n",
       "    <tr style=\"text-align: right;\">\n",
       "      <th></th>\n",
       "      <th>smiles</th>\n",
       "      <th>value</th>\n",
       "    </tr>\n",
       "  </thead>\n",
       "  <tbody>\n",
       "    <tr>\n",
       "      <th>0</th>\n",
       "      <td>Brc1ccc(-[n+]2cc[n+](Cc3ccccc3)cc2)c2cc[nH]c12</td>\n",
       "      <td>True</td>\n",
       "    </tr>\n",
       "    <tr>\n",
       "      <th>1</th>\n",
       "      <td>Brc1ccc(CNCCN2CCN(Cc3cc4ccccc4[nH]3)CC2)cc1</td>\n",
       "      <td>False</td>\n",
       "    </tr>\n",
       "    <tr>\n",
       "      <th>2</th>\n",
       "      <td>Brc1ccc(N2CCN(Cc3ccccc3)CC2)c2cc[nH]c12</td>\n",
       "      <td>True</td>\n",
       "    </tr>\n",
       "    <tr>\n",
       "      <th>3</th>\n",
       "      <td>Brc1ccc(NCCN2CCN(CCc3c[nH]c4ccccc34)CC2)cc1</td>\n",
       "      <td>True</td>\n",
       "    </tr>\n",
       "    <tr>\n",
       "      <th>4</th>\n",
       "      <td>Brc1ccc(NCCN2CCN(Cc3cc4ccccc4[nH]3)CC2)cc1</td>\n",
       "      <td>True</td>\n",
       "    </tr>\n",
       "    <tr>\n",
       "      <th>...</th>\n",
       "      <td>...</td>\n",
       "      <td>...</td>\n",
       "    </tr>\n",
       "    <tr>\n",
       "      <th>6262</th>\n",
       "      <td>c1cnc(N2CCN(CCCOc3ccc(-c4nc5ccccc5o4)cc3)CC2)nc1</td>\n",
       "      <td>True</td>\n",
       "    </tr>\n",
       "    <tr>\n",
       "      <th>6263</th>\n",
       "      <td>c1cnc(N2CCN(CCCSc3nc4ccccc4s3)CC2)nc1</td>\n",
       "      <td>True</td>\n",
       "    </tr>\n",
       "    <tr>\n",
       "      <th>6264</th>\n",
       "      <td>c1cnc(N2CCN(Cc3c[nH]c4ncccc34)CC2)nc1</td>\n",
       "      <td>False</td>\n",
       "    </tr>\n",
       "    <tr>\n",
       "      <th>6265</th>\n",
       "      <td>c1cncc(CN[C@H]2C3C4CC5C6C4CC3C6C52)c1</td>\n",
       "      <td>False</td>\n",
       "    </tr>\n",
       "    <tr>\n",
       "      <th>6266</th>\n",
       "      <td>c1nc2c(s1)CCN(CCCCN1CCc3ncsc3CC1)CC2</td>\n",
       "      <td>False</td>\n",
       "    </tr>\n",
       "  </tbody>\n",
       "</table>\n",
       "<p>6267 rows × 2 columns</p>\n",
       "</div>"
      ],
      "text/plain": [
       "                                                smiles  value\n",
       "0       Brc1ccc(-[n+]2cc[n+](Cc3ccccc3)cc2)c2cc[nH]c12   True\n",
       "1          Brc1ccc(CNCCN2CCN(Cc3cc4ccccc4[nH]3)CC2)cc1  False\n",
       "2              Brc1ccc(N2CCN(Cc3ccccc3)CC2)c2cc[nH]c12   True\n",
       "3          Brc1ccc(NCCN2CCN(CCc3c[nH]c4ccccc34)CC2)cc1   True\n",
       "4           Brc1ccc(NCCN2CCN(Cc3cc4ccccc4[nH]3)CC2)cc1   True\n",
       "...                                                ...    ...\n",
       "6262  c1cnc(N2CCN(CCCOc3ccc(-c4nc5ccccc5o4)cc3)CC2)nc1   True\n",
       "6263             c1cnc(N2CCN(CCCSc3nc4ccccc4s3)CC2)nc1   True\n",
       "6264             c1cnc(N2CCN(Cc3c[nH]c4ncccc34)CC2)nc1  False\n",
       "6265             c1cncc(CN[C@H]2C3C4CC5C6C4CC3C6C52)c1  False\n",
       "6266              c1nc2c(s1)CCN(CCCCN1CCc3ncsc3CC1)CC2  False\n",
       "\n",
       "[6267 rows x 2 columns]"
      ]
     },
     "execution_count": 2,
     "metadata": {},
     "output_type": "execute_result"
    }
   ],
   "source": [
    "drd2_hi = pd.read_csv('data/drd2_hi.csv', index_col=0)\n",
    "drd2_hi"
   ]
  },
  {
   "cell_type": "markdown",
   "metadata": {},
   "source": [
    "## Problem Formulation\n",
    "The following code cell is time-intensive and has been turned off by default. If you decide to activate and run it, be aware that it may not respond to interruption commands. In such cases, you might need to restart the kernel."
   ]
  },
  {
   "cell_type": "code",
   "execution_count": 3,
   "metadata": {},
   "outputs": [],
   "source": [
    "# Change it to True\n",
    "RUN_CELL = False\n",
    "\n",
    "if RUN_CELL:\n",
    "    smiles = drd2_hi['smiles'].to_list()\n",
    "    partition = lohi.hi_train_test_split(smiles, similarity_threshold=0.4, \n",
    "                                        train_min_frac=0.7, test_min_frac=0.1)\n"
   ]
  },
  {
   "cell_type": "markdown",
   "metadata": {},
   "source": [
    "## Graph Coarsening\n",
    "\n",
    "In this section, we'll delve into the mechanics behind the Hi splitter. For a more in-depth understanding, refer to the tutorial `03_hi_under_the_hood.ipynb`."
   ]
  },
  {
   "cell_type": "markdown",
   "metadata": {},
   "source": [
    "The primary objectives of the Hi algorithm when partitioning a dataset into k parts are:\n",
    "1) Ensuring that there aren't any pairs of molecules that reside in different partitions but are similar to each other.\n",
    "2) Ensuring that the partitions adhere to specified size constraints (e.g., training set approximately 80%, test set approximately 20%).\n",
    "\n",
    "To achieve this, the algorithm constructs a neighborhood graph. In this graph, each node corresponds to a molecule, and two nodes are linked if their respective molecules are similar. Typically, the resulting graph might have one giant connected component and several smaller ones. The smaller components can be allocated to different partitions without much hassle, so the primary challenge lies in splitting the giant connected component into k parts.\n",
    "\n",
    "To enhance the algorithm's speed, we can structure the graph using clusters of molecules rather than individual ones. This process, known as coarsening, enables more efficient computations. Let's explore the differences between the standard and coarsened approaches."
   ]
  },
  {
   "cell_type": "code",
   "execution_count": 4,
   "metadata": {},
   "outputs": [],
   "source": [
    "# This is actually happening inside of the Hi splitter\n",
    "\n",
    "# 1. Build a neighborhood graph. The outcome is a graph structure from the networkx library.\n",
    "smiles = drd2_hi['smiles'].to_list()\n",
    "neighborhood_graph = lohi.get_neighborhood_graph(smiles, threshold=0.4)\n",
    "\n",
    "# 2. Segregate the graph into its largest connected component and the smaller, disconnected components.\n",
    "giant_component, small_components = lohi.get_giant_component(neighborhood_graph)\n",
    "\n",
    "# 3. This section isn't central to the Hi splitter's process but helps in relabeling \n",
    "# nodes of the giant component for clearer indexing. This can be useful for subsequent operations.\n",
    "import networkx as nx\n",
    "old_nodes_to_new = dict(zip(giant_component.nodes(), range(giant_component.number_of_nodes())))\n",
    "giant_component = nx.relabel_nodes(giant_component, old_nodes_to_new)"
   ]
  },
  {
   "cell_type": "markdown",
   "metadata": {},
   "source": [
    "Now, we'll experiment with various coarsening settings. We'll cluster groups of molecules together if their similarity exceeds the `coarsening_threshold`. Then, we'll observe how these settings influence the coarsened graph."
   ]
  },
  {
   "cell_type": "code",
   "execution_count": 5,
   "metadata": {},
   "outputs": [
    {
     "name": "stdout",
     "output_type": "stream",
     "text": [
      "threshold num_nodes average_degree\n",
      "1.0 6082 107.0121670503124\n",
      "0.9 5160 86.87093023255814\n",
      "0.8 3696 56.81547619047619\n",
      "0.7 1963 34.751910341314314\n",
      "0.6 1128 24.48049645390071\n",
      "0.5 648 17.126543209876544\n",
      "0.4 387 11.534883720930232\n"
     ]
    }
   ],
   "source": [
    "print('threshold num_nodes average_degree')\n",
    "for coarsening_threshold in [1.0, 0.90, 0.80, 0.70, 0.60, 0.50, 0.40]:\n",
    "    coarsed_giant_component, _ = lohi.coarse_graph(giant_component, coarsening_threshold)\n",
    "    node_degrees = list(dict(coarsed_giant_component.degree()).values())\n",
    "    print(coarsening_threshold, len(coarsed_giant_component), np.mean(node_degrees))"
   ]
  },
  {
   "cell_type": "markdown",
   "metadata": {},
   "source": [
    "As observed, the lower the threshold, the more compact the coarsened graph becomes. For instance, clustering molecules with a similarity greater than 0.4 results in a graph with 20 times fewer nodes and an average degree reduced by 10 times.\n"
   ]
  },
  {
   "cell_type": "markdown",
   "metadata": {},
   "source": [
    "## Faster Hi Splitter\n",
    "\n",
    "Fortunately, you don't have to handle graph coarsening on your own. The Hi splitter is equipped to manage this for you. You simply need to provide the `coarsening_threshold` parameter. We'll delve into its execution shortly, but first, let's discuss another method to expedite the splitting process.\n",
    "\n",
    "Internally, the Hi splitter employs an optimization routine that maximizes a score function. While it quickly identifies a non-optimal solution, the algorithm might spend significant time improving it. If achieving the absolute optimal solution isn't mandatory for your use case, you can leverage early stopping. This approach halts the optimization once the difference between the current score and the theoretical optimum is sufficiently small. This is determined using the `max_mip_gap` parameter. When the fraction (score - optimum) / optimum drops below the `max_mip_gap` value, the optimization ceases. By default, this parameter is set to 0.1. However, if you prefer a quicker yet possibly less precise solution, you can increase it to 0.3. If the algorithm ends up discarding too many molecules, you can gradually raise this threshold.\n",
    "\n",
    "In the subsequent section, you'll find the code alongside a detailed breakdown of how these parameters influence the results.\n"
   ]
  },
  {
   "cell_type": "code",
   "execution_count": 6,
   "metadata": {},
   "outputs": [
    {
     "name": "stdout",
     "output_type": "stream",
     "text": [
      "Total molecules in the giant component: 6082\n",
      "Min train size 4257\n",
      "Min test size 608\n",
      "Welcome to the CBC MILP Solver \n",
      "Version: Trunk\n",
      "Build Date: Oct 24 2021 \n",
      "\n",
      "Starting solution of the Linear programming relaxation problem using Primal Simplex\n",
      "\n",
      "Coin0506I Presolve 4079 (-774) rows, 774 (0) columns and 8928 (-1548) elements\n",
      "Clp1000I sum of infeasibilities 1.46223e-06 - average 3.58477e-10, 0 fixed columns\n",
      "Coin0506I Presolve 4079 (0) rows, 774 (0) columns and 8928 (0) elements\n",
      "Clp0029I End of values pass after 774 iterations\n",
      "Clp0014I Perturbing problem by 0.001% of 0.90766858 - largest nonzero change 2.99959e-05 ( 0.002488166%) - largest zero change 0\n",
      "Clp0000I Optimal - objective value 6082\n",
      "Clp0000I Optimal - objective value 6082\n",
      "Clp0000I Optimal - objective value 6082\n",
      "Coin0511I After Postsolve, objective 6082, infeasibilities - dual 0 (0), primal 0 (0)\n",
      "Clp0032I Optimal objective 6082 - 0 iterations time 0.132, Presolve 0.00, Idiot 0.12\n",
      "\n",
      "Starting MIP optimization\n",
      "Cgl0003I 34 fixed, 0 tightened bounds, 0 strengthened rows, 0 substitutions\n",
      "Cgl0003I 0 fixed, 0 tightened bounds, 471 strengthened rows, 0 substitutions\n",
      "Cgl0003I 0 fixed, 0 tightened bounds, 209 strengthened rows, 0 substitutions\n",
      "Cgl0003I 0 fixed, 0 tightened bounds, 27 strengthened rows, 0 substitutions\n",
      "Cgl0003I 0 fixed, 0 tightened bounds, 3 strengthened rows, 0 substitutions\n",
      "Cgl0004I processed model has 2378 rows, 740 columns (740 integer (740 of which binary)) and 6072 elements\n",
      "Coin3009W Conflict graph built in 0.000 seconds, density: 0.317%\n",
      "Cgl0015I Clique Strengthening extended 0 cliques, 0 were dominated\n",
      "Cbc0045I Nauty: 4280 orbits (18 useful covering 42 variables), 12 generators, group size: 18432 - sparse size 24894 - took 0.007384 seconds\n",
      "Cbc0038I Initial state - 579 integers unsatisfied sum - 104.679\n",
      "Cbc0038I Pass   1: suminf.   17.58790 (131) obj. -4865.6 iterations 871\n",
      "Cbc0038I Pass   2: suminf.    3.94889 (115) obj. -4865.6 iterations 52\n",
      "Cbc0038I Pass   3: suminf.    3.93532 (111) obj. -4865.6 iterations 45\n",
      "Cbc0038I Pass   4: suminf.    2.35093 (26) obj. -4865.6 iterations 82\n",
      "Cbc0038I Pass   5: suminf.    1.17345 (15) obj. -4865.6 iterations 159\n",
      "Cbc0038I Pass   6: suminf.    1.21499 (15) obj. -4865.6 iterations 33\n",
      "Cbc0038I Pass   7: suminf.   41.00532 (98) obj. -4865.6 iterations 285\n",
      "Cbc0038I Pass   8: suminf.   15.84512 (36) obj. -4865.6 iterations 151\n",
      "Cbc0038I Pass   9: suminf.    8.86852 (21) obj. -4865.6 iterations 48\n",
      "Cbc0038I Pass  10: suminf.    8.16523 (32) obj. -4865.6 iterations 37\n",
      "Cbc0038I Pass  11: suminf.    8.86852 (21) obj. -4865.6 iterations 29\n",
      "Cbc0038I Pass  12: suminf.    6.99326 (22) obj. -4865.6 iterations 213\n",
      "Cbc0038I Pass  13: suminf.    4.80103 (15) obj. -4865.6 iterations 167\n",
      "Cbc0038I Pass  14: suminf.    4.26803 (13) obj. -4865.6 iterations 101\n",
      "Cbc0038I Pass  15: suminf.    4.24186 (13) obj. -4865.6 iterations 39\n",
      "Cbc0038I Pass  16: suminf.    3.74940 (12) obj. -4865.6 iterations 108\n",
      "Cbc0038I Pass  17: suminf.    3.74940 (12) obj. -4865.6 iterations 39\n",
      "Cbc0038I Pass  18: suminf.    3.77172 (12) obj. -4865.6 iterations 73\n",
      "Cbc0038I Pass  19: suminf.    3.77172 (12) obj. -4865.6 iterations 35\n",
      "Cbc0038I Pass  20: suminf.    3.74940 (12) obj. -4865.6 iterations 51\n",
      "Cbc0038I Pass  21: suminf.    6.28432 (19) obj. -4865.6 iterations 285\n",
      "Cbc0038I Pass  22: suminf.    5.55271 (17) obj. -4865.6 iterations 190\n",
      "Cbc0038I Pass  23: suminf.    4.76300 (14) obj. -4865.6 iterations 184\n",
      "Cbc0038I Pass  24: suminf.    4.57199 (14) obj. -4865.6 iterations 39\n",
      "Cbc0038I Pass  25: suminf.    7.99083 (134) obj. -4865.6 iterations 236\n",
      "Cbc0038I Pass  26: suminf.    4.69866 (14) obj. -4865.6 iterations 162\n",
      "Cbc0038I Pass  27: suminf.    4.69866 (14) obj. -4865.6 iterations 2\n",
      "Cbc0038I Pass  28: suminf.    3.84246 (11) obj. -4865.6 iterations 153\n",
      "Cbc0038I Pass  29: suminf.    3.84246 (11) obj. -4865.6 iterations 45\n",
      "Cbc0038I Pass  30: suminf.    3.14766 (9) obj. -4865.6 iterations 231\n",
      "Cbc0038I No solution found this major pass\n",
      "Cbc0038I Before mini branch and bound, 121 integers at bound fixed and 0 continuous\n",
      "Cbc0038I Full problem 2378 rows 740 columns, reduced to 1822 rows 591 columns - too large\n",
      "Cbc0038I Mini branch and bound did not improve solution (0.33 seconds)\n",
      "Cbc0038I Full problem 2379 rows 740 columns, reduced to 2379 rows 740 columns - too large\n",
      "Cbc0038I After 0.37 seconds - Feasibility pump exiting - took 0.23 seconds\n",
      "Cbc0031I 12 added rows had average density of 297.83333\n",
      "Cbc0013I At root node, 12 cuts changed objective from -5507.9295 to -5455.9962 in 28 passes\n",
      "Cbc0014I Cut generator 0 (Probing) - 0 row cuts average 0.0 elements, 0 column cuts (0 active)  in 0.052 seconds - new frequency is -100\n",
      "Cbc0014I Cut generator 1 (Gomory) - 202 row cuts average 285.7 elements, 0 column cuts (0 active)  in 0.252 seconds - new frequency is -100\n",
      "Cbc0014I Cut generator 2 (Knapsack) - 0 row cuts average 0.0 elements, 0 column cuts (0 active)  in 0.012 seconds - new frequency is -100\n",
      "Cbc0014I Cut generator 3 (Clique) - 0 row cuts average 0.0 elements, 0 column cuts (0 active)  in 0.082 seconds - new frequency is -100\n",
      "Cbc0014I Cut generator 4 (OddWheel) - 0 row cuts average 0.0 elements, 0 column cuts (0 active)  in 0.828 seconds - new frequency is -100\n",
      "Cbc0014I Cut generator 5 (MixedIntegerRounding2) - 1 row cuts average 353.0 elements, 0 column cuts (0 active)  in 0.060 seconds - new frequency is -100\n",
      "Cbc0014I Cut generator 6 (FlowCover) - 0 row cuts average 0.0 elements, 0 column cuts (0 active)  in 0.002 seconds - new frequency is -100\n",
      "Cbc0014I Cut generator 7 (TwoMirCuts) - 71 row cuts average 229.9 elements, 0 column cuts (0 active)  in 0.442 seconds - new frequency is 1\n",
      "Cbc0010I After 0 nodes, 1 on tree, 1e+50 best solution, best possible -5455.9962 (2.71 seconds)\n",
      "Cbc0012I Integer solution of -4905 found by DiveCoefficient after 2446 iterations and 3 nodes (3.24 seconds)\n",
      "Cbc0012I Integer solution of -4914 found by heuristic after 2589 iterations and 6 nodes (3.38 seconds)\n",
      "Cbc0012I Integer solution of -4944 found by heuristic after 2746 iterations and 9 nodes (3.46 seconds)\n",
      "Cbc0010I After 10 nodes, 2 on tree, -4944 best solution, best possible -5454.2774 (3.63 seconds)\n",
      "Cbc0012I Integer solution of -4953 found by DiveCoefficient after 3326 iterations and 15 nodes (3.77 seconds)\n",
      "Cbc0012I Integer solution of -4949 found by heuristic after 3234 iterations and 16 nodes (3.80 seconds)\n",
      "Cbc0012I Integer solution of -4953 found by heuristic after 3417 iterations and 19 nodes (3.84 seconds)\n",
      "Cbc0012I Integer solution of -5048 found by heuristic after 4065 iterations and 29 nodes (4.05 seconds)\n",
      "Cbc0012I Integer solution of -5141 found by heuristic after 4451 iterations and 44 nodes (4.20 seconds)\n",
      "Cbc0010I After 56 nodes, 2 on tree, -5141 best solution, best possible -5453.8557 (4.33 seconds)\n",
      "Cbc0012I Integer solution of -5149 found by heuristic after 5103 iterations and 61 nodes (4.38 seconds)\n",
      "Cbc0012I Integer solution of -5203 found by heuristic after 8035 iterations and 119 nodes (4.85 seconds)\n",
      "Cbc0010I After 164 nodes, 1 on tree, -5203 best solution, best possible -5452.228 (5.03 seconds)\n",
      "Cbc0010I After 400 nodes, 63 on tree, -5203 best solution, best possible -5452.228 (5.74 seconds)\n",
      "Cbc0010I After 708 nodes, 26 on tree, -5203 best solution, best possible -5452.228 (6.44 seconds)\n",
      "Cbc0010I After 1143 nodes, 1 on tree, -5203 best solution, best possible -5452.228 (7.16 seconds)\n",
      "Cbc0010I After 1213 nodes, 10 on tree, -5203 best solution, best possible -5451.4383 (7.87 seconds)\n",
      "Cbc0012I Integer solution of -5345 found by heuristic after 79829 iterations and 1323 nodes (8.30 seconds)\n",
      "Cbc0010I After 1385 nodes, 2 on tree, -5345 best solution, best possible -5449.4158 (8.59 seconds)\n",
      "Cbc0010I After 1610 nodes, 41 on tree, -5345 best solution, best possible -5449.4158 (9.29 seconds)\n",
      "Cbc0010I After 1810 nodes, 40 on tree, -5345 best solution, best possible -5449.4158 (9.99 seconds)\n",
      "Cbc0010I After 2092 nodes, 17 on tree, -5345 best solution, best possible -5449.4158 (10.69 seconds)\n",
      "Cbc0010I After 2257 nodes, 1 on tree, -5345 best solution, best possible -5448.6855 (11.43 seconds)\n",
      "Cbc0010I After 2502 nodes, 30 on tree, -5345 best solution, best possible -5443.3337 (12.13 seconds)\n",
      "Cbc0010I After 2771 nodes, 1 on tree, -5345 best solution, best possible -5443.3337 (12.84 seconds)\n",
      "Cbc0030I Thread 0 used 178 times,  waiting to start 1.2726231,  922 locks, 0.013572693 locked, 0.0031621456 waiting for locks\n",
      "Cbc0030I Thread 1 used 165 times,  waiting to start 1.8295321,  842 locks, 0.016843081 locked, 0.0033493042 waiting for locks\n",
      "Cbc0030I Thread 2 used 154 times,  waiting to start 2.5738151,  803 locks, 0.012941599 locked, 0.010925293 waiting for locks\n",
      "Cbc0030I Thread 3 used 148 times,  waiting to start 2.6849239,  773 locks, 0.012850285 locked, 0.0046899319 waiting for locks\n",
      "Cbc0030I Thread 4 used 176 times,  waiting to start 2.653264,  899 locks, 0.018228054 locked, 0.011439562 waiting for locks\n",
      "Cbc0030I Thread 5 used 131 times,  waiting to start 2.8784277,  715 locks, 0.00933671 locked, 0.0019624233 waiting for locks\n",
      "Cbc0030I Thread 6 used 156 times,  waiting to start 2.8841515,  794 locks, 0.019712448 locked, 0.0081813335 waiting for locks\n",
      "Cbc0030I Thread 7 used 150 times,  waiting to start 3.0473359,  758 locks, 0.012097836 locked, 0.0050005913 waiting for locks\n",
      "Cbc0030I Thread 8 used 158 times,  waiting to start 3.200104,  800 locks, 0.013193369 locked, 0.00572896 waiting for locks\n",
      "Cbc0030I Thread 9 used 138 times,  waiting to start 2.8672888,  719 locks, 0.010276318 locked, 0.026575089 waiting for locks\n",
      "Cbc0030I Thread 10 used 153 times,  waiting to start 3.4711013,  753 locks, 0.014105797 locked, 0.011758089 waiting for locks\n",
      "Cbc0030I Thread 11 used 162 times,  waiting to start 3.7151535,  805 locks, 0.012840748 locked, 0.024342299 waiting for locks\n",
      "Cbc0030I Thread 12 used 118 times,  waiting to start 3.5186074,  585 locks, 0.013391256 locked, 0.0071604252 waiting for locks\n",
      "Cbc0030I Thread 13 used 119 times,  waiting to start 3.3983603,  630 locks, 0.0088171959 locked, 0.0016787052 waiting for locks\n",
      "Cbc0030I Thread 14 used 126 times,  waiting to start 3.3040857,  633 locks, 0.010465622 locked, 0.0043711662 waiting for locks\n",
      "Cbc0030I Thread 15 used 120 times,  waiting to start 3.247159,  586 locks, 0.010248899 locked, 0.004748106 waiting for locks\n",
      "Cbc0030I Thread 16 used 129 times,  waiting to start 3.3653145,  622 locks, 0.013319731 locked, 0.0018274784 waiting for locks\n",
      "Cbc0030I Thread 17 used 116 times,  waiting to start 3.222537,  578 locks, 0.010189533 locked, 0.0014259815 waiting for locks\n",
      "Cbc0030I Thread 18 used 119 times,  waiting to start 3.2124527,  590 locks, 0.023869991 locked, 0.010766029 waiting for locks\n",
      "Cbc0030I Thread 19 used 114 times,  waiting to start 4.041966,  573 locks, 0.0084140301 locked, 0.0046873093 waiting for locks\n",
      "Cbc0030I Main thread 7.257303 waiting for threads,  5754 locks, 0.0027177334 locked, 0.033328056 waiting for locks\n",
      "Cbc0045I Orbital branching succeeded 849 times - average extra   0.001, fixing (256,   1.004)\n",
      "Cbc0001I Search completed - best objective -5345, took 209127 iterations and 2830 nodes (13.23 seconds)\n",
      "Cbc0032I Strong branching done 11236 times (540279 iterations), fathomed 311 nodes and fixed 454 variables\n",
      "Cbc0035I Maximum depth 14, 919 variables fixed on reduced cost\n",
      "Total time (CPU seconds):       142.64   (Wallclock seconds):       13.26\n",
      "\n",
      "\n",
      "Total partitions: 2\n",
      "Number of discarded molecules: 737\n",
      "Molecules in partition 0 : 4824\n",
      "Molecules in partition 1 : 706\n"
     ]
    }
   ],
   "source": [
    "smiles = drd2_hi['smiles'].to_list()\n",
    "\n",
    "# Define a threshold for similarity. Molecules with similarity > 0.4 are considered similar.\n",
    "similarity_threshold = 0.4\n",
    "\n",
    "# Set fractions for the train and test sets.\n",
    "# Increase their sum to discard fewer molecules. Decrease it to speed up computations.\n",
    "train_min_frac = 0.70\n",
    "test_min_frac = 0.10\n",
    "\n",
    "# Threshold for graph clustering.\n",
    "# Increase it to discard fewer molecules. Decrease it to speed up computations.\n",
    "coarsening_threshold = 0.4\n",
    "\n",
    "# How close we should be to the theoretical optimum to terminate the optimization.\n",
    "# Should be in [0, 1].\n",
    "# Decrease it to discard fewer molecules. Increase it to speed up computations.\n",
    "max_mip_gap = 0.01\n",
    "\n",
    "partition = lohi.hi_train_test_split(smiles=smiles,\n",
    "                                     similarity_threshold=similarity_threshold,\n",
    "                                     train_min_frac=train_min_frac,\n",
    "                                     test_min_frac=test_min_frac,\n",
    "                                     coarsening_threshold=coarsening_threshold,\n",
    "                                     max_mip_gap=max_mip_gap)"
   ]
  },
  {
   "cell_type": "markdown",
   "metadata": {},
   "source": [
    "These settings should enable you to split the HIV dataset, comprising 40k molecules, in just a few hours. If this duration is still too lengthy for your dataset, or if the standard Hi split isn't entirely suitable for your task, refer to 03_hi_under_the_hood.ipynb for insights on how to modify the approach."
   ]
  },
  {
   "cell_type": "markdown",
   "metadata": {},
   "source": []
  }
 ],
 "metadata": {
  "kernelspec": {
   "display_name": "lohi_splitter_dev",
   "language": "python",
   "name": "python3"
  },
  "language_info": {
   "codemirror_mode": {
    "name": "ipython",
    "version": 3
   },
   "file_extension": ".py",
   "mimetype": "text/x-python",
   "name": "python",
   "nbconvert_exporter": "python",
   "pygments_lexer": "ipython3",
   "version": "3.7.16"
  },
  "orig_nbformat": 4
 },
 "nbformat": 4,
 "nbformat_minor": 2
}
