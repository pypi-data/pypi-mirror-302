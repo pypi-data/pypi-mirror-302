{
 "cells": [
  {
   "cell_type": "markdown",
   "metadata": {},
   "source": [
    "# GAMER: Generative Analysis of Metadata Retrieval"
   ]
  },
  {
   "cell_type": "markdown",
   "metadata": {},
   "source": [
    "This model uses a multi agent framework on Langraph to retrieve and summarize metadata information based on a user's natural language query. \n",
    "\n",
    "This workflow consists of 6 agents, or nodes, where a decision is made and there is new context provided to either the model or the user. Here are some decisions incorporated into the framework:\n",
    "1. To best answer the query, does the entire database need to be queried, or the vector index?\n",
    "- Input: `x (query)`\n",
    "- Decides best data to query against\n",
    "- Output: `entire_database, vector_embeddings`\n",
    "2. If querying against the vector embeddings, does the index need to be filtered further with metdata tags, to improve optimization of retrieval?\n",
    "- Input: `x (query)`\n",
    "- Decides whether database can be further filtered by applying a MongoDB query\n",
    "- Output: `MongoDB query, None`\n",
    "3. Are the documents retrieved during retrieval relevant to the question?\n",
    "- Input: `x (query)`\n",
    "- Decides whether document should be kept or tossed during summarization\n",
    "- Output: `yes, no`\n"
   ]
  },
  {
   "cell_type": "markdown",
   "metadata": {},
   "source": [
    "![title](graph_workflow.png)"
   ]
  },
  {
   "cell_type": "markdown",
   "metadata": {},
   "source": [
    "## Calling the model"
   ]
  },
  {
   "cell_type": "markdown",
   "metadata": {},
   "source": [
    "### Synchronous calling"
   ]
  },
  {
   "cell_type": "code",
   "execution_count": 14,
   "metadata": {},
   "outputs": [
    {
     "name": "stdout",
     "output_type": "stream",
     "text": [
      "The retrieved information provides details about an imaging experiment conducted on a SmartSPIM instrument for the subject with ID 675387. Here is a summary of the key details:\n",
      "\n",
      "Instrument Details:\n",
      "- Instrument ID: SmartSPIM1-2\n",
      "- Instrument Type: SmartSPIM\n",
      "- Manufacturer: LifeCanvas\n",
      "- Location: 615 Westlake\n",
      "- Temperature control: True\n",
      "- Optical table: VIS3648-PG4-325A (MKS Newport), 36 x 48 inch, vibration control\n",
      "- Objective: TL2X-SAP (Thorlabs), 0.1 NA, 1.6x magnification, multi-immersion\n",
      "\n",
      "Acquisition Details:\n",
      "- Subject ID: 675387  \n",
      "- Session start time: 2023-05-23T23:05:56\n",
      "- Session end time: 2023-05-24T04:10:10\n",
      "- Experimenter: John Rohde\n",
      "- Storage directory: D:/SmartSPIM_Data\n",
      "- Imaging axes: X (left-right, μm), Y (posterior-anterior, μm), Z (superior-inferior, μm)\n",
      "- Chamber immersion medium: Cargille Oil 1.5200 (RI 1.5207)\n",
      "- Sample immersion medium: EasyIndex (RI 1.513)\n",
      "\n",
      "Tile Details:\n",
      "- Tile 83: Ex 639 nm, Em 660 nm, file path Ex_639_Em_660/540340/540340_563980/, translation (54034, 56398, 4.2 μm), scale (1.8, 1.8, 2)\n",
      "- Tile 53: Ex 639 nm, Em 660 nm, file path Ex_639_Em_660/475540/475540_512140/, translation (47554, 51214, 4.2 μm), scale (1.8, 1.8, 2)\n",
      "- Tile 54: Ex 445 nm, Em 469 nm, 30 mW, file path Ex_445_Em_469/507940/507940_512140/, translation (50794, 51214, 4.2 μm), scale (1.8, 1.8, 2)\n",
      "- Tile 23: Ex 639 nm, Em 660 nm, file path Ex_639_Em_660/540340/540340_434380/, translation (54034, 43438, 4.2 μm), scale (1.8, 1.8, 2)\n",
      "- Tile 24: Ex 445 nm, Em 469 nm, 30 mW, file path Ex_445_Em_469/443140/443140_460300/, translation (44314, 46030, 4.2 μm), scale (1.8, 1.8, 2)\n",
      "\n",
      "The data was collected as part of the \"Thalamus in the middle\" project at the Allen Institute for Neural Dynamics, funded by NINDS grant NIH1U19NS123714-01.\n"
     ]
    }
   ],
   "source": [
    "from GAMER import GAMER\n",
    "query = \"give me a summary of SmartSPIM_675387_2023-05-23_23-05-56\"\n",
    "\n",
    "model = GAMER()\n",
    "result = model.invoke(query)\n",
    "print(result)"
   ]
  },
  {
   "cell_type": "markdown",
   "metadata": {},
   "source": [
    "### Asynchronous calling"
   ]
  },
  {
   "cell_type": "code",
   "execution_count": 16,
   "metadata": {},
   "outputs": [
    {
     "data": {
      "text/plain": [
       "'The retrieved information provides details about an imaging experiment conducted on a SmartSPIM instrument for the subject with ID 675387. Here is a summary of the key points:\\n\\n1. The experiment was performed on the SmartSPIM1-2 instrument located at 615 Westlake, manufactured by LifeCanvas. The instrument has temperature control but no humidity control.\\n\\n2. The imaging session started on 2023-05-23 at 23:05:56 and ended on 2023-05-24 at 04:10:10. The experimenter was John Rohde.\\n\\n3. The data was acquired with a Thorlabs TL2X-SAP objective with a numerical aperture of 0.1 and 1.6x magnification.\\n\\n4. The imaging was performed with a 639nm excitation laser and 660nm emission filter.\\n\\n5. A single tile (tile 83) was imaged, with coordinates (54034, 56398, 4.2) and a scaling factor of (1.8, 1.8, 2).\\n\\n6. The specimen (675387) underwent several procedures, including active delipidation, 50% EasyIndex refractive index matching, and 100% EasyIndex refractive index matching, performed by experimenter DT.\\n\\n7. The specimen was obtained through a perfusion procedure following a surgery on 2023-04-28, performed by experimenter 30509.'"
      ]
     },
     "execution_count": 16,
     "metadata": {},
     "output_type": "execute_result"
    }
   ],
   "source": [
    "from GAMER import GAMER\n",
    "llm = GAMER()\n",
    "query = \"give me a summary of SmartSPIM_675387_2023-05-23_23-05-56\"\n",
    "\n",
    "await llm.ainvoke(query)"
   ]
  }
 ],
 "metadata": {
  "kernelspec": {
   "display_name": ".venv",
   "language": "python",
   "name": "python3"
  },
  "language_info": {
   "codemirror_mode": {
    "name": "ipython",
    "version": 3
   },
   "file_extension": ".py",
   "mimetype": "text/x-python",
   "name": "python",
   "nbconvert_exporter": "python",
   "pygments_lexer": "ipython3",
   "version": "3.9.13"
  }
 },
 "nbformat": 4,
 "nbformat_minor": 2
}
