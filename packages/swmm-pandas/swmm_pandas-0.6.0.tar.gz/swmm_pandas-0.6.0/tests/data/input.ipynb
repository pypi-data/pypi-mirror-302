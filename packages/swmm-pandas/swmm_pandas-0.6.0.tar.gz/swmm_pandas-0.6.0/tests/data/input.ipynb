{
 "cells": [
  {
   "cell_type": "code",
   "execution_count": 2,
   "metadata": {},
   "outputs": [],
   "source": [
    "import swmm.pandas as spd\n",
    "#import swmm_api as api\n",
    "import swmm.pandas.input._section_classes as sc\n",
    "import datetime\n",
    "\n",
    "#from swmm_api.input_file import read_inp_file, SwmmInput, section_labels as sections\n",
    "import pandas as pd\n",
    "import numpy.testing as nptest\n",
    "import swmmio\n",
    "import numpy as np\n",
    "from textwrap import dedent\n",
    "from pprint import pprint \n",
    "pd.options.display.max_columns=100\n",
    "from calendar import month_abbr\n",
    "import numpy as np\n",
    "\n",
    "def month_to_number(abrr):\n",
    "    try:\n",
    "        return list(month_abbr).index(abrr.capitalize())\n",
    "    except:\n",
    "        return -1\n",
    "    \n",
    "inp = spd.InputFile('bench_inp.inp')\n",
    "# ainp = api.input_file.SwmmInput('Inlet_Drains_Model.inp')\n",
    "#inp = spd.Input('Detention_Pond_Model.inp')"
   ]
  },
  {
   "cell_type": "code",
   "execution_count": 3,
   "metadata": {},
   "outputs": [],
   "source": [
    "inp.adjustments.loc[\"EVAPORATION\", \"May\":\"Nov\"] = np.nan\n",
    "inp.adjustments.loc[\"EVAPORATION\", \"Jan\":\"Dec\"] = (\n",
    "    inp.adjustments.loc[\"EVAPORATION\", \"Jan\":\"Dec\"].astype(float).interpolate()\n",
    ")\n"
   ]
  },
  {
   "cell_type": "code",
   "execution_count": 4,
   "metadata": {},
   "outputs": [
    {
     "name": "stdout",
     "output_type": "stream",
     "text": [
      ";;Parameter   Subcatchment  Pattern  Jan  Feb  Mar   Apr   May     Jun    Jul     Aug   Sep     Oct    Nov    Dec  \n",
      ";;----------  ------------  -------  ---  ---  ----  ----  ------  -----  ------  ----  ------  -----  -----  ---  \n",
      "TEMPERATURE                          1    2    -3    -4    3       5      0.875   -10   9       1      -0.5   1    \n",
      "EVAPORATION                          1.0  2.0  -3.0  -4.0  -3.375  -2.75  -2.125  -1.5  -0.875  -0.25  0.375  1.0  \n",
      "RAINFALL                             1.0  2    -3    -4    3       5      0.875   -10   9       1.0    -0.5   1.0  \n",
      "CONDUCTIVITY                         1.0  2    -3    -4    3       5      0.875   -10   9       1.0    -0.5   1.0  \n",
      "N-PERV        SUB3          Monthly                                                                                \n",
      "DSTORE        SUB3          Monthly                                                                                \n",
      "\n"
     ]
    }
   ],
   "source": [
    "print(inp.adjustments.to_swmm_string())"
   ]
  },
  {
   "cell_type": "code",
   "execution_count": 2,
   "metadata": {},
   "outputs": [],
   "source": [
    "model = spd.Input('bench_inp.inp')\n",
    "#model.inp.tags.loc[('Link',slice(None))]"
   ]
  },
  {
   "cell_type": "code",
   "execution_count": null,
   "metadata": {},
   "outputs": [],
   "source": [
    "model.aquifer"
   ]
  },
  {
   "cell_type": "code",
   "execution_count": 4,
   "metadata": {},
   "outputs": [],
   "source": [
    "model.aquifer = 'this'"
   ]
  },
  {
   "cell_type": "code",
   "execution_count": null,
   "metadata": {},
   "outputs": [],
   "source": [
    "model.inp.aquifer"
   ]
  },
  {
   "cell_type": "code",
   "execution_count": null,
   "metadata": {},
   "outputs": [],
   "source": [
    "model.this"
   ]
  },
  {
   "cell_type": "code",
   "execution_count": null,
   "metadata": {},
   "outputs": [],
   "source": [
    "model._general_constructor(\n",
    "    [\n",
    "        model.inp.subcatchment,\n",
    "        model.inp.subarea,\n",
    "        model.inp.tags.loc[slice(\"Subcatch\", \"Subcatch\"), slice(None)].droplevel(\n",
    "                    \"Element\"\n",
    "                ),\n",
    "    ]\n",
    ")"
   ]
  },
  {
   "cell_type": "code",
   "execution_count": null,
   "metadata": {},
   "outputs": [],
   "source": [
    "model.junc = 'this'"
   ]
  },
  {
   "cell_type": "code",
   "execution_count": null,
   "metadata": {},
   "outputs": [],
   "source": [
    "spd.Input.conduit.setter"
   ]
  },
  {
   "cell_type": "code",
   "execution_count": 3,
   "metadata": {},
   "outputs": [],
   "source": [
    "model.outfall.loc['OUT3','X'] = 78.7\n",
    "model.outfall.loc['OUT3','Y'] = 268.018\n",
    "model.outfall.loc['OUT3','Tag'] = 'UPDATE'"
   ]
  },
  {
   "cell_type": "code",
   "execution_count": null,
   "metadata": {},
   "outputs": [],
   "source": [
    "model.conduit"
   ]
  },
  {
   "cell_type": "code",
   "execution_count": 5,
   "metadata": {},
   "outputs": [],
   "source": [
    "inp = model.to_input()"
   ]
  },
  {
   "cell_type": "code",
   "execution_count": 6,
   "metadata": {},
   "outputs": [],
   "source": [
    "inp.to_file('test_out_file.inp')"
   ]
  },
  {
   "cell_type": "code",
   "execution_count": 7,
   "metadata": {},
   "outputs": [],
   "source": [
    "model.junc.loc['JUNC2','AvgValue'] = 1000\n",
    "model.junc.loc['JUNC1','Baseline'] = 1000\n",
    "model.junc.loc['JUNC1','Tag'] = 'This'"
   ]
  },
  {
   "cell_type": "code",
   "execution_count": 8,
   "metadata": {},
   "outputs": [],
   "source": [
    "model.junc.loc['JUNC1','X'] = 100"
   ]
  },
  {
   "cell_type": "code",
   "execution_count": 9,
   "metadata": {},
   "outputs": [],
   "source": [
    "inp = model.to_input()"
   ]
  },
  {
   "cell_type": "code",
   "execution_count": null,
   "metadata": {},
   "outputs": [],
   "source": [
    "inp.coordinates"
   ]
  },
  {
   "cell_type": "code",
   "execution_count": null,
   "metadata": {},
   "outputs": [],
   "source": [
    "inp.coordinates"
   ]
  },
  {
   "cell_type": "code",
   "execution_count": null,
   "metadata": {},
   "outputs": [],
   "source": [
    "inp.inflow"
   ]
  },
  {
   "cell_type": "code",
   "execution_count": 3,
   "metadata": {},
   "outputs": [],
   "source": [
    "model.conduit.loc['COND5','Tag'] = 'test'"
   ]
  },
  {
   "cell_type": "code",
   "execution_count": null,
   "metadata": {},
   "outputs": [],
   "source": [
    "print(inp.dwf.to_swmm_string())"
   ]
  },
  {
   "cell_type": "code",
   "execution_count": 5,
   "metadata": {},
   "outputs": [],
   "source": []
  },
  {
   "cell_type": "code",
   "execution_count": null,
   "metadata": {},
   "outputs": [],
   "source": [
    "inp.dwf"
   ]
  },
  {
   "cell_type": "code",
   "execution_count": 3,
   "metadata": {},
   "outputs": [],
   "source": [
    "model.conduit.loc['COND9','Length'] = 100\n",
    "model.conduit.loc['COND9','Geom1'] = 1000\n",
    "model.conduit.loc['COND9','Shape'] = 'CIRCULAR'\n",
    "\n",
    "model.conduit.loc['COND9','Kentry'] = 9\n",
    "model.conduit.loc['COND9','FlapGate'] = 'YES'"
   ]
  },
  {
   "cell_type": "code",
   "execution_count": null,
   "metadata": {},
   "outputs": [],
   "source": [
    "pd.concat([model.inp.tags],keys=['this'],names=['that'])"
   ]
  },
  {
   "cell_type": "code",
   "execution_count": null,
   "metadata": {},
   "outputs": [],
   "source": [
    "model.conduit"
   ]
  },
  {
   "cell_type": "code",
   "execution_count": null,
   "metadata": {},
   "outputs": [],
   "source": [
    "inpp = model.to_input()"
   ]
  },
  {
   "cell_type": "code",
   "execution_count": null,
   "metadata": {},
   "outputs": [],
   "source": [
    "print(inpp.losses.to_swmm_string())"
   ]
  },
  {
   "cell_type": "code",
   "execution_count": null,
   "metadata": {},
   "outputs": [],
   "source": [
    "inpp.xsections.reset_index()"
   ]
  },
  {
   "cell_type": "code",
   "execution_count": null,
   "metadata": {},
   "outputs": [],
   "source": [
    "print(inpp.to_string())"
   ]
  },
  {
   "cell_type": "code",
   "execution_count": null,
   "metadata": {},
   "outputs": [],
   "source": [
    "super(spd.input.model.Model,model).to_string()"
   ]
  },
  {
   "cell_type": "code",
   "execution_count": null,
   "metadata": {},
   "outputs": [],
   "source": [
    "inp.conduit.__class__.__name__"
   ]
  },
  {
   "cell_type": "code",
   "execution_count": 4,
   "metadata": {},
   "outputs": [],
   "source": [
    "pd.options.display.max_columns=100"
   ]
  },
  {
   "cell_type": "code",
   "execution_count": 8,
   "metadata": {},
   "outputs": [],
   "source": [
    "sio = swmmio.Model('bench_inp.inp')"
   ]
  },
  {
   "cell_type": "code",
   "execution_count": null,
   "metadata": {},
   "outputs": [],
   "source": [
    "sio.conduits()"
   ]
  },
  {
   "cell_type": "code",
   "execution_count": null,
   "metadata": {},
   "outputs": [],
   "source": [
    "sio.inp.outfalls"
   ]
  },
  {
   "cell_type": "code",
   "execution_count": null,
   "metadata": {},
   "outputs": [],
   "source": [
    "inp.outfall"
   ]
  },
  {
   "cell_type": "code",
   "execution_count": null,
   "metadata": {},
   "outputs": [],
   "source": [
    "model.infil"
   ]
  },
  {
   "cell_type": "code",
   "execution_count": 13,
   "metadata": {},
   "outputs": [],
   "source": []
  },
  {
   "cell_type": "code",
   "execution_count": null,
   "metadata": {},
   "outputs": [],
   "source": [
    "model.hydrographs.loc['HydrA']"
   ]
  },
  {
   "cell_type": "code",
   "execution_count": 3,
   "metadata": {},
   "outputs": [],
   "source": [
    "model.conduit.loc['COND9','Length'] = 100"
   ]
  },
  {
   "cell_type": "code",
   "execution_count": null,
   "metadata": {},
   "outputs": [],
   "source": [
    "model.to_input()"
   ]
  },
  {
   "cell_type": "code",
   "execution_count": null,
   "metadata": {},
   "outputs": [],
   "source": []
  },
  {
   "cell_type": "code",
   "execution_count": 2,
   "metadata": {},
   "outputs": [],
   "source": [
    "rptb=spd.Report(\"bench_rpt.rpt\")\n",
    "rptt = spd.Report(\"test_model.rpt\")"
   ]
  },
  {
   "cell_type": "code",
   "execution_count": 7,
   "metadata": {},
   "outputs": [],
   "source": [
    "with open('bench_rpt.rpt') as f:\n",
    "    bench = f.read()\n",
    "with open('test_model.rpt') as f:\n",
    "    test = f.read()\n"
   ]
  },
  {
   "cell_type": "code",
   "execution_count": null,
   "metadata": {},
   "outputs": [],
   "source": [
    "bench"
   ]
  },
  {
   "cell_type": "code",
   "execution_count": 5,
   "metadata": {},
   "outputs": [],
   "source": [
    "pd.testing.assert_frame_equal(bench,test)"
   ]
  },
  {
   "cell_type": "code",
   "execution_count": 6,
   "metadata": {},
   "outputs": [],
   "source": [
    "for attr in dir(rptb):\n",
    "    if not attr.startswith(('_','analysis')):\n",
    "        bench = getattr(rptb,attr)\n",
    "        test = getattr(rptt,attr)\n",
    "        pd.testing.assert_frame_equal(bench,test)"
   ]
  },
  {
   "cell_type": "code",
   "execution_count": null,
   "metadata": {},
   "outputs": [],
   "source": []
  },
  {
   "cell_type": "code",
   "execution_count": null,
   "metadata": {},
   "outputs": [],
   "source": [
    "inp.tags.index"
   ]
  },
  {
   "cell_type": "code",
   "execution_count": 6,
   "metadata": {},
   "outputs": [],
   "source": [
    "inp.tags.loc[('Link','C5'),'Tag'] = \"a_new_kind_of_GI\"\n",
    "inp.tags.loc[('Link','C5'),'desc'] = \"this is a new test GI\""
   ]
  },
  {
   "cell_type": "code",
   "execution_count": null,
   "metadata": {},
   "outputs": [],
   "source": [
    "print(inp.tags.to_swmm_string())"
   ]
  },
  {
   "cell_type": "code",
   "execution_count": 15,
   "metadata": {},
   "outputs": [],
   "source": [
    "inp.polygons.iloc[0,0] = 10_000\n",
    "inp.polygons.iloc[0,2] = \"crazy X value\""
   ]
  },
  {
   "cell_type": "code",
   "execution_count": null,
   "metadata": {},
   "outputs": [],
   "source": [
    "print(inp.polygons.to_swmm_string())"
   ]
  },
  {
   "cell_type": "code",
   "execution_count": null,
   "metadata": {},
   "outputs": [],
   "source": [
    "s = spd.Output('Model.out',preload=True)\n",
    "s._open()"
   ]
  },
  {
   "cell_type": "code",
   "execution_count": null,
   "metadata": {},
   "outputs": [],
   "source": [
    "s.data.columns"
   ]
  },
  {
   "cell_type": "code",
   "execution_count": 2,
   "metadata": {},
   "outputs": [],
   "source": [
    "        inp.patterns.loc[(\"Monthly\", slice(None)), \"Multiplier\"] *= 100\n",
    "        inp.patterns.loc[(\"Monthly\", 0), \"desc\"] = \"A massive monthly pattern\"\n"
   ]
  },
  {
   "cell_type": "code",
   "execution_count": null,
   "metadata": {},
   "outputs": [],
   "source": [
    "print(inp.patterns.to_swmm_string())"
   ]
  },
  {
   "cell_type": "code",
   "execution_count": null,
   "metadata": {},
   "outputs": [],
   "source": [
    "inp.curves.attrs"
   ]
  },
  {
   "cell_type": "code",
   "execution_count": 3,
   "metadata": {},
   "outputs": [],
   "source": [
    "inp.curves.loc[(\"P1\", 2), :] = [10, 10, \"extended the curve\"]"
   ]
  },
  {
   "cell_type": "code",
   "execution_count": null,
   "metadata": {},
   "outputs": [],
   "source": []
  },
  {
   "cell_type": "code",
   "execution_count": null,
   "metadata": {},
   "outputs": [],
   "source": [
    "print(inp.curves.to_swmm_string())"
   ]
  },
  {
   "cell_type": "code",
   "execution_count": null,
   "metadata": {},
   "outputs": [],
   "source": [
    "inp.patterns.reset_index().shape"
   ]
  },
  {
   "cell_type": "code",
   "execution_count": 3,
   "metadata": {},
   "outputs": [],
   "source": [
    "inp.patterns.loc[(\"Monthly\", slice(None)), \"Multiplier\"] *= 100\n",
    "inp.patterns.loc[(\"Monthly\", 0), \"desc\"] = \"A massive monthly pattern\"\n"
   ]
  },
  {
   "cell_type": "code",
   "execution_count": null,
   "metadata": {},
   "outputs": [],
   "source": [
    "print(inp.patterns.to_swmm_string())"
   ]
  },
  {
   "cell_type": "code",
   "execution_count": 48,
   "metadata": {},
   "outputs": [],
   "source": [
    "inp.patterns.loc[('Monthly', slice(None)), 'Multiplier'] *= 100"
   ]
  },
  {
   "cell_type": "code",
   "execution_count": 12,
   "metadata": {},
   "outputs": [],
   "source": []
  },
  {
   "cell_type": "code",
   "execution_count": null,
   "metadata": {},
   "outputs": [],
   "source": [
    "print(inp.patterns.to_swmm_string())"
   ]
  },
  {
   "cell_type": "code",
   "execution_count": null,
   "metadata": {},
   "outputs": [],
   "source": [
    "inp.conduit"
   ]
  },
  {
   "cell_type": "code",
   "execution_count": null,
   "metadata": {},
   "outputs": [],
   "source": [
    "output = inp.to_string()"
   ]
  },
  {
   "cell_type": "code",
   "execution_count": 9,
   "metadata": {},
   "outputs": [],
   "source": [
    "with open('test_model.inp','w') as f:\n",
    "    f.write(output)"
   ]
  },
  {
   "cell_type": "code",
   "execution_count": null,
   "metadata": {},
   "outputs": [],
   "source": [
    "inp.losses.reset_index().shape"
   ]
  },
  {
   "cell_type": "code",
   "execution_count": 16,
   "metadata": {},
   "outputs": [],
   "source": [
    "inp.losses.loc['COND2','Kavg'] = 10_000\n",
    "inp.losses.loc['COND2','desc'] = \"added outrageous losses\""
   ]
  },
  {
   "cell_type": "code",
   "execution_count": null,
   "metadata": {},
   "outputs": [],
   "source": [
    "print(inp.losses.to_swmm_string())"
   ]
  },
  {
   "cell_type": "code",
   "execution_count": null,
   "metadata": {},
   "outputs": [],
   "source": [
    "inp.outlet.loc[8060,'Qcoeff'] = 100\n",
    "inp.outlet.loc[8060,'desc'] = 'bumped Qcoeff'\n",
    "print(inp.outlet.to_swmm_string())"
   ]
  },
  {
   "cell_type": "code",
   "execution_count": null,
   "metadata": {},
   "outputs": [],
   "source": [
    "inp.divider\n",
    "inp.divider.loc['KRO1004','Ymax'] = 100\n",
    "inp.divider.loc['KRO1004','desc'] = 'bumped ymax'\n",
    "print(inp.divider.to_swmm_string())"
   ]
  },
  {
   "cell_type": "code",
   "execution_count": null,
   "metadata": {},
   "outputs": [],
   "source": [
    "inp.weir.reset_index().shape"
   ]
  },
  {
   "cell_type": "code",
   "execution_count": null,
   "metadata": {},
   "outputs": [],
   "source": [
    "inp.weir.loc['WR1','Type'] = 'SIDE'\n",
    "inp.weir.loc['WR1','desc'] = 'changed weir type'\n",
    "print(inp.weir.to_swmm_string())"
   ]
  },
  {
   "cell_type": "code",
   "execution_count": 3,
   "metadata": {},
   "outputs": [],
   "source": [
    "inp.curves.loc[(\"P1\", 2), :] = [10, 10, \"extended the curve\"]\n"
   ]
  },
  {
   "cell_type": "code",
   "execution_count": null,
   "metadata": {},
   "outputs": [],
   "source": [
    "print(inp.curves.to_swmm_string())"
   ]
  },
  {
   "cell_type": "code",
   "execution_count": 4,
   "metadata": {},
   "outputs": [],
   "source": [
    "inp.xsections.loc[\"COND7\", \"Barrels\"] = 1\n",
    "inp.xsections.loc[\"COND7\", \"desc\"] = \"changed to single barrel\"\n"
   ]
  },
  {
   "cell_type": "code",
   "execution_count": null,
   "metadata": {},
   "outputs": [],
   "source": [
    "print(inp.xsections.to_swmm_string())"
   ]
  },
  {
   "cell_type": "code",
   "execution_count": null,
   "metadata": {},
   "outputs": [],
   "source": [
    "inp.xsections.Shape.isin(sc.Xsections._shapes)"
   ]
  },
  {
   "cell_type": "code",
   "execution_count": null,
   "metadata": {},
   "outputs": [],
   "source": [
    "print(inp.subcatchment.to_swmm_string())"
   ]
  },
  {
   "cell_type": "code",
   "execution_count": 23,
   "metadata": {},
   "outputs": [],
   "source": [
    "inp.subcatchment[\"Width\"] = (inp.subcatchment.Area**0.6).astype(float).round(3)"
   ]
  },
  {
   "cell_type": "code",
   "execution_count": null,
   "metadata": {},
   "outputs": [],
   "source": [
    "print(inp.subcatchment.to_swmm_string())"
   ]
  },
  {
   "cell_type": "code",
   "execution_count": null,
   "metadata": {},
   "outputs": [],
   "source": [
    "inp.inflow.loc[(\"JUNC3\", \"Sewage\"), \"Pattern\"] = \"HOURLY\"\n",
    "inp.inflow.loc[(\"JUNC3\", \"Sewage\"), \"desc\"] = \"added hourly poll pattern\"\n",
    "inp.inflow.add_element(\n",
    "    Node=\"JUNC4\",\n",
    "    Constituent=\"FLOW\",\n",
    "    Type=\"FLOW\",\n",
    "    Baseline=10,\n",
    "    desc=\"new inflow!\",\n",
    ")"
   ]
  },
  {
   "cell_type": "code",
   "execution_count": null,
   "metadata": {},
   "outputs": [],
   "source": [
    "print(inp.inflow.to_swmm_string())"
   ]
  },
  {
   "cell_type": "code",
   "execution_count": null,
   "metadata": {},
   "outputs": [],
   "source": [
    "inp.polygons.reset_index().shape"
   ]
  },
  {
   "cell_type": "code",
   "execution_count": null,
   "metadata": {},
   "outputs": [],
   "source": [
    "inp.polygons.loc['SUB1','X']+=100\n",
    "inp.polygons.loc['SUB1','desc']+=\n"
   ]
  },
  {
   "cell_type": "code",
   "execution_count": null,
   "metadata": {},
   "outputs": [],
   "source": [
    "print(inp.polygons.loc['SUB1':\"SUB1\"].to_swmm_string())"
   ]
  },
  {
   "cell_type": "code",
   "execution_count": 2,
   "metadata": {},
   "outputs": [],
   "source": [
    "inp.timeseries['file_series'].comment = 'this is a updated comment'\n",
    "inp.timeseries['SCS_Type_III_3in']['value']*= 10\n",
    "inp.timeseries['SCS_Type_III_3in'].attrs['desc'] = 'SCS_Type_III_3in design storm, total rainfall = 30 in, rain units = in.'"
   ]
  },
  {
   "cell_type": "code",
   "execution_count": 3,
   "metadata": {},
   "outputs": [],
   "source": [
    "idx = pd.date_range('1/1/1900','2/1/1900',freq='1D',name='time')\n",
    "vals = [100]*len(idx)\n",
    "df = pd.DataFrame(\n",
    "    index=idx,\n",
    "    data = dict(value=vals),\n",
    ")\n",
    "df.attrs['desc']='a new timeseries'\n",
    "inp.timeseries['new_ts'] = df\n"
   ]
  },
  {
   "cell_type": "code",
   "execution_count": null,
   "metadata": {},
   "outputs": [],
   "source": [
    "print(inp.timeseries.to_swmm_string())"
   ]
  },
  {
   "cell_type": "code",
   "execution_count": null,
   "metadata": {},
   "outputs": [],
   "source": [
    "inp.timeseries['SCS_Type_III_3in'].shape"
   ]
  },
  {
   "cell_type": "code",
   "execution_count": null,
   "metadata": {},
   "outputs": [],
   "source": [
    "inp.timeseries['SCS_Type_III_3in']"
   ]
  },
  {
   "cell_type": "code",
   "execution_count": null,
   "metadata": {},
   "outputs": [],
   "source": [
    "print(inp.timeseries.to_swmm_string())"
   ]
  },
  {
   "cell_type": "code",
   "execution_count": null,
   "metadata": {},
   "outputs": [],
   "source": [
    "inp.curves.reset_index().shape"
   ]
  },
  {
   "cell_type": "code",
   "execution_count": 3,
   "metadata": {},
   "outputs": [],
   "source": [
    "inp.curves.loc[('P1',2),:] = [10,10,'extended the curve']"
   ]
  },
  {
   "cell_type": "code",
   "execution_count": null,
   "metadata": {},
   "outputs": [],
   "source": []
  },
  {
   "cell_type": "code",
   "execution_count": null,
   "metadata": {},
   "outputs": [],
   "source": [
    "print(inp.curves.to_swmm_string())"
   ]
  },
  {
   "cell_type": "code",
   "execution_count": null,
   "metadata": {},
   "outputs": [],
   "source": [
    "inp.curves.loc[('P1',1)]# = [10,10,'extended the curve']"
   ]
  },
  {
   "cell_type": "code",
   "execution_count": null,
   "metadata": {},
   "outputs": [],
   "source": []
  },
  {
   "cell_type": "code",
   "execution_count": null,
   "metadata": {},
   "outputs": [],
   "source": [
    "inp.hydrographs.reset_index().shape"
   ]
  },
  {
   "cell_type": "code",
   "execution_count": null,
   "metadata": {},
   "outputs": [],
   "source": [
    "inp.hydrographs.loc['HydrB','R'] *= 100\n"
   ]
  },
  {
   "cell_type": "code",
   "execution_count": 7,
   "metadata": {},
   "outputs": [],
   "source": [
    "inp.hydrographs.rain_gauges['HydrB']='RainGauge_C'"
   ]
  },
  {
   "cell_type": "code",
   "execution_count": null,
   "metadata": {},
   "outputs": [],
   "source": [
    "print(inp.hydrographs.loc[\"HydrB\":'HydrB'].to_swmm_string())"
   ]
  },
  {
   "cell_type": "code",
   "execution_count": null,
   "metadata": {},
   "outputs": [],
   "source": [
    "inp.rdii.loc[\"JUNC2\",'SewerArea'] = 1244.282478391\n",
    "inp.rdii.loc[\"JUNC2\",'desc'] = 'bumped acreage'\n",
    "print(inp.rdii.to_swmm_string())"
   ]
  },
  {
   "cell_type": "code",
   "execution_count": null,
   "metadata": {},
   "outputs": [],
   "source": [
    "inp.dwf.loc[('JUNC2','FLOW'),'Pat4'] = 'HOURLY2'\n",
    "inp.dwf.loc[('JUNC2','FLOW'),'desc'] = 'added second pattern'\n",
    "inp.dwf.add_element(Node='JUNC1',Constituent='FLOW',Baseline=1,Pat3=\"HOURLY\",desc='testing a pattern addition')\n",
    "print(inp.dwf.to_swmm_string())"
   ]
  },
  {
   "cell_type": "code",
   "execution_count": null,
   "metadata": {},
   "outputs": [],
   "source": [
    "inp.inflow.reset_index().shape"
   ]
  },
  {
   "cell_type": "code",
   "execution_count": null,
   "metadata": {},
   "outputs": [],
   "source": [
    "inp.inflow.loc[('JUNC3','Sewage'),'Pattern'] = 'HOURLY'\n",
    "inp.inflow.loc[('JUNC3','Sewage'),'desc'] = 'added hourly poll pattern'\n",
    "inp.inflow.add_element(Node='JUNC4',Constituent='FLOW',Type='FLOW',Baseline=10,desc=\"new inflow!\",)"
   ]
  },
  {
   "cell_type": "code",
   "execution_count": null,
   "metadata": {},
   "outputs": [],
   "source": [
    "print(inp.inflow.to_swmm_string())"
   ]
  },
  {
   "cell_type": "code",
   "execution_count": null,
   "metadata": {},
   "outputs": [],
   "source": [
    "inp.inflow['TimeSeries'].astype(str).str.len()"
   ]
  },
  {
   "cell_type": "code",
   "execution_count": null,
   "metadata": {},
   "outputs": [],
   "source": [
    "inp.treatment"
   ]
  },
  {
   "cell_type": "code",
   "execution_count": null,
   "metadata": {},
   "outputs": [],
   "source": [
    "inp.treatment.loc[('STOR1','Rainfall'),'Func'] = 'C = Rainfall * exp(-0.1*HRT)'\n",
    "inp.treatment.loc[('STOR1','Rainfall'),'desc'] = 'modded equation'\n",
    "inp.treatment.add_element(\n",
    "    Node=\"STOR1\",\n",
    "    Pollutant=\"Sewage\",\n",
    "    Func=\"R = 0.1 * R_Rainfall\",\n",
    "    desc=\"added treatment for sewage\"\n",
    "\n",
    ")\n"
   ]
  },
  {
   "cell_type": "code",
   "execution_count": null,
   "metadata": {},
   "outputs": [],
   "source": [
    "print(inp.treatment.to_swmm_string())"
   ]
  },
  {
   "cell_type": "code",
   "execution_count": null,
   "metadata": {},
   "outputs": [],
   "source": [
    "inp.washoff.loc[(\"Residential_1\", \"TSS\"), \"SweepRmvl\"] = 0.6\n",
    "inp.washoff.loc[(\"Residential_1\", \"TSS\"), \"desc\"] = \"set sweep removal eff\"\n",
    "inp.washoff.add_element(\n",
    "    Landuse=\"Residential_3\",\n",
    "    Pollutant=\"TSS\",\n",
    "    FuncType=\"EMC\",\n",
    "    C1=55\n",
    ")"
   ]
  },
  {
   "cell_type": "code",
   "execution_count": null,
   "metadata": {},
   "outputs": [],
   "source": [
    "print(inp.washoff.to_swmm_string())"
   ]
  },
  {
   "cell_type": "code",
   "execution_count": null,
   "metadata": {},
   "outputs": [],
   "source": [
    "inp.loading.loc[('SUB1','Ranfall'),\"InitBuildup\"] = 10\n",
    "inp.loading.loc[('SUB1','Ranfall'),\"desc\"] = 'bumped initial conc'\n",
    "print(inp.loading.to_swmm_string())"
   ]
  },
  {
   "cell_type": "code",
   "execution_count": 22,
   "metadata": {},
   "outputs": [],
   "source": [
    "inp.landuse = inp.landuse.astype(object)"
   ]
  },
  {
   "cell_type": "code",
   "execution_count": 8,
   "metadata": {},
   "outputs": [],
   "source": [
    "inp.coverage.loc[('S5','Commercial'),\"Percent\"] = 50\n",
    "inp.coverage.loc[('S5','Commercial'),\"desc\"] = \"reduced to 50%\"\n",
    "inp.coverage.loc[('S5','Residential_2'),\"Percent\"] = 50\n",
    "inp.coverage.loc[('S5','Residential_2'),\"desc\"] = \"added\"\n"
   ]
  },
  {
   "cell_type": "code",
   "execution_count": null,
   "metadata": {},
   "outputs": [],
   "source": []
  },
  {
   "cell_type": "code",
   "execution_count": 24,
   "metadata": {},
   "outputs": [],
   "source": [
    "inp.landuse.loc[\"Residential_1\",\"SweepInterval\"] = 7\n",
    "inp.landuse.loc[\"Residential_1\",\"Availability\"] = 0.5\n",
    "inp.landuse.loc[\"Residential_1\",\"LastSweep\"] = 3\n",
    "inp.landuse.loc[\"Residential_1\",\"desc\"] = \"set weekly street sweeping\""
   ]
  },
  {
   "cell_type": "code",
   "execution_count": null,
   "metadata": {},
   "outputs": [],
   "source": [
    "print(inp.coverage.to_swmm_string())"
   ]
  },
  {
   "cell_type": "code",
   "execution_count": null,
   "metadata": {},
   "outputs": [],
   "source": []
  },
  {
   "cell_type": "code",
   "execution_count": 13,
   "metadata": {},
   "outputs": [],
   "source": [
    "inp.pollutants.loc['Sewage','Cinit'] = 100\n",
    "inp.pollutants.loc['Sewage','desc'] = \"updated initial conc\"\n"
   ]
  },
  {
   "cell_type": "code",
   "execution_count": null,
   "metadata": {},
   "outputs": [],
   "source": [
    "print()"
   ]
  },
  {
   "cell_type": "code",
   "execution_count": 7,
   "metadata": {},
   "outputs": [],
   "source": [
    "inp.inlet_usage.loc[\"Street5\",\"Placement\"] = \"ON_SAG\"\n",
    "inp.inlet_usage.loc[\"Street5\",\"desc\"] = \"updated placement\"\n"
   ]
  },
  {
   "cell_type": "code",
   "execution_count": null,
   "metadata": {},
   "outputs": [],
   "source": [
    "print(inp.pollutants.to_swmm_string())"
   ]
  },
  {
   "cell_type": "code",
   "execution_count": null,
   "metadata": {},
   "outputs": [],
   "source": [
    "ainp.CONDUITS.frame"
   ]
  },
  {
   "cell_type": "code",
   "execution_count": null,
   "metadata": {},
   "outputs": [],
   "source": [
    "inp.inlet"
   ]
  },
  {
   "cell_type": "code",
   "execution_count": null,
   "metadata": {},
   "outputs": [],
   "source": [
    "inp._section_texts.keys()"
   ]
  },
  {
   "cell_type": "code",
   "execution_count": null,
   "metadata": {},
   "outputs": [],
   "source": [
    "print(inp._section_texts['INLETS'])"
   ]
  },
  {
   "cell_type": "code",
   "execution_count": null,
   "metadata": {},
   "outputs": [],
   "source": [
    "print(inp.xsections.shape)"
   ]
  },
  {
   "cell_type": "code",
   "execution_count": null,
   "metadata": {},
   "outputs": [],
   "source": [
    "inp.xsections.loc['COND7',\"Barrels\"] = 1\n",
    "inp.xsections.loc['COND7',\"desc\"] = \"changed to single barrel\"\n",
    "\n",
    "print(inp.xsections.to_swmm_string())"
   ]
  },
  {
   "cell_type": "code",
   "execution_count": null,
   "metadata": {},
   "outputs": [],
   "source": [
    "print(inp.xsections.to_swmm_string())"
   ]
  },
  {
   "cell_type": "code",
   "execution_count": null,
   "metadata": {},
   "outputs": [],
   "source": [
    "inp.pump"
   ]
  },
  {
   "cell_type": "code",
   "execution_count": null,
   "metadata": {},
   "outputs": [],
   "source": []
  },
  {
   "cell_type": "code",
   "execution_count": null,
   "metadata": {},
   "outputs": [],
   "source": [
    "inp.orifice"
   ]
  },
  {
   "cell_type": "code",
   "execution_count": null,
   "metadata": {},
   "outputs": [],
   "source": [
    "inp.pump.add_element(Name='PUMP2',FromNode='STOR1',ToNode='JUNC6',PumpCurve='P1',Status='ON')\n",
    "inp.pump.loc['PUMP1','Status'] = 'OFF'\n"
   ]
  },
  {
   "cell_type": "code",
   "execution_count": null,
   "metadata": {},
   "outputs": [],
   "source": [
    "inp.pump"
   ]
  },
  {
   "cell_type": "code",
   "execution_count": null,
   "metadata": {},
   "outputs": [],
   "source": [
    "print(inp.pump.to_swmm_string())"
   ]
  },
  {
   "cell_type": "code",
   "execution_count": 3,
   "metadata": {},
   "outputs": [],
   "source": [
    "inp.conduit.loc['COND3','FromNode'] = 'JUNC1'\n",
    "inp.conduit.loc['COND3','desc'] = 'update from node'"
   ]
  },
  {
   "cell_type": "code",
   "execution_count": null,
   "metadata": {},
   "outputs": [],
   "source": [
    "print(inp.conduit.to_swmm_string())"
   ]
  },
  {
   "cell_type": "code",
   "execution_count": 10,
   "metadata": {},
   "outputs": [],
   "source": [
    "inp.storage.loc[\"STOR1\", \"A1_L\"] = 200\n",
    "inp.storage.loc[\"STOR1\", \"desc\"] = \"shrunk store\"\n",
    "\n"
   ]
  },
  {
   "cell_type": "code",
   "execution_count": null,
   "metadata": {},
   "outputs": [],
   "source": [
    "print(';;Name  Elev    MaxDepth  InitDepth  Shape       CurveName  A1_L  A2_W  A0_Z  SurDepth  Fevap  Psi  Ksat  IMD  \\n;;----  ------  --------  ---------  ----------  ---------  ----  ----  ----  --------  -----  ---  ----  ---  \\nJUNC5   -6.5    13.2      0          TABULAR     Store1                       0         2      2    2     0.5  \\n;shrunk store\\nSTOR1   -15.25  21.75     0          FUNCTIONAL             200   1     2     10        3                      \\n')"
   ]
  },
  {
   "cell_type": "code",
   "execution_count": null,
   "metadata": {},
   "outputs": [],
   "source": [
    "print(inp.storage.to_swmm_string())"
   ]
  },
  {
   "cell_type": "code",
   "execution_count": null,
   "metadata": {},
   "outputs": [],
   "source": [
    "print(inp.outfall.to_swmm_string())"
   ]
  },
  {
   "cell_type": "code",
   "execution_count": 18,
   "metadata": {},
   "outputs": [],
   "source": [
    "        # inp = self.test_base_model\n",
    "        # self.assertEqual(inp.outfall.reset_index().shape, (3, 7))\n",
    "\n",
    "        inp.outfall.loc[\"OUT1\", \"TYPE\"] = \"NORMAL\"\n",
    "        inp.outfall.loc[\"OUT1\", \"desc\"] = \"changed to normal outfall\""
   ]
  },
  {
   "cell_type": "code",
   "execution_count": 13,
   "metadata": {},
   "outputs": [],
   "source": [
    "inp.junc.loc['JUNC4','Elevation']-=5\n",
    "inp.junc.loc['JUNC4','desc']=\"dropped invert 5ft\""
   ]
  },
  {
   "cell_type": "code",
   "execution_count": null,
   "metadata": {},
   "outputs": [],
   "source": [
    "print(inp.junc.to_swmm_string())"
   ]
  },
  {
   "cell_type": "code",
   "execution_count": null,
   "metadata": {},
   "outputs": [],
   "source": [
    "print(inp.timeseries.to_swmm_string())"
   ]
  },
  {
   "cell_type": "code",
   "execution_count": 1,
   "metadata": {},
   "outputs": [],
   "source": [
    "from email import header\n",
    "\n",
    "\n",
    "def _timeseries_to_swmm_dat(df):\n",
    "    def time_formatter(x):\n",
    "        if isinstance(x, pd.Timedelta):\n",
    "            total_seconds = x.total_seconds()\n",
    "            hours = int(total_seconds // 3600)  # Get the total hours\n",
    "            minutes = int((total_seconds % 3600) // 60)  # Get the remaining minutes\n",
    "            return f\"{hours}:{minutes:02}\"\n",
    "        elif isinstance(x, pd.Timestamp):\n",
    "            return x.strftime(\"%m/%d/%Y %H:%M\")\n",
    "        elif isinstance(x, (float, int)):\n",
    "            return x\n",
    "\n",
    "    def comment_formatter(x):\n",
    "        if len(x)>0:\n",
    "            return \";\" + x.strip(\"\\n\").strip(';').strip().replace(\"\\n\", \"\\n;\")\n",
    "        else:\n",
    "            return \"\"\n",
    "\n",
    "    df = df.reindex([\"value\", \"comment\"], axis=1)\n",
    "    comment = df.attrs.get('comment')\n",
    "    if len(comment:=df.attrs.get('comment',''))>0:\n",
    "        comment_line = comment_formatter(comment) + '\\n'\n",
    "    return comment_line+df.reset_index(names=\"time\").to_string(\n",
    "        formatters=dict(time=time_formatter, comment=comment_formatter),index=False,header=False\n",
    "    )\n"
   ]
  },
  {
   "cell_type": "code",
   "execution_count": null,
   "metadata": {},
   "outputs": [],
   "source": [
    "inp.timeseries"
   ]
  },
  {
   "cell_type": "code",
   "execution_count": null,
   "metadata": {},
   "outputs": [],
   "source": []
  },
  {
   "cell_type": "code",
   "execution_count": 13,
   "metadata": {},
   "outputs": [],
   "source": [
    "inp.timeseries['SCS_Type_III_1in  '].loc['1900-01-01','comment']='this is a commnt\\nthis'"
   ]
  },
  {
   "cell_type": "code",
   "execution_count": null,
   "metadata": {},
   "outputs": [],
   "source": [
    "print(_timeseries_to_swmm_dat(inp.timeseries['SCS_Type_III_1in']))"
   ]
  },
  {
   "cell_type": "code",
   "execution_count": null,
   "metadata": {},
   "outputs": [],
   "source": [
    "inp.timeseries"
   ]
  },
  {
   "cell_type": "code",
   "execution_count": 3,
   "metadata": {},
   "outputs": [],
   "source": [
    "pd.options.display.max_rows = 300"
   ]
  },
  {
   "cell_type": "code",
   "execution_count": 17,
   "metadata": {},
   "outputs": [],
   "source": [
    "td = pd.Timedelta('50:00:00')"
   ]
  },
  {
   "cell_type": "code",
   "execution_count": null,
   "metadata": {},
   "outputs": [],
   "source": [
    "td."
   ]
  },
  {
   "cell_type": "code",
   "execution_count": null,
   "metadata": {},
   "outputs": [],
   "source": [
    "def time_formatter(x):\n",
    "    if isinstance(x,pd.Timedelta):\n",
    "        total_seconds = x.total_seconds()\n",
    "        hours = int(total_seconds // 3600)   # Get the total hours\n",
    "        minutes = int((total_seconds % 3600) // 60)  # Get the remaining minutes\n",
    "        return f\"{hours}:{minutes:02}\"\n",
    "    elif isinstance(x,pd.Timestamp):\n",
    "        return x.strftime('%m/%d/%Y %H:%M')\n",
    "    elif isinstance(x,(float,int)):\n",
    "        return x\n",
    "print(inp.timeseries['SCS_Type_III_1in']['value'].reset_index(names='time').to_string(formatters=dict(time=time_formatter)))"
   ]
  },
  {
   "cell_type": "code",
   "execution_count": null,
   "metadata": {},
   "outputs": [],
   "source": [
    "inp.timeseries['SCS_Type_III_1in']['value'].reset_index(names='time')"
   ]
  },
  {
   "cell_type": "code",
   "execution_count": null,
   "metadata": {},
   "outputs": [],
   "source": [
    "inp.timeseries['SCS_Type_III_1in'].index.to_series.apply(time_formatter)"
   ]
  },
  {
   "cell_type": "code",
   "execution_count": null,
   "metadata": {},
   "outputs": [],
   "source": [
    "inp.timeseries._timeseries['file_series']"
   ]
  },
  {
   "cell_type": "code",
   "execution_count": null,
   "metadata": {},
   "outputs": [],
   "source": [
    "inp.hydrographs"
   ]
  },
  {
   "cell_type": "code",
   "execution_count": null,
   "metadata": {},
   "outputs": [],
   "source": [
    "print(inp.curves.to_swmm_string())"
   ]
  },
  {
   "cell_type": "code",
   "execution_count": null,
   "metadata": {},
   "outputs": [],
   "source": [
    "inp.curves.to_swmm_string()"
   ]
  },
  {
   "cell_type": "code",
   "execution_count": null,
   "metadata": {},
   "outputs": [],
   "source": [
    "inp.curves.loc[('P1',1),['X_Value','Y_Value']] #= [10,10]"
   ]
  },
  {
   "cell_type": "code",
   "execution_count": null,
   "metadata": {},
   "outputs": [],
   "source": [
    "print(inp.curves)"
   ]
  },
  {
   "cell_type": "code",
   "execution_count": null,
   "metadata": {},
   "outputs": [],
   "source": [
    "print(inp.curves.to_swmm_string())"
   ]
  },
  {
   "cell_type": "code",
   "execution_count": null,
   "metadata": {},
   "outputs": [],
   "source": [
    "print(inp.hydrographs.to_swmm_string())\n"
   ]
  },
  {
   "cell_type": "code",
   "execution_count": 32,
   "metadata": {},
   "outputs": [],
   "source": [
    "df = pd.DataFrame(index = [[hyd,rg,''] for hyd,rg in inp.hydrographs.attrs.items()])"
   ]
  },
  {
   "cell_type": "code",
   "execution_count": null,
   "metadata": {},
   "outputs": [],
   "source": [
    "df.index"
   ]
  },
  {
   "cell_type": "code",
   "execution_count": null,
   "metadata": {},
   "outputs": [],
   "source": [
    "[[hyd,rg,''] for hyd,rg in inp.hydrographs.attrs.items()]"
   ]
  },
  {
   "cell_type": "code",
   "execution_count": null,
   "metadata": {},
   "outputs": [],
   "source": [
    "inp.hydrographs.attrs"
   ]
  },
  {
   "cell_type": "code",
   "execution_count": 3,
   "metadata": {},
   "outputs": [],
   "source": [
    "inp.hydrographs.add_element(Name='Hyd100',Month_RG='RG10',Response='')"
   ]
  },
  {
   "cell_type": "code",
   "execution_count": null,
   "metadata": {},
   "outputs": [],
   "source": [
    "inp.hydrographs"
   ]
  },
  {
   "cell_type": "code",
   "execution_count": null,
   "metadata": {},
   "outputs": [],
   "source": [
    "pd.DataFrame.from_dict(inp.hydrographs.attrs,orient='index')"
   ]
  },
  {
   "cell_type": "code",
   "execution_count": null,
   "metadata": {},
   "outputs": [],
   "source": []
  },
  {
   "cell_type": "code",
   "execution_count": null,
   "metadata": {},
   "outputs": [],
   "source": [
    "def month_to_number(month):\n",
    "    try:\n",
    "        return list(month_abbr).index(month.capitalize())\n",
    "    except ValueError:\n",
    "        # Return a large number if the month abbreviation is not recognized\n",
    "        return -1  # This will sort unrecognized months to the end\n",
    "\n",
    "# Assuming inp.hydrographs is your DataFrame\n",
    "df = inp.hydrographs\n",
    "\n",
    "def index_mapper(index):\n",
    "    if index.name=='Month_RG':\n",
    "        return index.map(month_to_number)\n",
    "    else:\n",
    "        return index\n",
    "# Sort the DataFrame\n",
    "sorted_df = df.sort_index().sort_index(ascending=[True,True,False],key=index_mapper)\n",
    "\n",
    "print(sorted_df)\n"
   ]
  },
  {
   "cell_type": "code",
   "execution_count": null,
   "metadata": {},
   "outputs": [],
   "source": [
    "inp.hydrographs.index.get_level_values('Month_RG').map(month_to_number)"
   ]
  },
  {
   "cell_type": "code",
   "execution_count": 38,
   "metadata": {},
   "outputs": [],
   "source": [
    "# Function to safely get level values\n",
    "def safe_get_level_values(index, level_name):\n",
    "    try:\n",
    "        return index.get_level_values(level_name)\n",
    "    except KeyError:\n",
    "        return None\n",
    "\n",
    "# Prepare the sorting key\n",
    "sort_key = []\n",
    "for name in ['Name', 'Month_RG', 'Response']:\n",
    "    level_values = safe_get_level_values(inp.hydrographs.index, name)\n",
    "    if level_values is not None:\n",
    "        if name == 'Month_RG':\n",
    "            sort_key.append(level_values.map(month_to_number))\n",
    "        else:\n",
    "            sort_key.append(level_values)\n"
   ]
  },
  {
   "cell_type": "code",
   "execution_count": null,
   "metadata": {},
   "outputs": [],
   "source": [
    "sort_key"
   ]
  },
  {
   "cell_type": "code",
   "execution_count": null,
   "metadata": {},
   "outputs": [],
   "source": [
    "inp.hydrographs.sort_index().sort_index(key=lambda index: [\n",
    "    index.get_level_values('Name'),\n",
    "    index.get_level_values('Month_RG').map(month_to_number),\n",
    "    index.get_level_values('Response')\n",
    "])"
   ]
  },
  {
   "cell_type": "code",
   "execution_count": null,
   "metadata": {},
   "outputs": [],
   "source": [
    "inp.hydrographs.iloc[0]"
   ]
  },
  {
   "cell_type": "code",
   "execution_count": null,
   "metadata": {},
   "outputs": [],
   "source": [
    "pd.__version__"
   ]
  },
  {
   "cell_type": "code",
   "execution_count": null,
   "metadata": {},
   "outputs": [],
   "source": [
    "inp.hydrographs.add_element(pd.Series(name='HydrA',index=['Month/RG'],data=[1]))"
   ]
  },
  {
   "cell_type": "code",
   "execution_count": null,
   "metadata": {},
   "outputs": [],
   "source": [
    "inp.hydrographs.__class__.__newobj__"
   ]
  },
  {
   "cell_type": "code",
   "execution_count": null,
   "metadata": {},
   "outputs": [],
   "source": [
    "print(inp.hydrographs.to_swmm_string())"
   ]
  },
  {
   "cell_type": "code",
   "execution_count": 20,
   "metadata": {},
   "outputs": [],
   "source": [
    "inp = spd.Input('./LID_Model.inp')"
   ]
  },
  {
   "cell_type": "code",
   "execution_count": null,
   "metadata": {},
   "outputs": [],
   "source": [
    "inp.subcatchment.reset_index('Outlet')"
   ]
  },
  {
   "cell_type": "code",
   "execution_count": null,
   "metadata": {},
   "outputs": [],
   "source": [
    "print(inp.lid_usage.to_swmm_string())"
   ]
  },
  {
   "cell_type": "code",
   "execution_count": null,
   "metadata": {},
   "outputs": [],
   "source": [
    "inp.hydrographs"
   ]
  },
  {
   "cell_type": "code",
   "execution_count": null,
   "metadata": {},
   "outputs": [],
   "source": [
    "inp.hydrographs.to_swmm_string()"
   ]
  },
  {
   "cell_type": "code",
   "execution_count": null,
   "metadata": {},
   "outputs": [],
   "source": [
    "print(inp.hydrographs.to_string())"
   ]
  },
  {
   "cell_type": "code",
   "execution_count": 12,
   "metadata": {},
   "outputs": [],
   "source": [
    "def is_raingauge_row(row):\n",
    "    non_empty_values = row[row != ''].sum()\n",
    "    return non_empty_values == 1\n",
    "\n",
    "def find_raingauge_rows(df):\n",
    "    # Function to check if a row matches the raingauge criteria\n",
    "\n",
    "    # Apply the function to each row and get the indices where it's True\n",
    "    raingauge_indices = df.loc[df.apply(is_raingauge_row, axis=0)].index.tolist()\n",
    "    \n",
    "    return raingauge_indices"
   ]
  },
  {
   "cell_type": "code",
   "execution_count": null,
   "metadata": {},
   "outputs": [],
   "source": [
    "inp.hydrographs.iloc[0]"
   ]
  },
  {
   "cell_type": "code",
   "execution_count": null,
   "metadata": {},
   "outputs": [],
   "source": [
    "inp.hydrographs.apply(is_raingauge_row,axis=1)"
   ]
  },
  {
   "cell_type": "code",
   "execution_count": null,
   "metadata": {},
   "outputs": [],
   "source": [
    "find_raingauge_rows(inp.hydrographs)"
   ]
  },
  {
   "cell_type": "code",
   "execution_count": 11,
   "metadata": {},
   "outputs": [],
   "source": [
    "inp.report.FLOWSTATS"
   ]
  },
  {
   "cell_type": "code",
   "execution_count": null,
   "metadata": {},
   "outputs": [],
   "source": [
    "inp.adjustments"
   ]
  },
  {
   "cell_type": "code",
   "execution_count": 13,
   "metadata": {},
   "outputs": [],
   "source": [
    "inp.adjustments.loc['TEMPERATURE',:]=0"
   ]
  },
  {
   "cell_type": "code",
   "execution_count": null,
   "metadata": {},
   "outputs": [],
   "source": [
    "print(inp.adjustments.to_swmm_string())"
   ]
  },
  {
   "cell_type": "code",
   "execution_count": null,
   "metadata": {},
   "outputs": [],
   "source": [
    "inp = spd.Input('LID_Model.inp')"
   ]
  },
  {
   "cell_type": "code",
   "execution_count": null,
   "metadata": {},
   "outputs": [],
   "source": [
    "inp.adjustments"
   ]
  },
  {
   "cell_type": "code",
   "execution_count": null,
   "metadata": {},
   "outputs": [],
   "source": [
    "inp.report.LID[1].Fname"
   ]
  },
  {
   "cell_type": "code",
   "execution_count": null,
   "metadata": {},
   "outputs": [],
   "source": [
    "sc.Option.__doc__"
   ]
  },
  {
   "cell_type": "code",
   "execution_count": null,
   "metadata": {},
   "outputs": [],
   "source": [
    "inp.option.__annotations__"
   ]
  },
  {
   "cell_type": "code",
   "execution_count": null,
   "metadata": {},
   "outputs": [],
   "source": [
    "inp.infil._data"
   ]
  },
  {
   "cell_type": "code",
   "execution_count": null,
   "metadata": {},
   "outputs": [],
   "source": [
    "inp.infil.columns"
   ]
  },
  {
   "cell_type": "code",
   "execution_count": null,
   "metadata": {},
   "outputs": [],
   "source": [
    "nptest.assert_equal(\n",
    "    inp.infil.values,\n",
    "    np.array([[4.3, 0.86, 0.23, '', '', '', ''],\n",
    "       [4.3, 0.86, 0.23, '', '', 'MODIFIED_GREEN_AMPT', ''],\n",
    "       [4.3, 0.86, 0.23, 0.04, 2, 'HORTON', '']],dtype=object)\n",
    ")"
   ]
  },
  {
   "cell_type": "code",
   "execution_count": null,
   "metadata": {},
   "outputs": [],
   "source": [
    "inp.infil.values"
   ]
  },
  {
   "cell_type": "code",
   "execution_count": null,
   "metadata": {},
   "outputs": [],
   "source": [
    "inp.infil.loc[\"FAKE_SUB\"] = [0,0,0,0,0,\"\",\"This is fake\"]"
   ]
  },
  {
   "cell_type": "code",
   "execution_count": null,
   "metadata": {},
   "outputs": [],
   "source": []
  },
  {
   "cell_type": "code",
   "execution_count": null,
   "metadata": {},
   "outputs": [],
   "source": [
    "inp.infil.loc['my_really_long_subcatchment_name_that_should','param1'] = 'this'"
   ]
  },
  {
   "cell_type": "code",
   "execution_count": null,
   "metadata": {},
   "outputs": [],
   "source": [
    "print(inp.infil.to_swmm_string())"
   ]
  },
  {
   "cell_type": "code",
   "execution_count": null,
   "metadata": {},
   "outputs": [],
   "source": [
    "inp.subcatchment['Width'] = inp.subcatchment.Area**0.6\n",
    "# inp.temperature.loc['FILE','param1':'param3'] = ['./climate.dat','1/1/1900','F']"
   ]
  },
  {
   "cell_type": "code",
   "execution_count": null,
   "metadata": {},
   "outputs": [],
   "source": [
    "print(inp.subcatchment.to_swmm_string())"
   ]
  },
  {
   "cell_type": "code",
   "execution_count": null,
   "metadata": {},
   "outputs": [],
   "source": [
    "print(dedent(\"\"\"\\\n",
    "                ;;Name  RainGage          Outlet  Area  PctImp  Width              Slope  CurbLeng  SnowPack  \n",
    "                ;;----  ----------------  ------  ----  ------  -----------------  -----  --------  --------  \n",
    "                SUB1    SCS_Type_III_3in  JUNC1   5     30.83   2.626527804403767  0.5    0         SNOW1     \n",
    "                SUB2    SCS_Type_III_3in  JUNC2   17    40.74   5.473553316918489  0.5    0         SNOW1     \n",
    "                SUB3    SCS_Type_III_3in  JUNC4   38    62.21   8.868908165896258  0.5    0         SNOW1     \n",
    "                \"\"\"))"
   ]
  },
  {
   "cell_type": "code",
   "execution_count": null,
   "metadata": {},
   "outputs": [],
   "source": []
  },
  {
   "cell_type": "code",
   "execution_count": null,
   "metadata": {},
   "outputs": [],
   "source": []
  },
  {
   "cell_type": "code",
   "execution_count": null,
   "metadata": {},
   "outputs": [],
   "source": [
    "print(inp.adjustments.to_swmm_string().split('\\n')[3].strip())"
   ]
  },
  {
   "cell_type": "code",
   "execution_count": null,
   "metadata": {},
   "outputs": [],
   "source": [
    "inp.temperature.loc['FILE','desc']"
   ]
  },
  {
   "cell_type": "code",
   "execution_count": null,
   "metadata": {},
   "outputs": [],
   "source": [
    "inp.temperature.to_swmm_string().split(\"\\n\")[7].strip()"
   ]
  },
  {
   "cell_type": "code",
   "execution_count": null,
   "metadata": {},
   "outputs": [],
   "source": []
  },
  {
   "cell_type": "code",
   "execution_count": null,
   "metadata": {},
   "outputs": [],
   "source": [
    "pd.isnull()"
   ]
  },
  {
   "cell_type": "code",
   "execution_count": null,
   "metadata": {},
   "outputs": [],
   "source": [
    "inp.temperature"
   ]
  },
  {
   "cell_type": "code",
   "execution_count": null,
   "metadata": {},
   "outputs": [],
   "source": [
    "inp.temperature.to_swmm_string()"
   ]
  },
  {
   "cell_type": "code",
   "execution_count": null,
   "metadata": {},
   "outputs": [],
   "source": [
    "sc.Temperature.from_section_text(\n",
    "    \"\"\"\n",
    "    TIMESERIES   Temp\n",
    "    WINDSPEED    MONTHLY    8.900000 11.400000 9.900000 9.800000 8.700000 8.000000 7.300000 7.000000 7.300000 7.800000 8.400000 8.700000\n",
    "    SNOWMELT               34.000000 0.500000 0.600000 20.000000 41.599998 -4.000000\n",
    "    ADC          IMPERVIOUS 1.0 1.0 1.0 1.0 1.0 1.0 1.0 1.0 1.0 1.0\n",
    "    ADC          PERVIOUS   1.0 1.0 1.0 1.0 1.0 1.0 1.0 1.0 1.0 1.0\n",
    "    \"\"\"\n",
    ")"
   ]
  },
  {
   "cell_type": "code",
   "execution_count": null,
   "metadata": {},
   "outputs": [],
   "source": []
  },
  {
   "cell_type": "code",
   "execution_count": null,
   "metadata": {},
   "outputs": [],
   "source": [
    "len(inp.temperature.columns)"
   ]
  },
  {
   "cell_type": "code",
   "execution_count": null,
   "metadata": {},
   "outputs": [],
   "source": [
    "inp.raingage.loc['SCS_Type_III_3in'].values"
   ]
  },
  {
   "cell_type": "code",
   "execution_count": null,
   "metadata": {},
   "outputs": [],
   "source": [
    "inp.option.__class__._from_mgr"
   ]
  },
  {
   "cell_type": "code",
   "execution_count": null,
   "metadata": {},
   "outputs": [],
   "source": [
    "inp.option.loc[\"ROUTING_STEP\", \"Value\"] = 50\n",
    "inp.option.loc[\"ROUTING_STEP\", \"desc\"] = 'Updated routing step'"
   ]
  },
  {
   "cell_type": "code",
   "execution_count": null,
   "metadata": {},
   "outputs": [],
   "source": [
    "inp.option.to_swmm_string().split(\"\\n\")[22]"
   ]
  },
  {
   "cell_type": "code",
   "execution_count": null,
   "metadata": {},
   "outputs": [],
   "source": [
    "inp.event.to_swmm_string().split(\"\\n\")[4].split()"
   ]
  },
  {
   "cell_type": "code",
   "execution_count": null,
   "metadata": {},
   "outputs": [],
   "source": []
  },
  {
   "cell_type": "code",
   "execution_count": null,
   "metadata": {},
   "outputs": [],
   "source": [
    "inp.option.loc[\"ROUTING_STEP\", \"Value\"] = 50\n",
    "inp.option.loc[\"ROUTING_STEP\", \"desc\"] = 'Updated routing step'"
   ]
  },
  {
   "cell_type": "code",
   "execution_count": null,
   "metadata": {},
   "outputs": [],
   "source": [
    "inp = spd.Input('Model.inp')"
   ]
  },
  {
   "cell_type": "code",
   "execution_count": null,
   "metadata": {},
   "outputs": [],
   "source": [
    "all(inp.raingage.columns == ['Format', 'Interval', 'SCF', 'Source_Type', 'Source', 'Station','Units', 'desc'])"
   ]
  },
  {
   "cell_type": "code",
   "execution_count": null,
   "metadata": {},
   "outputs": [],
   "source": [
    "inp.raingage.iloc[0].values"
   ]
  },
  {
   "cell_type": "code",
   "execution_count": null,
   "metadata": {},
   "outputs": [],
   "source": [
    "inp.raingage.loc['SCS_Type_III_3in','Interval']"
   ]
  },
  {
   "cell_type": "code",
   "execution_count": null,
   "metadata": {},
   "outputs": [],
   "source": [
    "inp.raingage.loc['new_rg'] = ['VOLUME','0:5',1,'FILE','MYFILE','RG1','Inches','my_new_gage']"
   ]
  },
  {
   "cell_type": "code",
   "execution_count": null,
   "metadata": {},
   "outputs": [],
   "source": [
    "print(inp.raingage.to_swmm_string().split('\\n')[4])"
   ]
  },
  {
   "cell_type": "code",
   "execution_count": null,
   "metadata": {},
   "outputs": [],
   "source": [
    "len(inp.raingage.columns)"
   ]
  },
  {
   "cell_type": "code",
   "execution_count": null,
   "metadata": {},
   "outputs": [],
   "source": [
    "inp.event.loc[0,'Start']= datetime.datetime(1900,1,2)\n",
    "inp.event.loc[0,'desc']= 'my first event\\nthis is my event'\n"
   ]
  },
  {
   "cell_type": "code",
   "execution_count": null,
   "metadata": {},
   "outputs": [],
   "source": [
    "inp.event"
   ]
  },
  {
   "cell_type": "code",
   "execution_count": null,
   "metadata": {},
   "outputs": [],
   "source": [
    "print(inp.event.to_swmm_string())"
   ]
  },
  {
   "cell_type": "code",
   "execution_count": null,
   "metadata": {},
   "outputs": [],
   "source": [
    "inp.event.to_swmm_string().split(\"\\n\")[3]"
   ]
  },
  {
   "cell_type": "code",
   "execution_count": null,
   "metadata": {},
   "outputs": [],
   "source": []
  },
  {
   "cell_type": "code",
   "execution_count": null,
   "metadata": {},
   "outputs": [],
   "source": [
    "print(inp.event.to_swmm_string().split(\"\\n\")[2])"
   ]
  },
  {
   "cell_type": "code",
   "execution_count": null,
   "metadata": {},
   "outputs": [],
   "source": [
    "inp.event"
   ]
  },
  {
   "cell_type": "code",
   "execution_count": null,
   "metadata": {},
   "outputs": [],
   "source": [
    "isinstance(inp.event.Start[0],datetime.datetime)"
   ]
  },
  {
   "cell_type": "code",
   "execution_count": null,
   "metadata": {},
   "outputs": [],
   "source": [
    "print(inp.report.to_swmm_string())"
   ]
  },
  {
   "cell_type": "code",
   "execution_count": null,
   "metadata": {},
   "outputs": [],
   "source": [
    "len(inp.report.to_swmm_string().split('\\n')[5].split())"
   ]
  },
  {
   "cell_type": "code",
   "execution_count": null,
   "metadata": {},
   "outputs": [],
   "source": [
    "inp.event"
   ]
  },
  {
   "cell_type": "code",
   "execution_count": null,
   "metadata": {},
   "outputs": [],
   "source": [
    "inp.report.NODES = ['ALL']"
   ]
  },
  {
   "cell_type": "code",
   "execution_count": null,
   "metadata": {},
   "outputs": [],
   "source": [
    "print(inp.report.to_swmm_string().split('\\n')[4])"
   ]
  },
  {
   "cell_type": "code",
   "execution_count": null,
   "metadata": {},
   "outputs": [],
   "source": [
    "print(inp.option.to_swmm_string())"
   ]
  },
  {
   "cell_type": "code",
   "execution_count": null,
   "metadata": {},
   "outputs": [],
   "source": [
    "inp.option.loc['START_DATE'] = '01/02/1911'"
   ]
  },
  {
   "cell_type": "code",
   "execution_count": null,
   "metadata": {},
   "outputs": [],
   "source": [
    "inp.report"
   ]
  },
  {
   "cell_type": "code",
   "execution_count": null,
   "metadata": {},
   "outputs": [],
   "source": [
    "inp.title.to_swmm_string()"
   ]
  },
  {
   "cell_type": "code",
   "execution_count": null,
   "metadata": {},
   "outputs": [],
   "source": [
    "print(inp.option.to_swmm_string().split('\\n')[-2].strip())"
   ]
  },
  {
   "cell_type": "code",
   "execution_count": null,
   "metadata": {},
   "outputs": [],
   "source": [
    "inp.option.loc[\"ROUTING_STEP\",'Value'] = 50\n",
    "inp.option.loc[\"ROUTING_STEP\",'desc'] = 'Updated routing step'"
   ]
  },
  {
   "cell_type": "code",
   "execution_count": null,
   "metadata": {},
   "outputs": [],
   "source": [
    "inp.option.to_swmm_string().split(\"\\n\")[23].strip()"
   ]
  },
  {
   "cell_type": "code",
   "execution_count": null,
   "metadata": {},
   "outputs": [],
   "source": [
    "inp.option.to_swmm_string().split(\"\\n\")"
   ]
  },
  {
   "cell_type": "code",
   "execution_count": null,
   "metadata": {},
   "outputs": [],
   "source": [
    "print(inp.conduit.to_swmm_string())"
   ]
  },
  {
   "cell_type": "code",
   "execution_count": null,
   "metadata": {},
   "outputs": [],
   "source": [
    "print(inp.report.to_swmm_string())"
   ]
  },
  {
   "cell_type": "code",
   "execution_count": null,
   "metadata": {},
   "outputs": [],
   "source": [
    "print(inp.report.to_swmm_string())"
   ]
  },
  {
   "cell_type": "code",
   "execution_count": null,
   "metadata": {},
   "outputs": [],
   "source": [
    "print(inp.event.to_swmm_string())"
   ]
  },
  {
   "cell_type": "code",
   "execution_count": null,
   "metadata": {},
   "outputs": [],
   "source": [
    "from dataclasses import dataclass\n",
    "from typing import Iterable,Optional"
   ]
  },
  {
   "cell_type": "code",
   "execution_count": null,
   "metadata": {},
   "outputs": [],
   "source": [
    "class Report:\n",
    "    @dataclass\n",
    "    class LIDReportEntry:\n",
    "        Name: str\n",
    "        Subcatch: str\n",
    "        Fname: str\n",
    "\n",
    "    class LIDReport(list):\n",
    "        def __init__(self, entries: Iterable[Report.LIDReportEntry]):\n",
    "            for i in entries:\n",
    "                if not isinstance(i, Report.LIDReportEntry):\n",
    "                    raise ValueError(\n",
    "                        f\"LIDReport is instantiated with a sequence of LIDReportEntries, got {type(i)}\"\n",
    "                    )\n",
    "            super().__init__(entries)\n",
    "\n",
    "        def add(self, lid_name: str, subcatch: str, Fname: str) -> None:\n",
    "            self.append(\n",
    "                Report.LIDReportEntry(\n",
    "                    Name=lid_name,\n",
    "                    Subcatch=subcatch,\n",
    "                    Fname=Fname,\n",
    "                )\n",
    "            )\n",
    "\n",
    "        def remove(self, lid_name: str) -> None:\n",
    "            for i, v in enumerate(self):\n",
    "                if v.Name == lid_name:\n",
    "                    break\n",
    "            self.pop(i)\n",
    "\n",
    "        def __repr__(self):\n",
    "            return f\"LIDReportList({super().__repr__()})\"\n",
    "\n",
    "    def __init__(\n",
    "        self,\n",
    "        disabled: Optional[str] = None,\n",
    "        input: Optional[str] = None,\n",
    "        continuity: Optional[str] = None,\n",
    "        flowstats: Optional[str] = None,\n",
    "        controls: Optional[str] = None,\n",
    "        averages: Optional[str] = None,\n",
    "        subcatchments: list[str] = [],\n",
    "        nodes: list[str] = [],\n",
    "        links: list[str] = [],\n",
    "        lids: list[dict] = [],\n",
    "    ):\n",
    "        print(disabled)\n",
    "        self.DISABLED = disabled\n",
    "        self.INPUT = input\n",
    "        self.CONTINUITY = continuity\n",
    "        self.FLOWSTATS = flowstats\n",
    "        self.CONTROLS = controls\n",
    "        self.AVERAGES = averages\n",
    "        self.SUBCATCH = subcatchments\n",
    "        self.NODES = nodes\n",
    "        self.LINKS = links\n",
    "        self.LIDS = self.LIDReport([])\n",
    "\n",
    "        for lid in lids:\n",
    "            self.LIDS.add(lid[\"name\"], lid[\"subcatch\"], lid[\"fname\"])\n",
    "\n",
    "\n",
    "    @classmethod\n",
    "    def _from_section_text(cls, text: str, *args, **kwargs) :\n",
    "        raise NotImplementedError\n",
    "\n",
    "    @classmethod\n",
    "    def _new_empty(cls) :\n",
    "        return cls()\n",
    "\n",
    "    @classmethod\n",
    "    def _newobj(cls, *args, **kwargs) :\n",
    "        return cls(*args,**kwargs)\n",
    "\n",
    "#\n"
   ]
  },
  {
   "cell_type": "code",
   "execution_count": null,
   "metadata": {},
   "outputs": [],
   "source": [
    "r = Report()"
   ]
  },
  {
   "cell_type": "code",
   "execution_count": null,
   "metadata": {},
   "outputs": [],
   "source": [
    "r.DISABLED"
   ]
  },
  {
   "cell_type": "code",
   "execution_count": null,
   "metadata": {},
   "outputs": [],
   "source": [
    "t=[1,2,3,4,5,6,7]"
   ]
  },
  {
   "cell_type": "code",
   "execution_count": null,
   "metadata": {},
   "outputs": [],
   "source": [
    "if len(value:=t[1:3])>1:\n",
    "    print(value)"
   ]
  },
  {
   "cell_type": "code",
   "execution_count": null,
   "metadata": {},
   "outputs": [],
   "source": []
  },
  {
   "cell_type": "code",
   "execution_count": null,
   "metadata": {},
   "outputs": [],
   "source": [
    "t = LIDReport(\n",
    "    [\n",
    "        LIDReportEntry('this','that','those'),\n",
    "        LIDReportEntry('this1','that','those'),\n",
    "        LIDReportEntry('this2','that','those'),\n",
    "        LIDReportEntry('this3','that','those')\n",
    "    ]\n",
    ")"
   ]
  },
  {
   "cell_type": "code",
   "execution_count": null,
   "metadata": {},
   "outputs": [],
   "source": [
    "t"
   ]
  },
  {
   "cell_type": "code",
   "execution_count": null,
   "metadata": {},
   "outputs": [],
   "source": [
    "t.remove('this')"
   ]
  },
  {
   "cell_type": "code",
   "execution_count": null,
   "metadata": {},
   "outputs": [],
   "source": [
    "t.add(\n",
    "    'entry1',\n",
    "    'subcatch2',\n",
    "    'file'\n",
    ")"
   ]
  },
  {
   "cell_type": "code",
   "execution_count": null,
   "metadata": {},
   "outputs": [],
   "source": [
    "t"
   ]
  },
  {
   "cell_type": "code",
   "execution_count": null,
   "metadata": {},
   "outputs": [],
   "source": [
    "t = ['this']"
   ]
  },
  {
   "cell_type": "code",
   "execution_count": null,
   "metadata": {},
   "outputs": [],
   "source": [
    "filter()"
   ]
  },
  {
   "cell_type": "code",
   "execution_count": null,
   "metadata": {},
   "outputs": [],
   "source": [
    "t.remove('this')"
   ]
  },
  {
   "cell_type": "code",
   "execution_count": null,
   "metadata": {},
   "outputs": [],
   "source": [
    "t"
   ]
  },
  {
   "cell_type": "code",
   "execution_count": null,
   "metadata": {},
   "outputs": [],
   "source": [
    "inp.event"
   ]
  },
  {
   "cell_type": "code",
   "execution_count": null,
   "metadata": {},
   "outputs": [],
   "source": [
    "inp._section_texts['EVENT']"
   ]
  },
  {
   "cell_type": "code",
   "execution_count": null,
   "metadata": {},
   "outputs": [],
   "source": [
    "input.event"
   ]
  },
  {
   "cell_type": "code",
   "execution_count": null,
   "metadata": {},
   "outputs": [],
   "source": [
    "print(inp.title.to_swmm_string())"
   ]
  },
  {
   "cell_type": "code",
   "execution_count": null,
   "metadata": {},
   "outputs": [],
   "source": [
    "type(super(sc.SectionDf,inp.subarea))"
   ]
  },
  {
   "cell_type": "code",
   "execution_count": null,
   "metadata": {},
   "outputs": [],
   "source": [
    "t = ['list']\n",
    "t"
   ]
  },
  {
   "cell_type": "code",
   "execution_count": null,
   "metadata": {},
   "outputs": [],
   "source": [
    "t.comment = 'test'"
   ]
  },
  {
   "cell_type": "code",
   "execution_count": null,
   "metadata": {},
   "outputs": [],
   "source": [
    "t.comments"
   ]
  },
  {
   "cell_type": "code",
   "execution_count": null,
   "metadata": {},
   "outputs": [],
   "source": [
    "inp.subarea"
   ]
  },
  {
   "cell_type": "code",
   "execution_count": null,
   "metadata": {},
   "outputs": [],
   "source": [
    "inp.coordinates"
   ]
  },
  {
   "cell_type": "code",
   "execution_count": null,
   "metadata": {},
   "outputs": [],
   "source": [
    "print(inp.xsections.to_swmm_string())"
   ]
  },
  {
   "cell_type": "code",
   "execution_count": null,
   "metadata": {},
   "outputs": [],
   "source": [
    "print(inp._section_texts['STORAGE'])"
   ]
  },
  {
   "cell_type": "code",
   "execution_count": null,
   "metadata": {},
   "outputs": [],
   "source": [
    "print(inp.storage.to_swmm_string())"
   ]
  },
  {
   "cell_type": "code",
   "execution_count": null,
   "metadata": {},
   "outputs": [],
   "source": [
    "inp.re"
   ]
  },
  {
   "cell_type": "code",
   "execution_count": null,
   "metadata": {},
   "outputs": [],
   "source": [
    "inp.infil"
   ]
  },
  {
   "cell_type": "code",
   "execution_count": null,
   "metadata": {},
   "outputs": [],
   "source": [
    "inp.title?"
   ]
  },
  {
   "cell_type": "code",
   "execution_count": null,
   "metadata": {},
   "outputs": [],
   "source": [
    "df = inp.option.copy()"
   ]
  },
  {
   "cell_type": "code",
   "execution_count": null,
   "metadata": {},
   "outputs": [],
   "source": [
    "df.columns=['op','Value','desc']"
   ]
  },
  {
   "cell_type": "code",
   "execution_count": null,
   "metadata": {},
   "outputs": [],
   "source": [
    "inp.option=df"
   ]
  },
  {
   "cell_type": "code",
   "execution_count": null,
   "metadata": {},
   "outputs": [],
   "source": [
    "api_inp = api.SwmmInput('Model.inp')"
   ]
  },
  {
   "cell_type": "code",
   "execution_count": null,
   "metadata": {},
   "outputs": [],
   "source": []
  },
  {
   "cell_type": "markdown",
   "metadata": {},
   "source": []
  },
  {
   "cell_type": "code",
   "execution_count": null,
   "metadata": {},
   "outputs": [],
   "source": [
    "api_inp.SUBCATCHMENTS['SUB1']"
   ]
  },
  {
   "cell_type": "code",
   "execution_count": null,
   "metadata": {},
   "outputs": [],
   "source": [
    "inp.subcatchments.loc[0,\"CurbLeng\"] = 100"
   ]
  },
  {
   "cell_type": "code",
   "execution_count": null,
   "metadata": {},
   "outputs": [],
   "source": [
    "inp.temperature"
   ]
  },
  {
   "cell_type": "code",
   "execution_count": null,
   "metadata": {},
   "outputs": [],
   "source": [
    "inp.temperature.__class__.__name__.lower()"
   ]
  },
  {
   "cell_type": "code",
   "execution_count": null,
   "metadata": {},
   "outputs": [],
   "source": [
    "api_inp.SNOWPACKS"
   ]
  }
 ],
 "metadata": {
  "kernelspec": {
   "display_name": ".venv",
   "language": "python",
   "name": "python3"
  },
  "language_info": {
   "codemirror_mode": {
    "name": "ipython",
    "version": 3
   },
   "file_extension": ".py",
   "mimetype": "text/x-python",
   "name": "python",
   "nbconvert_exporter": "python",
   "pygments_lexer": "ipython3",
   "version": "3.13.0"
  }
 },
 "nbformat": 4,
 "nbformat_minor": 2
}
