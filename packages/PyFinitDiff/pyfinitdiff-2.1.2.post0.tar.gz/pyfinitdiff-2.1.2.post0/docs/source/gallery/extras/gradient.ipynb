{
  "cells": [
    {
      "cell_type": "markdown",
      "metadata": {},
      "source": [
        "\n# Gradient of array\n"
      ]
    },
    {
      "cell_type": "code",
      "execution_count": null,
      "metadata": {
        "collapsed": false
      },
      "outputs": [],
      "source": [
        "from PyFinitDiff.finite_difference_2D import get_array_derivative\nfrom PyFinitDiff.finite_difference_2D import Boundaries\n\nimport numpy\nfrom MPSPlots.render2D import SceneList\n\nidx = numpy.linspace(-5, 5, 100)\nx_array = numpy.exp(-idx**2)\ny_array = numpy.exp(-idx**2)\n\ny_array, x_array = numpy.meshgrid(x_array, y_array)\n\nmesh = x_array * y_array\n\ncondition = 'none'\nboundaries = Boundaries(\n    top=condition,\n    bottom=condition,\n    left=condition,\n    right=condition,\n)\n\nscene = SceneList(\n    unit_size=(3, 3),\n    ax_orientation='horizontal'\n)\n\nax = scene.append_ax(title='Initial mesh')\nax.add_mesh(scalar=mesh)\n\nfor derivative in [1, 2, 3]:\n    gradient = get_array_derivative(\n        array=mesh,\n        accuracy=6,\n        derivative=derivative,\n        x_derivative=True,\n        y_derivative=True,\n        boundaries=boundaries\n    )\n\n    ax = scene.append_ax(title=f'derivative: {derivative}')\n\n    ax.add_mesh(scalar=gradient)\n\nscene.show()\n\n\n# -"
      ]
    }
  ],
  "metadata": {
    "kernelspec": {
      "display_name": "Python 3",
      "language": "python",
      "name": "python3"
    },
    "language_info": {
      "codemirror_mode": {
        "name": "ipython",
        "version": 3
      },
      "file_extension": ".py",
      "mimetype": "text/x-python",
      "name": "python",
      "nbconvert_exporter": "python",
      "pygments_lexer": "ipython3",
      "version": "3.11.0"
    }
  },
  "nbformat": 4,
  "nbformat_minor": 0
}