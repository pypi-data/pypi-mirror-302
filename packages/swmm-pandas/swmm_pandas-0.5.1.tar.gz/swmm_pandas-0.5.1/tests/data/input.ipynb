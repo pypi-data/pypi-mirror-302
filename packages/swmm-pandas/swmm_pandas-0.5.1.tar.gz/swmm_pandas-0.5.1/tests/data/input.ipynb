{
 "cells": [
  {
   "cell_type": "code",
   "execution_count": 1,
   "metadata": {},
   "outputs": [],
   "source": [
    "import swmm.pandas as spd\n",
    "#import swmm_api as api\n",
    "import swmm.pandas.input._section_classes as sc\n",
    "import datetime\n",
    "\n",
    "#from swmm_api.input_file import read_inp_file, SwmmInput, section_labels as sections\n",
    "import pandas as pd\n",
    "import numpy.testing as nptest\n",
    "import numpy as np\n",
    "from textwrap import dedent\n",
    "from pprint import pprint\n",
    "\n",
    "from calendar import month_abbr\n",
    "\n",
    "def month_to_number(abrr):\n",
    "    try:\n",
    "        return list(month_abbr).index(abrr.capitalize())\n",
    "    except:\n",
    "        return -1\n",
    "    \n",
    "inp = spd.Input('bench_inp.inp')\n",
    "# ainp = api.input_file.SwmmInput('Inlet_Drains_Model.inp')\n",
    "#inp = spd.Input('Detention_Pond_Model.inp')"
   ]
  },
  {
   "cell_type": "code",
   "execution_count": 2,
   "metadata": {},
   "outputs": [],
   "source": [
    "rptb=spd.Report(\"bench_rpt.rpt\")\n",
    "rptt = spd.Report(\"test_model.rpt\")"
   ]
  },
  {
   "cell_type": "code",
   "execution_count": 7,
   "metadata": {},
   "outputs": [],
   "source": [
    "with open('bench_rpt.rpt') as f:\n",
    "    bench = f.read()\n",
    "with open('test_model.rpt') as f:\n",
    "    test = f.read()\n"
   ]
  },
  {
   "cell_type": "code",
   "execution_count": 8,
   "metadata": {},
   "outputs": [
    {
     "data": {
      "text/plain": [
       "'\\n  EPA STORM WATER MANAGEMENT MODEL - VERSION 5.2 (Build 5.2.4)\\n  PYSWMM TOOLKIT API - VERSION v1.0 (2024-10-13)\\n  ------------------------------------------------------------\\n\\n  SWMM is the best!\\n  WARNING 09: time series interval greater than recording interval for Rain Gage RainGauge_A\\n  \\n  *************\\n  Element Count\\n  *************\\n  Number of rain gages ...... 5\\n  Number of subcatchments ... 3\\n  Number of nodes ........... 10\\n  Number of links ........... 10\\n  Number of pollutants ...... 3\\n  Number of land uses ....... 0\\n  \\n  \\n  *****************\\n  Pollutant Summary\\n  *****************\\n                               Ppt.      GW         Kdecay\\n  Name                 Units   Concen.   Concen.    1/days    CoPollutant\\n  -----------------------------------------------------------------------\\n  Groundwater           MG/L      0.00    100.00      0.00\\n  Rainfall              MG/L    100.00      0.00      0.00\\n  Sewage                MG/L      0.00      0.00      0.00\\n  \\n  \\n  ****************\\n  Raingage Summary\\n  ****************\\n                                                      Data       Recording\\n  Name                 Data Source                    Type       Interval \\n  ------------------------------------------------------------------------\\n  RG1                  /home/ckaros/src/swmm-pandas/tests/data/rain.dat\\n  RainGauge_A          SCS_Type_III_3in               VOLUME       5 min.\\n  RainGauge_B          SCS_Type_III_3in               VOLUME       5 min.\\n  RainGauge_C          SCS_Type_III_3in               VOLUME       5 min.\\n  SCS_Type_III_3in     SCS_Type_III_3in               VOLUME      15 min.\\n  \\n  \\n  ********************\\n  Subcatchment Summary\\n  ********************\\n  Name                       Area     Width   %Imperv    %Slope Rain Gage            Outlet              \\n  -----------------------------------------------------------------------------------------------------------\\n  SUB1                       5.00   1866.76     30.83    0.5000 SCS_Type_III_3in     JUNC1               \\n  SUB2                      17.00   4174.20     40.74    0.5000 SCS_Type_III_3in     JUNC2               \\n  SUB3                      38.00   5665.00     62.21    0.5000 SCS_Type_III_3in     JUNC4               \\n  \\n  \\n  ************\\n  Node Summary\\n  ************\\n                                           Invert      Max.    Ponded    External\\n  Name                 Type                 Elev.     Depth      Area    Inflow  \\n  -------------------------------------------------------------------------------\\n  JUNC1                JUNCTION              1.50     10.25    5000.0    Yes\\n  JUNC2                JUNCTION             -1.04      6.20    5000.0    Yes\\n  JUNC3                JUNCTION             -3.47     11.50    5000.0    Yes\\n  JUNC4                JUNCTION             -5.25     13.80    5000.0    Yes\\n  JUNC6                JUNCTION              0.00      9.00       0.0\\n  OUT1                 OUTFALL               0.10      1.00       0.0\\n  OUT2                 OUTFALL              -1.04      0.00       0.0\\n  OUT3                 OUTFALL               0.00      0.00       0.0\\n  JUNC5                STORAGE              -6.50     13.20       0.0\\n  STOR1                STORAGE             -15.25     21.75       0.0\\n  \\n  \\n  ************\\n  Link Summary\\n  ************\\n  Name             From Node        To Node          Type            Length    %Slope Roughness\\n  ---------------------------------------------------------------------------------------------\\n  COND1            JUNC1            JUNC2            CONDUIT          932.4    0.2456    0.0150\\n  COND2            JUNC2            JUNC3            CONDUIT          599.5    0.3636    0.0190\\n  COND3            JUNC3            JUNC4            CONDUIT          541.1    0.2366    0.0190\\n  COND4            JUNC4            JUNC5            CONDUIT          732.5    0.1707    0.0190\\n  COND5            JUNC5            STOR1            CONDUIT           64.7    0.0155    0.0190\\n  COND6            JUNC6            OUT1             CONDUIT           37.7   -0.2651    0.0150\\n  COND7            JUNC5            STOR1            CONDUIT           37.7   23.8478    0.0150\\n  COND8            JUNC5            STOR1            CONDUIT           37.7   23.8478    0.0100\\n  PUMP1            STOR1            JUNC6            TYPE5 PUMP  \\n  WR1              JUNC2            OUT2             WEIR        \\n  \\n  \\n  *********************\\n  Cross Section Summary\\n  *********************\\n                                        Full     Full     Hyd.     Max.   No. of     Full\\n  Conduit          Shape               Depth     Area     Rad.    Width  Barrels     Flow\\n  ---------------------------------------------------------------------------------------\\n  COND1            CIRCULAR             1.00     0.79     0.25     1.00        1     1.53\\n  COND2            FILLED_CIRCULAR      0.75     0.77     0.22     1.25        1     1.33\\n  COND3            FILLED_CIRCULAR      1.00     1.25     0.29     1.50        1     2.07\\n  COND4            FILLED_CIRCULAR      1.50     2.53     0.41     2.00        1     4.51\\n  COND5            FILLED_CIRCULAR      1.00     1.57     0.31     2.00        1     0.70\\n  COND6            FORCE_MAIN           1.00     0.79     0.25     1.00        1     2.41\\n  COND7            COND7_curve         10.00   770.00     3.66   100.00        2 88430.07\\n  COND8            Transect             1.00     1.00     0.35     2.00        1    36.19\\n  \\n  \\n  *************\\n  Shape Summary\\n  *************\\n\\n  Shape COND7_curve\\n  Area:  \\n              0.0005     0.0021     0.0047     0.0083     0.0130 \\n              0.0190     0.0265     0.0356     0.0462     0.0584 \\n              0.0719     0.0861     0.1013     0.1173     0.1342 \\n              0.1519     0.1706     0.1900     0.2104     0.2316 \\n              0.2537     0.2766     0.3004     0.3251     0.3506 \\n              0.3766     0.4026     0.4286     0.4545     0.4805 \\n              0.5065     0.5325     0.5584     0.5844     0.6104 \\n              0.6364     0.6623     0.6883     0.7143     0.7403 \\n              0.7662     0.7922     0.8182     0.8442     0.8701 \\n              0.8961     0.9221     0.9481     0.9740     1.0000 \\n  Hrad:  \\n              0.0272     0.0544     0.0816     0.1088     0.1360 \\n              0.1529     0.1736     0.1964     0.2204     0.2453 \\n              0.2827     0.3188     0.3540     0.3884     0.4220 \\n              0.4550     0.4874     0.5194     0.5510     0.5823 \\n              0.6132     0.6438     0.6742     0.7044     0.7343 \\n              0.7856     0.8365     0.8869     0.9370     0.9867 \\n              1.0360     1.0849     1.1334     1.1816     1.2294 \\n              1.2768     1.3239     1.3706     1.4170     1.4630 \\n              1.5086     1.5540     1.5990     1.6436     1.6879 \\n              1.7319     1.7756     1.8190     1.8620     1.0000 \\n  Width: \\n              0.0400     0.0800     0.1200     0.1600     0.2000 \\n              0.2600     0.3200     0.3800     0.4400     0.5000 \\n              0.5333     0.5667     0.6000     0.6333     0.6667 \\n              0.7000     0.7333     0.7667     0.8000     0.8333 \\n              0.8667     0.9000     0.9333     0.9667     1.0000 \\n              1.0000     1.0000     1.0000     1.0000     1.0000 \\n              1.0000     1.0000     1.0000     1.0000     1.0000 \\n              1.0000     1.0000     1.0000     1.0000     1.0000 \\n              1.0000     1.0000     1.0000     1.0000     1.0000 \\n              1.0000     1.0000     1.0000     1.0000     1.0000 \\n  \\n  \\n  ****************\\n  Transect Summary\\n  ****************\\n\\n  Transect Transect\\n  Area:  \\n              0.0004     0.0016     0.0036     0.0064     0.0100 \\n              0.0144     0.0196     0.0256     0.0324     0.0400 \\n              0.0484     0.0576     0.0676     0.0784     0.0900 \\n              0.1024     0.1156     0.1296     0.1444     0.1600 \\n              0.1764     0.1936     0.2116     0.2304     0.2500 \\n              0.2704     0.2916     0.3136     0.3364     0.3600 \\n              0.3844     0.4096     0.4356     0.4624     0.4900 \\n              0.5184     0.5476     0.5776     0.6084     0.6400 \\n              0.6724     0.7056     0.7396     0.7744     0.8100 \\n              0.8464     0.8836     0.9216     0.9604     1.0000 \\n  Hrad:  \\n              0.0200     0.0400     0.0600     0.0800     0.1000 \\n              0.1200     0.1400     0.1600     0.1800     0.2000 \\n              0.2200     0.2400     0.2600     0.2800     0.3000 \\n              0.3200     0.3400     0.3600     0.3800     0.4000 \\n              0.4200     0.4400     0.4600     0.4800     0.5000 \\n              0.5200     0.5400     0.5600     0.5800     0.6000 \\n              0.6200     0.6400     0.6600     0.6800     0.7000 \\n              0.7200     0.7400     0.7600     0.7800     0.8000 \\n              0.8200     0.8400     0.8600     0.8800     0.9000 \\n              0.9200     0.9400     0.9600     0.9800     1.0000 \\n  Width: \\n              0.0200     0.0400     0.0600     0.0800     0.1000 \\n              0.1200     0.1400     0.1600     0.1800     0.2000 \\n              0.2200     0.2400     0.2600     0.2800     0.3000 \\n              0.3200     0.3400     0.3600     0.3800     0.4000 \\n              0.4200     0.4400     0.4600     0.4800     0.5000 \\n              0.5200     0.5400     0.5600     0.5800     0.6000 \\n              0.6200     0.6400     0.6600     0.6800     0.7000 \\n              0.7200     0.7400     0.7600     0.7800     0.8000 \\n              0.8200     0.8400     0.8600     0.8800     0.9000 \\n              0.9200     0.9400     0.9600     0.9800     1.0000 \\n  \\n  \\n  ****************\\n  Analysis Options\\n  ****************\\n  Flow Units ............... CFS\\n  Process Models:\\n    Rainfall/Runoff ........ YES\\n    RDII ................... YES\\n    Snowmelt ............... YES\\n    Groundwater ............ YES\\n    Flow Routing ........... YES\\n    Ponding Allowed ........ YES\\n    Water Quality .......... YES\\n  Infiltration Method ...... GREEN_AMPT\\n  Flow Routing Method ...... DYNWAVE\\n  Surcharge Method ......... EXTRAN\\n  Starting Date ............ 01/01/1900 00:00:00\\n  Ending Date .............. 01/02/1900 00:00:00\\n  Antecedent Dry Days ...... 0.0\\n  Report Time Step ......... 00:05:00\\n  Wet Time Step ............ 00:05:00\\n  Dry Time Step ............ 01:00:00\\n  Routing Time Step ........ 15.00 sec\\n  Variable Time Step ....... YES\\n  Maximum Trials ........... 10\\n  Number of Threads ........ 1\\n  Head Tolerance ........... 0.005000 ft\\n  \\n  \\n  *********************\\n  Rainfall File Summary\\n  *********************\\n  Station    First        Last         Recording   Periods    Periods    Periods\\n  ID         Date         Date         Frequency  w/Precip    Missing    Malfunc.\\n  -------------------------------------------------------------------------------\\n  RG1        01/01/1900   01/06/1900       5 min        36          0          0\\n\\n  \\n  \\n  **********************           Volume        Volume\\n  Rainfall Dependent I/I        acre-feet      10^6 gal\\n  **********************        ---------     ---------\\n  Sewershed Rainfall ......         6.353         2.070\\n  RDII Produced ...........         0.072         0.024\\n  RDII Ratio ..............         0.011\\n  \\n  \\n  *********************\\n  Control Actions Taken\\n  *********************\\n\\n  \\n  **************************        Volume         Depth\\n  Runoff Quantity Continuity     acre-feet        inches\\n  **************************     ---------       -------\\n  Initial Snow Cover .......         0.000         0.000\\n  Total Precipitation ......        14.998         3.000\\n  Evaporation Loss .........         3.192         0.638\\n  Infiltration Loss ........         6.231         1.246\\n  Surface Runoff ...........         5.576         1.115\\n  Snow Removed .............         0.000         0.000\\n  Final Snow Cover .........         0.000         0.000\\n  Final Storage ............         0.155         0.031\\n  Continuity Error (%) .....        -1.038\\n  \\n  \\n  **************************   Groundwater      Rainfall        Sewage\\n  Runoff Quality Continuity            lbs           lbs           lbs\\n  **************************    ----------    ----------    ----------\\n  Initial Buildup ..........         0.000         0.000         0.000\\n  Surface Buildup ..........         0.000         0.000         0.000\\n  Wet Deposition ...........         0.000      4075.669         0.000\\n  Sweeping Removal .........         0.000         0.000         0.000\\n  Infiltration Loss ........         0.000      1693.349         0.000\\n  BMP Removal ..............         0.000         0.000         0.000\\n  Surface Runoff ...........         0.000      1512.272         0.000\\n  Remaining Buildup ........         0.000        42.070         0.000\\n  Continuity Error (%) .....         0.000        20.315         0.000\\n  \\n  \\n  **************************        Volume         Depth\\n  Groundwater Continuity         acre-feet        inches\\n  **************************     ---------       -------\\n  Initial Storage ..........      1272.478       254.496\\n  Infiltration .............         6.231         1.246\\n  Upper Zone ET ............         0.000         0.000\\n  Lower Zone ET ............         0.000         0.000\\n  Deep Percolation .........         0.068         0.014\\n  Groundwater Flow .........        14.647         2.929\\n  Final Storage ............      1263.962       252.792\\n  Continuity Error (%) .....         0.003\\n  \\n  \\n  **************************        Volume        Volume\\n  Flow Routing Continuity        acre-feet      10^6 gal\\n  **************************     ---------     ---------\\n  Dry Weather Inflow .......         1.657         0.540\\n  Wet Weather Inflow .......         5.574         1.816\\n  Groundwater Inflow .......        13.142         4.282\\n  RDII Inflow ..............         0.072         0.023\\n  External Inflow ..........       200.433        65.314\\n  External Outflow .........        66.572        21.693\\n  Flooding Loss ............         0.000         0.000\\n  Evaporation Loss .........         0.004         0.001\\n  Exfiltration Loss ........         0.157         0.051\\n  Initial Stored Volume ....         0.000         0.000\\n  Final Stored Volume ......       152.872        49.816\\n  Continuity Error (%) .....         0.576\\n  \\n  \\n  **************************   Groundwater      Rainfall        Sewage\\n  Quality Routing Continuity           lbs           lbs           lbs\\n  **************************    ----------    ----------    ----------\\n  Dry Weather Inflow .......         0.000         0.000       450.283\\n  Wet Weather Inflow .......         0.000      1512.163         0.000\\n  Groundwater Inflow .......      3571.215         0.000         0.000\\n  RDII Inflow ..............         0.000         0.000         0.000\\n  External Inflow ..........         0.000         0.000         0.000\\n  External Outflow .........       895.447       826.137       467.251\\n  Flooding Loss ............         0.000         0.000         0.000\\n  Exfiltration Loss ........         3.119         0.070         0.013\\n  Mass Reacted .............         0.151       105.998         0.000\\n  Initial Stored Mass ......         0.000         0.000         0.000\\n  Final Stored Mass ........      2685.817        52.821         5.103\\n  Continuity Error (%) .....        -0.373        34.860        -4.904\\n  \\n  \\n  *************************\\n  Highest Continuity Errors\\n  *************************\\n  Node STOR1 (14.06%)\\n  \\n  \\n  ***************************\\n  Time-Step Critical Elements\\n  ***************************\\n  Link COND6 (92.75%)\\n  \\n  \\n  ********************************\\n  Highest Flow Instability Indexes\\n  ********************************\\n  All links are stable.\\n  \\n  \\n  *********************************\\n  Most Frequent Nonconverging Nodes\\n  *********************************\\n  Node OUT1 (0.39%)\\n  Node OUT2 (0.39%)\\n  Node OUT3 (0.39%)\\n  Node JUNC4 (0.31%)\\n  Node JUNC3 (0.19%)\\n  \\n  \\n  *************************\\n  Routing Time Step Summary\\n  *************************\\n  Minimum Time Step           :     0.74 sec\\n  Average Time Step           :     4.79 sec\\n  Maximum Time Step           :    15.00 sec\\n  % of Time in Steady State   :     0.00\\n  Average Iterations per Step :     2.08\\n  % of Steps Not Converging   :     0.39\\n  Time Step Frequencies       :\\n     15.000 -  7.597 sec      :     7.19 %\\n      7.597 -  3.848 sec      :    92.73 %\\n      3.848 -  1.949 sec      :     0.07 %\\n      1.949 -  0.987 sec      :     0.00 %\\n      0.987 -  0.500 sec      :     0.01 %\\n  \\n  \\n  ***************************\\n  Subcatchment Runoff Summary\\n  ***************************\\n  \\n  ------------------------------------------------------------------------------------------------------------------------------\\n                            Total      Total      Total      Total     Imperv       Perv      Total       Total     Peak  Runoff\\n                           Precip      Runon       Evap      Infil     Runoff     Runoff     Runoff      Runoff   Runoff   Coeff\\n  Subcatchment                 in         in         in         in         in         in         in    10^6 gal      CFS\\n  ------------------------------------------------------------------------------------------------------------------------------\\n  SUB1                       3.00       0.00       0.32       2.12       0.67       0.27       0.60        0.08     5.77   0.201\\n  SUB2                       3.00       0.00       0.41       2.08       0.86       0.11       0.54        0.25    16.93   0.181\\n  SUB3                       3.00       0.00       0.78       0.76       1.28       0.80       1.44        1.48    46.67   0.480\\n  \\n  \\n  *******************\\n  Groundwater Summary\\n  *******************\\n  \\n  -----------------------------------------------------------------------------------------------------\\n                                            Total    Total  Maximum  Average  Average    Final    Final\\n                          Total    Total    Lower  Lateral  Lateral    Upper    Water    Upper    Water\\n                          Infil     Evap  Seepage  Outflow  Outflow   Moist.    Table   Moist.    Table\\n  Subcatchment               in       in       in       in      CFS                ft                ft\\n  -----------------------------------------------------------------------------------------------------\\n  SUB1                     2.12     0.00     0.00    34.64     9.40     0.28    -5.86     0.28   -12.73\\n  SUB2                     2.08     0.00     0.05     0.04     0.04     0.28     0.31     0.28     0.75\\n  SUB3                     0.76     0.00     0.00     0.06     0.10     0.28    -3.48     0.28    -3.36\\n  \\n  \\n  ****************************\\n  Subcatchment Washoff Summary\\n  ****************************\\n  \\n  --------------------------------------------------------------\\n                         Groundwater      Rainfall        Sewage\\n  Subcatchment                   lbs           lbs           lbs\\n  --------------------------------------------------------------\\n  SUB1                         0.000        67.955         0.000\\n  SUB2                         0.000       207.584         0.000\\n  SUB3                         0.000      1236.733         0.000\\n  --------------------------------------------------------------\\n  System                       0.000      1512.272         0.000\\n  \\n  \\n  ******************\\n  Node Depth Summary\\n  ******************\\n  \\n  ---------------------------------------------------------------------------------\\n                                 Average  Maximum  Maximum  Time of Max    Reported\\n                                   Depth    Depth      HGL   Occurrence   Max Depth\\n  Node                 Type         Feet     Feet     Feet  days hr:min        Feet\\n  ---------------------------------------------------------------------------------\\n  JUNC1                JUNCTION   771.36  1293.87  1295.37     1  00:00     1293.87\\n  JUNC2                JUNCTION     5.25     5.95     4.91     0  11:50        5.93\\n  JUNC3                JUNCTION     3.47    14.43    10.96     0  13:30       14.43\\n  JUNC4                JUNCTION     3.82    18.71    13.46     0  12:42       18.68\\n  JUNC6                JUNCTION     1.54     1.76     1.76     0  04:06        1.65\\n  OUT1                 OUTFALL      0.88     1.00     1.10     0  04:06        0.95\\n  OUT2                 OUTFALL      0.00     0.00    -1.04     0  00:00        0.00\\n  OUT3                 OUTFALL      0.00     0.00     0.00     0  00:00        0.00\\n  JUNC5                STORAGE      0.16     0.26    -6.24     0  12:44        0.26\\n  STOR1                STORAGE      2.13     3.15   -12.10     0  15:59        3.15\\n  \\n  \\n  *******************\\n  Node Inflow Summary\\n  *******************\\n  \\n  -------------------------------------------------------------------------------------------------\\n                                  Maximum  Maximum                  Lateral       Total        Flow\\n                                  Lateral    Total  Time of Max      Inflow      Inflow     Balance\\n                                   Inflow   Inflow   Occurrence      Volume      Volume       Error\\n  Node                 Type           CFS      CFS  days hr:min    10^6 gal    10^6 gal     Percent\\n  -------------------------------------------------------------------------------------------------\\n  JUNC1                JUNCTION    113.24   113.24     0  11:50        63.7        63.7       0.000\\n  JUNC2                JUNCTION     27.20    50.92     0  11:50        6.32        20.2       0.056\\n  JUNC3                JUNCTION      0.04     3.67     0  12:38     0.00386        1.27       0.422\\n  JUNC4                JUNCTION     47.55    47.55     0  12:20        1.96        3.22       0.329\\n  JUNC6                JUNCTION      0.00     5.80     0  04:06           0        2.67      -0.034\\n  OUT1                 OUTFALL       0.00     6.31     0  04:06           0        2.67       0.000\\n  OUT2                 OUTFALL       0.00    50.60     0  11:50           0          19       0.000\\n  OUT3                 OUTFALL       0.00     0.00     0  00:00           0           0       0.000 gal\\n  JUNC5                STORAGE       0.00    17.53     0  12:42           0         3.1      -0.398\\n  STOR1                STORAGE       0.00    17.53     0  12:44           0        3.11      16.354\\n  \\n  \\n  **********************\\n  Node Surcharge Summary\\n  **********************\\n  \\n  Surcharging occurs when water rises above the top of the highest conduit.\\n  ---------------------------------------------------------------------\\n                                               Max. Height   Min. Depth\\n                                   Hours       Above Crown    Below Rim\\n  Node                 Type      Surcharged           Feet         Feet\\n  ---------------------------------------------------------------------\\n  JUNC1                JUNCTION       22.00       1292.875        0.000\\n  JUNC3                JUNCTION        6.75         12.933        0.000\\n  JUNC4                JUNCTION        5.36         16.713        0.000\\n  JUNC6                JUNCTION       17.08          0.762        7.238\\n  \\n  \\n  *********************\\n  Node Flooding Summary\\n  *********************\\n  \\n  Flooding refers to all water that overflows a node, whether it ponds or not.\\n  --------------------------------------------------------------------------\\n                                                             Total   Maximum\\n                                 Maximum   Time of Max       Flood    Ponded\\n                        Hours       Rate    Occurrence      Volume     Depth\\n  Node                 Flooded       CFS   days hr:min    10^6 gal      Feet\\n  --------------------------------------------------------------------------\\n  JUNC1                  22.00    106.09      0  02:01      49.767  1283.625\\n  JUNC3                   2.97      3.67      0  12:38       0.115     2.933\\n  JUNC4                   2.31     28.67      0  12:20       0.221     4.913\\n  \\n  \\n  **********************\\n  Storage Volume Summary\\n  **********************\\n  \\n  ------------------------------------------------------------------------------------------------\\n                         Average    Avg   Evap  Exfil     Maximum    Max    Time of Max    Maximum\\n                          Volume   Pcnt   Pcnt   Pcnt      Volume   Pcnt     Occurrence    Outflow\\n  Storage Unit          1000 ft³   Full   Loss   Loss    1000 ft³   Full    days hr:min        CFS\\n  ------------------------------------------------------------------------------------------------\\n  JUNC5                    0.000    0.0    0.0    0.0       0.001    0.1       0  12:44      17.53\\n  STOR1                    1.117    1.1    0.0    0.0       2.054    2.1       0  15:59       5.80\\n  \\n  \\n  ***********************\\n  Outfall Loading Summary\\n  ***********************\\n  \\n  -----------------------------------------------------------------------------------------------------\\n                         Flow       Avg       Max       Total         Total         Total         Total\\n                         Freq      Flow      Flow      Volume   Groundwater      Rainfall        Sewage\\n  Outfall Node           Pcnt       CFS       CFS    10^6 gal           lbs           lbs           lbs\\n  -----------------------------------------------------------------------------------------------------\\n  OUT1                  93.01      5.79      6.31       2.667       102.596       607.631       373.485\\n  OUT2                  99.98     34.06     50.60      19.025       792.944       218.553        93.864\\n  OUT3                   0.00      0.00      0.00       0.000         0.000         0.000         0.000\\n  -----------------------------------------------------------------------------------------------------\\n  System                64.33     39.85     56.40      21.692       895.539       826.185       467.349\\n  \\n  \\n  ********************\\n  Link Flow Summary\\n  ********************\\n  \\n  -----------------------------------------------------------------------------\\n                                 Maximum  Time of Max   Maximum    Max/    Max/\\n                                  |Flow|   Occurrence   |Veloc|    Full    Full\\n  Link                 Type          CFS  days hr:min    ft/sec    Flow   Depth\\n  -----------------------------------------------------------------------------\\n  COND1                CONDUIT     33.82     1  00:00     43.06   22.10    1.00\\n  COND2                CONDUIT      3.07     0  02:00      4.25    2.30    1.00\\n  COND3                CONDUIT      5.19     0  14:15      4.14    2.51    1.00\\n  COND4                CONDUIT     17.53     0  12:42      7.15    3.88    0.92\\n  COND5                CONDUIT      0.00     0  00:00      0.00    0.00    0.00\\n  COND6                CONDUIT      6.31     0  04:06      8.41    2.62    1.00\\n  COND7                CONDUIT     16.54     0  12:44      5.66    0.00    0.17\\n  COND8                CHANNEL      0.99     0  12:44      6.79    0.03    0.63\\n  PUMP1                PUMP         5.80     0  04:06              1.00\\n  WR1                  WEIR        50.60     0  11:50                      0.92\\n  \\n  \\n  ***************************\\n  Flow Classification Summary\\n  ***************************\\n  \\n  -------------------------------------------------------------------------------------\\n                      Adjusted    ---------- Fraction of Time in Flow Class ---------- \\n                       /Actual         Up    Down  Sub   Sup   Up    Down  Norm  Inlet \\n  Conduit               Length    Dry  Dry   Dry   Crit  Crit  Crit  Crit  Ltd   Ctrl  \\n  -------------------------------------------------------------------------------------\\n  COND1                   1.00   0.00  0.00  0.00  1.00  0.00  0.00  0.00  0.00  0.00\\n  COND2                   1.00   0.00  0.00  0.00  1.00  0.00  0.00  0.00  0.00  0.00\\n  COND3                   1.00   0.00  0.00  0.00  0.98  0.00  0.00  0.01  0.00  0.00\\n  COND4                   1.00   0.00  0.00  0.00  0.00  0.00  0.00  1.00  0.00  0.00\\n  COND5                   1.00   1.00  0.00  0.00  0.00  0.00  0.00  0.00  0.00  0.00\\n  COND6                   2.32   0.10  0.12  0.00  0.79  0.00  0.00  0.00  0.00  0.00\\n  COND7                  35.20   0.00  0.00  0.00  0.97  0.03  0.00  0.00  0.99  0.00\\n  COND8                  10.66   0.00  0.00  0.00  0.96  0.04  0.00  0.00  0.99  0.00\\n  \\n  \\n  *************************\\n  Conduit Surcharge Summary\\n  *************************\\n  \\n  ----------------------------------------------------------------------------\\n                                                           Hours        Hours \\n                         --------- Hours Full --------   Above Full   Capacity\\n  Conduit                Both Ends  Upstream  Dnstream   Normal Flow   Limited\\n  ----------------------------------------------------------------------------\\n  COND1                      22.00     22.00     22.00     22.00        22.00\\n  COND2                       6.74     22.00      6.74     19.01         3.76\\n  COND3                       5.34      6.74      5.35     20.16         2.68\\n  COND4                       0.01      5.35      0.01      6.33         0.01\\n  COND6                       0.01      0.01     17.07     17.08         0.01\\n  COND8                       0.01      0.01     16.80      0.01         0.01\\n  \\n  \\n  ***************\\n  Pumping Summary\\n  ***************\\n  \\n  ---------------------------------------------------------------------------------------------------------\\n                                                  Min       Avg       Max     Total     Power    % Time Off\\n                        Percent   Number of      Flow      Flow      Flow    Volume     Usage    Pump Curve\\n  Pump                 Utilized   Start-Ups       CFS       CFS       CFS  10^6 gal     Kw-hr    Low   High\\n  ---------------------------------------------------------------------------------------------------------\\n  PUMP1                   77.62           3      0.00      5.80      5.80     2.667    122.95    0.0  100.0\\n  \\n  \\n  ***************************\\n  Link Pollutant Load Summary\\n  ***************************\\n  \\n  --------------------------------------------------------------\\n                         Groundwater      Rainfall        Sewage\\n  Link                           lbs           lbs           lbs\\n  --------------------------------------------------------------\\n  COND1                      827.725        15.133         0.000\\n  COND2                       47.256         3.825         6.009\\n  COND3                       48.007       183.140        11.983\\n  COND4                       91.304      1240.320       354.264\\n  COND5                        0.000         0.000         0.000\\n  COND6                      102.596       607.631       373.485\\n  COND7                       84.906      1198.618       331.861\\n  COND8                        5.161        70.292        20.042\\n  PUMP1                      102.590       607.597       373.441\\n  WR1                        792.944       218.553        93.864\\n  \\n\\n  Analysis begun on:  Sun Oct 13 15:35:17 2024\\n  Analysis ended on:  Sun Oct 13 15:35:17 2024\\n  Total elapsed time: < 1 sec'"
      ]
     },
     "execution_count": 8,
     "metadata": {},
     "output_type": "execute_result"
    }
   ],
   "source": [
    "bench"
   ]
  },
  {
   "cell_type": "code",
   "execution_count": 5,
   "metadata": {},
   "outputs": [],
   "source": [
    "pd.testing.assert_frame_equal(bench,test)"
   ]
  },
  {
   "cell_type": "code",
   "execution_count": 6,
   "metadata": {},
   "outputs": [],
   "source": [
    "for attr in dir(rptb):\n",
    "    if not attr.startswith(('_','analysis')):\n",
    "        bench = getattr(rptb,attr)\n",
    "        test = getattr(rptt,attr)\n",
    "        pd.testing.assert_frame_equal(bench,test)"
   ]
  },
  {
   "cell_type": "code",
   "execution_count": null,
   "metadata": {},
   "outputs": [],
   "source": []
  },
  {
   "cell_type": "code",
   "execution_count": null,
   "metadata": {},
   "outputs": [],
   "source": [
    "inp.tags.index"
   ]
  },
  {
   "cell_type": "code",
   "execution_count": 6,
   "metadata": {},
   "outputs": [],
   "source": [
    "inp.tags.loc[('Link','C5'),'Tag'] = \"a_new_kind_of_GI\"\n",
    "inp.tags.loc[('Link','C5'),'desc'] = \"this is a new test GI\""
   ]
  },
  {
   "cell_type": "code",
   "execution_count": null,
   "metadata": {},
   "outputs": [],
   "source": [
    "print(inp.tags.to_swmm_string())"
   ]
  },
  {
   "cell_type": "code",
   "execution_count": 15,
   "metadata": {},
   "outputs": [],
   "source": [
    "inp.polygons.iloc[0,0] = 10_000\n",
    "inp.polygons.iloc[0,2] = \"crazy X value\""
   ]
  },
  {
   "cell_type": "code",
   "execution_count": null,
   "metadata": {},
   "outputs": [],
   "source": [
    "print(inp.polygons.to_swmm_string())"
   ]
  },
  {
   "cell_type": "code",
   "execution_count": null,
   "metadata": {},
   "outputs": [],
   "source": [
    "s = spd.Output('Model.out',preload=True)\n",
    "s._open()"
   ]
  },
  {
   "cell_type": "code",
   "execution_count": null,
   "metadata": {},
   "outputs": [],
   "source": [
    "s.data.columns"
   ]
  },
  {
   "cell_type": "code",
   "execution_count": 2,
   "metadata": {},
   "outputs": [],
   "source": [
    "        inp.patterns.loc[(\"Monthly\", slice(None)), \"Multiplier\"] *= 100\n",
    "        inp.patterns.loc[(\"Monthly\", 0), \"desc\"] = \"A massive monthly pattern\"\n"
   ]
  },
  {
   "cell_type": "code",
   "execution_count": null,
   "metadata": {},
   "outputs": [],
   "source": [
    "print(inp.patterns.to_swmm_string())"
   ]
  },
  {
   "cell_type": "code",
   "execution_count": null,
   "metadata": {},
   "outputs": [],
   "source": [
    "inp.curves.attrs"
   ]
  },
  {
   "cell_type": "code",
   "execution_count": 3,
   "metadata": {},
   "outputs": [],
   "source": [
    "inp.curves.loc[(\"P1\", 2), :] = [10, 10, \"extended the curve\"]"
   ]
  },
  {
   "cell_type": "code",
   "execution_count": null,
   "metadata": {},
   "outputs": [],
   "source": []
  },
  {
   "cell_type": "code",
   "execution_count": null,
   "metadata": {},
   "outputs": [],
   "source": [
    "print(inp.curves.to_swmm_string())"
   ]
  },
  {
   "cell_type": "code",
   "execution_count": null,
   "metadata": {},
   "outputs": [],
   "source": [
    "inp.patterns.reset_index().shape"
   ]
  },
  {
   "cell_type": "code",
   "execution_count": 3,
   "metadata": {},
   "outputs": [],
   "source": [
    "inp.patterns.loc[(\"Monthly\", slice(None)), \"Multiplier\"] *= 100\n",
    "inp.patterns.loc[(\"Monthly\", 0), \"desc\"] = \"A massive monthly pattern\"\n"
   ]
  },
  {
   "cell_type": "code",
   "execution_count": null,
   "metadata": {},
   "outputs": [],
   "source": [
    "print(inp.patterns.to_swmm_string())"
   ]
  },
  {
   "cell_type": "code",
   "execution_count": 48,
   "metadata": {},
   "outputs": [],
   "source": [
    "inp.patterns.loc[('Monthly', slice(None)), 'Multiplier'] *= 100"
   ]
  },
  {
   "cell_type": "code",
   "execution_count": 12,
   "metadata": {},
   "outputs": [],
   "source": []
  },
  {
   "cell_type": "code",
   "execution_count": null,
   "metadata": {},
   "outputs": [],
   "source": [
    "print(inp.patterns.to_swmm_string())"
   ]
  },
  {
   "cell_type": "code",
   "execution_count": null,
   "metadata": {},
   "outputs": [],
   "source": [
    "inp.conduit"
   ]
  },
  {
   "cell_type": "code",
   "execution_count": null,
   "metadata": {},
   "outputs": [],
   "source": [
    "output = inp.to_string()"
   ]
  },
  {
   "cell_type": "code",
   "execution_count": 9,
   "metadata": {},
   "outputs": [],
   "source": [
    "with open('test_model.inp','w') as f:\n",
    "    f.write(output)"
   ]
  },
  {
   "cell_type": "code",
   "execution_count": null,
   "metadata": {},
   "outputs": [],
   "source": [
    "inp.losses.reset_index().shape"
   ]
  },
  {
   "cell_type": "code",
   "execution_count": 16,
   "metadata": {},
   "outputs": [],
   "source": [
    "inp.losses.loc['COND2','Kavg'] = 10_000\n",
    "inp.losses.loc['COND2','desc'] = \"added outrageous losses\""
   ]
  },
  {
   "cell_type": "code",
   "execution_count": null,
   "metadata": {},
   "outputs": [],
   "source": [
    "print(inp.losses.to_swmm_string())"
   ]
  },
  {
   "cell_type": "code",
   "execution_count": null,
   "metadata": {},
   "outputs": [],
   "source": [
    "inp.outlet.loc[8060,'Qcoeff'] = 100\n",
    "inp.outlet.loc[8060,'desc'] = 'bumped Qcoeff'\n",
    "print(inp.outlet.to_swmm_string())"
   ]
  },
  {
   "cell_type": "code",
   "execution_count": null,
   "metadata": {},
   "outputs": [],
   "source": [
    "inp.divider\n",
    "inp.divider.loc['KRO1004','Ymax'] = 100\n",
    "inp.divider.loc['KRO1004','desc'] = 'bumped ymax'\n",
    "print(inp.divider.to_swmm_string())"
   ]
  },
  {
   "cell_type": "code",
   "execution_count": null,
   "metadata": {},
   "outputs": [],
   "source": [
    "inp.weir.reset_index().shape"
   ]
  },
  {
   "cell_type": "code",
   "execution_count": null,
   "metadata": {},
   "outputs": [],
   "source": [
    "inp.weir.loc['WR1','Type'] = 'SIDE'\n",
    "inp.weir.loc['WR1','desc'] = 'changed weir type'\n",
    "print(inp.weir.to_swmm_string())"
   ]
  },
  {
   "cell_type": "code",
   "execution_count": 3,
   "metadata": {},
   "outputs": [],
   "source": [
    "inp.curves.loc[(\"P1\", 2), :] = [10, 10, \"extended the curve\"]\n"
   ]
  },
  {
   "cell_type": "code",
   "execution_count": null,
   "metadata": {},
   "outputs": [],
   "source": [
    "print(inp.curves.to_swmm_string())"
   ]
  },
  {
   "cell_type": "code",
   "execution_count": 4,
   "metadata": {},
   "outputs": [],
   "source": [
    "inp.xsections.loc[\"COND7\", \"Barrels\"] = 1\n",
    "inp.xsections.loc[\"COND7\", \"desc\"] = \"changed to single barrel\"\n"
   ]
  },
  {
   "cell_type": "code",
   "execution_count": null,
   "metadata": {},
   "outputs": [],
   "source": [
    "print(inp.xsections.to_swmm_string())"
   ]
  },
  {
   "cell_type": "code",
   "execution_count": null,
   "metadata": {},
   "outputs": [],
   "source": [
    "inp.xsections.Shape.isin(sc.Xsections._shapes)"
   ]
  },
  {
   "cell_type": "code",
   "execution_count": null,
   "metadata": {},
   "outputs": [],
   "source": [
    "print(inp.subcatchment.to_swmm_string())"
   ]
  },
  {
   "cell_type": "code",
   "execution_count": 23,
   "metadata": {},
   "outputs": [],
   "source": [
    "inp.subcatchment[\"Width\"] = (inp.subcatchment.Area**0.6).astype(float).round(3)"
   ]
  },
  {
   "cell_type": "code",
   "execution_count": null,
   "metadata": {},
   "outputs": [],
   "source": [
    "print(inp.subcatchment.to_swmm_string())"
   ]
  },
  {
   "cell_type": "code",
   "execution_count": null,
   "metadata": {},
   "outputs": [],
   "source": [
    "inp.inflow.loc[(\"JUNC3\", \"Sewage\"), \"Pattern\"] = \"HOURLY\"\n",
    "inp.inflow.loc[(\"JUNC3\", \"Sewage\"), \"desc\"] = \"added hourly poll pattern\"\n",
    "inp.inflow.add_element(\n",
    "    Node=\"JUNC4\",\n",
    "    Constituent=\"FLOW\",\n",
    "    Type=\"FLOW\",\n",
    "    Baseline=10,\n",
    "    desc=\"new inflow!\",\n",
    ")"
   ]
  },
  {
   "cell_type": "code",
   "execution_count": null,
   "metadata": {},
   "outputs": [],
   "source": [
    "print(inp.inflow.to_swmm_string())"
   ]
  },
  {
   "cell_type": "code",
   "execution_count": null,
   "metadata": {},
   "outputs": [],
   "source": [
    "inp.polygons.reset_index().shape"
   ]
  },
  {
   "cell_type": "code",
   "execution_count": null,
   "metadata": {},
   "outputs": [],
   "source": [
    "inp.polygons.loc['SUB1','X']+=100\n",
    "inp.polygons.loc['SUB1','desc']+=\n"
   ]
  },
  {
   "cell_type": "code",
   "execution_count": null,
   "metadata": {},
   "outputs": [],
   "source": [
    "print(inp.polygons.loc['SUB1':\"SUB1\"].to_swmm_string())"
   ]
  },
  {
   "cell_type": "code",
   "execution_count": 2,
   "metadata": {},
   "outputs": [],
   "source": [
    "inp.timeseries['file_series'].comment = 'this is a updated comment'\n",
    "inp.timeseries['SCS_Type_III_3in']['value']*= 10\n",
    "inp.timeseries['SCS_Type_III_3in'].attrs['desc'] = 'SCS_Type_III_3in design storm, total rainfall = 30 in, rain units = in.'"
   ]
  },
  {
   "cell_type": "code",
   "execution_count": 3,
   "metadata": {},
   "outputs": [],
   "source": [
    "idx = pd.date_range('1/1/1900','2/1/1900',freq='1D',name='time')\n",
    "vals = [100]*len(idx)\n",
    "df = pd.DataFrame(\n",
    "    index=idx,\n",
    "    data = dict(value=vals),\n",
    ")\n",
    "df.attrs['desc']='a new timeseries'\n",
    "inp.timeseries['new_ts'] = df\n"
   ]
  },
  {
   "cell_type": "code",
   "execution_count": null,
   "metadata": {},
   "outputs": [],
   "source": [
    "print(inp.timeseries.to_swmm_string())"
   ]
  },
  {
   "cell_type": "code",
   "execution_count": null,
   "metadata": {},
   "outputs": [],
   "source": [
    "inp.timeseries['SCS_Type_III_3in'].shape"
   ]
  },
  {
   "cell_type": "code",
   "execution_count": null,
   "metadata": {},
   "outputs": [],
   "source": [
    "inp.timeseries['SCS_Type_III_3in']"
   ]
  },
  {
   "cell_type": "code",
   "execution_count": null,
   "metadata": {},
   "outputs": [],
   "source": [
    "print(inp.timeseries.to_swmm_string())"
   ]
  },
  {
   "cell_type": "code",
   "execution_count": null,
   "metadata": {},
   "outputs": [],
   "source": [
    "inp.curves.reset_index().shape"
   ]
  },
  {
   "cell_type": "code",
   "execution_count": 3,
   "metadata": {},
   "outputs": [],
   "source": [
    "inp.curves.loc[('P1',2),:] = [10,10,'extended the curve']"
   ]
  },
  {
   "cell_type": "code",
   "execution_count": null,
   "metadata": {},
   "outputs": [],
   "source": []
  },
  {
   "cell_type": "code",
   "execution_count": null,
   "metadata": {},
   "outputs": [],
   "source": [
    "print(inp.curves.to_swmm_string())"
   ]
  },
  {
   "cell_type": "code",
   "execution_count": null,
   "metadata": {},
   "outputs": [],
   "source": [
    "inp.curves.loc[('P1',1)]# = [10,10,'extended the curve']"
   ]
  },
  {
   "cell_type": "code",
   "execution_count": null,
   "metadata": {},
   "outputs": [],
   "source": []
  },
  {
   "cell_type": "code",
   "execution_count": null,
   "metadata": {},
   "outputs": [],
   "source": [
    "inp.hydrographs.reset_index().shape"
   ]
  },
  {
   "cell_type": "code",
   "execution_count": null,
   "metadata": {},
   "outputs": [],
   "source": [
    "inp.hydrographs.loc['HydrB','R'] *= 100\n"
   ]
  },
  {
   "cell_type": "code",
   "execution_count": 7,
   "metadata": {},
   "outputs": [],
   "source": [
    "inp.hydrographs.rain_gauges['HydrB']='RainGauge_C'"
   ]
  },
  {
   "cell_type": "code",
   "execution_count": null,
   "metadata": {},
   "outputs": [],
   "source": [
    "print(inp.hydrographs.loc[\"HydrB\":'HydrB'].to_swmm_string())"
   ]
  },
  {
   "cell_type": "code",
   "execution_count": null,
   "metadata": {},
   "outputs": [],
   "source": [
    "inp.rdii.loc[\"JUNC2\",'SewerArea'] = 1244.282478391\n",
    "inp.rdii.loc[\"JUNC2\",'desc'] = 'bumped acreage'\n",
    "print(inp.rdii.to_swmm_string())"
   ]
  },
  {
   "cell_type": "code",
   "execution_count": null,
   "metadata": {},
   "outputs": [],
   "source": [
    "inp.dwf.loc[('JUNC2','FLOW'),'Pat4'] = 'HOURLY2'\n",
    "inp.dwf.loc[('JUNC2','FLOW'),'desc'] = 'added second pattern'\n",
    "inp.dwf.add_element(Node='JUNC1',Constituent='FLOW',Baseline=1,Pat3=\"HOURLY\",desc='testing a pattern addition')\n",
    "print(inp.dwf.to_swmm_string())"
   ]
  },
  {
   "cell_type": "code",
   "execution_count": null,
   "metadata": {},
   "outputs": [],
   "source": [
    "inp.inflow.reset_index().shape"
   ]
  },
  {
   "cell_type": "code",
   "execution_count": null,
   "metadata": {},
   "outputs": [],
   "source": [
    "inp.inflow.loc[('JUNC3','Sewage'),'Pattern'] = 'HOURLY'\n",
    "inp.inflow.loc[('JUNC3','Sewage'),'desc'] = 'added hourly poll pattern'\n",
    "inp.inflow.add_element(Node='JUNC4',Constituent='FLOW',Type='FLOW',Baseline=10,desc=\"new inflow!\",)"
   ]
  },
  {
   "cell_type": "code",
   "execution_count": null,
   "metadata": {},
   "outputs": [],
   "source": [
    "print(inp.inflow.to_swmm_string())"
   ]
  },
  {
   "cell_type": "code",
   "execution_count": null,
   "metadata": {},
   "outputs": [],
   "source": [
    "inp.inflow['TimeSeries'].astype(str).str.len()"
   ]
  },
  {
   "cell_type": "code",
   "execution_count": null,
   "metadata": {},
   "outputs": [],
   "source": [
    "inp.treatment"
   ]
  },
  {
   "cell_type": "code",
   "execution_count": null,
   "metadata": {},
   "outputs": [],
   "source": [
    "inp.treatment.loc[('STOR1','Rainfall'),'Func'] = 'C = Rainfall * exp(-0.1*HRT)'\n",
    "inp.treatment.loc[('STOR1','Rainfall'),'desc'] = 'modded equation'\n",
    "inp.treatment.add_element(\n",
    "    Node=\"STOR1\",\n",
    "    Pollutant=\"Sewage\",\n",
    "    Func=\"R = 0.1 * R_Rainfall\",\n",
    "    desc=\"added treatment for sewage\"\n",
    "\n",
    ")\n"
   ]
  },
  {
   "cell_type": "code",
   "execution_count": null,
   "metadata": {},
   "outputs": [],
   "source": [
    "print(inp.treatment.to_swmm_string())"
   ]
  },
  {
   "cell_type": "code",
   "execution_count": null,
   "metadata": {},
   "outputs": [],
   "source": [
    "inp.washoff.loc[(\"Residential_1\", \"TSS\"), \"SweepRmvl\"] = 0.6\n",
    "inp.washoff.loc[(\"Residential_1\", \"TSS\"), \"desc\"] = \"set sweep removal eff\"\n",
    "inp.washoff.add_element(\n",
    "    Landuse=\"Residential_3\",\n",
    "    Pollutant=\"TSS\",\n",
    "    FuncType=\"EMC\",\n",
    "    C1=55\n",
    ")"
   ]
  },
  {
   "cell_type": "code",
   "execution_count": null,
   "metadata": {},
   "outputs": [],
   "source": [
    "print(inp.washoff.to_swmm_string())"
   ]
  },
  {
   "cell_type": "code",
   "execution_count": null,
   "metadata": {},
   "outputs": [],
   "source": [
    "inp.loading.loc[('SUB1','Ranfall'),\"InitBuildup\"] = 10\n",
    "inp.loading.loc[('SUB1','Ranfall'),\"desc\"] = 'bumped initial conc'\n",
    "print(inp.loading.to_swmm_string())"
   ]
  },
  {
   "cell_type": "code",
   "execution_count": 22,
   "metadata": {},
   "outputs": [],
   "source": [
    "inp.landuse = inp.landuse.astype(object)"
   ]
  },
  {
   "cell_type": "code",
   "execution_count": 8,
   "metadata": {},
   "outputs": [],
   "source": [
    "inp.coverage.loc[('S5','Commercial'),\"Percent\"] = 50\n",
    "inp.coverage.loc[('S5','Commercial'),\"desc\"] = \"reduced to 50%\"\n",
    "inp.coverage.loc[('S5','Residential_2'),\"Percent\"] = 50\n",
    "inp.coverage.loc[('S5','Residential_2'),\"desc\"] = \"added\"\n"
   ]
  },
  {
   "cell_type": "code",
   "execution_count": null,
   "metadata": {},
   "outputs": [],
   "source": []
  },
  {
   "cell_type": "code",
   "execution_count": 24,
   "metadata": {},
   "outputs": [],
   "source": [
    "inp.landuse.loc[\"Residential_1\",\"SweepInterval\"] = 7\n",
    "inp.landuse.loc[\"Residential_1\",\"Availability\"] = 0.5\n",
    "inp.landuse.loc[\"Residential_1\",\"LastSweep\"] = 3\n",
    "inp.landuse.loc[\"Residential_1\",\"desc\"] = \"set weekly street sweeping\""
   ]
  },
  {
   "cell_type": "code",
   "execution_count": null,
   "metadata": {},
   "outputs": [],
   "source": [
    "print(inp.coverage.to_swmm_string())"
   ]
  },
  {
   "cell_type": "code",
   "execution_count": null,
   "metadata": {},
   "outputs": [],
   "source": []
  },
  {
   "cell_type": "code",
   "execution_count": 13,
   "metadata": {},
   "outputs": [],
   "source": [
    "inp.pollutants.loc['Sewage','Cinit'] = 100\n",
    "inp.pollutants.loc['Sewage','desc'] = \"updated initial conc\"\n"
   ]
  },
  {
   "cell_type": "code",
   "execution_count": null,
   "metadata": {},
   "outputs": [],
   "source": [
    "print()"
   ]
  },
  {
   "cell_type": "code",
   "execution_count": 7,
   "metadata": {},
   "outputs": [],
   "source": [
    "inp.inlet_usage.loc[\"Street5\",\"Placement\"] = \"ON_SAG\"\n",
    "inp.inlet_usage.loc[\"Street5\",\"desc\"] = \"updated placement\"\n"
   ]
  },
  {
   "cell_type": "code",
   "execution_count": null,
   "metadata": {},
   "outputs": [],
   "source": [
    "print(inp.pollutants.to_swmm_string())"
   ]
  },
  {
   "cell_type": "code",
   "execution_count": null,
   "metadata": {},
   "outputs": [],
   "source": [
    "ainp.CONDUITS.frame"
   ]
  },
  {
   "cell_type": "code",
   "execution_count": null,
   "metadata": {},
   "outputs": [],
   "source": [
    "inp.inlet"
   ]
  },
  {
   "cell_type": "code",
   "execution_count": null,
   "metadata": {},
   "outputs": [],
   "source": [
    "inp._section_texts.keys()"
   ]
  },
  {
   "cell_type": "code",
   "execution_count": null,
   "metadata": {},
   "outputs": [],
   "source": [
    "print(inp._section_texts['INLETS'])"
   ]
  },
  {
   "cell_type": "code",
   "execution_count": null,
   "metadata": {},
   "outputs": [],
   "source": [
    "print(inp.xsections.shape)"
   ]
  },
  {
   "cell_type": "code",
   "execution_count": null,
   "metadata": {},
   "outputs": [],
   "source": [
    "inp.xsections.loc['COND7',\"Barrels\"] = 1\n",
    "inp.xsections.loc['COND7',\"desc\"] = \"changed to single barrel\"\n",
    "\n",
    "print(inp.xsections.to_swmm_string())"
   ]
  },
  {
   "cell_type": "code",
   "execution_count": null,
   "metadata": {},
   "outputs": [],
   "source": [
    "print(inp.xsections.to_swmm_string())"
   ]
  },
  {
   "cell_type": "code",
   "execution_count": null,
   "metadata": {},
   "outputs": [],
   "source": [
    "inp.pump"
   ]
  },
  {
   "cell_type": "code",
   "execution_count": null,
   "metadata": {},
   "outputs": [],
   "source": []
  },
  {
   "cell_type": "code",
   "execution_count": null,
   "metadata": {},
   "outputs": [],
   "source": [
    "inp.orifice"
   ]
  },
  {
   "cell_type": "code",
   "execution_count": null,
   "metadata": {},
   "outputs": [],
   "source": [
    "inp.pump.add_element(Name='PUMP2',FromNode='STOR1',ToNode='JUNC6',PumpCurve='P1',Status='ON')\n",
    "inp.pump.loc['PUMP1','Status'] = 'OFF'\n"
   ]
  },
  {
   "cell_type": "code",
   "execution_count": null,
   "metadata": {},
   "outputs": [],
   "source": [
    "inp.pump"
   ]
  },
  {
   "cell_type": "code",
   "execution_count": null,
   "metadata": {},
   "outputs": [],
   "source": [
    "print(inp.pump.to_swmm_string())"
   ]
  },
  {
   "cell_type": "code",
   "execution_count": 3,
   "metadata": {},
   "outputs": [],
   "source": [
    "inp.conduit.loc['COND3','FromNode'] = 'JUNC1'\n",
    "inp.conduit.loc['COND3','desc'] = 'update from node'"
   ]
  },
  {
   "cell_type": "code",
   "execution_count": null,
   "metadata": {},
   "outputs": [],
   "source": [
    "print(inp.conduit.to_swmm_string())"
   ]
  },
  {
   "cell_type": "code",
   "execution_count": 10,
   "metadata": {},
   "outputs": [],
   "source": [
    "inp.storage.loc[\"STOR1\", \"A1_L\"] = 200\n",
    "inp.storage.loc[\"STOR1\", \"desc\"] = \"shrunk store\"\n",
    "\n"
   ]
  },
  {
   "cell_type": "code",
   "execution_count": null,
   "metadata": {},
   "outputs": [],
   "source": [
    "print(';;Name  Elev    MaxDepth  InitDepth  Shape       CurveName  A1_L  A2_W  A0_Z  SurDepth  Fevap  Psi  Ksat  IMD  \\n;;----  ------  --------  ---------  ----------  ---------  ----  ----  ----  --------  -----  ---  ----  ---  \\nJUNC5   -6.5    13.2      0          TABULAR     Store1                       0         2      2    2     0.5  \\n;shrunk store\\nSTOR1   -15.25  21.75     0          FUNCTIONAL             200   1     2     10        3                      \\n')"
   ]
  },
  {
   "cell_type": "code",
   "execution_count": null,
   "metadata": {},
   "outputs": [],
   "source": [
    "print(inp.storage.to_swmm_string())"
   ]
  },
  {
   "cell_type": "code",
   "execution_count": null,
   "metadata": {},
   "outputs": [],
   "source": [
    "print(inp.outfall.to_swmm_string())"
   ]
  },
  {
   "cell_type": "code",
   "execution_count": 18,
   "metadata": {},
   "outputs": [],
   "source": [
    "        # inp = self.test_base_model\n",
    "        # self.assertEqual(inp.outfall.reset_index().shape, (3, 7))\n",
    "\n",
    "        inp.outfall.loc[\"OUT1\", \"TYPE\"] = \"NORMAL\"\n",
    "        inp.outfall.loc[\"OUT1\", \"desc\"] = \"changed to normal outfall\""
   ]
  },
  {
   "cell_type": "code",
   "execution_count": 13,
   "metadata": {},
   "outputs": [],
   "source": [
    "inp.junc.loc['JUNC4','Elevation']-=5\n",
    "inp.junc.loc['JUNC4','desc']=\"dropped invert 5ft\""
   ]
  },
  {
   "cell_type": "code",
   "execution_count": null,
   "metadata": {},
   "outputs": [],
   "source": [
    "print(inp.junc.to_swmm_string())"
   ]
  },
  {
   "cell_type": "code",
   "execution_count": null,
   "metadata": {},
   "outputs": [],
   "source": [
    "print(inp.timeseries.to_swmm_string())"
   ]
  },
  {
   "cell_type": "code",
   "execution_count": 1,
   "metadata": {},
   "outputs": [],
   "source": [
    "from email import header\n",
    "\n",
    "\n",
    "def _timeseries_to_swmm_dat(df):\n",
    "    def time_formatter(x):\n",
    "        if isinstance(x, pd.Timedelta):\n",
    "            total_seconds = x.total_seconds()\n",
    "            hours = int(total_seconds // 3600)  # Get the total hours\n",
    "            minutes = int((total_seconds % 3600) // 60)  # Get the remaining minutes\n",
    "            return f\"{hours}:{minutes:02}\"\n",
    "        elif isinstance(x, pd.Timestamp):\n",
    "            return x.strftime(\"%m/%d/%Y %H:%M\")\n",
    "        elif isinstance(x, (float, int)):\n",
    "            return x\n",
    "\n",
    "    def comment_formatter(x):\n",
    "        if len(x)>0:\n",
    "            return \";\" + x.strip(\"\\n\").strip(';').strip().replace(\"\\n\", \"\\n;\")\n",
    "        else:\n",
    "            return \"\"\n",
    "\n",
    "    df = df.reindex([\"value\", \"comment\"], axis=1)\n",
    "    comment = df.attrs.get('comment')\n",
    "    if len(comment:=df.attrs.get('comment',''))>0:\n",
    "        comment_line = comment_formatter(comment) + '\\n'\n",
    "    return comment_line+df.reset_index(names=\"time\").to_string(\n",
    "        formatters=dict(time=time_formatter, comment=comment_formatter),index=False,header=False\n",
    "    )\n"
   ]
  },
  {
   "cell_type": "code",
   "execution_count": null,
   "metadata": {},
   "outputs": [],
   "source": [
    "inp.timeseries"
   ]
  },
  {
   "cell_type": "code",
   "execution_count": null,
   "metadata": {},
   "outputs": [],
   "source": []
  },
  {
   "cell_type": "code",
   "execution_count": 13,
   "metadata": {},
   "outputs": [],
   "source": [
    "inp.timeseries['SCS_Type_III_1in  '].loc['1900-01-01','comment']='this is a commnt\\nthis'"
   ]
  },
  {
   "cell_type": "code",
   "execution_count": null,
   "metadata": {},
   "outputs": [],
   "source": [
    "print(_timeseries_to_swmm_dat(inp.timeseries['SCS_Type_III_1in']))"
   ]
  },
  {
   "cell_type": "code",
   "execution_count": null,
   "metadata": {},
   "outputs": [],
   "source": [
    "inp.timeseries"
   ]
  },
  {
   "cell_type": "code",
   "execution_count": 3,
   "metadata": {},
   "outputs": [],
   "source": [
    "pd.options.display.max_rows = 300"
   ]
  },
  {
   "cell_type": "code",
   "execution_count": 17,
   "metadata": {},
   "outputs": [],
   "source": [
    "td = pd.Timedelta('50:00:00')"
   ]
  },
  {
   "cell_type": "code",
   "execution_count": null,
   "metadata": {},
   "outputs": [],
   "source": [
    "td."
   ]
  },
  {
   "cell_type": "code",
   "execution_count": null,
   "metadata": {},
   "outputs": [],
   "source": [
    "def time_formatter(x):\n",
    "    if isinstance(x,pd.Timedelta):\n",
    "        total_seconds = x.total_seconds()\n",
    "        hours = int(total_seconds // 3600)   # Get the total hours\n",
    "        minutes = int((total_seconds % 3600) // 60)  # Get the remaining minutes\n",
    "        return f\"{hours}:{minutes:02}\"\n",
    "    elif isinstance(x,pd.Timestamp):\n",
    "        return x.strftime('%m/%d/%Y %H:%M')\n",
    "    elif isinstance(x,(float,int)):\n",
    "        return x\n",
    "print(inp.timeseries['SCS_Type_III_1in']['value'].reset_index(names='time').to_string(formatters=dict(time=time_formatter)))"
   ]
  },
  {
   "cell_type": "code",
   "execution_count": null,
   "metadata": {},
   "outputs": [],
   "source": [
    "inp.timeseries['SCS_Type_III_1in']['value'].reset_index(names='time')"
   ]
  },
  {
   "cell_type": "code",
   "execution_count": null,
   "metadata": {},
   "outputs": [],
   "source": [
    "inp.timeseries['SCS_Type_III_1in'].index.to_series.apply(time_formatter)"
   ]
  },
  {
   "cell_type": "code",
   "execution_count": null,
   "metadata": {},
   "outputs": [],
   "source": [
    "inp.timeseries._timeseries['file_series']"
   ]
  },
  {
   "cell_type": "code",
   "execution_count": null,
   "metadata": {},
   "outputs": [],
   "source": [
    "inp.hydrographs"
   ]
  },
  {
   "cell_type": "code",
   "execution_count": null,
   "metadata": {},
   "outputs": [],
   "source": [
    "print(inp.curves.to_swmm_string())"
   ]
  },
  {
   "cell_type": "code",
   "execution_count": null,
   "metadata": {},
   "outputs": [],
   "source": [
    "inp.curves.to_swmm_string()"
   ]
  },
  {
   "cell_type": "code",
   "execution_count": null,
   "metadata": {},
   "outputs": [],
   "source": [
    "inp.curves.loc[('P1',1),['X_Value','Y_Value']] #= [10,10]"
   ]
  },
  {
   "cell_type": "code",
   "execution_count": null,
   "metadata": {},
   "outputs": [],
   "source": [
    "print(inp.curves)"
   ]
  },
  {
   "cell_type": "code",
   "execution_count": null,
   "metadata": {},
   "outputs": [],
   "source": [
    "print(inp.curves.to_swmm_string())"
   ]
  },
  {
   "cell_type": "code",
   "execution_count": null,
   "metadata": {},
   "outputs": [],
   "source": [
    "print(inp.hydrographs.to_swmm_string())\n"
   ]
  },
  {
   "cell_type": "code",
   "execution_count": 32,
   "metadata": {},
   "outputs": [],
   "source": [
    "df = pd.DataFrame(index = [[hyd,rg,''] for hyd,rg in inp.hydrographs.attrs.items()])"
   ]
  },
  {
   "cell_type": "code",
   "execution_count": null,
   "metadata": {},
   "outputs": [],
   "source": [
    "df.index"
   ]
  },
  {
   "cell_type": "code",
   "execution_count": null,
   "metadata": {},
   "outputs": [],
   "source": [
    "[[hyd,rg,''] for hyd,rg in inp.hydrographs.attrs.items()]"
   ]
  },
  {
   "cell_type": "code",
   "execution_count": null,
   "metadata": {},
   "outputs": [],
   "source": [
    "inp.hydrographs.attrs"
   ]
  },
  {
   "cell_type": "code",
   "execution_count": 3,
   "metadata": {},
   "outputs": [],
   "source": [
    "inp.hydrographs.add_element(Name='Hyd100',Month_RG='RG10',Response='')"
   ]
  },
  {
   "cell_type": "code",
   "execution_count": null,
   "metadata": {},
   "outputs": [],
   "source": [
    "inp.hydrographs"
   ]
  },
  {
   "cell_type": "code",
   "execution_count": null,
   "metadata": {},
   "outputs": [],
   "source": [
    "pd.DataFrame.from_dict(inp.hydrographs.attrs,orient='index')"
   ]
  },
  {
   "cell_type": "code",
   "execution_count": null,
   "metadata": {},
   "outputs": [],
   "source": []
  },
  {
   "cell_type": "code",
   "execution_count": null,
   "metadata": {},
   "outputs": [],
   "source": [
    "def month_to_number(month):\n",
    "    try:\n",
    "        return list(month_abbr).index(month.capitalize())\n",
    "    except ValueError:\n",
    "        # Return a large number if the month abbreviation is not recognized\n",
    "        return -1  # This will sort unrecognized months to the end\n",
    "\n",
    "# Assuming inp.hydrographs is your DataFrame\n",
    "df = inp.hydrographs\n",
    "\n",
    "def index_mapper(index):\n",
    "    if index.name=='Month_RG':\n",
    "        return index.map(month_to_number)\n",
    "    else:\n",
    "        return index\n",
    "# Sort the DataFrame\n",
    "sorted_df = df.sort_index().sort_index(ascending=[True,True,False],key=index_mapper)\n",
    "\n",
    "print(sorted_df)\n"
   ]
  },
  {
   "cell_type": "code",
   "execution_count": null,
   "metadata": {},
   "outputs": [],
   "source": [
    "inp.hydrographs.index.get_level_values('Month_RG').map(month_to_number)"
   ]
  },
  {
   "cell_type": "code",
   "execution_count": 38,
   "metadata": {},
   "outputs": [],
   "source": [
    "# Function to safely get level values\n",
    "def safe_get_level_values(index, level_name):\n",
    "    try:\n",
    "        return index.get_level_values(level_name)\n",
    "    except KeyError:\n",
    "        return None\n",
    "\n",
    "# Prepare the sorting key\n",
    "sort_key = []\n",
    "for name in ['Name', 'Month_RG', 'Response']:\n",
    "    level_values = safe_get_level_values(inp.hydrographs.index, name)\n",
    "    if level_values is not None:\n",
    "        if name == 'Month_RG':\n",
    "            sort_key.append(level_values.map(month_to_number))\n",
    "        else:\n",
    "            sort_key.append(level_values)\n"
   ]
  },
  {
   "cell_type": "code",
   "execution_count": null,
   "metadata": {},
   "outputs": [],
   "source": [
    "sort_key"
   ]
  },
  {
   "cell_type": "code",
   "execution_count": null,
   "metadata": {},
   "outputs": [],
   "source": [
    "inp.hydrographs.sort_index().sort_index(key=lambda index: [\n",
    "    index.get_level_values('Name'),\n",
    "    index.get_level_values('Month_RG').map(month_to_number),\n",
    "    index.get_level_values('Response')\n",
    "])"
   ]
  },
  {
   "cell_type": "code",
   "execution_count": null,
   "metadata": {},
   "outputs": [],
   "source": [
    "inp.hydrographs.iloc[0]"
   ]
  },
  {
   "cell_type": "code",
   "execution_count": null,
   "metadata": {},
   "outputs": [],
   "source": [
    "pd.__version__"
   ]
  },
  {
   "cell_type": "code",
   "execution_count": null,
   "metadata": {},
   "outputs": [],
   "source": [
    "inp.hydrographs.add_element(pd.Series(name='HydrA',index=['Month/RG'],data=[1]))"
   ]
  },
  {
   "cell_type": "code",
   "execution_count": null,
   "metadata": {},
   "outputs": [],
   "source": [
    "inp.hydrographs.__class__.__newobj__"
   ]
  },
  {
   "cell_type": "code",
   "execution_count": null,
   "metadata": {},
   "outputs": [],
   "source": [
    "print(inp.hydrographs.to_swmm_string())"
   ]
  },
  {
   "cell_type": "code",
   "execution_count": 20,
   "metadata": {},
   "outputs": [],
   "source": [
    "inp = spd.Input('./LID_Model.inp')"
   ]
  },
  {
   "cell_type": "code",
   "execution_count": null,
   "metadata": {},
   "outputs": [],
   "source": [
    "inp.subcatchment.reset_index('Outlet')"
   ]
  },
  {
   "cell_type": "code",
   "execution_count": null,
   "metadata": {},
   "outputs": [],
   "source": [
    "print(inp.lid_usage.to_swmm_string())"
   ]
  },
  {
   "cell_type": "code",
   "execution_count": null,
   "metadata": {},
   "outputs": [],
   "source": [
    "inp.hydrographs"
   ]
  },
  {
   "cell_type": "code",
   "execution_count": null,
   "metadata": {},
   "outputs": [],
   "source": [
    "inp.hydrographs.to_swmm_string()"
   ]
  },
  {
   "cell_type": "code",
   "execution_count": null,
   "metadata": {},
   "outputs": [],
   "source": [
    "print(inp.hydrographs.to_string())"
   ]
  },
  {
   "cell_type": "code",
   "execution_count": 12,
   "metadata": {},
   "outputs": [],
   "source": [
    "def is_raingauge_row(row):\n",
    "    non_empty_values = row[row != ''].sum()\n",
    "    return non_empty_values == 1\n",
    "\n",
    "def find_raingauge_rows(df):\n",
    "    # Function to check if a row matches the raingauge criteria\n",
    "\n",
    "    # Apply the function to each row and get the indices where it's True\n",
    "    raingauge_indices = df.loc[df.apply(is_raingauge_row, axis=0)].index.tolist()\n",
    "    \n",
    "    return raingauge_indices"
   ]
  },
  {
   "cell_type": "code",
   "execution_count": null,
   "metadata": {},
   "outputs": [],
   "source": [
    "inp.hydrographs.iloc[0]"
   ]
  },
  {
   "cell_type": "code",
   "execution_count": null,
   "metadata": {},
   "outputs": [],
   "source": [
    "inp.hydrographs.apply(is_raingauge_row,axis=1)"
   ]
  },
  {
   "cell_type": "code",
   "execution_count": null,
   "metadata": {},
   "outputs": [],
   "source": [
    "find_raingauge_rows(inp.hydrographs)"
   ]
  },
  {
   "cell_type": "code",
   "execution_count": 11,
   "metadata": {},
   "outputs": [],
   "source": [
    "inp.report.FLOWSTATS"
   ]
  },
  {
   "cell_type": "code",
   "execution_count": null,
   "metadata": {},
   "outputs": [],
   "source": [
    "inp.adjustments"
   ]
  },
  {
   "cell_type": "code",
   "execution_count": 13,
   "metadata": {},
   "outputs": [],
   "source": [
    "inp.adjustments.loc['TEMPERATURE',:]=0"
   ]
  },
  {
   "cell_type": "code",
   "execution_count": null,
   "metadata": {},
   "outputs": [],
   "source": [
    "print(inp.adjustments.to_swmm_string())"
   ]
  },
  {
   "cell_type": "code",
   "execution_count": null,
   "metadata": {},
   "outputs": [],
   "source": [
    "inp = spd.Input('LID_Model.inp')"
   ]
  },
  {
   "cell_type": "code",
   "execution_count": null,
   "metadata": {},
   "outputs": [],
   "source": [
    "inp.adjustments"
   ]
  },
  {
   "cell_type": "code",
   "execution_count": null,
   "metadata": {},
   "outputs": [],
   "source": [
    "inp.report.LID[1].Fname"
   ]
  },
  {
   "cell_type": "code",
   "execution_count": null,
   "metadata": {},
   "outputs": [],
   "source": [
    "sc.Option.__doc__"
   ]
  },
  {
   "cell_type": "code",
   "execution_count": null,
   "metadata": {},
   "outputs": [],
   "source": [
    "inp.option.__annotations__"
   ]
  },
  {
   "cell_type": "code",
   "execution_count": null,
   "metadata": {},
   "outputs": [],
   "source": [
    "inp.infil._data"
   ]
  },
  {
   "cell_type": "code",
   "execution_count": null,
   "metadata": {},
   "outputs": [],
   "source": [
    "inp.infil.columns"
   ]
  },
  {
   "cell_type": "code",
   "execution_count": null,
   "metadata": {},
   "outputs": [],
   "source": [
    "nptest.assert_equal(\n",
    "    inp.infil.values,\n",
    "    np.array([[4.3, 0.86, 0.23, '', '', '', ''],\n",
    "       [4.3, 0.86, 0.23, '', '', 'MODIFIED_GREEN_AMPT', ''],\n",
    "       [4.3, 0.86, 0.23, 0.04, 2, 'HORTON', '']],dtype=object)\n",
    ")"
   ]
  },
  {
   "cell_type": "code",
   "execution_count": null,
   "metadata": {},
   "outputs": [],
   "source": [
    "inp.infil.values"
   ]
  },
  {
   "cell_type": "code",
   "execution_count": null,
   "metadata": {},
   "outputs": [],
   "source": [
    "inp.infil.loc[\"FAKE_SUB\"] = [0,0,0,0,0,\"\",\"This is fake\"]"
   ]
  },
  {
   "cell_type": "code",
   "execution_count": null,
   "metadata": {},
   "outputs": [],
   "source": []
  },
  {
   "cell_type": "code",
   "execution_count": null,
   "metadata": {},
   "outputs": [],
   "source": [
    "inp.infil.loc['my_really_long_subcatchment_name_that_should','param1'] = 'this'"
   ]
  },
  {
   "cell_type": "code",
   "execution_count": null,
   "metadata": {},
   "outputs": [],
   "source": [
    "print(inp.infil.to_swmm_string())"
   ]
  },
  {
   "cell_type": "code",
   "execution_count": null,
   "metadata": {},
   "outputs": [],
   "source": [
    "inp.subcatchment['Width'] = inp.subcatchment.Area**0.6\n",
    "# inp.temperature.loc['FILE','param1':'param3'] = ['./climate.dat','1/1/1900','F']"
   ]
  },
  {
   "cell_type": "code",
   "execution_count": null,
   "metadata": {},
   "outputs": [],
   "source": [
    "print(inp.subcatchment.to_swmm_string())"
   ]
  },
  {
   "cell_type": "code",
   "execution_count": null,
   "metadata": {},
   "outputs": [],
   "source": [
    "print(dedent(\"\"\"\\\n",
    "                ;;Name  RainGage          Outlet  Area  PctImp  Width              Slope  CurbLeng  SnowPack  \n",
    "                ;;----  ----------------  ------  ----  ------  -----------------  -----  --------  --------  \n",
    "                SUB1    SCS_Type_III_3in  JUNC1   5     30.83   2.626527804403767  0.5    0         SNOW1     \n",
    "                SUB2    SCS_Type_III_3in  JUNC2   17    40.74   5.473553316918489  0.5    0         SNOW1     \n",
    "                SUB3    SCS_Type_III_3in  JUNC4   38    62.21   8.868908165896258  0.5    0         SNOW1     \n",
    "                \"\"\"))"
   ]
  },
  {
   "cell_type": "code",
   "execution_count": null,
   "metadata": {},
   "outputs": [],
   "source": []
  },
  {
   "cell_type": "code",
   "execution_count": null,
   "metadata": {},
   "outputs": [],
   "source": []
  },
  {
   "cell_type": "code",
   "execution_count": null,
   "metadata": {},
   "outputs": [],
   "source": [
    "print(inp.adjustments.to_swmm_string().split('\\n')[3].strip())"
   ]
  },
  {
   "cell_type": "code",
   "execution_count": null,
   "metadata": {},
   "outputs": [],
   "source": [
    "inp.temperature.loc['FILE','desc']"
   ]
  },
  {
   "cell_type": "code",
   "execution_count": null,
   "metadata": {},
   "outputs": [],
   "source": [
    "inp.temperature.to_swmm_string().split(\"\\n\")[7].strip()"
   ]
  },
  {
   "cell_type": "code",
   "execution_count": null,
   "metadata": {},
   "outputs": [],
   "source": []
  },
  {
   "cell_type": "code",
   "execution_count": null,
   "metadata": {},
   "outputs": [],
   "source": [
    "pd.isnull()"
   ]
  },
  {
   "cell_type": "code",
   "execution_count": null,
   "metadata": {},
   "outputs": [],
   "source": [
    "inp.temperature"
   ]
  },
  {
   "cell_type": "code",
   "execution_count": null,
   "metadata": {},
   "outputs": [],
   "source": [
    "inp.temperature.to_swmm_string()"
   ]
  },
  {
   "cell_type": "code",
   "execution_count": null,
   "metadata": {},
   "outputs": [],
   "source": [
    "sc.Temperature.from_section_text(\n",
    "    \"\"\"\n",
    "    TIMESERIES   Temp\n",
    "    WINDSPEED    MONTHLY    8.900000 11.400000 9.900000 9.800000 8.700000 8.000000 7.300000 7.000000 7.300000 7.800000 8.400000 8.700000\n",
    "    SNOWMELT               34.000000 0.500000 0.600000 20.000000 41.599998 -4.000000\n",
    "    ADC          IMPERVIOUS 1.0 1.0 1.0 1.0 1.0 1.0 1.0 1.0 1.0 1.0\n",
    "    ADC          PERVIOUS   1.0 1.0 1.0 1.0 1.0 1.0 1.0 1.0 1.0 1.0\n",
    "    \"\"\"\n",
    ")"
   ]
  },
  {
   "cell_type": "code",
   "execution_count": null,
   "metadata": {},
   "outputs": [],
   "source": []
  },
  {
   "cell_type": "code",
   "execution_count": null,
   "metadata": {},
   "outputs": [],
   "source": [
    "len(inp.temperature.columns)"
   ]
  },
  {
   "cell_type": "code",
   "execution_count": null,
   "metadata": {},
   "outputs": [],
   "source": [
    "inp.raingage.loc['SCS_Type_III_3in'].values"
   ]
  },
  {
   "cell_type": "code",
   "execution_count": null,
   "metadata": {},
   "outputs": [],
   "source": [
    "inp.option.__class__._from_mgr"
   ]
  },
  {
   "cell_type": "code",
   "execution_count": null,
   "metadata": {},
   "outputs": [],
   "source": [
    "inp.option.loc[\"ROUTING_STEP\", \"Value\"] = 50\n",
    "inp.option.loc[\"ROUTING_STEP\", \"desc\"] = 'Updated routing step'"
   ]
  },
  {
   "cell_type": "code",
   "execution_count": null,
   "metadata": {},
   "outputs": [],
   "source": [
    "inp.option.to_swmm_string().split(\"\\n\")[22]"
   ]
  },
  {
   "cell_type": "code",
   "execution_count": null,
   "metadata": {},
   "outputs": [],
   "source": [
    "inp.event.to_swmm_string().split(\"\\n\")[4].split()"
   ]
  },
  {
   "cell_type": "code",
   "execution_count": null,
   "metadata": {},
   "outputs": [],
   "source": []
  },
  {
   "cell_type": "code",
   "execution_count": null,
   "metadata": {},
   "outputs": [],
   "source": [
    "inp.option.loc[\"ROUTING_STEP\", \"Value\"] = 50\n",
    "inp.option.loc[\"ROUTING_STEP\", \"desc\"] = 'Updated routing step'"
   ]
  },
  {
   "cell_type": "code",
   "execution_count": null,
   "metadata": {},
   "outputs": [],
   "source": [
    "inp = spd.Input('Model.inp')"
   ]
  },
  {
   "cell_type": "code",
   "execution_count": null,
   "metadata": {},
   "outputs": [],
   "source": [
    "all(inp.raingage.columns == ['Format', 'Interval', 'SCF', 'Source_Type', 'Source', 'Station','Units', 'desc'])"
   ]
  },
  {
   "cell_type": "code",
   "execution_count": null,
   "metadata": {},
   "outputs": [],
   "source": [
    "inp.raingage.iloc[0].values"
   ]
  },
  {
   "cell_type": "code",
   "execution_count": null,
   "metadata": {},
   "outputs": [],
   "source": [
    "inp.raingage.loc['SCS_Type_III_3in','Interval']"
   ]
  },
  {
   "cell_type": "code",
   "execution_count": null,
   "metadata": {},
   "outputs": [],
   "source": [
    "inp.raingage.loc['new_rg'] = ['VOLUME','0:5',1,'FILE','MYFILE','RG1','Inches','my_new_gage']"
   ]
  },
  {
   "cell_type": "code",
   "execution_count": null,
   "metadata": {},
   "outputs": [],
   "source": [
    "print(inp.raingage.to_swmm_string().split('\\n')[4])"
   ]
  },
  {
   "cell_type": "code",
   "execution_count": null,
   "metadata": {},
   "outputs": [],
   "source": [
    "len(inp.raingage.columns)"
   ]
  },
  {
   "cell_type": "code",
   "execution_count": null,
   "metadata": {},
   "outputs": [],
   "source": [
    "inp.event.loc[0,'Start']= datetime.datetime(1900,1,2)\n",
    "inp.event.loc[0,'desc']= 'my first event\\nthis is my event'\n"
   ]
  },
  {
   "cell_type": "code",
   "execution_count": null,
   "metadata": {},
   "outputs": [],
   "source": [
    "inp.event"
   ]
  },
  {
   "cell_type": "code",
   "execution_count": null,
   "metadata": {},
   "outputs": [],
   "source": [
    "print(inp.event.to_swmm_string())"
   ]
  },
  {
   "cell_type": "code",
   "execution_count": null,
   "metadata": {},
   "outputs": [],
   "source": [
    "inp.event.to_swmm_string().split(\"\\n\")[3]"
   ]
  },
  {
   "cell_type": "code",
   "execution_count": null,
   "metadata": {},
   "outputs": [],
   "source": []
  },
  {
   "cell_type": "code",
   "execution_count": null,
   "metadata": {},
   "outputs": [],
   "source": [
    "print(inp.event.to_swmm_string().split(\"\\n\")[2])"
   ]
  },
  {
   "cell_type": "code",
   "execution_count": null,
   "metadata": {},
   "outputs": [],
   "source": [
    "inp.event"
   ]
  },
  {
   "cell_type": "code",
   "execution_count": null,
   "metadata": {},
   "outputs": [],
   "source": [
    "isinstance(inp.event.Start[0],datetime.datetime)"
   ]
  },
  {
   "cell_type": "code",
   "execution_count": null,
   "metadata": {},
   "outputs": [],
   "source": [
    "print(inp.report.to_swmm_string())"
   ]
  },
  {
   "cell_type": "code",
   "execution_count": null,
   "metadata": {},
   "outputs": [],
   "source": [
    "len(inp.report.to_swmm_string().split('\\n')[5].split())"
   ]
  },
  {
   "cell_type": "code",
   "execution_count": null,
   "metadata": {},
   "outputs": [],
   "source": [
    "inp.event"
   ]
  },
  {
   "cell_type": "code",
   "execution_count": null,
   "metadata": {},
   "outputs": [],
   "source": [
    "inp.report.NODES = ['ALL']"
   ]
  },
  {
   "cell_type": "code",
   "execution_count": null,
   "metadata": {},
   "outputs": [],
   "source": [
    "print(inp.report.to_swmm_string().split('\\n')[4])"
   ]
  },
  {
   "cell_type": "code",
   "execution_count": null,
   "metadata": {},
   "outputs": [],
   "source": [
    "print(inp.option.to_swmm_string())"
   ]
  },
  {
   "cell_type": "code",
   "execution_count": null,
   "metadata": {},
   "outputs": [],
   "source": [
    "inp.option.loc['START_DATE'] = '01/02/1911'"
   ]
  },
  {
   "cell_type": "code",
   "execution_count": null,
   "metadata": {},
   "outputs": [],
   "source": [
    "inp.report"
   ]
  },
  {
   "cell_type": "code",
   "execution_count": null,
   "metadata": {},
   "outputs": [],
   "source": [
    "inp.title.to_swmm_string()"
   ]
  },
  {
   "cell_type": "code",
   "execution_count": null,
   "metadata": {},
   "outputs": [],
   "source": [
    "print(inp.option.to_swmm_string().split('\\n')[-2].strip())"
   ]
  },
  {
   "cell_type": "code",
   "execution_count": null,
   "metadata": {},
   "outputs": [],
   "source": [
    "inp.option.loc[\"ROUTING_STEP\",'Value'] = 50\n",
    "inp.option.loc[\"ROUTING_STEP\",'desc'] = 'Updated routing step'"
   ]
  },
  {
   "cell_type": "code",
   "execution_count": null,
   "metadata": {},
   "outputs": [],
   "source": [
    "inp.option.to_swmm_string().split(\"\\n\")[23].strip()"
   ]
  },
  {
   "cell_type": "code",
   "execution_count": null,
   "metadata": {},
   "outputs": [],
   "source": [
    "inp.option.to_swmm_string().split(\"\\n\")"
   ]
  },
  {
   "cell_type": "code",
   "execution_count": null,
   "metadata": {},
   "outputs": [],
   "source": [
    "print(inp.conduit.to_swmm_string())"
   ]
  },
  {
   "cell_type": "code",
   "execution_count": null,
   "metadata": {},
   "outputs": [],
   "source": [
    "print(inp.report.to_swmm_string())"
   ]
  },
  {
   "cell_type": "code",
   "execution_count": null,
   "metadata": {},
   "outputs": [],
   "source": [
    "print(inp.report.to_swmm_string())"
   ]
  },
  {
   "cell_type": "code",
   "execution_count": null,
   "metadata": {},
   "outputs": [],
   "source": [
    "print(inp.event.to_swmm_string())"
   ]
  },
  {
   "cell_type": "code",
   "execution_count": null,
   "metadata": {},
   "outputs": [],
   "source": [
    "from dataclasses import dataclass\n",
    "from typing import Iterable,Optional"
   ]
  },
  {
   "cell_type": "code",
   "execution_count": null,
   "metadata": {},
   "outputs": [],
   "source": [
    "class Report:\n",
    "    @dataclass\n",
    "    class LIDReportEntry:\n",
    "        Name: str\n",
    "        Subcatch: str\n",
    "        Fname: str\n",
    "\n",
    "    class LIDReport(list):\n",
    "        def __init__(self, entries: Iterable[Report.LIDReportEntry]):\n",
    "            for i in entries:\n",
    "                if not isinstance(i, Report.LIDReportEntry):\n",
    "                    raise ValueError(\n",
    "                        f\"LIDReport is instantiated with a sequence of LIDReportEntries, got {type(i)}\"\n",
    "                    )\n",
    "            super().__init__(entries)\n",
    "\n",
    "        def add(self, lid_name: str, subcatch: str, Fname: str) -> None:\n",
    "            self.append(\n",
    "                Report.LIDReportEntry(\n",
    "                    Name=lid_name,\n",
    "                    Subcatch=subcatch,\n",
    "                    Fname=Fname,\n",
    "                )\n",
    "            )\n",
    "\n",
    "        def remove(self, lid_name: str) -> None:\n",
    "            for i, v in enumerate(self):\n",
    "                if v.Name == lid_name:\n",
    "                    break\n",
    "            self.pop(i)\n",
    "\n",
    "        def __repr__(self):\n",
    "            return f\"LIDReportList({super().__repr__()})\"\n",
    "\n",
    "    def __init__(\n",
    "        self,\n",
    "        disabled: Optional[str] = None,\n",
    "        input: Optional[str] = None,\n",
    "        continuity: Optional[str] = None,\n",
    "        flowstats: Optional[str] = None,\n",
    "        controls: Optional[str] = None,\n",
    "        averages: Optional[str] = None,\n",
    "        subcatchments: list[str] = [],\n",
    "        nodes: list[str] = [],\n",
    "        links: list[str] = [],\n",
    "        lids: list[dict] = [],\n",
    "    ):\n",
    "        print(disabled)\n",
    "        self.DISABLED = disabled\n",
    "        self.INPUT = input\n",
    "        self.CONTINUITY = continuity\n",
    "        self.FLOWSTATS = flowstats\n",
    "        self.CONTROLS = controls\n",
    "        self.AVERAGES = averages\n",
    "        self.SUBCATCH = subcatchments\n",
    "        self.NODES = nodes\n",
    "        self.LINKS = links\n",
    "        self.LIDS = self.LIDReport([])\n",
    "\n",
    "        for lid in lids:\n",
    "            self.LIDS.add(lid[\"name\"], lid[\"subcatch\"], lid[\"fname\"])\n",
    "\n",
    "\n",
    "    @classmethod\n",
    "    def _from_section_text(cls, text: str, *args, **kwargs) :\n",
    "        raise NotImplementedError\n",
    "\n",
    "    @classmethod\n",
    "    def _new_empty(cls) :\n",
    "        return cls()\n",
    "\n",
    "    @classmethod\n",
    "    def _newobj(cls, *args, **kwargs) :\n",
    "        return cls(*args,**kwargs)\n",
    "\n",
    "#\n"
   ]
  },
  {
   "cell_type": "code",
   "execution_count": null,
   "metadata": {},
   "outputs": [],
   "source": [
    "r = Report()"
   ]
  },
  {
   "cell_type": "code",
   "execution_count": null,
   "metadata": {},
   "outputs": [],
   "source": [
    "r.DISABLED"
   ]
  },
  {
   "cell_type": "code",
   "execution_count": null,
   "metadata": {},
   "outputs": [],
   "source": [
    "t=[1,2,3,4,5,6,7]"
   ]
  },
  {
   "cell_type": "code",
   "execution_count": null,
   "metadata": {},
   "outputs": [],
   "source": [
    "if len(value:=t[1:3])>1:\n",
    "    print(value)"
   ]
  },
  {
   "cell_type": "code",
   "execution_count": null,
   "metadata": {},
   "outputs": [],
   "source": []
  },
  {
   "cell_type": "code",
   "execution_count": null,
   "metadata": {},
   "outputs": [],
   "source": [
    "t = LIDReport(\n",
    "    [\n",
    "        LIDReportEntry('this','that','those'),\n",
    "        LIDReportEntry('this1','that','those'),\n",
    "        LIDReportEntry('this2','that','those'),\n",
    "        LIDReportEntry('this3','that','those')\n",
    "    ]\n",
    ")"
   ]
  },
  {
   "cell_type": "code",
   "execution_count": null,
   "metadata": {},
   "outputs": [],
   "source": [
    "t"
   ]
  },
  {
   "cell_type": "code",
   "execution_count": null,
   "metadata": {},
   "outputs": [],
   "source": [
    "t.remove('this')"
   ]
  },
  {
   "cell_type": "code",
   "execution_count": null,
   "metadata": {},
   "outputs": [],
   "source": [
    "t.add(\n",
    "    'entry1',\n",
    "    'subcatch2',\n",
    "    'file'\n",
    ")"
   ]
  },
  {
   "cell_type": "code",
   "execution_count": null,
   "metadata": {},
   "outputs": [],
   "source": [
    "t"
   ]
  },
  {
   "cell_type": "code",
   "execution_count": null,
   "metadata": {},
   "outputs": [],
   "source": [
    "t = ['this']"
   ]
  },
  {
   "cell_type": "code",
   "execution_count": null,
   "metadata": {},
   "outputs": [],
   "source": [
    "filter()"
   ]
  },
  {
   "cell_type": "code",
   "execution_count": null,
   "metadata": {},
   "outputs": [],
   "source": [
    "t.remove('this')"
   ]
  },
  {
   "cell_type": "code",
   "execution_count": null,
   "metadata": {},
   "outputs": [],
   "source": [
    "t"
   ]
  },
  {
   "cell_type": "code",
   "execution_count": null,
   "metadata": {},
   "outputs": [],
   "source": [
    "inp.event"
   ]
  },
  {
   "cell_type": "code",
   "execution_count": null,
   "metadata": {},
   "outputs": [],
   "source": [
    "inp._section_texts['EVENT']"
   ]
  },
  {
   "cell_type": "code",
   "execution_count": null,
   "metadata": {},
   "outputs": [],
   "source": [
    "input.event"
   ]
  },
  {
   "cell_type": "code",
   "execution_count": null,
   "metadata": {},
   "outputs": [],
   "source": [
    "print(inp.title.to_swmm_string())"
   ]
  },
  {
   "cell_type": "code",
   "execution_count": null,
   "metadata": {},
   "outputs": [],
   "source": [
    "type(super(sc.SectionDf,inp.subarea))"
   ]
  },
  {
   "cell_type": "code",
   "execution_count": null,
   "metadata": {},
   "outputs": [],
   "source": [
    "t = ['list']\n",
    "t"
   ]
  },
  {
   "cell_type": "code",
   "execution_count": null,
   "metadata": {},
   "outputs": [],
   "source": [
    "t.comment = 'test'"
   ]
  },
  {
   "cell_type": "code",
   "execution_count": null,
   "metadata": {},
   "outputs": [],
   "source": [
    "t.comments"
   ]
  },
  {
   "cell_type": "code",
   "execution_count": null,
   "metadata": {},
   "outputs": [],
   "source": [
    "inp.subarea"
   ]
  },
  {
   "cell_type": "code",
   "execution_count": null,
   "metadata": {},
   "outputs": [],
   "source": [
    "inp.coordinates"
   ]
  },
  {
   "cell_type": "code",
   "execution_count": null,
   "metadata": {},
   "outputs": [],
   "source": [
    "print(inp.xsections.to_swmm_string())"
   ]
  },
  {
   "cell_type": "code",
   "execution_count": null,
   "metadata": {},
   "outputs": [],
   "source": [
    "print(inp._section_texts['STORAGE'])"
   ]
  },
  {
   "cell_type": "code",
   "execution_count": null,
   "metadata": {},
   "outputs": [],
   "source": [
    "print(inp.storage.to_swmm_string())"
   ]
  },
  {
   "cell_type": "code",
   "execution_count": null,
   "metadata": {},
   "outputs": [],
   "source": [
    "inp.re"
   ]
  },
  {
   "cell_type": "code",
   "execution_count": null,
   "metadata": {},
   "outputs": [],
   "source": [
    "inp.infil"
   ]
  },
  {
   "cell_type": "code",
   "execution_count": null,
   "metadata": {},
   "outputs": [],
   "source": [
    "inp.title?"
   ]
  },
  {
   "cell_type": "code",
   "execution_count": null,
   "metadata": {},
   "outputs": [],
   "source": [
    "df = inp.option.copy()"
   ]
  },
  {
   "cell_type": "code",
   "execution_count": null,
   "metadata": {},
   "outputs": [],
   "source": [
    "df.columns=['op','Value','desc']"
   ]
  },
  {
   "cell_type": "code",
   "execution_count": null,
   "metadata": {},
   "outputs": [],
   "source": [
    "inp.option=df"
   ]
  },
  {
   "cell_type": "code",
   "execution_count": null,
   "metadata": {},
   "outputs": [],
   "source": [
    "api_inp = api.SwmmInput('Model.inp')"
   ]
  },
  {
   "cell_type": "code",
   "execution_count": null,
   "metadata": {},
   "outputs": [],
   "source": []
  },
  {
   "cell_type": "markdown",
   "metadata": {},
   "source": []
  },
  {
   "cell_type": "code",
   "execution_count": null,
   "metadata": {},
   "outputs": [],
   "source": [
    "api_inp.SUBCATCHMENTS['SUB1']"
   ]
  },
  {
   "cell_type": "code",
   "execution_count": null,
   "metadata": {},
   "outputs": [],
   "source": [
    "inp.subcatchments.loc[0,\"CurbLeng\"] = 100"
   ]
  },
  {
   "cell_type": "code",
   "execution_count": null,
   "metadata": {},
   "outputs": [],
   "source": [
    "inp.temperature"
   ]
  },
  {
   "cell_type": "code",
   "execution_count": null,
   "metadata": {},
   "outputs": [],
   "source": [
    "inp.temperature.__class__.__name__.lower()"
   ]
  },
  {
   "cell_type": "code",
   "execution_count": null,
   "metadata": {},
   "outputs": [],
   "source": [
    "api_inp.SNOWPACKS"
   ]
  }
 ],
 "metadata": {
  "kernelspec": {
   "display_name": ".venv",
   "language": "python",
   "name": "python3"
  },
  "language_info": {
   "codemirror_mode": {
    "name": "ipython",
    "version": 3
   },
   "file_extension": ".py",
   "mimetype": "text/x-python",
   "name": "python",
   "nbconvert_exporter": "python",
   "pygments_lexer": "ipython3",
   "version": "3.13.0"
  }
 },
 "nbformat": 4,
 "nbformat_minor": 2
}
