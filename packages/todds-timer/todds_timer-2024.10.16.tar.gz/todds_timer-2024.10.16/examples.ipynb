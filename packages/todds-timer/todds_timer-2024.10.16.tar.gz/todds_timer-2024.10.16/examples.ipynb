{
 "cells": [
  {
   "cell_type": "code",
   "execution_count": 1,
   "metadata": {},
   "outputs": [],
   "source": [
    "from todds_timer import Timer\n",
    "from time import sleep\n",
    "import logging\n",
    "\n",
    "logging.basicConfig(level=logging.DEBUG, format=\"%(asctime)s %(levelname)s %(message)s\")\n",
    "\n",
    "@Timer(\"Example use as a basic decorator\")\n",
    "def basic_example_decorator():\n",
    "    pass\n",
    "\n",
    "@Timer(\"Example use as a decorator with arguments {0} and {1}\")\n",
    "def example_decorator_with_args(a, b):\n",
    "    pass\n",
    "\n",
    "@Timer(\"Example use as a decorator with kwargs {kwarg1} and {kwarg2:.2f}\")\n",
    "def example_decorator_with_kwargs(kwarg1=None, kwarg2=None):\n",
    "    pass\n",
    "\n",
    "@Timer(\"Example use with a mix of args and kwargs {0} and {kwarg1}\")\n",
    "def example_decorator_with_mix_args_kwargs(a, kwarg1=None):\n",
    "    pass\n",
    "\n",
    "@Timer(\"Example use showing timer is accurate to {0} seconds\")\n",
    "def example_1sec(a: int):\n",
    "    sleep(a)\n",
    "\n",
    "@Timer(\"Example use as decorators demonstrating indentation\")\n",
    "def example_decorator_with_indentation():\n",
    "    basic_example_decorator()"
   ]
  },
  {
   "cell_type": "code",
   "execution_count": 2,
   "metadata": {},
   "outputs": [
    {
     "name": "stderr",
     "output_type": "stream",
     "text": [
      "2024-10-16 11:18:00,125 DEBUG ----STARTED Example use as a basic decorator\n",
      "2024-10-16 11:18:00,126 DEBUG ----COMPLETED (in 00.001 seconds) Example use as a basic decorator\n"
     ]
    }
   ],
   "source": [
    "basic_example_decorator()"
   ]
  },
  {
   "cell_type": "code",
   "execution_count": 3,
   "metadata": {},
   "outputs": [
    {
     "name": "stderr",
     "output_type": "stream",
     "text": [
      "2024-10-16 11:18:00,130 DEBUG ----STARTED Example use as a decorator with arguments 1 and 2\n",
      "2024-10-16 11:18:00,130 DEBUG ----COMPLETED (in 00.000 seconds) Example use as a decorator with arguments 1 and 2\n"
     ]
    }
   ],
   "source": [
    "example_decorator_with_args(1, 2)"
   ]
  },
  {
   "cell_type": "code",
   "execution_count": 4,
   "metadata": {},
   "outputs": [
    {
     "name": "stderr",
     "output_type": "stream",
     "text": [
      "2024-10-16 11:18:00,143 DEBUG ----STARTED Example use as a decorator with kwargs hello and 3.14\n",
      "2024-10-16 11:18:00,144 DEBUG ----COMPLETED (in 00.000 seconds) Example use as a decorator with kwargs hello and 3.14\n"
     ]
    }
   ],
   "source": [
    "example_decorator_with_kwargs(kwarg1=\"hello\", kwarg2=3.14159)"
   ]
  },
  {
   "cell_type": "code",
   "execution_count": 5,
   "metadata": {},
   "outputs": [
    {
     "name": "stderr",
     "output_type": "stream",
     "text": [
      "2024-10-16 11:18:00,151 DEBUG ----STARTED Example use with a mix of args and kwargs 1 and hello\n",
      "2024-10-16 11:18:00,152 DEBUG ----COMPLETED (in 00.001 seconds) Example use with a mix of args and kwargs 1 and hello\n"
     ]
    }
   ],
   "source": [
    "example_decorator_with_mix_args_kwargs(1, kwarg1=\"hello\")"
   ]
  },
  {
   "cell_type": "code",
   "execution_count": 6,
   "metadata": {},
   "outputs": [],
   "source": [
    "# You can adjust the log level of all Timers\n",
    "Timer.set_log_level(logging.INFO)"
   ]
  },
  {
   "cell_type": "code",
   "execution_count": 7,
   "metadata": {},
   "outputs": [
    {
     "name": "stderr",
     "output_type": "stream",
     "text": [
      "2024-10-16 11:18:00,168 INFO ----STARTED Example use showing timer is accurate to 1 seconds\n",
      "2024-10-16 11:18:01,170 INFO ----COMPLETED (in 01.001 seconds) Example use showing timer is accurate to 1 seconds\n"
     ]
    }
   ],
   "source": [
    "example_1sec(1)"
   ]
  },
  {
   "cell_type": "code",
   "execution_count": 8,
   "metadata": {},
   "outputs": [
    {
     "name": "stderr",
     "output_type": "stream",
     "text": [
      "2024-10-16 11:18:01,178 INFO ----STARTED Example use as decorators demonstrating indentation\n",
      "2024-10-16 11:18:01,179 INFO --------STARTED Example use as a basic decorator\n",
      "2024-10-16 11:18:01,179 INFO --------COMPLETED (in 00.000 seconds) Example use as a basic decorator\n",
      "2024-10-16 11:18:01,180 INFO ----COMPLETED (in 00.002 seconds) Example use as decorators demonstrating indentation\n"
     ]
    }
   ],
   "source": [
    "example_decorator_with_indentation()"
   ]
  },
  {
   "cell_type": "code",
   "execution_count": 9,
   "metadata": {},
   "outputs": [
    {
     "name": "stderr",
     "output_type": "stream",
     "text": [
      "2024-10-16 11:18:01,189 INFO ----STARTED Example use as a context manager\n",
      "2024-10-16 11:18:01,189 INFO ----COMPLETED (in 00.000 seconds) Example use as a context manager\n"
     ]
    }
   ],
   "source": [
    "with Timer(\"Example use as a context manager\"):\n",
    "    pass"
   ]
  },
  {
   "cell_type": "code",
   "execution_count": 10,
   "metadata": {},
   "outputs": [
    {
     "name": "stderr",
     "output_type": "stream",
     "text": [
      "2024-10-16 11:18:01,200 INFO ----STARTED Example use as context manager indent 1\n",
      "2024-10-16 11:18:01,201 INFO --------STARTED Example use as context manager indent 2\n",
      "2024-10-16 11:18:01,202 INFO --------COMPLETED (in 00.001 seconds) Example use as context manager indent 2\n",
      "2024-10-16 11:18:01,202 INFO ----COMPLETED (in 00.008 seconds) Example use as context manager indent 1\n"
     ]
    }
   ],
   "source": [
    "with Timer(\"Example use as context manager indent 1\"):\n",
    "    with Timer(\"Example use as context manager indent 2\"):\n",
    "        pass"
   ]
  },
  {
   "cell_type": "code",
   "execution_count": 11,
   "metadata": {},
   "outputs": [
    {
     "name": "stderr",
     "output_type": "stream",
     "text": [
      "2024-10-16 11:18:01,211 INFO  Average | Minimum | Maximum | Count | Task\n",
      "2024-10-16 11:18:01,212 INFO  000.001 | 000.000 | 000.001 | 00002 | Example use as a basic decorator\n",
      "2024-10-16 11:18:01,212 INFO  000.000 | 000.000 | 000.000 | 00001 | Example use as a decorator with arguments {0} and {1}\n",
      "2024-10-16 11:18:01,213 INFO  000.000 | 000.000 | 000.000 | 00001 | Example use as a decorator with kwargs {kwarg1} and {kwarg2:.2f}\n",
      "2024-10-16 11:18:01,213 INFO  000.001 | 000.001 | 000.001 | 00001 | Example use with a mix of args and kwargs {0} and {kwarg1}\n",
      "2024-10-16 11:18:01,214 INFO  001.001 | 001.001 | 001.001 | 00001 | Example use showing timer is accurate to {0} seconds\n",
      "2024-10-16 11:18:01,214 INFO  000.002 | 000.002 | 000.002 | 00001 | Example use as decorators demonstrating indentation\n",
      "2024-10-16 11:18:01,214 INFO  000.000 | 000.000 | 000.000 | 00001 | Example use as a context manager\n",
      "2024-10-16 11:18:01,215 INFO  000.001 | 000.001 | 000.001 | 00001 | Example use as context manager indent 2\n",
      "2024-10-16 11:18:01,215 INFO  000.008 | 000.008 | 000.008 | 00001 | Example use as context manager indent 1\n"
     ]
    }
   ],
   "source": [
    "Timer.print_average_times(number_pad_character=\"0\")"
   ]
  }
 ],
 "metadata": {
  "kernelspec": {
   "display_name": "dev_202410",
   "language": "python",
   "name": "python3"
  },
  "language_info": {
   "codemirror_mode": {
    "name": "ipython",
    "version": 3
   },
   "file_extension": ".py",
   "mimetype": "text/x-python",
   "name": "python",
   "nbconvert_exporter": "python",
   "pygments_lexer": "ipython3",
   "version": "3.12.7"
  }
 },
 "nbformat": 4,
 "nbformat_minor": 2
}
