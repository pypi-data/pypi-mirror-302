{
 "cells": [
  {
   "cell_type": "markdown",
   "id": "962be290",
   "metadata": {},
   "source": [
    "# Transformations\n",
    "\n",
    "In general, JAX transformations (transforms) operate on [pytrees](https://jax.readthedocs.io/en/latest/pytrees.html) of `jax.Array`s\n",
    "and abide by value semantics. This presents a challenge for Flax NNX, which represents `nnx.Module`s as regular Python objects\n",
    "that follow reference semantics. To address this, Flax NNX introduced its own set of transforms that extend JAX\n",
    "transforms to allow `nnx.Module`s and other Flax NNX objects to be passed in and out of transforms while preserving\n",
    "reference semantics.\n",
    "\n",
    "Flax NNX transforms should feel quite familiar if you have used JAX transforms before. They use the\n",
    "same APIs and behave like the JAX transforms when only working with pytrees of `jax.Array`s. However, when working with\n",
    "Flax NNX objects, they allow Python's reference semantics to be preserved for these objects, this includes:\n",
    "\n",
    "* Preserving shared references across multiple objects in the inputs and outputs of the transformation.\n",
    "* Propagating any state changes made to the objects inside the transformation to the objects outside the transformation.\n",
    "* Enforcing consistency of how objects are transformed when aliases are present across multiple inputs and outputs."
   ]
  },
  {
   "cell_type": "code",
   "execution_count": 1,
   "id": "8d645146",
   "metadata": {},
   "outputs": [],
   "source": [
    "import jax\n",
    "from jax import numpy as jnp, random\n",
    "from flax import nnx"
   ]
  },
  {
   "cell_type": "markdown",
   "id": "b44fb248",
   "metadata": {},
   "source": [
    "Throughout this guide, `nnx.vmap` is used as a case study to demonstrate how Flax NNX transforms work. However, the principles\n",
    "outlined in this document extends to all transforms.\n",
    "\n",
    "## Basic example\n",
    "\n",
    "To begin, let's look at a simple example of using `nnx.vmap` to extend an element wise `vector_dot` function to work on\n",
    "batched inputs. We will define a `Weights` Module with no methods to hold some parameters, these weights will be passed\n",
    "as an input to the `vector_dot` function along with some data. Both the weights and data will be batched on axis `0` and we will use\n",
    "`nnx.vmap` to apply `vector_dot` to each batch element, and the result will be a batched on axis `1`:"
   ]
  },
  {
   "cell_type": "code",
   "execution_count": 2,
   "id": "4eab27a4",
   "metadata": {},
   "outputs": [
    {
     "name": "stdout",
     "output_type": "stream",
     "text": [
      "y.shape = (3, 10)\n"
     ]
    },
    {
     "data": {
      "text/html": [
       "<script> (()=>{ if (customElements.get('treescope-container') === undefined) { class TreescopeContainer extends HTMLElement { constructor() { super(); this.attachShadow({mode: \"open\"}); this.defns = {}; this.state = {}; } } customElements.define(\"treescope-container\", TreescopeContainer); } if (customElements.get('treescope-run-here') === undefined) { class RunHere extends HTMLElement { constructor() { super() } connectedCallback() { const run = child => { const fn = new Function(child.textContent); child.textContent = \"\"; fn.call(this); this.remove(); }; const child = this.querySelector(\"script\"); if (child) { run(child); } else { new MutationObserver(()=>{ run(this.querySelector(\"script\")); }).observe(this, {childList: true}); } } } customElements.define(\"treescope-run-here\", RunHere); } })(); </script> <treescope-container class=\"treescope_out_f6d1a5dd1b154269bf94556867e4d813\" ></treescope-container> <treescope-run-here><script type=\"application/octet-stream\"> const root = ( Array.from(document.getElementsByClassName( \"treescope_out_f6d1a5dd1b154269bf94556867e4d813\")) .filter((elt) => !elt.dataset.setup) )[0]; root.dataset.setup = 1; const msg = document.createElement(\"span\"); msg.style = \"color: #cccccc; font-family: monospace;\"; msg.textContent = \"(Loading...)\"; root.state.loadingMsg = msg; root.shadowRoot.appendChild(msg); root.state.chain = new Promise((resolve, reject) => { const observer = new IntersectionObserver((entries) => { for (const entry of entries) { if (entry.isIntersecting) { resolve(); observer.disconnect(); return; } } }, {rootMargin: \"1000px\"}); window.setTimeout(() => { observer.observe(root); }, 0); }); root.state.deferring = false; const _insertNode = (node) => { for (let oldScript of node.querySelectorAll(\"script\")) { let newScript = document.createElement(\"script\"); newScript.type = oldScript.type; newScript.textContent = oldScript.textContent; oldScript.parentNode.replaceChild(newScript, oldScript); } if (root.state.loadingMsg) { root.state.loadingMsg.remove(); root.state.loadingMsg = null; } root.shadowRoot.appendChild(node); }; root.defns.insertContent = ((contentNode, compressed) => { if (compressed) { root.state.deferring = true; } if (root.state.deferring) { root.state.chain = (async () => { await root.state.chain; if (compressed) { const encoded = contentNode.textContent; const blob = new Blob([ Uint8Array.from(atob(encoded), (m) => m.codePointAt(0)) ]); const reader = blob.stream().pipeThrough( new DecompressionStream(\"deflate\") ).pipeThrough( new TextDecoderStream(\"utf-8\") ).getReader(); const parts = []; while (true) { const step = await reader.read(); if (step.done) { break; } parts.push(step.value); } const tpl = document.createElement('template'); tpl.innerHTML = parts.join(\"\"); _insertNode(tpl.content); } else { _insertNode(contentNode.content); } })(); } else { _insertNode(contentNode.content); } }); </script></treescope-run-here><div style=\"display:none\"> <script type=\"application/octet-stream\" >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</script> <treescope-run-here><script type=\"application/octet-stream\"> const root = ( Array.from(document.getElementsByClassName( \"treescope_out_f6d1a5dd1b154269bf94556867e4d813\")) .filter((elt) => !elt.dataset['step0']) )[0]; root.dataset['step0'] = 1; root.defns.insertContent( this.parentNode.querySelector('script[type=\"application/octet-stream\"]'), true ); this.parentNode.remove(); </script></treescope-run-here> </div>"
      ],
      "text/plain": [
       "<IPython.core.display.HTML object>"
      ]
     },
     "metadata": {},
     "output_type": "display_data"
    },
    {
     "data": {
      "text/html": [
       "<div style=\"display:none\"> <script type=\"application/octet-stream\" >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</script> <treescope-run-here><script type=\"application/octet-stream\"> const root = ( Array.from(document.getElementsByClassName( \"treescope_out_f6d1a5dd1b154269bf94556867e4d813\")) .filter((elt) => !elt.dataset['step1']) )[0]; root.dataset['step1'] = 1; root.defns.insertContent( this.parentNode.querySelector('script[type=\"application/octet-stream\"]'), true ); this.parentNode.remove(); </script></treescope-run-here> </div>"
      ],
      "text/plain": [
       "<IPython.core.display.HTML object>"
      ]
     },
     "metadata": {},
     "output_type": "display_data"
    }
   ],
   "source": [
    "class Weights(nnx.Module):\n",
    "  def __init__(self, kernel: jax.Array, bias: jax.Array):\n",
    "    self.kernel, self.bias = nnx.Param(kernel), nnx.Param(bias)\n",
    "\n",
    "weights = Weights(\n",
    "  kernel=random.uniform(random.key(0), (10, 2, 3)),\n",
    "  bias=jnp.zeros((10, 3)),\n",
    ")\n",
    "x = jax.random.normal(random.key(1), (10, 2))\n",
    "\n",
    "def vector_dot(weights: Weights, x: jax.Array):\n",
    "  assert weights.kernel.ndim == 2, 'Batch dimensions not allowed'\n",
    "  assert x.ndim == 1, 'Batch dimensions not allowed'\n",
    "  return x @ weights.kernel + weights.bias\n",
    "\n",
    "y = nnx.vmap(vector_dot, in_axes=0, out_axes=1)(weights, x)\n",
    "\n",
    "print(f'{y.shape = }')\n",
    "nnx.display(weights)"
   ]
  },
  {
   "cell_type": "markdown",
   "id": "d2b222eb",
   "metadata": {},
   "source": [
    "Notice that `in_axes` interacts naturally with the `Weights` Module, treating it as if it were a pytree of `jax.Array`s. Prefix patterns are also allowed, so `in_axes=(0, 0)` would have also worked in this case.\n",
    "\n",
    "Objects are also allowed as outputs of Flax NNX transforms, which can be useful to transform initializers. For example,\n",
    "you can define a `create_weights` function to create an single `Weights` `nnx.Module`, and use `nnx.vmap` to create a stack of\n",
    "`Weights` with the same shapes as before:"
   ]
  },
  {
   "cell_type": "code",
   "execution_count": 3,
   "id": "0b076a0f",
   "metadata": {},
   "outputs": [
    {
     "data": {
      "text/html": [
       "<script> (()=>{ if (customElements.get('treescope-container') === undefined) { class TreescopeContainer extends HTMLElement { constructor() { super(); this.attachShadow({mode: \"open\"}); this.defns = {}; this.state = {}; } } customElements.define(\"treescope-container\", TreescopeContainer); } if (customElements.get('treescope-run-here') === undefined) { class RunHere extends HTMLElement { constructor() { super() } connectedCallback() { const run = child => { const fn = new Function(child.textContent); child.textContent = \"\"; fn.call(this); this.remove(); }; const child = this.querySelector(\"script\"); if (child) { run(child); } else { new MutationObserver(()=>{ run(this.querySelector(\"script\")); }).observe(this, {childList: true}); } } } customElements.define(\"treescope-run-here\", RunHere); } })(); </script> <treescope-container class=\"treescope_out_f363e0b7ec5a4414859d8b4ec17528b3\" ></treescope-container> <treescope-run-here><script type=\"application/octet-stream\"> const root = ( Array.from(document.getElementsByClassName( \"treescope_out_f363e0b7ec5a4414859d8b4ec17528b3\")) .filter((elt) => !elt.dataset.setup) )[0]; root.dataset.setup = 1; const msg = document.createElement(\"span\"); msg.style = \"color: #cccccc; font-family: monospace;\"; msg.textContent = \"(Loading...)\"; root.state.loadingMsg = msg; root.shadowRoot.appendChild(msg); root.state.chain = new Promise((resolve, reject) => { const observer = new IntersectionObserver((entries) => { for (const entry of entries) { if (entry.isIntersecting) { resolve(); observer.disconnect(); return; } } }, {rootMargin: \"1000px\"}); window.setTimeout(() => { observer.observe(root); }, 0); }); root.state.deferring = false; const _insertNode = (node) => { for (let oldScript of node.querySelectorAll(\"script\")) { let newScript = document.createElement(\"script\"); newScript.type = oldScript.type; newScript.textContent = oldScript.textContent; oldScript.parentNode.replaceChild(newScript, oldScript); } if (root.state.loadingMsg) { root.state.loadingMsg.remove(); root.state.loadingMsg = null; } root.shadowRoot.appendChild(node); }; root.defns.insertContent = ((contentNode, compressed) => { if (compressed) { root.state.deferring = true; } if (root.state.deferring) { root.state.chain = (async () => { await root.state.chain; if (compressed) { const encoded = contentNode.textContent; const blob = new Blob([ Uint8Array.from(atob(encoded), (m) => m.codePointAt(0)) ]); const reader = blob.stream().pipeThrough( new DecompressionStream(\"deflate\") ).pipeThrough( new TextDecoderStream(\"utf-8\") ).getReader(); const parts = []; while (true) { const step = await reader.read(); if (step.done) { break; } parts.push(step.value); } const tpl = document.createElement('template'); tpl.innerHTML = parts.join(\"\"); _insertNode(tpl.content); } else { _insertNode(contentNode.content); } })(); } else { _insertNode(contentNode.content); } }); </script></treescope-run-here><div style=\"display:none\"> <script type=\"application/octet-stream\" >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</script> <treescope-run-here><script type=\"application/octet-stream\"> const root = ( Array.from(document.getElementsByClassName( \"treescope_out_f363e0b7ec5a4414859d8b4ec17528b3\")) .filter((elt) => !elt.dataset['step0']) )[0]; root.dataset['step0'] = 1; root.defns.insertContent( this.parentNode.querySelector('script[type=\"application/octet-stream\"]'), true ); this.parentNode.remove(); </script></treescope-run-here> </div>"
      ],
      "text/plain": [
       "<IPython.core.display.HTML object>"
      ]
     },
     "metadata": {},
     "output_type": "display_data"
    },
    {
     "data": {
      "text/html": [
       "<div style=\"display:none\"> <script type=\"application/octet-stream\" >eNrtfet64zaS6H8/BeNcJMWSTFJ3y/Z83XZ30pO+OH1JJuv156ZESGabIhWSsuX2+P/Oe+x5gPMK51HmSU4VAJIACEqyu7Mz+6Wdji0RVYVCVQGoKly473pXRpzc+ORg2/Xiue/c7BlBGJBtw3MPtidhdO6SCYki4p4PJu2e2e85/Ynttu2+M3IH/YE7IL1Bu93rOu724X48dwL4jfQOm04UOTdX3sfzcRgkjheQyLg1ri+8hDQAbkywomjm+EPjztABN71gEgLKBJ40Js7M84G3WRiEFHtojEM/jPaMrx36MzRmTjT1gsYoTJJwtmeYTbtDZkO5xnlEVlfnBfNFcprczEEgkRNMyfYZsHBFosQbO37D8b1pAFx4rusDpYnnJwR4mAK1GMpJ1aoZIVTlJTdVs9mp3buyvYvwigqqSPp+9ILFbEQiIBiESXVvEo4XcQ3IjsLIJVEjclxvEe8Zrfny00iyz5RpJJ/qpEd/hry6PcOaL4049D03L1pRazMGSBLFqr2s0h5lIfHmgCMZ8tCYh7GXeCGozRkBD4sEno2c8eU0CheB2+As04p0DI98gAUqjut6wZTZ1fgCyXoBaKhBrkiQxGll156bXOyB9pIGMgdFQwM5m/jh9Z5x5cXeCA2n2KyPDS9wyRJqNk1zdStH4XLDVobLRnzhuFi1Sf/DZtEG1fkDGx7wpusblPE1WMHW2PfGl66TOPfRmB86KNHzGYljZ0oE60l79F2TPjl3RqOIXAkA3b7tUHb2d9lgs59EhMTjcE4a0SJoXJAInsXjyJsnBjXeijOfA5MOimg3HCckacSA48wqh1v4A3zFiZGyaRwY1WrNODg0brcMA/5NFsEYUQ2XxCTyYBj4SN6BuPpV7FUAYBgRSRZRYNCnj5BOcxKFs6qThCMAqhvVGSU4gza55ARl/SipmrXaELDvtsqreQpySlp2XhFjdXSTkBj4fFB9KZEJ0kYqAbk2eEWUVpWSb44WExj8OQpvIMNZx/Wz4H+EZ1rNvThmLPskMY7QmGbO/PUPj4/BdIdqa6YkOQJr9YJFuIgpcPXK8RekzswQMBEtbSFSHDkxOafdpW6Ek0lMEsaHNzEYqrF/YJgphiHAQ3PMIX/KMPMndwbxYyIQOTwwrBIiImdNnwTT5MJoGHaBtNWUiafEmIjHSZxRZFV+b1T1pK3aUMfHCye5aILcQWYZsVqBi7yebw2L8yNoOlIadJpXcXZqniFTFrDAyNWMHU7eKEMydgyLI4raYZVNV1VmPbQyS1/ZaFVl9kMrs9XKuP2fRnVjWjdGZ/pOexOAbzV+FI1jL7h4TYB6ldd3SW7opPALN3vfm79wwLYj5/qFF7C/+J2T+MGZp2aZUY8TBya8N+jAuLyKKmAkziK3YLTsr7z4qRfAzFGlRX//OzMhmMuqy5qxiwjGvmGRRjvHyxq4TC1LseYMgNKKwXVDYt9TYt9nMPhDAfxwWi3WusOxf48SUAr/Ng+vq0sGUDfsWi2z7TvBirO+L8nROJDGACxn8lQKFPGjxTD5lzZWhWdkdZypkFmrpYJ0FKVaTqFmzrKa6p0zVBuWtHQ/g8i4/Bf9Yd0OtIV9xjjYUjRPlvNqZgKyDKAb5uYNtpOBpU3LVJ/VAaJKa9plHVkWy64iODZ5gGBhrAVcXZfJuh72jqFgOimWYjoZMegxlimbQDa8YlefExxl0dph3l3VWXc5zZQW71kpEe1s8snayo0+lWT+VWeqKiGUq0uCcOYF4GNEmQ17QVUwAV2zlaGPi4CyIIx29TVU0o6C6JLaJKYU3ckMaxXIhb+R2gRy+RRbmAWS8A060m+SCFxyNtfLvls2iaRTlzTFvI+mo+o3t9Gd8c3tFH+N7mrvtdMNBgCRE4NbNX1YjQIExisBhD03ANG0LbsL/TOCIbrZszo2fJ7iZ7Nn4+dRPkjlaIeGZfdz2fPGVGiEVNGadApCo5yKJFCloRDA+ydOAhFVAD4Q6AP+3dQhjqSPsokSlFxFM/Wowwd/9lMQ7mTBs52dmuKhReE1wHPAU+8sNZCM3AdG7gOQA9iM1AeRFJ98wuvTD2fiU6gkWTaR/9dknFTRu/gAvMMfr25YdcHnyy3yrmBajFHXm3oJdZ5PIm/mRKiqUwpb+XpCfyp1+GhNer1Rm36cTHoTk9CP9tgx7TH96Hbtnt2nHwftbm/k0o/9cafbHlXqnCBp9Xpjm5aMxiPXZh+t3oiMJxWAoWJS+XpD4Ikrc9ab4H8U2yHjHulzzkajHueh7076Dn866A+69OO4MzLdDvvYHowH7YyzSW/UdRk77sgd9Rn7A+I6pJNxtpVxNya+/waiKGCpN2QFStACkcnEmxZiFhdGnFcBOQL8dISjtgdKpmFL3eAhjBfDyOa5eSzDCNazAT01CO6cUWjBCrmB0C4MXFbCS398Ue10vsWsQq0y3NIYElQFHbFHuWEf8F9tuJpmz1RoFjoWp4tOcEabfTnN7PTUrBv5v7O6VGDRp1ax4LNgnNUKcZws9CZmKGAagCaPs4Czonb5MXf7Je+lQCqFkmYbL37pvGTBY03s6AWJiwPffdWnIYeTgt3pUHnA35pA+UFKBBFbgoitM3H+LVVLphiroMrVWGV1ndUUFzwPzUGHz0APEMjcSIJmGkRVgVw0iQWIx+tGQXdFkeqm6c+lrpUz86drjonYur96HlakrWu15hoPUp35p1BdLlGdEsq6z+r+uLqrWms6naoiPnG5GPjyOYwPeUPZ30nhDjELpvg9D+2n91X3fRX+YJU/WOkrO9i6Qkvof9a9MMsLz0SvM++9mTr3DfPe6jT/fOo0V8ndfLA6701Wo05Rdbnbkiq4Jus2i/Hv73toKyyQkMrwRzYBjTWlnAomJanu7sH2okRZ6xxJozJ3IFhIeHa4Uki/fZJHKfeqtPiUjrVnotvJQYCfBbABUytxv3ifn9/7VCfCkryJTkZZ2qZO8zZ1IXFzfxVsbJw09h6FpXaJQeyJEyXx45tjBM0CcyoXMeBC+fXOik9AbXbdaOlLQLCdtRBdDtHGvy0woLWQHQ5JMdoPwWjh386nYcLfLtpLHn2KOWYvuMI4HgQ6cUBLYmdlXvC3hmV8peQjc+8pw06iBVljhQGZOol3RbIlxP18hTOFmTlTcLcXrrQEofpsQr4GV30znCaOx3QorjXjue8l1UpFcfUYUrpYuV8wLF6icxoQ9HyOsFCnincqET4Tx3iU8jyiWyjOIzInThKfhxNcrV74vjSPaxJ/EtmhsbPjqXMe7+FxAtzUjdhzCeeBc8lYFhKCBRkC4Eu6j4dLB2BrMnAmOTp0Fxuj8lQcVjTJNSYyhS1jM1GVzNer6uXJxvvUSkGVarX+AR0LC95BPoNw5eSzSEFb4udSD0FxhtL+VFvttRRn0YKrVDb5CeP6qdK8U73vlwd52gKNQ3hW0lyNgsX2awce0S0Sk10M+Iun8Tk9De1ekY3FsLl4S5ZS0I1gS3GPAvdZ4HpjElfVTLbHnuOHGOyEoiobkNIB/ZQPCXQQTteSAMmAkUCHnVoWlJxW0I+pnFFPBmYdEjl+RTQ2WkdzvogvUgTKaEWbeyqSVD32lPVs0wxv5ilHdZZeXDk7kye+FPjA4FDxpTc/p+NQRVnqEdh9/82tBvxuT35MAhcevtdH47zi/fvWy/B0VNfhGA1dXbgzCderVvO9iT6Y8tRFs8KCSJE9iniPFlWqMye+JK4RLpJa5UFsnvtheLmYF7hN12+M774zvuK43jQIIwwQ6Wi5QjvlfBWbw0w1XoziBHw02nczE2S8ndO16sqZEi6mnMqoZZFjgcNFcBmE14HEXonXIOCJlZXNS5vIHrugTvTo3em7bRNR9H32cH3XyWg+pAcU7epeamNVKqxvqrW1OlvdQ0r0dVcWiIjV7f/lsKIEFaFPmiSKwqhaecd4Ecf+Cp9HtDu7+C4AVsGH0AvS2EPaYPoIlPxmTsaFVdpzcP6cm3dB4vm/sB3hVZdg7o9uT64bDgVLZSfMX2z/uJfcvBrFJLqie3f4NlgSxYSipUXVKri4kUfibB9zqi7+/NQ8a3oC4musHezPLE4+fKv2Cye6xG35B4bAbvP3BYlu3oA7O07C6JHvVyvq1m5R8qxtVXFVIo2EiI/9RalMtiAAaUZkFl6Rak1nyQUBNV0vhjYE6Hmoqqwbt3fZTmFoRZw8CiBsQP6eRs6MCFvA9bRD9kFUXurH6Ld1jxae7z7im8yfetNFpGh+TFMlaZvX2YnM3/mm1GUWRbu8J3+p5zQJWQYbszz4TdzqSrfUP3Zi0m3nQMLDAuwxyxNJoPSZCEknrRcwL6mUlQIRB88nYMbApXvQObzwUIRdpn1XAM2fiZA3GsgbLWTswwTgasCVAhFHTqHlKGNlG4gkmQV5Sh1mXEx4JnizkpTKgIZb+aCDnZLKP987JaoIpr4JOzMgTHsUgI0Q6gkGQevFLREKYS9YS5YdMSglmmImFxho4Cj5hA32iyBezOdhlIBP49JpvFbce07t6Bw9H7lSduhDsbKaKLRMcqGPESvf144PxosogrFXfhiTOY1ITDEkUfJC2cbb3ASbaSbhRn1UUzaMYQVsEuT154n8jB9kdSf9nm3Tp/xLD+/UdsotTsLE8Y9CP1baHfq/4rEo2k7rLC9gzQGpFmIyRQCFdms3xcUAADg5sJAH40lJ3F4LJU1whcBBoh+pv5SC5RwxkeV+hti2/PP3QHKHihjqwm37gXQmIms5o5bhSQaXSe51eK1IDiz3R+JNL5KC6G42Fd3NfUR38wmiu1ktOt64/PMa0eVNF2SHiLUSU+RTyBiTZG9wRH1FXVWs9PauXD7K4LuBkBQMQVLFyk+pnAJwJs6EAz1bKtdjB8KwWFyHq7rheDGDjtccR8RJyBOf4LdqhYFWsjNR9GuTHjvEjdy5ae4YNp51SLcSSuAXVLIZPNWHHl4Q6hHFxUVPskwkXjlVviQKpdWK7VIWNYME3z5ND5r8xHdZS0nfPAEPziTuZEQVyq6OsKSRzoSv893sYv541TqUdrOdFoXzLPuifNM+VFiAnwl7+4Wd+oWt3nyrvrrNu7BYzDa40OMcj0axrsasUN5lkCE6yxWItLDAsF5RB0y+xYWJghr47nS6fxgFgvvncSe2Khz9Yjx3COlu9hcpyRVnlfIfHd91rLWei7CeC6VumE2rUxtu2hyJJ3y4g6fxdvNDdmsz23zxC0/8aEzHCzQqvI+dsZNEM/HUzbpGmc3OBhpZoeEGNodqGDll39ZkVLY0RzXAGX+mHocUcrR0AIYIURmBpcMTGYmdA9HjFwfi71cP1EOVQx4S5POJ4I6gBbKxyVQ2SNzk8Der4fkwlk/9Bh6i9gmMzhGeQLoVFkO4V8Bgs6el4NJHIUAAfOo4n2byOisaXZo1PJC8YT4AGH+hizHGnvHVV3lxCT3NtnQxH6DMLffYrr5VWISTbFSyQf1H5ky5V04wJkfhIkhE23uoU8U9otS2wL/ZEZSbOTj4NPdzKFjqEMmwpVYtOWyy+eYjgsjH4YHgqOHab2FRVfkqy6bYDLmZiuxk3htreYeuKXGn0kKZAZVqidBqq/FLVpGVryPwty7L14HvlOFWsZ2DTBzazQVKbYW6xHnD2CpuwZDGgWW52T4kiKLxzwqTxSFq5yCPaUrttdRal6utFcW5lG11ucpWpS/LNXa6XGWlpTa61NrostzGUEhooXop1VYha81zY3OR3NelapTLVUa5VVpD2WQt/9EM4U3fC8ivPCixhisA4yQKL0nJynwZ5SNnjsDx7wsnImuh/xpSV6syw9Xayh86xW6tnNh4Y3UbSNiqeHbuq4EuWV0z+q2DyUq/F23QOjP+8hd0U3GjwQoMYVwtQymbUnXzqFU6j1pf5tEv8+iKefTw882jW5tNnlbJ5Gl9mTz/1JPn4WeYPOlvMRmWX49CEilPUQ3IdfpZ3nwkFOCErkty1Pi6dMpCWaYtp3TPLBnuH1mfGRMzd4U1VzUjmEmC7TM48ZbEx8sLbsrOLNA4WbheiCYfaAImncjwyg5rqDkuL2LdlGDJAsFNy3gXDeLzj/j0UOzIeY4/vxTpDCC35OH2UJqihOy2gKW52kbMZa72wtJTcPHCT4Sc92fLrKSLvYxInv+HDrpROsXgvMkpcUpveM/0jYR0J2dR0NqxnF8eVbgYwZPzN7n0cZw/ZMFSo1Fs+KrFpQyGMmusH+Z5Ui90F/4iluHpVU4ZDv0m4qnty79+m9IbFs6uhpGr3MklIu5yvgt77vNLxZDAjmbNJ+0oWM77B0M6zBeL5OFSY9bi+PvHmwj0PFGE8FVrIjcPN5GbjUxkrb+q2oiIsNJIii18mJFIiH8eI0kvTVPzo3VDm+asc3bypOXZygXK/AJMzOcLl/7kG6owdRm4RxBwuqXLgK53VanJFyN6AaUqrMupKyqs4vvTp5QlNLbily7w5aTpbZzZamRFuAa1MtSCZiuRG8DCxHIShXMSJTfVijdzpqQREbROL5jifSpzdB6gEW6lpieANwk/pRcJ03RAepVwSXVJ5AQxbj1/FXlTlkFIwjkMIpPPwuB6Co1Geh9p42MYzpCCVdY0BREvH2vQi5Nj8G0oZnu+zKplCpWV9X7s+OPqlRNVlXrR7/7mVlxovpsv00OCIqVMl5uRYuAltNLrbOm5AhQaOBiVVGgMf2MtieCSnOi9yigcHauV4vK1KnR+J/BzqCtr9Te3hanjjt7n2OyQGY7U0N60wSX03oZzgdxyI3KFfRC+/9wZEV/cHsLXpejzE+UkBJ+dcAV/Bh2DwtCkHF189/GrtAJPn6QWhHdhvcGehNKfCxk5EYrdrPyY3s6NcGbTghYIdyxrsdCG2U1IwmBWoaLBW9wsurBbNZtdHJ6LSqyhxbECuUvU0tMpd3/8riPaHuWQ9epxVycJsUekVzxrReaL5ljeCXncI/Q/VV9cU4yQZZrfgr19c+uh/VHz0+Px8URo7TpOVOc3z3FqmMM86hGbJtIwhBboWEHYR3hjO8pMGBEMraFzK89i4sKkJ5dnPYztTxIL7/7w3Vj/wyYljZpRmAB5HDYbA9Ml04qWtmZc5hYV4bCvrSaS5o+NLU5nqQ3j4ZZ/bwsuuuYrTVhjnLJMNrDOLdkHB1N9/mCTyNHX9i4BdAMTKkCP8tG/HCi1glUwMPanq0sV1Hc5pGS6mVE2QmqVaMSSVSqmLPb+nPJDhwgNBWEyZjC3FGhPaEcdD17hI0r7rla2h5Cmbh6HSxKXxwCfFGXkFTTHvhPHz704aYLHAq5uMAlRlPy1DZnndJ8EEwdjlx6u3GjK4yi2L/kNZ0oxfGUtQmB9k2bja0wqwqXOSl2cRvX9fwbf3OZ95O70vbIFCF+YUWCtrFL6pg2hVzJknoc1KuzlGxWlNN3MU5QSB2C7zMqLnaUsbksBiBMyF1dH9KJg4mQo66RWOTMqipyY3TxQTgw5kxN9j0pFKSwXEwcoE1NaXComDqCKKXtcjLDQX22b4wu8bCXmE0Q+Q6ySLyNalN0YU69QcgTjDb7YhL69glwlksNekAUANKGpU5KwR3nyRLGtcsAtea27fOMzv3FCpSR1byGzVLKCoKocxp4neI8DDkQEhsvUNuo6oaj96iHIxUEX80A+UPiMQy6nmI8/6ZMm3Yq3nfkfM3ZAbrtwlB1v/oahFs/19+qGhXfRiGsLMuev5nz6lvjO6tyE5ZCSEAdMmXhmSdn14eJJG3SjigPAht0/R9YOAEJxykOlVyxjvb9iaUpox6/YmiLe5XVY0AEeJUnkjWDirlaoNuuiGpW03STEt3B9vnQgp6idpRWQ1QF8CpWO3P8R4ou1GioRXpwLQF9e2aGxOz2UPAlrxZxF9gqn0s5UdLg2EkhKmEnkJQxK2M70aWWo8qBM2p+PBxx4ijzgVVgK0P1Sc8VQQyG0cWauSIl7W9kLnj5j1jqlWeZOZgByKk64YX35gr7zDSYJZXTDZA9us6IrA6gvmHMe4+u+vGB65HvAzGvpRLCwQBRACPQ6Fdc3tyklHpY0MtI0zwKCeq9dP0rjfcG/L9k3krmzaUpOwJEXhDhIk8YDSrCUca2BF/Oq+nAIpS0e0sZWUJ+Wy1AhtUaYbMEnw0+t7zAXHXui3Lu1jl3Fp5e5Z0mJKk1I1AxahJn2asNsdtDXspo2mSn3Q3xKCw3ZTniutmAsuRC4teAxq/GFeMWeZufKg0mbcpJE3YMi2flk4aeNT2mvsuQ8ll1nx5xohoCbf9bKU+BGPmM1Sfbyl3akULTJ9bQy+k16F0cSznVY8DhHgi8SDpXrXn7WNsOiBTke/Sphpm+cLKKykhyXfReQ7zSvZlm1xCDYAU3zNgxJJOJwtGpxoZDaYi/LpNm2rAJcRhHow1cpl1VCXxg6ZQmKQ2fEV37WEctWC0RqPGEjkGNPcnp3yhl2nJiAGrovdINRnO+CEby28ohAPny4glp2WZPvskUcgTy7OQUeK/EbrkHRd3lEMTspX1W9VnGbUpnA1iwcgvxoRcJ9ROLsqUyD117ghtfNeByFvv9YGnlvadfSNQvfV0abXTdG5MK58vBNjRW8Q8UJksqdWofoLtN6ngVJ+ItHrqu3GnSg6YfjS3gSECcCr0MgmN7lgi9lqjz1lqAbg5GsSFddZCuBRUXPwkVMbxVBZauRc3oFCu5PA0WJG9UwoGUC+FvdyL/8Jr19IcXUnJzMHFOmRP5KT5ruCQMiXCOn+HNlgGU3wmanqM6vlLvSsk0LWcs2qZQqo5w9tgIlzddrHE+62Y4epCzJnBfqSJRxbH0VdKP4+ipQHXIaXH/9nFR3uYBXXLVRG25gCKqohTAFBkmA6KplOHYSN02PZ5SZabLHOxkBPfKPabygYPPnOnR6sVDeHWA0EPk4NEzju+8kkYnAOwowc8IEjmVXUZEWX/CsSJdeKjDcT1Z8yM0WjORmpU1XbEfjxmnZ1HKwUdU7ZVWXNVaSyF2Jpn7LNPVj6qavUNVvmaoyaFFXP2r8eoU32m9X6ypdJfpEZf32KcoqDi/30NVv99BVviRWKd06vtH0FTJXRZ29NpxiNppg1jJCI/Z1c+jrdIvyA2fSFL84nRZ30yPAwyfH83xWZJUO1WsVz6+K10Cu5kJ/I0CWCpFnnsoRFhB3D9NmijWuuRRVbUzhmgTdz2aTlSG/Nkd/FEE+ibFOJiUHOApo6uXg+psFNrLV6wtCfJ2tpuOj4ydQbzHEdYmfOL/hIgvDrTXZk5wrxOZ3TB+TiQOGoyZH8hfSFqKJGl7Anpcz2srLL1aGIKJMioC4H1Zhl8csMGsg3HPg218TkMiZIohuRUSJ0FA9QFnk6NBor2td48Boq/Yn1bpfwi7eglG4BkNmV/q6I5980h0RKm3HvtFY25CddQ05LGuIF9yrIY31DdEsjogkCjvXeaAqVVMMTD9HaKoPTnXH4B+W7S1GuLdq8oiOAGOK+5uYasCsEbRa7izfK4NrVVGFBC2ljlh+S6jsb2qG+XPWpgusc8PQXI85d+LYuyJ77HURd1IaXrdIq6qtcAEm2w79KiDH/B0gn+/6S/l2E/GiQ83WOZad4UDpEw1cloASQdnDoXw9TPEKr80v8Spc41XI9ijXdmmyQchCou41Kb+Yq3gvC72dnl0Cz50IPOsORoALq3vCW1vAMPjsrZzMyw42PGAPWukRAmvszCtlUPnpgZVgM2qTTOcVs9nrkFkprOD5egHeHtCQI/BCplK/UV0PjE72xKeHESvsOtly2NWHFTQSK92FrUJiq7IIv2I3O5WNsoobHWjQtHmRYIVUSfOlsuF7a9XZlOyQidQJVtqHCFJmHCJMyfbFLWUZ6y2O+oVLkbHkiV+I6Te0+LJWp2RFJ4s/UttuizsfC2DarfMGzrfYBdJX2fNd9K1mByaatLHpSec7MntfSn/l1s8CdJqkaXRW8ZxHw5a1Ck7aPDsmgXixR7Fqyd4tHaAcdqkTwp1qD2wG+POYBGvvv8wqeM7oX24S6cQvW0XZJohMl8U7wfkZw1t+97jiE+0VHzE3TXM9957uIULfDbfuatQLSy486gK8DsPkZeiSaq15EcYJRK2TIG6m7nh6Ixx8HO7vgmPszZPD/d0kIiQewxTQiBZB44JE5HAft8cadM/GwfYk9F18NcB5AJS3D/epnA736cqZgZ7Dwfb4gowvoQ3bWpzzJJxOfUTdpUgyeXrbwLkzGkE0vb2q6Ds/GX5wlk0qCINfS121wJlp1Yx//uO/zKZp/L//i79P//mP/0Pf+/nPf/w3/D0zPpIo3GuZ0Gigfpj94S0Rq7y+IME5WcITl7gKO3iWFIzFPR+j8kGBK8uhEPd88bJU8OeZySjIyn3624ev01mYKa3ZbKZ8axVGtcnVASbqe2NqrrvhOCFJIwYcZ7Z9mL0jh5k8tRv2Dc1mmKU/JvQq8ZVmNWRgTeDhTRgG6U36nEQy5wkGHBGl1wdUKwmZzdGlQDokikBg4LzhlvLczWQ3of/1zauXTRosV5Fgk58dVemxtldqUn8GaoiSvUnAkPtCU3cPPmM3v0Qf+/OajpK2JVWj1KTtFXr5EIdgP7fbuBNqe8/YPmYptuzyDfDsMTEIoarhuB8WcVJrGj+ic7nLnuMGDnZjOk0qbtf5tlF2XTlSfPRv/pOxTK+ER455n8YC5fp12p6fnzze5H9EF86DA+rttmPBHwsrNOFDC+Kb7fw0Hzw5vd3GjcxYDYBCKR0a6FeAMizAwad0FzM8haFlG7onJXUGn2/KaJlFWiYwYuqJWSalphygQJL4WL6WhTYrFVx+gQsShskdyeIAuD1zltlnnsWF7yzs287uys1Asitzsyfpy1+Ri9NBl202btG3UlqtNvvatujXbg9Kuvg//dqHjz18vyb7OugDsIkvAmMv7zTxe2sAvyz2rk4LH/TwbXMd9sCGB7bZggcD9lbMNhTaWIPdYhCmjRuf6S9WSRfRB/hyMtOkDyzcHt0z6VN80Osgy1hTn2K08KPdyr4jsUE7A8cau9joLn3vZguotZGiZZ2d3TEzLcumM0tINcRfI7ad4lBzQOPfxiTMSrBTGYTeaED7DhhIbmT5i4GoIaVPMsNaVwt8XlONVaimJdfSWlvJ2frW/mdg4BZ4CY4V3p3diYMxH3jhI0yzh+rUzv5s6Gcok/7fjWNyBV1wzzg6eWekXsN302Sor4UxgJM99TxhEmAJhj0DF9a2Dc9Fhyg6z+YGc2BOur3BwO2P3bY16fRNZ9I3O11z4LTJwEz9DviN9A7Zq0DAc5hhRHEucbsXhEm1KblbexdOXD1kvk1T54hRnD3qs9F3bn9fo9O2j1nDrx36A1MftI7W/sf4ggav/oE+oVYWOq0CuO/MYyxE/1FnGAqNrw0O9Im+5kpWym3pD/ZJaYOqp6dmEy9Fx//zt0H+b3wIozJ9wcsB11GtRKyf2GEtZ0Bss9Mft/pt0x44ruU4Nmm3RuN+b2y18w77vypusnNzbg+oPdu91KBti5v0oHeGYqFm3f0SQn0Jof5EIZR78eztycdH4cdjq9t/a+62FheXJx2n/cPxzvTJq+lO96fOu5Puox9++tB+Zvrj3V/mP1+emN23T972d94+NncHPz6fnvzeDsZv+97o+N3u23D6+mR589L72HnyIvh5d3b08vXJYmlfH7cvCZnu/B7OX550Hz//6Xjn8tenz3avT14lJ6+Owp+OO7+dvDF3Pr4aX560Lt78/LY9NT9eDqzjd1cnN8+uXnzcsX8A+v7sWeuk88i+eNt69fj1b7s/vriendwc/RJ9NH/ujOLBInzUO7n58OtfP3Z//nnxbnD58ub45Jejo7dv2+3nOy92oufB8Yn3IXx+PAhfdsc75MnO8Yn/83/sfuz1n755sjueXrROug45+biz6LbGux9f9CYnwfTH6cee98x7t+uenEQn/pvp4rj3orOId/6oEO+TQkE7DQUt7sLSmLC7MiZ8UBxXGhXaRWr2iggTXeE10amtx7U/YzzZgKmg22+3BoNWt9vq9Xv9thBfaorWhZsQuLUAp2VBaGjZplUIPzU0v0SjX6LRsmjUlmuxP0Ml9peQ9zN50H1C+n3LtSzbctuTgeOMJ65t2+3WpDvqWSDof0cP+l8XZT7EM//3DjghaOv02h3TbLcxcDMHMLp3cTg1m702DKmdgZFHeBji9Qdtq9dvGQjRgfIu/MPP7U7L7lj9NoR+2b3vSL3fMnuDVp/CWN2u2TYHFBfmELPd7yrUu2273++3GXXgpNMaUL66Vht+AFqh3m71W70ejvAg9zbMVlaP4vbMfhdmL4U6UIQqLQph92zM7HQoZqfVH9hGgbpttu1Wr0U5aPU6A7PH2t3utM32wG4pkjHt/qDHqHdBqGaLUe/DvNPtmB2VejrTMsm0e2aX8W51BxaIzFYl04aJi0nD6vd7A8uiMjVB8N0ezKYKdWhq2+pwbgYwXfcYbs8EzkB/MvWe1W21+ybl1wRmoYV9qgMwBhskVqDegfnXGjAO+p1eq9VluMB6u9NRqbdgRLEH3AZaAxAUpQ4z5KDdKvJudkGvnQ61QpijuwO7TTXcbrd6UKki91bftkE5zE56HTBPZj8tG6xXYzOg9zYYbY9SHPTttsmlZEM9YD8y9UG3PejZXWZV7X7HajO+uBfULlpkz7LbDN7udAbQXtruLnSybkuVTLtr9qFOykura3aAHWZhXVBTx7bPPiWT8snRNLsx5plLr6vMA8DBBIy133P6E9uF/uqM3EF/4A4IWFi713Vc6t5vnFSVgNcldETgtXPX2ZAH/eE4gjhfG/ankTnKigNxcCUW325m4jzH4u0MdRI50xnLOiibTY7516ccoljdkR/SDVopDWkbQwrUHCMU5Ze+BAeo6M6JZ9pSzomz19zSQrEm+Mo3wzy+eQaVpdj4voche0FyuIjG5JjekFIilK/Rm9g2dgwFnd81FBHwPsbkVy+5qGbUmhMvitO6aUsBIS/N8xp3mZgkQpLs1qUx/j+iz8ol</script> <treescope-run-here><script type=\"application/octet-stream\"> const root = ( Array.from(document.getElementsByClassName( \"treescope_out_f363e0b7ec5a4414859d8b4ec17528b3\")) .filter((elt) => !elt.dataset['step1']) )[0]; root.dataset['step1'] = 1; root.defns.insertContent( this.parentNode.querySelector('script[type=\"application/octet-stream\"]'), true ); this.parentNode.remove(); </script></treescope-run-here> </div>"
      ],
      "text/plain": [
       "<IPython.core.display.HTML object>"
      ]
     },
     "metadata": {},
     "output_type": "display_data"
    }
   ],
   "source": [
    "def create_weights(seed: jax.Array):\n",
    "  return Weights(\n",
    "    kernel=random.uniform(random.key(seed), (2, 3)),\n",
    "    bias=jnp.zeros((3,)),\n",
    "  )\n",
    "\n",
    "seeds = jnp.arange(10)\n",
    "weights = nnx.vmap(create_weights)(seeds)\n",
    "nnx.display(weights)"
   ]
  },
  {
   "cell_type": "markdown",
   "id": "fac3dca9",
   "metadata": {},
   "source": [
    "## Transforming methods\n",
    "\n",
    "Methods in Python are just functions that take the instance as the first argument, this means that you can decorate methods from `Module` and other Flax NNX subtypes. For example, we can refactor `Weights` from the previous example and decorate `__init__` with `vmap` to do the work of `create_weights`, and add a `__call__` method and decorate it with `@nnx.vmap` to do the work of `vector_dot`:"
   ]
  },
  {
   "cell_type": "code",
   "execution_count": 4,
   "id": "5d9a55fd",
   "metadata": {},
   "outputs": [
    {
     "name": "stdout",
     "output_type": "stream",
     "text": [
      "y.shape = (3, 10)\n"
     ]
    },
    {
     "data": {
      "text/html": [
       "<script> (()=>{ if (customElements.get('treescope-container') === undefined) { class TreescopeContainer extends HTMLElement { constructor() { super(); this.attachShadow({mode: \"open\"}); this.defns = {}; this.state = {}; } } customElements.define(\"treescope-container\", TreescopeContainer); } if (customElements.get('treescope-run-here') === undefined) { class RunHere extends HTMLElement { constructor() { super() } connectedCallback() { const run = child => { const fn = new Function(child.textContent); child.textContent = \"\"; fn.call(this); this.remove(); }; const child = this.querySelector(\"script\"); if (child) { run(child); } else { new MutationObserver(()=>{ run(this.querySelector(\"script\")); }).observe(this, {childList: true}); } } } customElements.define(\"treescope-run-here\", RunHere); } })(); </script> <treescope-container class=\"treescope_out_362c30fcd4044ff58ad2a85de155bcdd\" ></treescope-container> <treescope-run-here><script type=\"application/octet-stream\"> const root = ( Array.from(document.getElementsByClassName( \"treescope_out_362c30fcd4044ff58ad2a85de155bcdd\")) .filter((elt) => !elt.dataset.setup) )[0]; root.dataset.setup = 1; const msg = document.createElement(\"span\"); msg.style = \"color: #cccccc; font-family: monospace;\"; msg.textContent = \"(Loading...)\"; root.state.loadingMsg = msg; root.shadowRoot.appendChild(msg); root.state.chain = new Promise((resolve, reject) => { const observer = new IntersectionObserver((entries) => { for (const entry of entries) { if (entry.isIntersecting) { resolve(); observer.disconnect(); return; } } }, {rootMargin: \"1000px\"}); window.setTimeout(() => { observer.observe(root); }, 0); }); root.state.deferring = false; const _insertNode = (node) => { for (let oldScript of node.querySelectorAll(\"script\")) { let newScript = document.createElement(\"script\"); newScript.type = oldScript.type; newScript.textContent = oldScript.textContent; oldScript.parentNode.replaceChild(newScript, oldScript); } if (root.state.loadingMsg) { root.state.loadingMsg.remove(); root.state.loadingMsg = null; } root.shadowRoot.appendChild(node); }; root.defns.insertContent = ((contentNode, compressed) => { if (compressed) { root.state.deferring = true; } if (root.state.deferring) { root.state.chain = (async () => { await root.state.chain; if (compressed) { const encoded = contentNode.textContent; const blob = new Blob([ Uint8Array.from(atob(encoded), (m) => m.codePointAt(0)) ]); const reader = blob.stream().pipeThrough( new DecompressionStream(\"deflate\") ).pipeThrough( new TextDecoderStream(\"utf-8\") ).getReader(); const parts = []; while (true) { const step = await reader.read(); if (step.done) { break; } parts.push(step.value); } const tpl = document.createElement('template'); tpl.innerHTML = parts.join(\"\"); _insertNode(tpl.content); } else { _insertNode(contentNode.content); } })(); } else { _insertNode(contentNode.content); } }); </script></treescope-run-here><div style=\"display:none\"> <script type=\"application/octet-stream\" >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</script> <treescope-run-here><script type=\"application/octet-stream\"> const root = ( Array.from(document.getElementsByClassName( \"treescope_out_362c30fcd4044ff58ad2a85de155bcdd\")) .filter((elt) => !elt.dataset['step0']) )[0]; root.dataset['step0'] = 1; root.defns.insertContent( this.parentNode.querySelector('script[type=\"application/octet-stream\"]'), true ); this.parentNode.remove(); </script></treescope-run-here> </div>"
      ],
      "text/plain": [
       "<IPython.core.display.HTML object>"
      ]
     },
     "metadata": {},
     "output_type": "display_data"
    },
    {
     "data": {
      "text/html": [
       "<div style=\"display:none\"> <script type=\"application/octet-stream\" >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</script> <treescope-run-here><script type=\"application/octet-stream\"> const root = ( Array.from(document.getElementsByClassName( \"treescope_out_362c30fcd4044ff58ad2a85de155bcdd\")) .filter((elt) => !elt.dataset['step1']) )[0]; root.dataset['step1'] = 1; root.defns.insertContent( this.parentNode.querySelector('script[type=\"application/octet-stream\"]'), true ); this.parentNode.remove(); </script></treescope-run-here> </div>"
      ],
      "text/plain": [
       "<IPython.core.display.HTML object>"
      ]
     },
     "metadata": {},
     "output_type": "display_data"
    }
   ],
   "source": [
    "class WeightStack(nnx.Module):\n",
    "  @nnx.vmap\n",
    "  def __init__(self, seed: jax.Array):\n",
    "    self.kernel = nnx.Param(random.uniform(random.key(seed), (2, 3)))\n",
    "    self.bias = nnx.Param(jnp.zeros((3,)))\n",
    "\n",
    "  @nnx.vmap(in_axes=0, out_axes=1)\n",
    "  def __call__(self, x: jax.Array):\n",
    "    assert self.kernel.ndim == 2, 'Batch dimensions not allowed'\n",
    "    assert x.ndim == 1, 'Batch dimensions not allowed'\n",
    "    return x @ self.kernel + self.bias\n",
    "\n",
    "weights = WeightStack(jnp.arange(10))\n",
    "\n",
    "x = jax.random.normal(random.key(1), (10, 2))\n",
    "y = weights(x)\n",
    "\n",
    "print(f'{y.shape = }')\n",
    "nnx.display(weights)"
   ]
  },
  {
   "cell_type": "markdown",
   "id": "13b52d61",
   "metadata": {},
   "source": [
    "The rest of the guide will focus on transforming individual functions. But do note that all examples can be written in this method style."
   ]
  },
  {
   "cell_type": "markdown",
   "id": "0251e7db",
   "metadata": {},
   "source": [
    "## State propagation\n",
    "\n",
    "So far our functions have been stateless. However, the real power of Flax NNX transforms comes when you have stateful functions, because one of their main features is to propagate state changes to preserve reference semantics. Let's update the previous example by adding\n",
    "a `count` attribute to `Weights` and incrementing it in the new `stateful_vector_dot` function:"
   ]
  },
  {
   "cell_type": "code",
   "execution_count": 5,
   "id": "a4fbadb3",
   "metadata": {},
   "outputs": [
    {
     "data": {
      "text/plain": [
       "Count(\n",
       "  value=Array([ 1,  2,  3,  4,  5,  6,  7,  8,  9, 10], dtype=int32)\n",
       ")"
      ]
     },
     "execution_count": 5,
     "metadata": {},
     "output_type": "execute_result"
    }
   ],
   "source": [
    "class Count(nnx.Variable): pass\n",
    "\n",
    "class Weights(nnx.Module):\n",
    "  def __init__(self, kernel: jax.Array, bias: jax.Array, count: jax.Array):\n",
    "    self.kernel, self.bias = nnx.Param(kernel), nnx.Param(bias)\n",
    "    self.count = Count(count)\n",
    "\n",
    "weights = Weights(\n",
    "  kernel=random.uniform(random.key(0), (10, 2, 3)),\n",
    "  bias=jnp.zeros((10, 3)),\n",
    "  count=jnp.arange(10),\n",
    ")\n",
    "x = jax.random.normal(random.key(1), (10, 2))\n",
    "\n",
    "def stateful_vector_dot(weights: Weights, x: jax.Array):\n",
    "  assert weights.kernel.ndim == 2, 'Batch dimensions not allowed'\n",
    "  assert x.ndim == 1, 'Batch dimensions not allowed'\n",
    "  weights.count += 1\n",
    "  return x @ weights.kernel + weights.bias\n",
    "\n",
    "\n",
    "y = nnx.vmap(stateful_vector_dot, in_axes=0, out_axes=1)(weights, x)\n",
    "\n",
    "weights.count"
   ]
  },
  {
   "cell_type": "markdown",
   "id": "322312ee",
   "metadata": {},
   "source": [
    "After running `stateful_vector_dot` once, you verified that the `count` attribute was correctly updated. Because `Weights` was vectorized, `count` was initialized as an `arange(10)`, and all of its elements were incremented by `1` inside the transformation. The most important part is that updates were propagated to the original `Weights` object outside the transformation. Nice!"
   ]
  },
  {
   "cell_type": "markdown",
   "id": "7294661f",
   "metadata": {},
   "source": [
    "### Graph updates propagation\n",
    "\n",
    "JAX transforms see inputs as pytrees of `jax.Array`s, and Flax NNX sees inputs as  pytrees of `jax.Array`s and Python references, where references form a graph. Flax NNX's state propagation machinery can track arbitrary updates to the objects as long as they're local to the inputs (updates to globals inside transforms are not supported).\n",
    "\n",
    "This means that you can modify graph structure as needed, including updating existing attributes, adding/deleting attributes, swapping attributes, sharing (new) references between objects, sharing `nnx.Variable`s between objects, etc. Sky is the limit!\n",
    "\n",
    "The following example demonstrates performing some arbitrary updates to the `Weights` object inside `nnx.vmap`, and verifying that the updates are correctly propagated to the original `Weights` object outside the transformation:"
   ]
  },
  {
   "cell_type": "code",
   "execution_count": 6,
   "id": "76c58a29",
   "metadata": {},
   "outputs": [
    {
     "data": {
      "text/html": [
       "<script> (()=>{ if (customElements.get('treescope-container') === undefined) { class TreescopeContainer extends HTMLElement { constructor() { super(); this.attachShadow({mode: \"open\"}); this.defns = {}; this.state = {}; } } customElements.define(\"treescope-container\", TreescopeContainer); } if (customElements.get('treescope-run-here') === undefined) { class RunHere extends HTMLElement { constructor() { super() } connectedCallback() { const run = child => { const fn = new Function(child.textContent); child.textContent = \"\"; fn.call(this); this.remove(); }; const child = this.querySelector(\"script\"); if (child) { run(child); } else { new MutationObserver(()=>{ run(this.querySelector(\"script\")); }).observe(this, {childList: true}); } } } customElements.define(\"treescope-run-here\", RunHere); } })(); </script> <treescope-container class=\"treescope_out_e81720e5bdaf47108dfdb0bb403f8f2a\" ></treescope-container> <treescope-run-here><script type=\"application/octet-stream\"> const root = ( Array.from(document.getElementsByClassName( \"treescope_out_e81720e5bdaf47108dfdb0bb403f8f2a\")) .filter((elt) => !elt.dataset.setup) )[0]; root.dataset.setup = 1; const msg = document.createElement(\"span\"); msg.style = \"color: #cccccc; font-family: monospace;\"; msg.textContent = \"(Loading...)\"; root.state.loadingMsg = msg; root.shadowRoot.appendChild(msg); root.state.chain = new Promise((resolve, reject) => { const observer = new IntersectionObserver((entries) => { for (const entry of entries) { if (entry.isIntersecting) { resolve(); observer.disconnect(); return; } } }, {rootMargin: \"1000px\"}); window.setTimeout(() => { observer.observe(root); }, 0); }); root.state.deferring = false; const _insertNode = (node) => { for (let oldScript of node.querySelectorAll(\"script\")) { let newScript = document.createElement(\"script\"); newScript.type = oldScript.type; newScript.textContent = oldScript.textContent; oldScript.parentNode.replaceChild(newScript, oldScript); } if (root.state.loadingMsg) { root.state.loadingMsg.remove(); root.state.loadingMsg = null; } root.shadowRoot.appendChild(node); }; root.defns.insertContent = ((contentNode, compressed) => { if (compressed) { root.state.deferring = true; } if (root.state.deferring) { root.state.chain = (async () => { await root.state.chain; if (compressed) { const encoded = contentNode.textContent; const blob = new Blob([ Uint8Array.from(atob(encoded), (m) => m.codePointAt(0)) ]); const reader = blob.stream().pipeThrough( new DecompressionStream(\"deflate\") ).pipeThrough( new TextDecoderStream(\"utf-8\") ).getReader(); const parts = []; while (true) { const step = await reader.read(); if (step.done) { break; } parts.push(step.value); } const tpl = document.createElement('template'); tpl.innerHTML = parts.join(\"\"); _insertNode(tpl.content); } else { _insertNode(contentNode.content); } })(); } else { _insertNode(contentNode.content); } }); </script></treescope-run-here><div style=\"display:none\"> <script type=\"application/octet-stream\" >eNrtG4tT2sj7X9mmMyecEpNAeFmdX0BebbVVbG171+E2yeYhIYnJAuKN//vv2yQ8ApHaq23Pm+KMwObb7/3cHV6EdOaQI54GhISa55NB4HkU/Y18L7Sp7bl1FBAHU3tCDpDhubRg4JHtzOpo5Lle6GMN1qeWTUkh+lJHfgArjh3SQoS6QGc+rLqeC8sq1oZm4I1dvaB5jhfU460HKPmmOgAA+GydWnVk2BTAXEpceoB8rOu2axYcYtA6kjSLEXFJwSK2acGKyMsMjUuxDTwvtiUfChM7tFXbsSlwjsfUW8AWbJcGthvaWiG0b0n8NGH37sV+rJ4XC/UUgrELNANYC7XA9ili8h3uYN93bA0zje17GiVM+oDg0c5RLpc/PAKFAr2QIp0YbogOEbXskDcJPQdtn3o6yeV5ywspHz0H0QhFA5+4TGRFY1jZpj8+Zz3pYld3CDx2x45zEFPggc2+57mwmpt6wTCPVnnwLmGJPUotU1tjiz4JDC8YYVcjvOtNc/nIvkAgt/EEFeJNL1BRygMe20C5Na55h7gmtdDhIRIYyFbWA0LHgQt6R8QJyZIxa+wyztZRh5ZtUMZfBMA+3MHfPRRy4FWu7k35gFyPSUgV1x5F5moHeERysU7yDMfBBiF/HFqxGg8yZJyTOIzF2CLlw3lgXMSGpJ5pOnFUDqLIAW/1GS62Qhy6h8gEHDyxJOMu+s4PyYwpnQs4xlACzGsODsPXEJwJ3hy3wDkYgRtyc+J3edAnuH/k40cv9rMCQLcnKEJ4yKXTB4coVkFScnPICRzyXGAGxHYBbpvbZ8uaY3vmUnIQdnHCUj1KvRFLAXXXozne8Bwdq7DbBbR1C4e5IwerxDlKPxnENKI9dc0i2pDo+Tz6nSlpnmKo59eRwIsyGW0mGbZ2W4iEg+8HmXnyjo/y2UDzRiPgOnLkKL89x9GL6XgNBMccWd6EBPkM+AQcFAl+qK9gFOBlGEsIdzxSSbAKUKuKcnkJELJ0Z67yVBRlUV4AEH3AZF4CJEl5M3dPcJArFFTH04bxEjiPCtyRIFah6N+g0HNsfRtkbMcvAd8xDyEBY84HdogFNk1JiSvsLylRkYvUkU0x5GS2OeUC9xQ3MEmWpwC0bodAdDYvYuuA6AhFnlavqwTy44rmnmvRK9tJ4kJWEFklSwqecLCkZbuR50Vq2EIzcphNyjoOhiHBJoSlu7n7kSJmwQPbmr1pDp/iMKrIdbTzpySr2s7PZC+96V4myz+ASWZHRngchMyAvgd9CQky6Nrh45GNQiEiVIjya3ifjz8O1aV4lNzQTSq8HQ4MOwjpwHPjJLQZWttCiZdkFk2ZpkLfzH5s8XUWmVQjHJjQScZsRAF9943UIBX7M3UMqdHNTEDLx1lOyyFuDQoUCe15NvCfRCzp3Fp3v3OCwSts7KD+bKR6TojejCmTV0fNeCe8+zMIjMKUqEPo1OPMO4LabUF9gT7apbDdxiHRF/39cyKwv4NNN493Rw24wNdYkU1LGcdHhhTZ6W65k5/icKBBHQDFLvZjg6aqxzxPb6O5tidNclX1SQHTMcUF7IJhoxYvv7rMiLC+NcDu3JsjtEgMEQGNQX9R8Mb060RZcACGsYn+LM1JRBI9s0e+F1DsbuBWA29I3AFbWSajL2t3ZduKPudmvuMtzRpEg+GARcdKkxUHi8DHEbsCF7BWawUwiFuvBSRrvUBUfaDBVKIHxE2ET899wGUa8NG6xEUwJqU5FfwadrQcDKcwGUFDEzXTfEgx27/g97txknRUMSc69FXgJqytWjHH9Rg7LswaA5jSDfsGkKQCrxoFHgxWmHVaUxy4YIHBvFTMrWsYWBOLGYA+TCYbhovyYaKkZKmQGHPZUtajPhsHBTPAug1my4lFWSfmHvIgRkyCBOCurFl7ccz4QBYyULSEEi1vsLKRqh9N8SmTFxaeuW7o+xxzHW7Rd8cGhNBOg/xw1xX4kmblH8Lrj/HleC6IuMqcDlKDWyQH2MSx0O8oJ4I4q1sSvCFAkTwbtRMdLLcWHr53Tnc+w0Q7Fyjnq4Vk+QdqczmFRRossKAah4mAIhmBdPcLltFAfXX78iUX/zs1KMb2ZanqAYPiduA7HjB+l1OBpZG/5WBgakXV0nGwD43Rl4fLr1f9/RTikTKiEQGRG+gg9HthHoOPLBKJoDHA8kgrSxXpYyU+fVaFtmBYF9VNnZ5lAz6E2L14HvHAmJ3hoWdKEOAZbwTeKKd72pgdEvGsVof8BDtjEubyeT70RiQXVXB2+sfe+bh/Zyd/D+zguR2UR/nFWWtoEULZgSyZoma/32fS9NkaO16NHvIBiY5g+jNXy/31v2Rq0Mi8l/j6CWL1zMZlB8xOsjZNoqskQPMSBlodjQMnx9rZOnu+P/UMQzpQoWEul/Z0odY5MZWGEr16Z4riRZ8a51P4320rSkvZ9mqMFMUceq/0XqvRnH5UlIuPzZfKSa/RVNrmTa/72qJh48QmZrF9/EF63St/nPT9sf32RL4QX37onb8/mVye3NK3s3a7uXtpDi/sxrFg2cdn45ctvXMldNV9Y9LT/etXZev60rbPxidux+oa76jyrtw4DUpKu+cOW2Xt3Xjs7p7L11o4nE6MtrN/fWO2vKqpvpx2qmJX2XeVc/l1ELwUz3fNW+FcF5SXhmieVprTzpVkCt5sfF6pjFpiedr9UHtjmj65GM5KpKfeypoavOlQrJhnvdPpMQ5n4dm41/tw2WpPlbdnfu+j/m5/f9esXFQ+FKlgvHp7rUxkwPlaOa0oJ1NlZN6e93fHn/qk9eFGMsra7WnpvDuTxw3l1W3jym/7Rbt71mwJn8ZvS/2KazRet7rtk5Fi71YnLclyRauyq76ffriadoPJcedd070yWi2T7r7RPjlORa41X04bVatWOjnp9IudT4o56slXjbMaveiQbq3VaPQ6xWOzdL7/UZupSgds+v7VvnLWwQo5aTpK97b1xvxEzXLjrfnmTe+4MbTPZNJufGg22pot+Fbg+S74hv+pdSzeisO+0TSoNXvldnXcDruGcDrqtE7LDV25fv/exzTsfxrpOrZrknFbK72zr67L/igov/E+Nvt20BlNXnaK/ct+sd2StMaZcbHbdTy/U2qHUxmb1+Wq/Yn0Tx3/0m10e0Q/Ccj48rrTHImX7WDY79/IUvnyMpwqwFEeRZcrNLcTufUOK2Z/wb9F9GPd86GlX4ZkdCXE8/wWiL04Zj8Dru1H71Z0RxHNcfGICbjBPVwN5eJJL32DBCF44bHwBbBkEmRrIaQHhoKNtmwexFNsU+TiiW1i6gU8YPZVDwc6Pw1sSi7IDc0tcbFaH+NaXlNA8c1xK3Mvu6AAKhf2iMCAnJvfYG3sC8gIhtiNrXd7SBIEIepxIPlCP5mLTnCy6a4Mt9ySOXZ2Nc9g7E6HQ89RG9sOJDbqIQb8LMps0Ae6MG5BNrZBZwTrbDbfXdVdctnyhWsWNuejKD0ecql2p468oaNZ0OxWqjLrS4QiEisVXqpViuWiVBUlGe1DawLiZnV67LyZS9An1zjpM+b1+QmA4wbghe3646SQcVHJV70bLhNJ0h3Aw7gzABmjzWm6qYuHpIFD6aODNU7TpZ87+s2hTI8AsR0u9XBtGoanCYb47TIqP2FusZpIv4piY+ZLN7rcFugNUA3YpIf3G+Rb9J+t9x+hxSaTKpelvJ3lOdIO8twmC9PDna/MU9H1YH4HLQ65Djk+UiS3jJnFM+hK4ofs3HL9hA4eRlEJWd+Cz4mUa9KkJN84iuK2PeeOos7t8AGatfVDbnHhZciSbKiVUlUVSiWZ1KoVTdTVckkoVkmFEGONaNZFGXd0hW/4qKWEZESLUk4U9vJrkt1n91TPm8mhoFc0qSqIqixXS6KE1ZpYLldlsVQslVRZNbZlmcdx6qzQzFYEc/EsZfxmLl3/YXqZzzbc0d4DYB4cT983KuLpYWtsxCCPEyGpS27uCEGpfG+HkDDs2wgjsmwdYgTsgJZjFZu3/pFT/kcUuOUtvz19b/jw3ib84mgAzPGVfvskE/b9jrS9Gg9J4BInla13Ng+ZdzIxP8mybTiQFl33BtwXxnbgJOTTynuLAzz6sZU8NsJ9nhE/fUq1vCLgsiTplXKRlEvEKFUr8F1V9aJY0eWqpH5lLTccDycFDEl7qPh4Jb0qlsWqKhdJrVKFMq5hXCaGoVclXCSlUk3695b0DZ389yt7HAfbK9MqzK/a/hNV+K+t7lzWtS+geY7OiU8wu032Z9QCw3rqFcIUCTdiGatYJiUhg9QTrQn/tF1wyXTgswL5q2P4qR3Dwg73OcgC4Cn1DcSQjSphA79QK4lqUTUMgktElyqkpBcr+r+mbzBkrYjVqlSrSkKpWCFYVgUD60IJmh61JBV/9Q3/or5hEQrb694a2K/u4acr8lcP8QSqxD/tJNitPpRYzycBnX3v64A/fmhxTol2n+pTQD+nSGdkqvhnMxBBz2+kygGO357WKVtKsX8Inx9kAID7HiHwAI3Hv2TijqSnrGXxgVoWf5aWk1+UcUdt7ITkO7Q2P0jR0gMVLX1+3LL7+cmq7Dvn3/0HdYDzS//lzznR2k8BuK9uaR7epi8gdXty9H/rWivv</script> <treescope-run-here><script type=\"application/octet-stream\"> const root = ( Array.from(document.getElementsByClassName( \"treescope_out_e81720e5bdaf47108dfdb0bb403f8f2a\")) .filter((elt) => !elt.dataset['step0']) )[0]; root.dataset['step0'] = 1; root.defns.insertContent( this.parentNode.querySelector('script[type=\"application/octet-stream\"]'), true ); this.parentNode.remove(); </script></treescope-run-here> </div>"
      ],
      "text/plain": [
       "<IPython.core.display.HTML object>"
      ]
     },
     "metadata": {},
     "output_type": "display_data"
    },
    {
     "data": {
      "text/html": [
       "<div style=\"display:none\"> <script type=\"application/octet-stream\" >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</script> <treescope-run-here><script type=\"application/octet-stream\"> const root = ( Array.from(document.getElementsByClassName( \"treescope_out_e81720e5bdaf47108dfdb0bb403f8f2a\")) .filter((elt) => !elt.dataset['step1']) )[0]; root.dataset['step1'] = 1; root.defns.insertContent( this.parentNode.querySelector('script[type=\"application/octet-stream\"]'), true ); this.parentNode.remove(); </script></treescope-run-here> </div>"
      ],
      "text/plain": [
       "<IPython.core.display.HTML object>"
      ]
     },
     "metadata": {},
     "output_type": "display_data"
    }
   ],
   "source": [
    "class Count(nnx.Variable): pass\n",
    "\n",
    "class Weights(nnx.Module):\n",
    "  def __init__(self, kernel: jax.Array, bias: jax.Array, count: jax.Array):\n",
    "    self.kernel, self.bias = nnx.Param(kernel), nnx.Param(bias)\n",
    "    self.count = Count(count)\n",
    "\n",
    "weights = Weights(\n",
    "  kernel=random.uniform(random.key(0), (10, 2, 3)),\n",
    "  bias=jnp.zeros((10, 3)),\n",
    "  count=jnp.arange(10),\n",
    ")\n",
    "x = jax.random.normal(random.key(1), (10, 2))\n",
    "\n",
    "def crazy_vector_dot(weights: Weights, x: jax.Array):\n",
    "  assert weights.kernel.ndim == 2, 'Batch dimensions not allowed'\n",
    "  assert x.ndim == 1, 'Batch dimensions not allowed'\n",
    "  weights.count += 1\n",
    "  y = x @ weights.kernel + weights.bias\n",
    "  weights.some_property = ['a', 2, False] # add attribute\n",
    "  del weights.bias # delete attribute\n",
    "  weights.new_param = weights.kernel # share reference\n",
    "  return y\n",
    "\n",
    "y = nnx.vmap(crazy_vector_dot, in_axes=0, out_axes=1)(weights, x)\n",
    "\n",
    "nnx.display(weights)"
   ]
  },
  {
   "cell_type": "markdown",
   "id": "743bcc34",
   "metadata": {},
   "source": [
    "> With great power comes great responsibility.\n",
    "> <br> \\- Uncle Ben\n",
    "\n",
    "While this feature is very powerful, it must be used with care because it can clash with JAX's underlying assumptions for certain transforms. For example, `jit` expects the structure of the inputs to be stable in order to cache the compiled function, so changing the graph structure inside an `nnx.jit`-ed function causes continuous recompilations and performance degradation. On the other hand, `scan` only allows a fixed `carry` structure, so adding/removing sub-states declared as carry will cause an error."
   ]
  },
  {
   "cell_type": "markdown",
   "id": "0d11d191",
   "metadata": {},
   "source": [
    "## Transforming sub-states (lift types)\n",
    "\n",
    "Certain JAX transforms allow the use of pytree prefixes to specify how different parts of the inputs/outputs should be transformed. Flax NNX supports pytree prefixes for pytree structures but currently it doesn't have the notion of a prefix for graph objects. Instead, Flax NNX introduces the concept of “lift types” which allow specifying how different sub-states of an object should be transformed. Different transforms support different lift types, here is the list of currently supported FLax NNX lift types for each JAX transformation:\n",
    "\n",
    "| Lift type        | JAX transforms                          |\n",
    "|------------------|-----------------------------------------|\n",
    "| `StateAxes`      | `vmap`, `pmap`, `scan`                  |\n",
    "| `StateSharding`  | `jit`, `shard_map`*                     |\n",
    "| `DiffState`      | `grad`, `value_and_grad`, `custom_vjp`  |\n",
    "\n",
    "> **Note:** * Flax NNX `shard_map` has not been implemented yet at the time of writing this version of the document.\n",
    "\n",
    "To specify how to vectorize different sub-states of an object in `nnx.vmap`, the Flax team created a `nnx.StateAxes`. `StateAxes` maps a set of sub-states via Flax NNX [Filters](https://flax.readthedocs.io/en/latest/guides/filters_guide.html) to their corresponding axes, and you can pass the `nnx.StateAxes` to `in_axes` and `out_axes` as if it/they were a pytree prefix.\n",
    "\n",
    "Let's use the previous `stateful_vector_dot` example and vectorize only the `nnx.Param` variables and broadcast the `count` variable so we only keep a single count for all the batch elements.\n",
    "To do this we will define a `nnx.StateAxes` with a filter that matches the `nnx.Param` variables and maps them to axis `0`, and all the `Count` variables to `None`, and pass this `nnx.StateAxes` to `in_axes` for the `Weights` object."
   ]
  },
  {
   "cell_type": "code",
   "execution_count": 7,
   "id": "d10aee8a",
   "metadata": {},
   "outputs": [
    {
     "data": {
      "text/plain": [
       "Count(\n",
       "  value=Array(1, dtype=int32, weak_type=True)\n",
       ")"
      ]
     },
     "execution_count": 7,
     "metadata": {},
     "output_type": "execute_result"
    }
   ],
   "source": [
    "class Weights(nnx.Module):\n",
    "  def __init__(self, kernel: jax.Array, bias: jax.Array, count: jax.Array):\n",
    "    self.kernel, self.bias = nnx.Param(kernel), nnx.Param(bias)\n",
    "    self.count = Count(count)\n",
    "\n",
    "weights = Weights(\n",
    "  kernel=random.uniform(random.key(0), (10, 2, 3)),\n",
    "  bias=jnp.zeros((10, 3)),\n",
    "  count=jnp.array(0),\n",
    ")\n",
    "x = jax.random.normal(random.key(1), (10, 2))\n",
    "\n",
    "\n",
    "def stateful_vector_dot(weights: Weights, x: jax.Array):\n",
    "  assert weights.kernel.ndim == 2, 'Batch dimensions not allowed'\n",
    "  assert x.ndim == 1, 'Batch dimensions not allowed'\n",
    "  weights.count += 1\n",
    "  return x @ weights.kernel + weights.bias\n",
    "\n",
    "state_axes = nnx.StateAxes({nnx.Param: 0, Count: None}) # broadcast Count\n",
    "y = nnx.vmap(stateful_vector_dot, in_axes=(state_axes, 0), out_axes=1)(weights, x)\n",
    "\n",
    "weights.count"
   ]
  },
  {
   "cell_type": "markdown",
   "id": "1cfd87e1",
   "metadata": {},
   "source": [
    "Here, `count` is now a scalar since it's not being vectorized. Also, note that `nnx.StateAxes` can only be used directly on Flax NNX objects, and it cannot be used as a prefix for a pytree of objects."
   ]
  },
  {
   "cell_type": "markdown",
   "id": "1c8bb104",
   "metadata": {},
   "source": [
    "### Random state\n",
    "\n",
    "In Flax NNX, a random state is just a regular state. This means that it is stored inside `nnx.Module`s that need it, and it is treated as any other type of state. This is a simplification over Flax Linen, where a random state was handled by a separate mechanism. In practice `nnx.Module`s simply need to keep a reference to a `Rngs` object that is passed to them during initialization, and use it to generate a unique key for each random operation. For the purposes of this guide, this means that random state can be transformed like any other type of state but we also need be aware of how the state is laid out so we can transform it correctly.\n",
    "\n",
    "Suppose you want to change things up a bit and apply the same weights to all elements in the batch. But you also want to add different random noise to each element.\n",
    "\n",
    "To do this, you will add an `Rngs` attribute to `Weights`, created from a `seed` key argument passed during construction. This seed key must be `split` beforehand, so that you can vectorize it successfully. For pedagogical reasons, you will assign the seed key to a `noise` “stream” and sample from it. To vectorize the PRNG state, you must configure `nnx.StateAxes` to map all `RngState`s (a base class for all variables in `Rngs`) to axis `0`, and `nnx.Param` and `Count` to `None`."
   ]
  },
  {
   "cell_type": "code",
   "execution_count": 8,
   "id": "33c284b6",
   "metadata": {},
   "outputs": [
    {
     "name": "stdout",
     "output_type": "stream",
     "text": [
      "False\n"
     ]
    },
    {
     "data": {
      "text/html": [
       "<script> (()=>{ if (customElements.get('treescope-container') === undefined) { class TreescopeContainer extends HTMLElement { constructor() { super(); this.attachShadow({mode: \"open\"}); this.defns = {}; this.state = {}; } } customElements.define(\"treescope-container\", TreescopeContainer); } if (customElements.get('treescope-run-here') === undefined) { class RunHere extends HTMLElement { constructor() { super() } connectedCallback() { const run = child => { const fn = new Function(child.textContent); child.textContent = \"\"; fn.call(this); this.remove(); }; const child = this.querySelector(\"script\"); if (child) { run(child); } else { new MutationObserver(()=>{ run(this.querySelector(\"script\")); }).observe(this, {childList: true}); } } } customElements.define(\"treescope-run-here\", RunHere); } })(); </script> <treescope-container class=\"treescope_out_209ca61229ac494cb6355e96f53b069a\" ></treescope-container> <treescope-run-here><script type=\"application/octet-stream\"> const root = ( Array.from(document.getElementsByClassName( \"treescope_out_209ca61229ac494cb6355e96f53b069a\")) .filter((elt) => !elt.dataset.setup) )[0]; root.dataset.setup = 1; const msg = document.createElement(\"span\"); msg.style = \"color: #cccccc; font-family: monospace;\"; msg.textContent = \"(Loading...)\"; root.state.loadingMsg = msg; root.shadowRoot.appendChild(msg); root.state.chain = new Promise((resolve, reject) => { const observer = new IntersectionObserver((entries) => { for (const entry of entries) { if (entry.isIntersecting) { resolve(); observer.disconnect(); return; } } }, {rootMargin: \"1000px\"}); window.setTimeout(() => { observer.observe(root); }, 0); }); root.state.deferring = false; const _insertNode = (node) => { for (let oldScript of node.querySelectorAll(\"script\")) { let newScript = document.createElement(\"script\"); newScript.type = oldScript.type; newScript.textContent = oldScript.textContent; oldScript.parentNode.replaceChild(newScript, oldScript); } if (root.state.loadingMsg) { root.state.loadingMsg.remove(); root.state.loadingMsg = null; } root.shadowRoot.appendChild(node); }; root.defns.insertContent = ((contentNode, compressed) => { if (compressed) { root.state.deferring = true; } if (root.state.deferring) { root.state.chain = (async () => { await root.state.chain; if (compressed) { const encoded = contentNode.textContent; const blob = new Blob([ Uint8Array.from(atob(encoded), (m) => m.codePointAt(0)) ]); const reader = blob.stream().pipeThrough( new DecompressionStream(\"deflate\") ).pipeThrough( new TextDecoderStream(\"utf-8\") ).getReader(); const parts = []; while (true) { const step = await reader.read(); if (step.done) { break; } parts.push(step.value); } const tpl = document.createElement('template'); tpl.innerHTML = parts.join(\"\"); _insertNode(tpl.content); } else { _insertNode(contentNode.content); } })(); } else { _insertNode(contentNode.content); } }); </script></treescope-run-here><div style=\"display:none\"> <script type=\"application/octet-stream\" >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</script> <treescope-run-here><script type=\"application/octet-stream\"> const root = ( Array.from(document.getElementsByClassName( \"treescope_out_209ca61229ac494cb6355e96f53b069a\")) .filter((elt) => !elt.dataset['step0']) )[0]; root.dataset['step0'] = 1; root.defns.insertContent( this.parentNode.querySelector('script[type=\"application/octet-stream\"]'), true ); this.parentNode.remove(); </script></treescope-run-here> </div>"
      ],
      "text/plain": [
       "<IPython.core.display.HTML object>"
      ]
     },
     "metadata": {},
     "output_type": "display_data"
    },
    {
     "data": {
      "text/html": [
       "<div style=\"display:none\"> <script type=\"application/octet-stream\" >eNrtfet24zaS8H8/BeJcJMWSmqTulu05fUkmvZtLb3dmZrNeHTclQjLTFKkhKbccj/7vvMd+D/C9wj7KPMlWASAJgKAku52dmZN2OjYJVBUKhQJQKBTAM8+/IUl6G9DzY89PVoF7e0rCKKTHxPfOj+dRfOXROY1j6l25s16naw87XdoZdalFh7Q3ooPecDDsjwDIO744S1ZuCL+R3kXbjWP39sb/5WoWhanrhzQmd+T9tZ/SFsDNKBYUL91gTLbEBNz2w3kEKHNIac3dpR8Ab8sojBj2mMyiIIpPyacu+xmTpRsv/LA1jdI0Wp4Sq+306HKslriK6e7i/HC1Ti/T2xUIJHbDBT2eAAs3NE79mRu03MBfhMCF73kBUJr7QUqBhwVQSyCf1u0GiaAoP72tW+1e496FnV5HN0xQZdL3oxeul1MaA8EwSuun82i2ThpAdhrFHo1bsev56+SUdFabDyPJnxnTSD5rkwH7GYviTom92pAkCnyvyNpRajsBSBonur7saj3GQuqvAEdR5DFZRYmf+hE0mzsFHtYppE3d2btFHK1DryVYZgWZGJ4GAAtUXM/zwwXXq9k1kvVDaKEWvaFhmmSFvfe99PoUWi9tIXOQNSbI2TyI3p+SGz/xp6g45Wr90vJDj26gZMuydtdyGm0OrGW0aSXXrodFW+w/rBarUFMkOJAgqm6uUM7XaAdbs8CfvfPc1L1PiwWRixK9WtIkcRdU0p6sR2/bLOXKnU5jeiMB9IeOy9g5e8IHm7M0pjSZRSvaitdh65rGkJbMYn+VEqa8NXe1AiZdFNGTaJbStJUAjrusXRzhD/CVpCRjk5yTer1Bzi/I3REh8G++DmeISjya0NiHYeAX+gcQ17COvQoACIlpuo5DwlKfIp32PI6WdTeNpgDUJPUlI7iEOnn0Fcr6aVq3Go0xYG+Pqov5GuSUdpyiIM7q9DalCfD5oPIyInOkjVRC+p6IghitOiPfnq7nMPgLFFFBjrOP65fh/wnPrJh7ccxZDmhKnqMyLd3V698/ewGqO9Zrs6Dpc9BWP1xH64QB12/cYE2bXA0BE9GyGiLFqZvQK9ZdmiSazxOacj78OeGo5OycWBkGkeChOtZYpHLMImVLaJBQicjFObEriMictQMaLtJr0iJOibTdVolnxLiIZ2mSU+RFfknqZtJ2Y2zi4zs3vW6D3EFmObFGiYuinM+JLfiRWjrWKnRZFDG5tCbIlA0scHINciLIkyokckJsgSi3Di9ssasw+6GF2ebCprsKcx5amKMXJvT/Mm6SRZNMJ+ZOexuCbTV7Gs8SP7x+TYF6XZT3jt6ySeGPQu0Df/WdC7odu++/80P+F98Fid+7q0wtc+pJ6sKE9wYNGE8UUQeM1F0XGoya/YmffO2HMHPUWdZf/sJVCOay+qZBniACOSM2bXULvLyCm0yzNG3OARitBEw3JPYlI/ZlDoM/DCCIFvVyqScC+89xCo0i3lbR+/qGAzSJ02jkur2VtDjv+4ocybkyBmA+l6eWoYkfNYbLv7KyOjwna+JMh8xrrWRkoyhr5Qxq6W7qWbsLhhrjipqe5RA5l3+nP7zbQWthnyHnR1rL082qnquAKgPohoV6g+7kYFnV8qbPywBRZSU94R1ZFcsTTXB88gDBwlgLuKYuk3c97B1jSXUyLE11cmLQY2xLVYF8eMWuvqI4yqK2w7y7q7M+ETQzWqJnZUSMs8kHt1ah9Jkki1eTquqEUK4eDaOlH4KNEec67Id1SQVM1daGPiECxoI02jX3UMk6CqIrzaYwpbWdyrCxAYXwD2o2iVwxxZZmgTR6g4b0mzQGk5zP9artlk8i2dSlTDFv48W0/tldvCWf3S3w13TbeGucbnABELsJmFWLh5UoQeB6JYRlzy1AtB3b6UP/jGGIbg/sngPPC3y2Bg4+T4tBqkC7ILYzLGQvKlNjK6SaUaUzELbKqSkC1SoKC/jglZvCiioEGwjaA/7dNmEdyZLyiRIauY5q6jODD/6cZSDCyIK0k5OGZqHF0XuAF4CX/iRTkJzcz5zcz0AOYHNSP8ukxOQTvb/8eSKnQiHppo38v6aztI7Wxc/AO/zxm8RuSjZfoZHbkmpxRj1/4afMeH4V+0s3xqa6ZLC1T+fsp9aER3s+GEy77HE+H8wtyh6dmWs5M/bo9Z2BM2SPo25/MPXY43DW63entaYgSDuDwcxhOdPZ1HP4oz2Y0tm8BjBMTDpfbyikeCpngzn+x7BdOhvQoeBsOh0IHobefOiK1NFw1GePs97U8nr8sTuajbo5Z/PBtO9xdrypNx1y9kfUc2kv5+wo525Gg+ANrKKApcGYZ2iLFliZzP1Fac3iwYjzQ0ifA342wjHdg0Zmy5YmEUsYP4GRzfeKtQwn2MwH9EwhhHHGoCUtFArCujBwWYveBbPreq/3OXoVGrXxkUGRoCjoiAPGDX/Af43xbpoDS6NZ6liCLhrBOW3+cpnr6aXVJMW/SVPJsFmqXc54FIxJo7SOU4XeRg8FTANQ5Vm+4KzpXX4mzH7FeimRyqCU2cZPvne/54vHhtzRSxKXB777Np+BHE4KTq/H5AF/GxLlBzUiiNiWRGxP5Pm3slnyhrFLTbkbq6qsSUMzwYulObThS2gHWMjcKoLmLYhNBXIxOBZgPd4kpbYri9Q0TT9Wc+2cmT+85biI7fs3z8OyjGXtbrnWg5rO+k00XSFRUyNUdZ/d/XF3V7X3dDq9icTE5eHCV8xhYsgbq/ZOBneBXjDN7nloP71vc9+3wR/c5A9u9J0dbF+mLfU/+16Y1ZkT2eosem/enGfEundzWr+95rR2yd16cHPem6yhOeWmK8yWrIEbatvma/z72x7GAksklDz8UVXAoE0Zp5JKKU23fbC+aKusfYYkqa1cWCykwjtcK7nfPsiiVHtVln3JxtqJbHYKEOBnDWzA1Eq9j9bn41uf+kRY4TcxySh32zSZ36YpOW7u3wQHKydbe0+jSr3ERewrN06TZ7cvEDRfmDO5yAsulN9gUk6BZnOapGPOAcH29kL0BUQX/3ZAgfZC9gQkw+g+BKODf3sfhgl/+6gvxepT9jH74Q2u40GgcxdaSe6s3Ar+nNjkE80fWVhPOXYar+keLQzpwk39G5pvIZ4VO5wZzNJdgLm99pQtCN1mk/w1uOub47RxPGZDcaOdrAI/rddqmqnHkbLNyrOSYokck9GAoFcrhIUydbxLhfBEHuNRyquYhVBcxXRF3TS5iua4W70OAmUeNzj+FLJjcnLi63Oe6OFJCtw0SeJ7VPAguOQsSw7BkgwB8HsWxyOkA7ANFTiXHBu6y5XReSoPKwbnGheZxhY5TFQV8/WucoWz8T6lMlCtWKN9wMbCknVQzCCicYpZpNRa8nOlhaAZQ1l/auy2WsqzaMlUqpr8pHH9Uqvepdn2KxZ5xgyDQTipqK6hgeX6Gwce2SySnV0c+KOl8ZiWhjFW5GAxHC7eiq0UNCP4VtzT0HsZev6MJnXdk+3zdHxIQE8YqhaAlA3ol2JIYINwtpcESARGAhN2plmQc1lDO6Y2YZYMzDo0doOarGysjPZqnVxnCIzRmtH3VCapW+wZ63nQjKjmpUB1N35Sm0zUiS8DPicCKnnnr67YOFTTtnokdt9+dmcA356qyTT0IPGteTUuCj67b7kcz0R1Hw5pmcrCyCTcr9rN9yHtwRtP3zQrbYiU2WOI96hRrb50k3fUI9E6bdQexOZVEEXv1qsSt9n+DfniC/KJwPUXYRTjApGNljtap5qvcnW4qibraZKCjcb6bq6CnLcrtlddm2jLxYxTFbVq5VjicB2+C6P3ocJehdUg4cmFVc1Lh8geu6BJ9GjdmbttG1HMffZif9fJaT6kB5T16l7NxovUWD+01fa22e4eUtFe26qFiFzc2e8uatqiIgpom8ZxFNdrf+C8yGN/TcwjxsguEQXAC/g58sNs7aEEmD6FRn6zorPSLu0VGH/u7R/C1A/+yCPC6x5F3x8LT24Sl4FlspPmLx4/7qe3P0wTGt+w2B0RBkvjhDK0LKteBxM39mmSxzFnzSXSL61J25cQX2PpoH9WefIRodrfufE7DMs/JxK77T+vaXz7BszZWRrFT4OgXtNDu2XJ87rV5V2JbCVEA+wvWmGqBgFIO6bL6IbWGyZNLgmo7fkJ1CFEy0Nvyia52+aRwlCLJH0awrIB+fs6dpdUCgE30474g9x4mR1jDuuerv3AeyqCzL/2F+tYa/kZc5Vkdd6nJyp/V4dSV1mU9fKe/GWW0zziHmz08uCbHOrKQuqfuQntdwsgKbEE+4L7iRRQliZDsknrO5iXdMpahoyD5xPQY+CxGHQBLyXKsJus70qgRZoMeWuAvDVCJgFMAJ4BXMuQcVQXWoEy08JAFMms6dfMYMbNhJeSNatIqQpofFQMOtgpmfyL2Cm5iWDqm/MzA9K0xwD4CKGfYJBavRwSoRH2w71k+RGDSqIZZnqNCw0cJb/ig/06TNarVRSnYNN4bBpvlGPPmR5doeWjFsoPfWha1pCFlksuCnDFKuLaMWG2jmMYe9XEhK7YisSSlySaXygPvC1UsJ15Em71pIYWMIYF8ElQlF848nN+kNWT7D0P02f8K4lbvZ5qjdModYPnUZBo9Y6CP+GxKFZPe1Jk8OqAVEtrMk0ApXobg+ISAACcAljygwmnJIbXQk4bTCEwkNgjs5cysIIjLrLCzpDrVjx/CSRPmIihLAzbD5UzEXnNObUcT1G4XHKvo/ea5EBzv6H+4jotie72UNHd3kd0tx8gutvdohOVK573iK6ouiQ7RGxUqKKYQmboJHuDI+oPzFTFQu+21fLRBt8DhKRhSJIqF37J5BSCMTGRDvQc6VzPXFiGJfI+XN2LZusldLz2LKZuSr8KKL7Vaxy0lp+JYq9tduwQA7kL1TwhDp51yEIJFfBrJtkcnrWHGV4S6nOGi5uedJMqvAqqYksUcus1x2MsGgYJET7NDpr8q4iyVpy+hQMejEmMZMQmVE0daUsjmwlfF9Hssv941z6UMdjOiCJ4Vm1REbQPBZbgl1JsvxSpXwr1FqH6eph3abOYB7iw4xxPp4mpxDxTjTLIEd3NDkSWWWLY3FDnXL7ljYlSM4jodBY/jALB+HmMxNaFY96MFwYhi2b/LiO546xS8WPiu4mlNgsRNguhNInVtnuN8aHVUXjCxBM8jfekOGS317MtNr/wxI9BdfzQ0IT30TN+kmgpn7rZVymr3TugRXa0cAurw1oYOeVvezwqR4ajGmCMv9SPQ0o+WjYAwwpRG4GVwxM5iZNz2eKXB+Ivdw/UY51DsSQo5hPJHEEN5GOTpQVI3Bbwt7vhxTBWTP0ED1EHFEbnGE8g3UmbIcIq4LB5aiW48igtEACfGc6XubwmZaXLvIbnijUsBgDyO7YZQ07JJ58U2RX0DGHpsj9Am1vuEa5+VNqEU3RU0UHzIzemvBs3nNHn0TpMZd17qFElLKJMt8C+OZEaNzdwMLWwcxhYZhCpsJVarRhsqvoWI4LMx8W5ZKjh3m9pU1V7VWVTroZaTU12Ku+tvbxD11S402mhzIBKvUJojd34FbvI2usU7K131fvAW2241XTnPBeHMbhAK61UljxvkKNyCIYyDmyq1fYhiyi2/tmhsjhEnZwXa5pKfa3U1s1ubUVxblRd3ezSVeVls0dPN7u0tFJHN0Yd3VTrGAoJNdQspcYuZKN6Hqwuivm60ZVys0spjypLqJqs1T+GIbwd+CH9k1iU2OMdgEkaR+9oxc58FeXn7gqBkz+v3Zjuhf6XiJlatSXu1tZ+1Sn2aOfEJiprCiDhu+L5ua8WmmRNw+i3DybP/VLWQXtCfvc7NFMx0GAHhjSuVqFUTammedSunEftj/Pox3l0xzx68Xjz6NFhk6ddMXnaHyfP3/TkefEIkyf7LTvDiutRaKr4KeohfZ89q8FHUgZO6CYnR0PsS2csVHnaCkr39JJh/Mh+z5jsuSvtueoewVwSPM7glb+hAV5ecFt1ZoGtk6XrhZjzgTlgsokMr+ywx4bj8jLWbQWWKhAMWsa7aBBfPGLqhdyRCx9/cSnSBCCP1OH2QpmiJO+2hGW42kb2Ze62wrJTcMk6SCWf96N5VrLNXk6k8P9DBz3InUIEb6pLnNEb39N9oyBtVS8Kajvmi8ujShcj+Kr/ppA+jvMXfLHUapUrvmtzKYdhzJL9w7xw6kXeOlgnKjy7yinHYW8ynl6/4vXzjN64dHY1ij3tTi4Z8YnguxRzX1wqhgRODHs+WUfBfNE/ONJFsVmkDpcGtZbH319fRaDnySKEV6OK3D5cRW4PUpG99qquIzLCTiUp1/BhSqIg/naUJLs0TfePNonRzdkU7BROy8nODcriAkz050uX/hQBVei6DL3nsOD0KrcBPf+m1lAvRvRDRlXal9N3VHjB96fPKCtofMcv2+ArSLPbOPPdyJp0DWptbATNdyIPgIWJ5VUcrWic3tZr/tJd0FZMUTv9cIH3qazQeIBKeLWGmQDeJPw1u0iYuQOyq4QriktjN0ww9PyH2F9wD0IarWAQmT8Kg/sptFrZfaStX6JoiRTsqqppiHj5WItdnJyAbcMwu6tNXixvULWx3s7cYFa/ceO6Vi7a3Z/dyRvN29UmOyQoU8rb8jBSHLyCVnadLTtXgEIDA6OWCY3jH9xKMrgiJ3avMgrHxGqtvH2tC13cCfwtlJXX+rO70tSxZfc5tnt0iSM11DercAW9H6OVRG5zELlSHEQQfOtOaSCHh4h9KZb+SjsJIWYn3MFfQsdgMMwpxzbfA3xVduBZSqZBeBfWG+xJKP2V5JGTofjNys/Y7dwIZ7VtqIF0x7IRC3WY34QkDWY1Jhq8xc1mG7t1q93H4bnciA3UOJ6hdolGdjpl++tHHbH6aIesd4+7JknIPSK74tkoskBWx+pOKNY9Uv/T20u0FCdkW9bnoG+f3fmof0z9zHhiPJFqu48T3fgtfJwG5tCP+pxPE9kyhGWYWEHYp3hjO8pMGhGIUdGFludr4tKkp+bnPYzHJ8mZ2189Guv/WKWUUTOOUiCPw2ZrZHl0UTPSNozLQqNiHPaNxcTK/HGwxpk0tUUervn31uCyab5ThQ3KqcrkAO08Um1wUNVvH6wSBfre3iWBHqBCJehpMfpXA2VasAsGxv5sd6mG7V0NqahurpStiGklKrGilZoqy72/oPzQIcJAQZqMOcwdAzqV6tHEg1eYxGhvG1UxhMx18yza0KR6DfBBq4yigPYscJPkWz9J22CxgKkbziMUpfhsQ2453cfBJMD4pYc7A03FOorHJb8RTGmKr+1FSKwfUm38jElNutRZK0vQqL/9z/Czu6KPbC/faiFA+MGMEmtVhbIvbUi9kiMLPyyp8Y9v1LTcLJinLCUBwKPMqrPdjSpuWwNIUrqSd0fMouDi5Cj7pFabkJomJ643D5QTR87lxL6jUtMyq8UkAKrElGVXikkA6GLKk8srLLRXu9bsGi9bScQEUcwQu+TLiZZlN0PXK+Q8h/EGP2zCvl5Bb1LFYC/JAgDaUNUFTXlS4TzRdKsa8Ejd664OfBY3TuiUlO4teZYqdhD0Joex5yu8xwEHIgrDZaYbTZNQ9H71EOTyoIt+oAAoPOKQKygW40+W0maheMe5/bHkB+SOS0fZ8eZvGGrxXP+gSWy8i0beW1A5/2Elpm+F77zMQ1iOGAl5wFSJ55qUXx8un7RBM6o8ABzY/Qtk4wAgZWc81AblPN77a7Yhh3X8mmPIEl3ehAUd4Gmaxv4UJu56jbVmU25GzW03j/ArXI/nDhQUjbO0BrJ7AZ9BZSP3f0T4Ya2WTkRkFwIw59dO2NqdHUqeR42yzyL/hFNlZyobXAcJJCPMJfI9DEpYzyy1NtZ50Cbtx+MBB54yD3gVlgZ0P9dceamhETrYM1emJKyt/ANPj+i1zmhWmZM5gOqKk25Y33zHvvkGk4Q2uqGzB8Os2M4AthfMOc/wc19+uHge+MDMa+VEsLRBFMIS6HUmrs/uMkpiWdLKSTM/CwjqrXH/KFvvS/Z9RdxIbs5mLjkJR90QEiBtth7QFks51wZ42a9qXg6htOVD2lgLZtMKGWqk9giTb/jk+Jn2XRSi4ynavVv72NVsepV77pSoM4dEg7As9LTXW1a7h7aW3XboUrsf4kNqSFQ9Eb7akrIUQhDagsesZtfyFXuGyJUHk7ZUJ4keg6Lo+XwdZJXPaO/S5GItu0+PBdEcAYN/9spT4kY9YzVPT4uPdmRQrMrNrDD2pnyLI41WJixILpDgRcFhcj0tztrmWCyjwGOvCmb2xckyKs8pcPm7hLw1fJpl1xaDpAfMzdsiikjk4WjX5kLJtcU/lsm8bXkBuI0i0YdXxZdVQV8aOlUJykNnLHZ+9hHLdwtkasJhI5HjKQW9rXaGHScmoIbmCwswSoooGMlqq14RqIcPd1DLL2sKPL6JI5HnN6dAsrZ+wz0o9i2POOEn5eu61SqHKVUJbM/GIciPFSTdRyTPnto0+N4Pveh9O5nFURA8U0beO9a1TNXC75WxajfJlF67Nz5+qbGGd6i4YVrb6mXI5jIr52WYRn/06fv6nQEdaAbR7B2khNSNweqQCGZ3ueBHmWpf+xtoG8JJ1pSrLvKdwHJDL6N1wm4VwcbWV87ZFSgYnwYNJQeq4YKWC+Dfm6R4+Un5+kKGaTg5mRumvBHFJz2ZuycKqXSNnGbPVQFW3Qibn6K6utHuSsuDFvKaHVIoa4xq9vgOlDJf7zE8WbAdO0hZ4TkvlZFq49j+Ilig+P4isDlUN7j5+jml7GoB77hqozE+QBF0UUvLFBgkAaKv5+HYSb3MPZ5T5qrJk09yAmbkb7L1goYt0k3o7GKhojvAaCDzcUEs8sUXishk4BMNmBthEseqqahJS2x41pRLLzUYYSdrNuRhG0ZqtbKqa7pjMOOMbBo5OKjok6qiqyqrSGRb0VI/5S31TWam72iqn/KmyqHltvrGYNdrvLF+u7utsl2iD2ysnz6kscrDyz3a6qd7tFWxJVarDB0/aPqKuKmiz14HTjEHTTB7GWEr9n1z6OssRPmBM2mGX55Oy9H0CPDwyfGqmBV5oWP9WsWrm/I1kLu5MN8IkLtC1Jmn9hwzqHeKbjNNG/dciqpXpnRNgunnsMmKqJ/NMR9FUE9i7JNJxQGOEpp+Obj5ZoGDdPX9NaWBSVez8dENUii3vMT1aJC6P+EmC8dttHlKwRViizumX9C5C4qjO0eKD9KWVhMNvIC9yOe0tY9f7FyCyDIpA2I8rMauWLPArIFw3wLfwZ4FieopgtWtjKgQGusHKMscXZDuvtq1zklX1z+l1LMKdvEWjNI1GCq7yuuJevLJdESosh5npLW3Iif7KnJRVRE/vFdFWvsrYtgckUmUItfFQlUpprwwfYylqXlxajoG/zBvb3mFe6c7j9gIMGO4P8muBvQaQa3VzvKlNrjWtaZQoBXXEfdvSYX9u+5hfszSTAvrQjEM12Ou3CTxb+gp/1zEVnHDmzZp9WYrXYDJw6F/COkL8Q2Qx7v+Ur3dRL7o0BA6x70zAihLMcDlDigZlCeO1ethyld4HX6JV+kar5K3R7u2y+ANQhZSPdak+mKu8r0s7HZ6fgm8MCLwrDsoAW6snkpfbQHFELO3djIvP9jwgBi0yiME9sxd1aqgitMDO8GWTCd5m9es9qBHl5WwkuXrh3h7QEtdgZc8leZAdTMwGtnzgB1GrPHrZKthdx9WMEisMgpbh8Ra5Sv8mtPu1Q7yKh50oMFQ53WKBbJGWm20gO+jXWdT8kMmSifYqR8ySJVyyDAV4YtH2jbWjzjqly5FxpyvgtKa/kCNr6p1RlY2skSSXndHjnwsgRlD5wnOt9gFsk/Ziyj6TrsHE01W2eyk85Yu31bS3xn6WYLOnDSt3i6ei9Wwbe+CU4JnZzSUL/YoF63ou20CVJdd+oSw1fWBzwC/HZXg9f27aYXwGf3dVSKb+FWtqAqCyNuyfCe4OGN4J+4e12yi03ISN9MM13OfmhIRejs+2jaYFZZe+8wEeB1F6feRR+uN9nWUpLBqnYdJOzPHsxvh4HF89gQMY3+VXpw9SWNKkxlMAa14HbauaUwvzjA8lrCYjfPjeRR4+GmAqxAoH1+cMTldnLGdM4KWw/nx7JrO3kEdjo04V2m0WASI+oQhqeTZbQNX7nQKq+njXVlfBOn4Z3fTZoIg4lrqeqfZIH/7639ZbYv8z//H35d/++v/Yx/9/Ntf/xv+TsgvNI5OO1BhoHyR/xG1kIt7f03DK7qBFI96Git4jhQUxbuaYcND4+3Mh0yM9xJ5mdCvcnXRkLW79I8vXmczMG+wdrud8W1sLNaSoilAPQN/xlT1STRLadpKAMddHl/k38fh6s50hr+hyoxz18ecXSO+U6XGHKwNPLyJojC7RV+QSFfCuYCjofLpgHotpcsVmhNIh8YxCAwMNwwnL0xMfgv6v7z54fs2WyjXkWBbnBvV6fG61xpKXwZqiJJ/RYCo/aBtugOfs1tcoI99eU8nyeqSNaNSpeMd7fJzEoH+3B1jFNTxKTl+wd1r+cUbYNWjUxCWqcT1fl4naaNNvkHD8glPx+ANfls6cygeN0XIKL+qHCk+1X5yEHb9OkKI/oMZ2lXnDP/fvnqGWdK5aki+O3Yt+GPD8uC4OAwHKZd3xxgHjJgAAbmsd7FXgCLWKelgKgsChlTonMeg4fDU2U7g+VahhSnaGYIsWb2ZhHGU1ae4wwRLgvkNy8Fh4HjpbvJn4ciEd77yOc6vi81B8ltj85Ts+6fIxeWoz+NtO+zDjHany1+7NnvtDyCnj/+z1yE8DvATk/x1NARgC7+Fxb9faeF7ZwS/bP65ShsTBvjBtR5PcCDBsTqQMOIfhuxCpoMlOB0OYTkY+8t+8UL6iD7C73NZFkuwMUJ4YLFUTBj0kGUsacgwOvjodPJ3JDbq5uBYYh8r3WefnuwAtS5StO3JZMu1p8qhzDUjayHxJa3jDIepB+rkMfohdoJdqiDsUD9TaVCQQumKb+OgZmUJmaLtK2Oyn43/DAmGZytwPHM72cqDhRgY4BGmgQt96uF/DpwDtUnpL+QFvYG+cUqev/oDsQSxLxbp2FwKZwAnI2YVwSDFF7+nBDd9jonv4WQdX+Vj13A4tJ0enTpOt9OdD2euNe/bczobzu3h0KKWYO/gibp+abXx/mX8H/SHfY3hXAw+DRPf92XY6kyH8163b83m82633x0ORzOn16OuNXKHLnXvzbCTcck+UNEk76n77ool/Ig3Az4Gz+60Nxz1PLdvD0bdoTsdzTtW15tPh72h48w7npHnf2w7DD+1KyyxXp+ZYk5P2GK2sMWGowkKhNlj/Y/22Ed77Ldjj3nXL3989cvT6JcXdn/4o/Wks75+96rndn//4mTx1Q+Lk4fYZ5U2mo02WpNwY62z01izy8aafS9jba/h55hpOdvHM/NaOLR07cHQGdjOqNPvWrZk9hmy9lmBo1F/2Lecfm/QsYdgm5WsQgPNj0biP6GR6KhGorO3jCbZV4j90RJ9JEt01nEHvf5w7va6Xtfq0pEzHIw8j46mnd587swLIwnpXfAPpsGcvkS/65XC7WkYpfW2YgydXrtJ/YJbHW2TmcRwTplFRT28ZKbBJtQA91Y/ddkPTEpQO1b6r2OpEVH8Ay02oyxMrQrggbtKMBOtO5NiaDQ+JQLoESzBnexU69OvbDGK1QssX3qDbs+yut1mMTd08HnQhQG3NyLF97Qvs6mhQxCgB9l9+IfP3V7H6dnD7qS0CKqo3geuMPq96dQZ2sO5M+0ObTrsOu7Um3rUmVOrO5j+E60w1mwdVretZoOpkcOUyCk0yLY+LiY+Lib+URcTb66j99jY+B3eBY0JC7JIiJuQkCb4gUr+iYPk3i7eBTp2X+Kv58zHe9D7+Xl5qcH6156FBv+fYz+aU9i2zIsD23o0t3AW0lKsFjCwJV8eiJdiQcCioLQVgQCSlwAiSTb6/5HtXNtSbVAQ8Ecj9KB5dGR1OtZ0ag86o0F3NvVcx+k7U5sOZjPaHwzu7128xFVY1b/cNuBz3qP4Gum8M7Tc6aBnTYddz2XGQMe2elO35+Hrr2sJ/FNZsO/oLSLP41sUPLM4/qGNU8ZhpjIq8w2CkwnoBYxCp0eXl50+mK19azDsETKwO0OnNxo4kyNc+Q97/W6/1x0Qx4IlVm/YGQ4wo+sA+GhgWX0CK/9Rr9MbdruYQQBqNBg4oz4s9+1hvzsa2QzDGVjDYWcw6I5IFz0jg86wxzH6PYAG69cinVGv53SHfWfECu/YTqcz6Do2FDHs9Tqjoc0wHOhtsPYbDhwCnI9sKMjpMIzRaDCy+oBPAHE07Nr9zoizOxhadnc4coAUdNrhYNDrTSaHG9cfbHzxa49eeuzOVclemPU6XXvY6dLOqEstOqS9ER30hoNhfwRAHptRD959kYH37nzIwHu3HGTgvUtvhfK+pYYMvHc8lYH3Dl2TsbBro1kMpqzRss2MT2xfASTANXPzuJ2rwBVmH+eo89hdLLlhrUV5vRCvXwuIcnHPg4hFRmY0lPihDKg9QyjGL/v6FFAxXdCQa5h2QQP/vjTLlEuCVxGF9uz2JRSWYeOHVsb8y+TROp7RF+xqogqhfIqTyTE5IRq6uOQrpjD5zOif/PS6nlNrz/04ycpmNQWEIrcw3be5mBRCiuz2Wer/C5zrl9M=</script> <treescope-run-here><script type=\"application/octet-stream\"> const root = ( Array.from(document.getElementsByClassName( \"treescope_out_209ca61229ac494cb6355e96f53b069a\")) .filter((elt) => !elt.dataset['step1']) )[0]; root.dataset['step1'] = 1; root.defns.insertContent( this.parentNode.querySelector('script[type=\"application/octet-stream\"]'), true ); this.parentNode.remove(); </script></treescope-run-here> </div>"
      ],
      "text/plain": [
       "<IPython.core.display.HTML object>"
      ]
     },
     "metadata": {},
     "output_type": "display_data"
    }
   ],
   "source": [
    "class Weights(nnx.Module):\n",
    "  def __init__(self, kernel, bias, count, seed):\n",
    "    self.kernel, self.bias = nnx.Param(kernel), nnx.Param(bias)\n",
    "    self.count = Count(count)\n",
    "    self.rngs = nnx.Rngs(noise=seed)\n",
    "\n",
    "weights = Weights(\n",
    "  kernel=random.uniform(random.key(0), (2, 3)),\n",
    "  bias=jnp.zeros((3,)),\n",
    "  count=jnp.array(0),\n",
    "  seed=random.split(random.key(0), num=10),\n",
    ")\n",
    "x = random.normal(random.key(1), (10, 2))\n",
    "\n",
    "def noisy_vector_dot(weights: Weights, x: jax.Array):\n",
    "  assert weights.kernel.ndim == 2, 'Batch dimensions not allowed'\n",
    "  assert x.ndim == 1, 'Batch dimensions not allowed'\n",
    "  weights.count += 1\n",
    "  y = x @ weights.kernel + weights.bias\n",
    "  return y + random.normal(weights.rngs.noise(), y.shape)\n",
    "\n",
    "state_axes = nnx.StateAxes({nnx.RngState: 0, (nnx.Param, Count): None})\n",
    "y1 = nnx.vmap(noisy_vector_dot, in_axes=(state_axes, 0))(weights, x)\n",
    "y2 = nnx.vmap(noisy_vector_dot, in_axes=(state_axes, 0))(weights, x)\n",
    "\n",
    "print(jnp.allclose(y1, y2))\n",
    "nnx.display(weights)"
   ]
  },
  {
   "cell_type": "markdown",
   "id": "6f26b99f",
   "metadata": {},
   "source": [
    "Because `Rngs`'s state is updated in place and automatically propagated by `nnx.vmap`, we will get a different result every time that `noisy_vector_dot` is called.\n",
    "\n",
    "In the example above, you manually split the random state during construction. This is fine, as it makes the intention clear, but it also doesn't let you use `Rngs` outside of `nnx.vmap` because its state is always split. To solve this, you can pass an unsplit seed and use the `nnx.split_rngs` decorator before `nnx.vmap` to split the `RngState` right before each call to the function, and then \"lower\" it back so that it becomes usable."
   ]
  },
  {
   "cell_type": "code",
   "execution_count": 9,
   "id": "8c9e5858",
   "metadata": {},
   "outputs": [
    {
     "name": "stdout",
     "output_type": "stream",
     "text": [
      "False\n"
     ]
    },
    {
     "data": {
      "text/html": [
       "<script> (()=>{ if (customElements.get('treescope-container') === undefined) { class TreescopeContainer extends HTMLElement { constructor() { super(); this.attachShadow({mode: \"open\"}); this.defns = {}; this.state = {}; } } customElements.define(\"treescope-container\", TreescopeContainer); } if (customElements.get('treescope-run-here') === undefined) { class RunHere extends HTMLElement { constructor() { super() } connectedCallback() { const run = child => { const fn = new Function(child.textContent); child.textContent = \"\"; fn.call(this); this.remove(); }; const child = this.querySelector(\"script\"); if (child) { run(child); } else { new MutationObserver(()=>{ run(this.querySelector(\"script\")); }).observe(this, {childList: true}); } } } customElements.define(\"treescope-run-here\", RunHere); } })(); </script> <treescope-container class=\"treescope_out_c9c4da235a0b4253a9e2523d44fac3d7\" ></treescope-container> <treescope-run-here><script type=\"application/octet-stream\"> const root = ( Array.from(document.getElementsByClassName( \"treescope_out_c9c4da235a0b4253a9e2523d44fac3d7\")) .filter((elt) => !elt.dataset.setup) )[0]; root.dataset.setup = 1; const msg = document.createElement(\"span\"); msg.style = \"color: #cccccc; font-family: monospace;\"; msg.textContent = \"(Loading...)\"; root.state.loadingMsg = msg; root.shadowRoot.appendChild(msg); root.state.chain = new Promise((resolve, reject) => { const observer = new IntersectionObserver((entries) => { for (const entry of entries) { if (entry.isIntersecting) { resolve(); observer.disconnect(); return; } } }, {rootMargin: \"1000px\"}); window.setTimeout(() => { observer.observe(root); }, 0); }); root.state.deferring = false; const _insertNode = (node) => { for (let oldScript of node.querySelectorAll(\"script\")) { let newScript = document.createElement(\"script\"); newScript.type = oldScript.type; newScript.textContent = oldScript.textContent; oldScript.parentNode.replaceChild(newScript, oldScript); } if (root.state.loadingMsg) { root.state.loadingMsg.remove(); root.state.loadingMsg = null; } root.shadowRoot.appendChild(node); }; root.defns.insertContent = ((contentNode, compressed) => { if (compressed) { root.state.deferring = true; } if (root.state.deferring) { root.state.chain = (async () => { await root.state.chain; if (compressed) { const encoded = contentNode.textContent; const blob = new Blob([ Uint8Array.from(atob(encoded), (m) => m.codePointAt(0)) ]); const reader = blob.stream().pipeThrough( new DecompressionStream(\"deflate\") ).pipeThrough( new TextDecoderStream(\"utf-8\") ).getReader(); const parts = []; while (true) { const step = await reader.read(); if (step.done) { break; } parts.push(step.value); } const tpl = document.createElement('template'); tpl.innerHTML = parts.join(\"\"); _insertNode(tpl.content); } else { _insertNode(contentNode.content); } })(); } else { _insertNode(contentNode.content); } }); </script></treescope-run-here><div style=\"display:none\"> <script type=\"application/octet-stream\" >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</script> <treescope-run-here><script type=\"application/octet-stream\"> const root = ( Array.from(document.getElementsByClassName( \"treescope_out_c9c4da235a0b4253a9e2523d44fac3d7\")) .filter((elt) => !elt.dataset['step0']) )[0]; root.dataset['step0'] = 1; root.defns.insertContent( this.parentNode.querySelector('script[type=\"application/octet-stream\"]'), true ); this.parentNode.remove(); </script></treescope-run-here> </div>"
      ],
      "text/plain": [
       "<IPython.core.display.HTML object>"
      ]
     },
     "metadata": {},
     "output_type": "display_data"
    },
    {
     "data": {
      "text/html": [
       "<div style=\"display:none\"> <script type=\"application/octet-stream\" >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</script> <treescope-run-here><script type=\"application/octet-stream\"> const root = ( Array.from(document.getElementsByClassName( \"treescope_out_c9c4da235a0b4253a9e2523d44fac3d7\")) .filter((elt) => !elt.dataset['step1']) )[0]; root.dataset['step1'] = 1; root.defns.insertContent( this.parentNode.querySelector('script[type=\"application/octet-stream\"]'), true ); this.parentNode.remove(); </script></treescope-run-here> </div>"
      ],
      "text/plain": [
       "<IPython.core.display.HTML object>"
      ]
     },
     "metadata": {},
     "output_type": "display_data"
    }
   ],
   "source": [
    "weights = Weights(\n",
    "  kernel=random.uniform(random.key(0), (2, 3)),\n",
    "  bias=jnp.zeros((3,)),\n",
    "  count=jnp.array(0),\n",
    "  seed=0,\n",
    ")\n",
    "x = random.normal(random.key(1), (10, 2))\n",
    "\n",
    "state_axes = nnx.StateAxes({nnx.RngState: 0, (nnx.Param, Count): None})\n",
    "\n",
    "@nnx.split_rngs(splits=10)\n",
    "@nnx.vmap(in_axes=(state_axes, 0))\n",
    "def noisy_vector_dot(weights: Weights, x: jax.Array):\n",
    "  assert weights.kernel.ndim == 2, 'Batch dimensions not allowed'\n",
    "  assert x.ndim == 1, 'Batch dimensions not allowed'\n",
    "  weights.count += 1\n",
    "  y = x @ weights.kernel + weights.bias\n",
    "  return y + random.normal(weights.rngs.noise(), y.shape)\n",
    "\n",
    "y1 = noisy_vector_dot(weights, x)\n",
    "y2 = noisy_vector_dot(weights, x)\n",
    "\n",
    "print(jnp.allclose(y1, y2))\n",
    "nnx.display(weights)"
   ]
  },
  {
   "cell_type": "markdown",
   "id": "75edf7a8",
   "metadata": {},
   "source": [
    "## Consistent aliasing\n",
    "\n",
    "The main issue with allowing for reference semantics in transforms is that references can be shared across inputs and outputs. This can be problematic if it is not taken care of because it would lead to ill-defined or inconsistent behavior. In the example below you have a single `Weights` `nnx.Module` - `m` ` whose reference appears in multiple places in `arg1` and `arg2`. The problem here is that you also specify that you want to vectorize `arg1` in axis `0` and `arg2` in axis `1`. This would be fine in JAX because of referential transparency of pytrees. But this would be problematic in Flax NNX because you are trying to vectorize `m` in two different ways. Flax NNX will enforce consistency by raising an error."
   ]
  },
  {
   "cell_type": "code",
   "execution_count": 10,
   "id": "46b1cc25",
   "metadata": {},
   "outputs": [
    {
     "name": "stdout",
     "output_type": "stream",
     "text": [
      "Inconsistent aliasing detected. The following nodes have different prefixes:\n",
      "Node: <class 'flax.nnx.variables.Param'>\n",
      "  param: 0\n",
      "  param: 0\n",
      "  param: 1\n",
      "Node: <class '__main__.Weights'>\n",
      "  <root>: 0\n",
      "  <root>: 0\n",
      "  <root>: 1\n"
     ]
    }
   ],
   "source": [
    "class Weights(nnx.Module):\n",
    "  def __init__(self, array: jax.Array):\n",
    "    self.param = nnx.Param(array)\n",
    "\n",
    "m = Weights(jnp.arange(10))\n",
    "arg1 = {'a': {'b': m}, 'c': m}\n",
    "arg2 = [(m, m), m]\n",
    "\n",
    "@nnx.vmap(in_axes=(0, 1))\n",
    "def f(arg1, arg2):\n",
    "  ...\n",
    "\n",
    "try:\n",
    "  f(arg1, arg2)\n",
    "except ValueError as e:\n",
    "  print(e)"
   ]
  },
  {
   "cell_type": "markdown",
   "id": "46aa978c",
   "metadata": {},
   "source": [
    "Inconsistent aliasing can also happen between inputs and outputs. In the next example you have a trivial function that accepts and immediately returns `arg1`. However, `arg1` is vectorized on axis `0` on the input, and axis `1` on the output. As expected, this is problematic and Flax NNX will raise an error."
   ]
  },
  {
   "cell_type": "code",
   "execution_count": 11,
   "id": "cca9cf31",
   "metadata": {},
   "outputs": [
    {
     "name": "stdout",
     "output_type": "stream",
     "text": [
      "Inconsistent aliasing detected. The following nodes have different prefixes:\n",
      "Node: <class 'flax.nnx.variables.Param'>\n",
      "  param: 0\n",
      "  param: 0\n",
      "  param: 1\n",
      "Node: <class '__main__.Weights'>\n",
      "  <root>: 0\n",
      "  <root>: 0\n",
      "  <root>: 1\n"
     ]
    }
   ],
   "source": [
    "@nnx.vmap(in_axes=0, out_axes=1)\n",
    "def f(arg1):\n",
    "  return arg1\n",
    "\n",
    "try:\n",
    "  f(arg1)\n",
    "except ValueError as e:\n",
    "  print(e)"
   ]
  },
  {
   "cell_type": "markdown",
   "id": "13f9aeea",
   "metadata": {},
   "source": [
    "## Axis metadata\n",
    "\n",
    "Flax NNX `Variable`s can hold arbitrary metadata, which can be added by simply passing it as keyword arguments to its constructor. This is often used to store `sharding` information, as used by the `nnx.spmd` APIs (like `nnx.get_partition_spec` and `nnx.get_named_sharding`).\n",
    "\n",
    "However, it is often important to keep this axes-related information in sync to what the actual state of the axes is when transforms are involved. For example, if you vectorize a variable on axis `1`, you should remove the `sharding` information at position `1` when inside a `vmap` or `scan` to reflect the fact that the axes are temporarily removed.\n",
    "\n",
    "To achieve this, Flax NNX transforms provide a non-standard `transform_metadata` dictionary argument. And when the `nnx.PARTITION_NAME` key is present, the `sharding` metadata will be updated as specified by `in_axes` and `out_axes`.\n",
    "\n",
    "Let's see an example of this in action:"
   ]
  },
  {
   "cell_type": "code",
   "execution_count": 12,
   "id": "d85c772c",
   "metadata": {},
   "outputs": [
    {
     "name": "stdout",
     "output_type": "stream",
     "text": [
      "Inner m.param.shape = (3, 5)\n",
      "Inner m.param.sharding = ('a', None)\n",
      "Outter m.param.shape = (3, 4, 5)\n",
      "Outter m.param.sharding = ('a', 'b', None)\n"
     ]
    }
   ],
   "source": [
    "class Weights(nnx.Module):\n",
    "  def __init__(self, array: jax.Array, sharding: tuple[str | None, ...]):\n",
    "    self.param = nnx.Param(array, sharding=sharding)\n",
    "\n",
    "m = Weights(jnp.ones((3, 4, 5)), sharding=('a', 'b', None))\n",
    "\n",
    "@nnx.vmap(in_axes=1, transform_metadata={nnx.PARTITION_NAME: 'b'})\n",
    "def f(m: Weights):\n",
    "  print(f'Inner {m.param.shape = }')\n",
    "  print(f'Inner {m.param.sharding = }')\n",
    "\n",
    "f(m)\n",
    "print(f'Outter {m.param.shape = }')\n",
    "print(f'Outter {m.param.sharding = }')"
   ]
  },
  {
   "cell_type": "markdown",
   "id": "a23bda09",
   "metadata": {},
   "source": [
    "Here, you added a `sharding` metadata to the `nnx.Param` variables, and used `transform_metadata` to update the `sharding` metadata to reflect the axis changes. Specifically, you can see that the first axis `b` was removed from the `sharding` metadata when inside of `nnx.vmap`, and then added back when outside of `nnx.vmap`.\n",
    "\n",
    "You can verify that this also works when `nnx.Module`s are created inside the transformation - the new `sharding` axes will be added to the `nnx.Module` `nnx.Variable`s outside the transformation, matching the axes of the transformed `nnx.Variable`s."
   ]
  },
  {
   "cell_type": "code",
   "execution_count": 13,
   "id": "358e51f7",
   "metadata": {},
   "outputs": [
    {
     "name": "stdout",
     "output_type": "stream",
     "text": [
      "Outter m.param.shape = (3, 4, 5)\n",
      "Outter m.param.sharding = ('a', 'b', None)\n"
     ]
    }
   ],
   "source": [
    "@nnx.vmap(out_axes=1, axis_size=4, transform_metadata={nnx.PARTITION_NAME: 'b'})\n",
    "def init_vmap():\n",
    "  return Weights(jnp.ones((3, 5)), sharding=('a', None))\n",
    "\n",
    "m = init_vmap()\n",
    "print(f'Outter {m.param.shape = }')\n",
    "print(f'Outter {m.param.sharding = }')"
   ]
  }
 ],
 "metadata": {
  "jupytext": {
   "cell_metadata_filter": "-all",
   "formats": "ipynb,md:myst",
   "main_language": "python"
  },
  "language_info": {
   "codemirror_mode": {
    "name": "ipython",
    "version": 3
   },
   "file_extension": ".py",
   "mimetype": "text/x-python",
   "name": "python",
   "nbconvert_exporter": "python",
   "pygments_lexer": "ipython3",
   "version": "3.10.13"
  }
 },
 "nbformat": 4,
 "nbformat_minor": 5
}
