{
 "cells": [
  {
   "cell_type": "code",
   "execution_count": 1,
   "id": "7a990f53",
   "metadata": {
    "tags": []
   },
   "outputs": [
    {
     "name": "stdout",
     "output_type": "stream",
     "text": [
      "hello, world!\n",
      "            date   open    high     low  close    volume\n",
      "0     2022-10-03  56.36  56.850  56.060  56.65  16277620\n",
      "1     2022-10-04  56.95  57.810  56.460  56.78  18861431\n",
      "2     2022-10-05  56.50  56.650  55.510  56.24  14324851\n",
      "3     2022-10-06  56.00  56.100  54.870  55.03  17192843\n",
      "4     2022-10-07  54.99  55.090  54.250  54.51  11479799\n",
      "...          ...    ...     ...     ...    ...       ...\n",
      "7495  2023-09-25  72.40  73.630  72.400  73.36   1790625\n",
      "7496  2023-09-26  72.70  73.550  72.360  72.78   2517575\n",
      "7497  2023-09-27  73.14  74.010  72.830  73.47   2018135\n",
      "7498  2023-09-28  73.46  74.855  73.460  74.54   2122866\n",
      "7499  2023-09-29  75.11  75.460  74.465  74.59   2315988\n",
      "\n",
      "[7500 rows x 6 columns]\n"
     ]
    }
   ],
   "source": [
    "#\n",
    "# Example - Using uvatradier to fetch quote data for a given symbol\n",
    "#\n",
    "\n",
    "import os, dotenv; import pandas as pd;\n",
    "from uvatradier import Tradier, Quotes\n",
    "\n",
    "# Create .env file within current working directory.\n",
    "# Add the following to your .env file. Specify the correct account number and authorization token for your quote.\n",
    "# \ttradier_acct = <ACCOUNT_NUMBER>\n",
    "#\ttradier_token = <AUTH_TOKEN>\n",
    "\n",
    "dotenv.load_dotenv()\n",
    "\n",
    "ACCOUNT_NUMBER = os.getenv('tradier_acct')\n",
    "AUTH_TOKEN = os.getenv('tradier_token')\n",
    "\n",
    "# Initializing new Quotes object\n",
    "quotes = Quotes(ACCOUNT_NUMBER, AUTH_TOKEN);\n",
    "\n",
    "DOW_30_TICKER = [\n",
    "    \"AAPL\",\n",
    "    \"MSFT\",\n",
    "    \"JPM\",\n",
    "    \"V\",\n",
    "    \"RTX\",\n",
    "    \"PG\",\n",
    "    \"GS\",\n",
    "    \"NKE\",\n",
    "    \"DIS\",\n",
    "    \"AXP\",\n",
    "    \"HD\",\n",
    "    \"INTC\",\n",
    "    \"WMT\",\n",
    "    \"IBM\",\n",
    "    \"MRK\",\n",
    "    \"UNH\",\n",
    "    #\"KO\",\n",
    "    \"CAT\",\n",
    "    \"TRV\",\n",
    "    \"JNJ\",\n",
    "    \"CVX\",\n",
    "    \"MCD\",\n",
    "    \"VZ\",\n",
    "    \"CSCO\",\n",
    "    \"XOM\",\n",
    "    \"BA\",\n",
    "    \"MMM\",\n",
    "    \"PFE\",\n",
    "    \"WBA\",\n",
    "    \"DD\",\n",
    "]\n",
    "\n",
    "# data = pd.DataFrame(quotes.get_historical_quotes('KO', start_date='2022-10-01', end_date='2023-10-01'))\n",
    "\n",
    "# for symb in DOW_30_TICKER:\n",
    "#     data_to_append = pd.DataFrame(quotes.get_historical_quotes(symb, start_date='2022-10-01', end_date='2023-10-01'))\n",
    "#     data = pd.concat([data, data_to_append], ignore_index=True)\n",
    "\n",
    "data = pd.read_csv(\"DOW30data.csv\")\n",
    "\n",
    "print(data);\n",
    "\n",
    "# data['close_change'] = data['close'].pct_change()\n",
    "# data['volume_change'] = data['volume'].pct_change()\\\n",
    "close_change = data['close'].pct_change();\n",
    "volume_change = data['volume'].pct_change();"
   ]
  },
  {
   "cell_type": "code",
   "execution_count": 2,
   "id": "3da6c557-e86f-4b0d-ac83-caf6b26847ad",
   "metadata": {
    "tags": []
   },
   "outputs": [],
   "source": [
    "# import csv\n",
    "\n",
    "# # Specify the file name\n",
    "# file_name = 'DOW30data.csv'\n",
    "\n",
    "# # Write the DataFrame to a CSV file\n",
    "# data.to_csv(file_name, index=False)\n",
    "\n",
    "# print(f'Data has been written to {file_name}')"
   ]
  },
  {
   "cell_type": "code",
   "execution_count": 3,
   "id": "7aa86eb6",
   "metadata": {
    "tags": []
   },
   "outputs": [
    {
     "name": "stdout",
     "output_type": "stream",
     "text": [
      "0            NaN\n",
      "1       0.002295\n",
      "2      -0.009510\n",
      "3      -0.021515\n",
      "4      -0.009449\n",
      "          ...   \n",
      "7495    0.007139\n",
      "7496   -0.007906\n",
      "7497    0.009481\n",
      "7498    0.014564\n",
      "7499    0.000671\n",
      "Name: close, Length: 7500, dtype: float64\n"
     ]
    }
   ],
   "source": [
    "print(close_change)"
   ]
  },
  {
   "cell_type": "code",
   "execution_count": 4,
   "id": "1f8c30e6",
   "metadata": {
    "tags": []
   },
   "outputs": [
    {
     "data": {
      "text/plain": [
       "0            NaN\n",
       "1       0.158734\n",
       "2      -0.240522\n",
       "3       0.200211\n",
       "4      -0.332292\n",
       "          ...   \n",
       "7495   -0.074943\n",
       "7496    0.405976\n",
       "7497   -0.198381\n",
       "7498    0.051895\n",
       "7499    0.090972\n",
       "Name: volume, Length: 7500, dtype: float64"
      ]
     },
     "execution_count": 4,
     "metadata": {},
     "output_type": "execute_result"
    }
   ],
   "source": [
    "volume_change"
   ]
  },
  {
   "cell_type": "code",
   "execution_count": 10,
   "id": "5a01ff11",
   "metadata": {
    "tags": []
   },
   "outputs": [
    {
     "name": "stdout",
     "output_type": "stream",
     "text": [
      "         close     volume\n",
      "0     0.001657  36.436996\n",
      "1     0.002295   0.158734\n",
      "2    -0.009510  -0.240522\n",
      "3    -0.021515   0.200211\n",
      "4    -0.009449  -0.332292\n",
      "...        ...        ...\n",
      "7495  0.007139  -0.074943\n",
      "7496 -0.007906   0.405976\n",
      "7497  0.009481  -0.198381\n",
      "7498  0.014564   0.051895\n",
      "7499  0.000671   0.090972\n",
      "\n",
      "[7500 rows x 2 columns]\n"
     ]
    }
   ],
   "source": [
    "# Given the close_change Series (as per your example)\n",
    "# close_change = pd.Series([None, 0.002295, -0.009510, -0.021515, -0.009449], name='close')  # truncated for brevity\n",
    "\n",
    "# Replace NaN values with the mean of the non-NaN values\n",
    "close_change_filled = close_change.fillna(close_change.mean())\n",
    "volume_change_filled = volume_change.fillna(volume_change.mean())\n",
    "\n",
    "# print(close_change_filled)\n",
    "# print(volume_change_filled)\n",
    "\n",
    "\n",
    "logit_data = pd.DataFrame({'close':close_change_filled, 'volume':volume_change_filled});\n",
    "print(logit_data)\n"
   ]
  },
  {
   "cell_type": "code",
   "execution_count": 14,
   "id": "6bff4ce6-03f1-43d8-9ae1-8ace58a02bcd",
   "metadata": {
    "tags": []
   },
   "outputs": [
    {
     "data": {
      "text/html": [
       "<div>\n",
       "<style scoped>\n",
       "    .dataframe tbody tr th:only-of-type {\n",
       "        vertical-align: middle;\n",
       "    }\n",
       "\n",
       "    .dataframe tbody tr th {\n",
       "        vertical-align: top;\n",
       "    }\n",
       "\n",
       "    .dataframe thead th {\n",
       "        text-align: right;\n",
       "    }\n",
       "</style>\n",
       "<table border=\"1\" class=\"dataframe\">\n",
       "  <thead>\n",
       "    <tr style=\"text-align: right;\">\n",
       "      <th></th>\n",
       "      <th>close</th>\n",
       "      <th>volume</th>\n",
       "    </tr>\n",
       "  </thead>\n",
       "  <tbody>\n",
       "    <tr>\n",
       "      <th>0</th>\n",
       "      <td>0.001657</td>\n",
       "      <td>36.436996</td>\n",
       "    </tr>\n",
       "    <tr>\n",
       "      <th>486</th>\n",
       "      <td>-0.018602</td>\n",
       "      <td>9333.799298</td>\n",
       "    </tr>\n",
       "    <tr>\n",
       "      <th>736</th>\n",
       "      <td>-0.014349</td>\n",
       "      <td>53227.733333</td>\n",
       "    </tr>\n",
       "    <tr>\n",
       "      <th>2000</th>\n",
       "      <td>-0.736069</td>\n",
       "      <td>12.611002</td>\n",
       "    </tr>\n",
       "    <tr>\n",
       "      <th>3000</th>\n",
       "      <td>-0.910743</td>\n",
       "      <td>11.589635</td>\n",
       "    </tr>\n",
       "    <tr>\n",
       "      <th>3236</th>\n",
       "      <td>0.004134</td>\n",
       "      <td>69157.205000</td>\n",
       "    </tr>\n",
       "    <tr>\n",
       "      <th>5986</th>\n",
       "      <td>-0.007218</td>\n",
       "      <td>139159.880000</td>\n",
       "    </tr>\n",
       "    <tr>\n",
       "      <th>7236</th>\n",
       "      <td>0.013060</td>\n",
       "      <td>1806.040041</td>\n",
       "    </tr>\n",
       "  </tbody>\n",
       "</table>\n",
       "</div>"
      ],
      "text/plain": [
       "         close         volume\n",
       "0     0.001657      36.436996\n",
       "486  -0.018602    9333.799298\n",
       "736  -0.014349   53227.733333\n",
       "2000 -0.736069      12.611002\n",
       "3000 -0.910743      11.589635\n",
       "3236  0.004134   69157.205000\n",
       "5986 -0.007218  139159.880000\n",
       "7236  0.013060    1806.040041"
      ]
     },
     "execution_count": 14,
     "metadata": {},
     "output_type": "execute_result"
    }
   ],
   "source": [
    "logit_data.query(\"(volume > 10) or (volume < -10)\")"
   ]
  },
  {
   "cell_type": "code",
   "execution_count": 6,
   "id": "85b71d0a",
   "metadata": {
    "tags": []
   },
   "outputs": [
    {
     "name": "stdout",
     "output_type": "stream",
     "text": [
      "Model Accuracy: 52.40%\n"
     ]
    }
   ],
   "source": [
    "import pandas as pd\n",
    "from sklearn.linear_model import LogisticRegression\n",
    "from sklearn.model_selection import train_test_split\n",
    "\n",
    "# # Assuming these are your Series (based on provided data)\n",
    "# close = pd.Series([\n",
    "#     -0.000009, 0.002295, -0.009510, -0.021515, -0.009449, # truncated for brevity\n",
    "#     -0.010417, -0.008246, -0.010260, -0.002502, 0.003046\n",
    "# ])\n",
    "\n",
    "# volume = pd.Series([\n",
    "#     0.057599, 0.158734, -0.240522, 0.200211, -0.332292, # truncated for brevity\n",
    "#     -0.156129, -0.094194, 0.229716, -0.093092, -0.017077\n",
    "# ])\n",
    "\n",
    "# Convert close to binary. Assuming a positive change is 1 and non-positive is 0.\n",
    "logit_data['close_binary'] = (logit_data['close'] > 0).astype(int)\n",
    "\n",
    "# Split data into training and testing sets\n",
    "X_train, X_test, y_train, y_test = train_test_split(logit_data[['volume']], logit_data['close_binary'], test_size=0.2, random_state=42)\n",
    "\n",
    "# Create a logistic regression model\n",
    "model = LogisticRegression()\n",
    "\n",
    "# Fit the model\n",
    "model.fit(X_train, y_train)\n",
    "\n",
    "# Get the score of the model\n",
    "score = model.score(X_test, y_test)\n",
    "\n",
    "print(f\"Model Accuracy: {score*100:.2f}%\")\n"
   ]
  },
  {
   "cell_type": "code",
   "execution_count": null,
   "id": "a376893e",
   "metadata": {},
   "outputs": [],
   "source": []
  }
 ],
 "metadata": {
  "kernelspec": {
   "display_name": "Python 3 (ipykernel)",
   "language": "python",
   "name": "python3"
  },
  "language_info": {
   "codemirror_mode": {
    "name": "ipython",
    "version": 3
   },
   "file_extension": ".py",
   "mimetype": "text/x-python",
   "name": "python",
   "nbconvert_exporter": "python",
   "pygments_lexer": "ipython3",
   "version": "3.11.5"
  }
 },
 "nbformat": 4,
 "nbformat_minor": 5
}
