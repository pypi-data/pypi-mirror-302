{
 "cells": [
  {
   "cell_type": "markdown",
   "metadata": {},
   "source": [
    "# Tests\n",
    "Test different functions of the library."
   ]
  },
  {
   "cell_type": "code",
   "execution_count": 16,
   "metadata": {},
   "outputs": [],
   "source": [
    "# Import the library.\n",
    "import dsa_helpers as dh\n",
    "from pathlib import Path\n",
    "import matplotlib.pyplot as plt\n",
    "from shutil import rmtree"
   ]
  },
  {
   "cell_type": "code",
   "execution_count": 12,
   "metadata": {},
   "outputs": [],
   "source": [
    "# Constants\n",
    "DATA_DIR = \"data\"\n",
    "DSA_API_URL = \"https://computablebrain.emory.edu/api/v1\"\n",
    "DSA_WSI_ITEM_ID = \"670fd3e2897872a4bba54097\"\n",
    "THUMBNAIL_MAG = 2.0\n",
    "TILE_SIZE = 512"
   ]
  },
  {
   "cell_type": "code",
   "execution_count": 3,
   "metadata": {},
   "outputs": [],
   "source": [
    "# Authenticate girder client.\n",
    "gc = dh.girder_utils.login(DSA_API_URL)"
   ]
  },
  {
   "cell_type": "code",
   "execution_count": 18,
   "metadata": {},
   "outputs": [],
   "source": [
    "# Clean up the data directory.\n",
    "rmtree(DATA_DIR, ignore_errors=True)"
   ]
  },
  {
   "cell_type": "markdown",
   "metadata": {},
   "source": [
    "## 1.1. Get thumbnail at specified magnification."
   ]
  },
  {
   "cell_type": "code",
   "execution_count": null,
   "metadata": {},
   "outputs": [],
   "source": [
    "# Read a sample thumbnail from the DSA.\n",
    "thumbnail_img = dh.girder_utils.get_thumbnail(\n",
    "    gc, \n",
    "    DSA_WSI_ITEM_ID,\n",
    "    mag=THUMBNAIL_MAG\n",
    ")[:, :, :3]\n",
    "\n",
    "plt.imshow(thumbnail_img)\n",
    "plt.title(f'Thumbnail Image (mag={THUMBNAIL_MAG})')\n",
    "plt.show()"
   ]
  },
  {
   "cell_type": "markdown",
   "metadata": {},
   "source": [
    "## 1.2. Tile thumbnail from numpy array."
   ]
  },
  {
   "cell_type": "code",
   "execution_count": null,
   "metadata": {},
   "outputs": [],
   "source": [
    "# Create location to save tiles.\n",
    "save_dir = Path(DATA_DIR) / \"thumbnail_tile_images\"\n",
    "\n",
    "# Tile the image.\n",
    "tiles_df = dh.image_utils.tile_image(\n",
    "    thumbnail_img,\n",
    "    save_dir, \n",
    "    tile_size=TILE_SIZE,\n",
    "    fill=(114, 114, 114),\n",
    "    prepend_name=\"thumbnail\",\n",
    ")\n",
    "\n",
    "tiles_df.head()"
   ]
  }
 ],
 "metadata": {
  "kernelspec": {
   "display_name": "env",
   "language": "python",
   "name": "python3"
  },
  "language_info": {
   "codemirror_mode": {
    "name": "ipython",
    "version": 3
   },
   "file_extension": ".py",
   "mimetype": "text/x-python",
   "name": "python",
   "nbconvert_exporter": "python",
   "pygments_lexer": "ipython3",
   "version": "3.12.3"
  }
 },
 "nbformat": 4,
 "nbformat_minor": 2
}
