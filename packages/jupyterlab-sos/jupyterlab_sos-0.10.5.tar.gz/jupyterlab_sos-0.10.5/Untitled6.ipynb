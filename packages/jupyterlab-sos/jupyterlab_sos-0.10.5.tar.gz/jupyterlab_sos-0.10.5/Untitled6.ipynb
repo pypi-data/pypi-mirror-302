{
 "cells": [
  {
   "cell_type": "code",
   "execution_count": null,
   "id": "a728df4f-00c8-4492-91e2-0ce72bd575a2",
   "metadata": {
    "kernel": "SoS"
   },
   "outputs": [],
   "source": []
  }
 ],
 "metadata": {
  "kernelspec": {
   "display_name": "SoS1",
   "language": "sos",
   "name": "sos"
  },
  "language_info": {
   "codemirror_mode": "sos",
   "file_extension": ".sos",
   "mimetype": "text/x-sos",
   "name": "sos",
   "nbconvert_exporter": "sos_notebook.converter.SoS_Exporter",
   "pygments_lexer": "sos"
  },
  "sos": {
   "kernels": [
    [
     "SoS",
     "sos",
     "",
     ""
    ]
   ],
   "version": ""
  }
 },
 "nbformat": 4,
 "nbformat_minor": 5
}
