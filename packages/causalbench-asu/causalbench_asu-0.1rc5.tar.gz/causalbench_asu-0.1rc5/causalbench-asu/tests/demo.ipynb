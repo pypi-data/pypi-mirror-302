{
 "cells": [
  {
   "cell_type": "code",
   "outputs": [],
   "source": [
    "#Install Causalbench"
   ],
   "metadata": {
    "collapsed": false
   },
   "id": "1e2b7d160d66277d"
  },
  {
   "cell_type": "code",
   "outputs": [],
   "source": [
    "!pip install causalbench"
   ],
   "metadata": {
    "collapsed": false
   },
   "id": "eef2c60ab1a9f52c"
  },
  {
   "cell_type": "markdown",
   "id": "83687961d1b83ccd",
   "metadata": {
    "collapsed": false
   },
   "source": [
    "Import Causal Bench packages"
   ]
  },
  {
   "cell_type": "code",
   "execution_count": 1,
   "id": "initial_id",
   "metadata": {
    "ExecuteTime": {
     "end_time": "2024-08-10T20:57:27.359613Z",
     "start_time": "2024-08-10T20:57:27.291744Z"
    }
   },
   "outputs": [],
   "source": [
    "from causalbench.modules import Dataset, Metric, Model, Context, Run"
   ]
  },
  {
   "cell_type": "markdown",
   "id": "3275f95b13356515",
   "metadata": {
    "collapsed": false
   },
   "source": [
    "Create and publish a dataset"
   ]
  },
  {
   "cell_type": "code",
   "execution_count": 2,
   "id": "3ed71dd6ffaff1ec",
   "metadata": {
    "ExecuteTime": {
     "end_time": "2024-08-10T20:57:54.349414Z",
     "start_time": "2024-08-10T20:57:48.547131Z"
    },
    "collapsed": false
   },
   "outputs": [
    {
     "name": "stdin",
     "output_type": "stream",
     "text": [
      "Are you sure you want to publish dataset as public? [y/N]  y\n"
     ]
    },
    {
     "name": "stderr",
     "output_type": "stream",
     "text": [
      "Published dataset with module_id=1 and version=1 (visibility=public)\n"
     ]
    },
    {
     "data": {
      "text/plain": [
       "True"
      ]
     },
     "execution_count": 2,
     "metadata": {},
     "output_type": "execute_result"
    }
   ],
   "source": [
    "dataset1: Dataset = Dataset(zip_file=\"data/abalone.zip\")\n",
    "dataset1.publish(public=True)"
   ]
  },
  {
   "cell_type": "markdown",
   "id": "88f86bdbf07439ad",
   "metadata": {
    "collapsed": false
   },
   "source": [
    "Create and publish models"
   ]
  },
  {
   "cell_type": "code",
   "execution_count": 3,
   "id": "f522cf8f175f2067",
   "metadata": {
    "ExecuteTime": {
     "end_time": "2024-08-10T20:58:12.684564Z",
     "start_time": "2024-08-10T20:58:12.123669Z"
    },
    "collapsed": false
   },
   "outputs": [
    {
     "name": "stderr",
     "output_type": "stream",
     "text": [
      "Published model with module_id=1 and version=1 (visibility=private)\n"
     ]
    },
    {
     "data": {
      "text/plain": [
       "True"
      ]
     },
     "execution_count": 3,
     "metadata": {},
     "output_type": "execute_result"
    }
   ],
   "source": [
    "model1: Model = Model(zip_file='model/pc.zip')\n",
    "model1.publish()"
   ]
  },
  {
   "cell_type": "code",
   "execution_count": 4,
   "id": "2fa2f747d48804c6",
   "metadata": {
    "ExecuteTime": {
     "end_time": "2024-08-10T20:58:15.347826Z",
     "start_time": "2024-08-10T20:58:14.672271Z"
    },
    "collapsed": false
   },
   "outputs": [
    {
     "name": "stderr",
     "output_type": "stream",
     "text": [
      "Published model with module_id=2 and version=1 (visibility=private)\n"
     ]
    },
    {
     "data": {
      "text/plain": [
       "True"
      ]
     },
     "execution_count": 4,
     "metadata": {},
     "output_type": "execute_result"
    }
   ],
   "source": [
    "model2: Model = Model(zip_file='model/ges.zip')\n",
    "model2.publish()"
   ]
  },
  {
   "cell_type": "code",
   "execution_count": 5,
   "id": "7eb6617a-48b1-4b73-aaaf-0041f19d832f",
   "metadata": {},
   "outputs": [
    {
     "name": "stderr",
     "output_type": "stream",
     "text": [
      "Fetched model with module_id=2 and version=1 (location=C:\\Users\\prata\\AppData\\Local\\Temp\\cb-model_v1.zip)\n"
     ]
    },
    {
     "name": "stdin",
     "output_type": "stream",
     "text": [
      "Are you sure you want to overwrite existing version of model? [y/N]  y\n",
      "Are you sure you want to publish model as public? [y/N]  y\n"
     ]
    },
    {
     "name": "stderr",
     "output_type": "stream",
     "text": [
      "Published model with module_id=2 and version=1 (visibility=public)\n"
     ]
    },
    {
     "data": {
      "text/plain": [
       "True"
      ]
     },
     "execution_count": 5,
     "metadata": {},
     "output_type": "execute_result"
    }
   ],
   "source": [
    "model2: Model = Model(module_id=2, version=1)\n",
    "model2.publish(public=True)"
   ]
  },
  {
   "cell_type": "markdown",
   "id": "ebbc20244147ff76",
   "metadata": {
    "collapsed": false
   },
   "source": [
    "Create and publish metrics"
   ]
  },
  {
   "cell_type": "code",
   "execution_count": 6,
   "id": "a32e9b9b6a0b6f37",
   "metadata": {
    "ExecuteTime": {
     "end_time": "2024-08-10T20:58:23.947934Z",
     "start_time": "2024-08-10T20:58:23.324819Z"
    },
    "collapsed": false
   },
   "outputs": [
    {
     "name": "stdin",
     "output_type": "stream",
     "text": [
      "Are you sure you want to publish metric as public? [y/N]  y\n"
     ]
    },
    {
     "name": "stderr",
     "output_type": "stream",
     "text": [
      "Published metric with module_id=1 and version=1 (visibility=public)\n"
     ]
    },
    {
     "data": {
      "text/plain": [
       "True"
      ]
     },
     "execution_count": 6,
     "metadata": {},
     "output_type": "execute_result"
    }
   ],
   "source": [
    "metric1: Metric = Metric(zip_file='metric/accuracy_static.zip')\n",
    "metric1.publish(public=True)"
   ]
  },
  {
   "cell_type": "code",
   "execution_count": 7,
   "id": "fc05cc3d88b48e85",
   "metadata": {
    "ExecuteTime": {
     "end_time": "2024-08-10T20:58:42.351768Z",
     "start_time": "2024-08-10T20:58:41.614978Z"
    },
    "collapsed": false
   },
   "outputs": [
    {
     "name": "stdin",
     "output_type": "stream",
     "text": [
      "Are you sure you want to publish metric as public? [y/N]  y\n"
     ]
    },
    {
     "name": "stderr",
     "output_type": "stream",
     "text": [
      "Published metric with module_id=2 and version=1 (visibility=public)\n"
     ]
    },
    {
     "data": {
      "text/plain": [
       "True"
      ]
     },
     "execution_count": 7,
     "metadata": {},
     "output_type": "execute_result"
    }
   ],
   "source": [
    "metric2: Metric = Metric(zip_file='metric/f1_static.zip')\n",
    "metric2.publish(public=True)"
   ]
  },
  {
   "cell_type": "markdown",
   "id": "7da746aa6b274028",
   "metadata": {
    "collapsed": false
   },
   "source": [
    "Create and publish a context"
   ]
  },
  {
   "cell_type": "code",
   "execution_count": 8,
   "id": "793ef0bc8d49a6ab",
   "metadata": {
    "ExecuteTime": {
     "end_time": "2024-08-10T20:58:59.790539Z",
     "start_time": "2024-08-10T20:58:59.197626Z"
    },
    "collapsed": false
   },
   "outputs": [
    {
     "name": "stdin",
     "output_type": "stream",
     "text": [
      "Are you sure you want to publish context as public? [y/N]  y\n"
     ]
    },
    {
     "name": "stderr",
     "output_type": "stream",
     "text": [
      "Published context with module_id=1 and version=1 (visibility=public)\n"
     ]
    },
    {
     "data": {
      "text/plain": [
       "True"
      ]
     },
     "execution_count": 8,
     "metadata": {},
     "output_type": "execute_result"
    }
   ],
   "source": [
    "context1: Context = Context.create(module_id=10,\n",
    "                                   name='Context1',\n",
    "                                   description='Test static context',\n",
    "                                   task='discovery.static',\n",
    "                                   datasets=[(dataset1, {'data': 'file1', 'ground_truth': 'file2'})],\n",
    "                                   models=[model1, model2],\n",
    "                                   metrics=[metric1, metric2])\n",
    "context1.publish(public=True)"
   ]
  },
  {
   "cell_type": "markdown",
   "id": "e4b2743d38dcc019",
   "metadata": {
    "collapsed": false
   },
   "source": [
    "Execute the context and print the run"
   ]
  },
  {
   "cell_type": "code",
   "execution_count": 16,
   "id": "53ec4b911939bf3c",
   "metadata": {
    "ExecuteTime": {
     "end_time": "2024-08-10T20:59:34.968939Z",
     "start_time": "2024-08-10T20:59:03.373728Z"
    },
    "collapsed": false
   },
   "outputs": [
    {
     "name": "stderr",
     "output_type": "stream",
     "text": [
      "Fetched task with module_id=discovery.static (location=C:\\Users\\prata\\AppData\\Local\\Temp\\cb-task-discovery.static.zip)\n"
     ]
    },
    {
     "name": "stdout",
     "output_type": "stream",
     "text": [
      "================================================================================\n",
      "Task: discovery.static\n",
      "--------------------------------------------------------------------------------\n",
      "Dataset: abalone\n",
      "Model: pc\n",
      "Metrics:\n",
      "    accuracy_static: 0.654320987654321\n",
      "    f1_static: 0.2222222222222222\n",
      "--------------------------------------------------------------------------------\n",
      "Dataset: abalone\n",
      "Model: ges\n",
      "Metrics:\n",
      "    accuracy_static: 0.6049382716049383\n",
      "    f1_static: 0.27272727272727276\n",
      "================================================================================\n"
     ]
    }
   ],
   "source": [
    "run: Run = context1.execute()\n",
    "print(run)"
   ]
  },
  {
   "cell_type": "markdown",
   "id": "819ec237162c6502",
   "metadata": {
    "collapsed": false
   },
   "source": [
    "Publish the run"
   ]
  },
  {
   "cell_type": "code",
   "execution_count": 17,
   "id": "549f16792d4c7a90",
   "metadata": {
    "ExecuteTime": {
     "end_time": "2024-08-10T21:00:01.514980Z",
     "start_time": "2024-08-10T21:00:00.956749Z"
    },
    "collapsed": false
   },
   "outputs": [
    {
     "name": "stderr",
     "output_type": "stream",
     "text": [
      "Published run with module_id=1 (visibility=private)\n"
     ]
    },
    {
     "data": {
      "text/plain": [
       "True"
      ]
     },
     "execution_count": 17,
     "metadata": {},
     "output_type": "execute_result"
    }
   ],
   "source": [
    "run.publish()"
   ]
  },
  {
   "cell_type": "code",
   "execution_count": null,
   "id": "be5824f1ea9f2d91",
   "metadata": {
    "collapsed": false
   },
   "outputs": [],
   "source": []
  }
 ],
 "metadata": {
  "kernelspec": {
   "display_name": "Python 3 (ipykernel)",
   "language": "python",
   "name": "python3"
  },
  "language_info": {
   "codemirror_mode": {
    "name": "ipython",
    "version": 3
   },
   "file_extension": ".py",
   "mimetype": "text/x-python",
   "name": "python",
   "nbconvert_exporter": "python",
   "pygments_lexer": "ipython3",
   "version": "3.10.13"
  }
 },
 "nbformat": 4,
 "nbformat_minor": 5
}
