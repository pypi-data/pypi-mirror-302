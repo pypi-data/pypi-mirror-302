{
  "cells": [
    {
      "cell_type": "markdown",
      "metadata": {},
      "source": [
        "\n# Example: 1D eigenmodes 0\n"
      ]
    },
    {
      "cell_type": "markdown",
      "metadata": {},
      "source": [
        ".. list-table:: 1D Finit-difference parameters\n   :widths: 25\n   :header-rows: 1\n\n   * - boundaries: {left: symmetric, right: symmetric}\n   * - derivative: 2\n   * - accuracy: 6\n\n"
      ]
    },
    {
      "cell_type": "code",
      "execution_count": null,
      "metadata": {
        "collapsed": false
      },
      "outputs": [],
      "source": [
        "from scipy.sparse import linalg\n\nfrom MPSPlots.render2D import SceneList\n\nfrom PyFinitDiff.finite_difference_1D import FiniteDifference\nfrom PyFinitDiff.finite_difference_1D import get_circular_mesh_triplet\nfrom PyFinitDiff.finite_difference_1D import Boundaries\n\nn_x = 100\nsparse_instance = FiniteDifference(\n    n_x=n_x,\n    dx=1,\n    derivative=2,\n    accuracy=2,\n    boundaries=Boundaries(left='none', right='none')\n)\n\nmesh_triplet = get_circular_mesh_triplet(\n    n_x=n_x,\n    radius=60,\n    value_out=1,\n    value_in=1.4444,\n    x_offset=0\n)\n\ndynamic_triplet = sparse_instance.triplet + mesh_triplet\n\neigen_values, eigen_vectors = linalg.eigs(\n    dynamic_triplet.to_dense(),\n    k=4,\n    which='LM',\n    sigma=1.4444\n)\n\nfigure = SceneList(\n    unit_size=(3, 3),\n    tight_layout=True,\n    ax_orientation='horizontal'\n)\n\nfor i in range(4):\n    Vector = eigen_vectors[:, i].real.reshape([sparse_instance.n_x])\n    ax = figure.append_ax(title=f'eigenvalues: \\n{eigen_values[i]:.3f}')\n    _ = ax.add_line(y=Vector)\n\n_ = figure.show()\n\n\n# -"
      ]
    }
  ],
  "metadata": {
    "kernelspec": {
      "display_name": "Python 3",
      "language": "python",
      "name": "python3"
    },
    "language_info": {
      "codemirror_mode": {
        "name": "ipython",
        "version": 3
      },
      "file_extension": ".py",
      "mimetype": "text/x-python",
      "name": "python",
      "nbconvert_exporter": "python",
      "pygments_lexer": "ipython3",
      "version": "3.11.0"
    }
  },
  "nbformat": 4,
  "nbformat_minor": 0
}