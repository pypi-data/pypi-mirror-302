{
 "cells": [
  {
   "cell_type": "markdown",
   "metadata": {},
   "source": [
    "## Summary\n",
    "\n",
    "`TraceManager` collects all the called functions with useful information. <br/>\n",
    "The information includes the inputs to the called functions.\n"
   ]
  },
  {
   "cell_type": "markdown",
   "metadata": {},
   "source": [
    "# Body\n"
   ]
  },
  {
   "cell_type": "markdown",
   "metadata": {},
   "source": [
    "You can check the code of `script` in the link:\n",
    "\n",
    "[script.py](./script.py)"
   ]
  },
  {
   "cell_type": "code",
   "execution_count": 1,
   "metadata": {},
   "outputs": [],
   "source": [
    "from script import lvl1\n",
    "from inspect import getsource\n",
    "from crimson.tracer_beta.filter import frame_filter\n",
    "from crimson.tracer_beta import TraceManager, TraceEvent\n"
   ]
  },
  {
   "cell_type": "markdown",
   "metadata": {},
   "source": [
    "## Trace"
   ]
  },
  {
   "cell_type": "markdown",
   "metadata": {},
   "source": [
    "### Without `frame_filter`\n"
   ]
  },
  {
   "cell_type": "code",
   "execution_count": 2,
   "metadata": {},
   "outputs": [
    {
     "data": {
      "text/plain": [
       "[TraceEvent(function='lvl1', filename='/home/crimson/manager/crimson/tracer/example/script.py', lineno=4, event='call', arg=None, level=0, locals={}, custom=None),\n",
       " TraceEvent(function='lvl1', filename='/home/crimson/manager/crimson/tracer/example/script.py', lineno=9, event='line', arg=None, level=0, locals={}, custom=None),\n",
       " TraceEvent(function='__init__', filename='/home/crimson/miniconda3/envs/tracer-beta/lib/python3.12/site-packages/anytree/node/node.py', lineno=74, event='call', arg=None, level=1, locals={'self': Node('/root'), 'name': 'root', 'parent': None, 'children': None, 'kwargs': {}}, custom=None),\n",
       " TraceEvent(function='__init__', filename='/home/crimson/miniconda3/envs/tracer-beta/lib/python3.12/site-packages/anytree/node/node.py', lineno=75, event='line', arg=None, level=1, locals={}, custom=None),\n",
       " TraceEvent(function='__init__', filename='/home/crimson/miniconda3/envs/tracer-beta/lib/python3.12/site-packages/anytree/node/node.py', lineno=76, event='line', arg=None, level=1, locals={}, custom=None),\n",
       " TraceEvent(function='__init__', filename='/home/crimson/miniconda3/envs/tracer-beta/lib/python3.12/site-packages/anytree/node/node.py', lineno=77, event='line', arg=None, level=1, locals={}, custom=None),\n",
       " TraceEvent(function='parent', filename='/home/crimson/miniconda3/envs/tracer-beta/lib/python3.12/site-packages/anytree/node/nodemixin.py', lineno=123, event='call', arg=None, level=2, locals={'self': Node('/root'), 'value': None}, custom=None),\n",
       " TraceEvent(function='parent', filename='/home/crimson/miniconda3/envs/tracer-beta/lib/python3.12/site-packages/anytree/node/nodemixin.py', lineno=125, event='line', arg=None, level=2, locals={}, custom=None),\n",
       " TraceEvent(function='parent', filename='/home/crimson/miniconda3/envs/tracer-beta/lib/python3.12/site-packages/anytree/node/nodemixin.py', lineno=128, event='line', arg=None, level=2, locals={}, custom=None),\n",
       " TraceEvent(function='parent', filename='/home/crimson/miniconda3/envs/tracer-beta/lib/python3.12/site-packages/anytree/node/nodemixin.py', lineno=131, event='line', arg=None, level=2, locals={}, custom=None),\n",
       " TraceEvent(function='parent', filename='/home/crimson/miniconda3/envs/tracer-beta/lib/python3.12/site-packages/anytree/node/nodemixin.py', lineno=132, event='line', arg=None, level=2, locals={}, custom=None),\n",
       " TraceEvent(function='parent', filename='/home/crimson/miniconda3/envs/tracer-beta/lib/python3.12/site-packages/anytree/node/nodemixin.py', lineno=132, event='return', arg=None, level=2, locals={}, custom=None),\n",
       " TraceEvent(function='__init__', filename='/home/crimson/miniconda3/envs/tracer-beta/lib/python3.12/site-packages/anytree/node/node.py', lineno=78, event='line', arg=None, level=1, locals={}, custom=None),\n",
       " TraceEvent(function='__init__', filename='/home/crimson/miniconda3/envs/tracer-beta/lib/python3.12/site-packages/anytree/node/node.py', lineno=78, event='return', arg=None, level=1, locals={}, custom=None),\n",
       " TraceEvent(function='lvl1', filename='/home/crimson/manager/crimson/tracer/example/script.py', lineno=11, event='line', arg=None, level=0, locals={}, custom=None),\n",
       " TraceEvent(function='lvl2_1', filename='/home/crimson/manager/crimson/tracer/example/script.py', lineno=21, event='call', arg=None, level=1, locals={}, custom=None),\n",
       " TraceEvent(function='lvl2_1', filename='/home/crimson/manager/crimson/tracer/example/script.py', lineno=27, event='line', arg=None, level=1, locals={}, custom=None),\n",
       " TraceEvent(function='lvl2_1', filename='/home/crimson/manager/crimson/tracer/example/script.py', lineno=27, event='return', arg=1, level=1, locals={}, custom=None),\n",
       " TraceEvent(function='lvl1', filename='/home/crimson/manager/crimson/tracer/example/script.py', lineno=16, event='line', arg=None, level=0, locals={}, custom=None),\n",
       " TraceEvent(function='lvl2_2', filename='/home/crimson/manager/crimson/tracer/example/script.py', lineno=30, event='call', arg=None, level=1, locals={}, custom=None),\n",
       " TraceEvent(function='lvl2_2', filename='/home/crimson/manager/crimson/tracer/example/script.py', lineno=34, event='line', arg=None, level=1, locals={}, custom=None),\n",
       " TraceEvent(function='lvl3', filename='/home/crimson/manager/crimson/tracer/example/script.py', lineno=40, event='call', arg=None, level=2, locals={'name': 'lvl2_2'}, custom=None),\n",
       " TraceEvent(function='lvl3', filename='/home/crimson/manager/crimson/tracer/example/script.py', lineno=41, event='line', arg=None, level=2, locals={}, custom=None),\n",
       " TraceEvent(function='lvl3', filename='/home/crimson/manager/crimson/tracer/example/script.py', lineno=41, event='return', arg=None, level=2, locals={}, custom=None),\n",
       " TraceEvent(function='lvl2_2', filename='/home/crimson/manager/crimson/tracer/example/script.py', lineno=36, event='line', arg=None, level=1, locals={}, custom=None),\n",
       " TraceEvent(function='lvl2_2', filename='/home/crimson/manager/crimson/tracer/example/script.py', lineno=37, event='line', arg=None, level=1, locals={}, custom=None),\n",
       " TraceEvent(function='lvl2_2', filename='/home/crimson/manager/crimson/tracer/example/script.py', lineno=37, event='return', arg='return value with variable', level=1, locals={}, custom=None),\n",
       " TraceEvent(function='lvl1', filename='/home/crimson/manager/crimson/tracer/example/script.py', lineno=18, event='line', arg=None, level=0, locals={}, custom=None),\n",
       " TraceEvent(function='lvl3', filename='/home/crimson/manager/crimson/tracer/example/script.py', lineno=40, event='call', arg=None, level=1, locals={'name': 'root'}, custom=None),\n",
       " TraceEvent(function='lvl3', filename='/home/crimson/manager/crimson/tracer/example/script.py', lineno=41, event='line', arg=None, level=1, locals={}, custom=None),\n",
       " TraceEvent(function='lvl3', filename='/home/crimson/manager/crimson/tracer/example/script.py', lineno=41, event='return', arg=None, level=1, locals={}, custom=None),\n",
       " TraceEvent(function='lvl1', filename='/home/crimson/manager/crimson/tracer/example/script.py', lineno=18, event='return', arg=None, level=0, locals={}, custom=None)]"
      ]
     },
     "execution_count": 2,
     "metadata": {},
     "output_type": "execute_result"
    }
   ],
   "source": [
    "TraceManager.run_trace(lvl1)\n",
    "trace_result = TraceManager.get_trace(\"lvl1\")\n",
    "\n",
    "trace_result"
   ]
  },
  {
   "cell_type": "markdown",
   "metadata": {},
   "source": [
    "### With `frame_filter`\n"
   ]
  },
  {
   "cell_type": "code",
   "execution_count": 3,
   "metadata": {},
   "outputs": [
    {
     "name": "stdout",
     "output_type": "stream",
     "text": [
      "def frame_filter(frame: FrameType) -> bool:\n",
      "    exclude = [\"python3\", \"site-packages\"]\n",
      "    for exclude_key in exclude:\n",
      "        if frame.f_code.co_filename.find(exclude_key) != -1:\n",
      "            return False\n",
      "    return True\n",
      "\n"
     ]
    },
    {
     "data": {
      "text/plain": [
       "[TraceEvent(function='lvl1', filename='/home/crimson/manager/crimson/tracer/example/script.py', lineno=4, event='call', arg=None, level=0, locals={}, custom=None),\n",
       " TraceEvent(function='lvl1', filename='/home/crimson/manager/crimson/tracer/example/script.py', lineno=9, event='line', arg=None, level=0, locals={}, custom=None),\n",
       " TraceEvent(function='lvl1', filename='/home/crimson/manager/crimson/tracer/example/script.py', lineno=11, event='line', arg=None, level=0, locals={}, custom=None),\n",
       " TraceEvent(function='lvl2_1', filename='/home/crimson/manager/crimson/tracer/example/script.py', lineno=21, event='call', arg=None, level=1, locals={}, custom=None),\n",
       " TraceEvent(function='lvl2_1', filename='/home/crimson/manager/crimson/tracer/example/script.py', lineno=27, event='line', arg=None, level=1, locals={}, custom=None),\n",
       " TraceEvent(function='lvl2_1', filename='/home/crimson/manager/crimson/tracer/example/script.py', lineno=27, event='return', arg=1, level=1, locals={}, custom=None),\n",
       " TraceEvent(function='lvl1', filename='/home/crimson/manager/crimson/tracer/example/script.py', lineno=16, event='line', arg=None, level=0, locals={}, custom=None),\n",
       " TraceEvent(function='lvl2_2', filename='/home/crimson/manager/crimson/tracer/example/script.py', lineno=30, event='call', arg=None, level=1, locals={}, custom=None),\n",
       " TraceEvent(function='lvl2_2', filename='/home/crimson/manager/crimson/tracer/example/script.py', lineno=34, event='line', arg=None, level=1, locals={}, custom=None),\n",
       " TraceEvent(function='lvl3', filename='/home/crimson/manager/crimson/tracer/example/script.py', lineno=40, event='call', arg=None, level=2, locals={'name': 'lvl2_2'}, custom=None),\n",
       " TraceEvent(function='lvl3', filename='/home/crimson/manager/crimson/tracer/example/script.py', lineno=41, event='line', arg=None, level=2, locals={}, custom=None),\n",
       " TraceEvent(function='lvl3', filename='/home/crimson/manager/crimson/tracer/example/script.py', lineno=41, event='return', arg=None, level=2, locals={}, custom=None),\n",
       " TraceEvent(function='lvl2_2', filename='/home/crimson/manager/crimson/tracer/example/script.py', lineno=36, event='line', arg=None, level=1, locals={}, custom=None),\n",
       " TraceEvent(function='lvl2_2', filename='/home/crimson/manager/crimson/tracer/example/script.py', lineno=37, event='line', arg=None, level=1, locals={}, custom=None),\n",
       " TraceEvent(function='lvl2_2', filename='/home/crimson/manager/crimson/tracer/example/script.py', lineno=37, event='return', arg='return value with variable', level=1, locals={}, custom=None),\n",
       " TraceEvent(function='lvl1', filename='/home/crimson/manager/crimson/tracer/example/script.py', lineno=18, event='line', arg=None, level=0, locals={}, custom=None),\n",
       " TraceEvent(function='lvl3', filename='/home/crimson/manager/crimson/tracer/example/script.py', lineno=40, event='call', arg=None, level=1, locals={'name': 'root'}, custom=None),\n",
       " TraceEvent(function='lvl3', filename='/home/crimson/manager/crimson/tracer/example/script.py', lineno=41, event='line', arg=None, level=1, locals={}, custom=None),\n",
       " TraceEvent(function='lvl3', filename='/home/crimson/manager/crimson/tracer/example/script.py', lineno=41, event='return', arg=None, level=1, locals={}, custom=None),\n",
       " TraceEvent(function='lvl1', filename='/home/crimson/manager/crimson/tracer/example/script.py', lineno=18, event='return', arg=None, level=0, locals={}, custom=None)]"
      ]
     },
     "execution_count": 3,
     "metadata": {},
     "output_type": "execute_result"
    }
   ],
   "source": [
    "print(getsource(frame_filter))\n",
    "TraceManager.set_frame_filter(frame_filter)\n",
    "\n",
    "TraceManager.run_trace(lvl1)\n",
    "trace_result = TraceManager.get_trace(\"lvl1\")\n",
    "\n",
    "trace_result\n"
   ]
  },
  {
   "cell_type": "markdown",
   "metadata": {},
   "source": [
    "### With `name`\n",
    "\n",
    "if `name` is `None`, the name of the func is used instead"
   ]
  },
  {
   "cell_type": "code",
   "execution_count": 4,
   "metadata": {},
   "outputs": [
    {
     "data": {
      "text/plain": [
       "dict_keys(['lvl1', 'custom name'])"
      ]
     },
     "execution_count": 4,
     "metadata": {},
     "output_type": "execute_result"
    }
   ],
   "source": [
    "TraceManager.run_trace(func = lvl1, name = 'custom name')\n",
    "TraceManager.traces.keys()"
   ]
  },
  {
   "cell_type": "markdown",
   "metadata": {},
   "source": [
    "### Edit Trace Event\n",
    "\n",
    "All the available arguments in the tracked functions are stored as `locals`. <br/>\n",
    "It can cause the `out of memory`. <br/>\n",
    "To deal with this issue, set `event_editor`.\n",
    "\n",
    "To annotate the `TraceEvent.custom` field, set `custom_type`.\n"
   ]
  },
  {
   "cell_type": "code",
   "execution_count": 5,
   "metadata": {},
   "outputs": [
    {
     "data": {
      "text/plain": [
       "[TraceEvent(function='lvl1', filename='/home/crimson/manager/crimson/tracer/example/script.py', lineno=4, event='call', arg=None, level=0, locals={}, custom=0),\n",
       " TraceEvent(function='lvl1', filename='/home/crimson/manager/crimson/tracer/example/script.py', lineno=9, event='line', arg=None, level=0, locals={}, custom=0),\n",
       " TraceEvent(function='__init__', filename='/home/crimson/miniconda3/envs/tracer-beta/lib/python3.12/site-packages/anytree/node/node.py', lineno=74, event='call', arg=None, level=1, locals={}, custom=5),\n",
       " TraceEvent(function='__init__', filename='/home/crimson/miniconda3/envs/tracer-beta/lib/python3.12/site-packages/anytree/node/node.py', lineno=75, event='line', arg=None, level=1, locals={}, custom=0),\n",
       " TraceEvent(function='__init__', filename='/home/crimson/miniconda3/envs/tracer-beta/lib/python3.12/site-packages/anytree/node/node.py', lineno=76, event='line', arg=None, level=1, locals={}, custom=0),\n",
       " TraceEvent(function='__init__', filename='/home/crimson/miniconda3/envs/tracer-beta/lib/python3.12/site-packages/anytree/node/node.py', lineno=77, event='line', arg=None, level=1, locals={}, custom=0),\n",
       " TraceEvent(function='parent', filename='/home/crimson/miniconda3/envs/tracer-beta/lib/python3.12/site-packages/anytree/node/nodemixin.py', lineno=123, event='call', arg=None, level=2, locals={}, custom=2),\n",
       " TraceEvent(function='parent', filename='/home/crimson/miniconda3/envs/tracer-beta/lib/python3.12/site-packages/anytree/node/nodemixin.py', lineno=125, event='line', arg=None, level=2, locals={}, custom=0),\n",
       " TraceEvent(function='parent', filename='/home/crimson/miniconda3/envs/tracer-beta/lib/python3.12/site-packages/anytree/node/nodemixin.py', lineno=128, event='line', arg=None, level=2, locals={}, custom=0),\n",
       " TraceEvent(function='parent', filename='/home/crimson/miniconda3/envs/tracer-beta/lib/python3.12/site-packages/anytree/node/nodemixin.py', lineno=131, event='line', arg=None, level=2, locals={}, custom=0),\n",
       " TraceEvent(function='parent', filename='/home/crimson/miniconda3/envs/tracer-beta/lib/python3.12/site-packages/anytree/node/nodemixin.py', lineno=132, event='line', arg=None, level=2, locals={}, custom=0),\n",
       " TraceEvent(function='parent', filename='/home/crimson/miniconda3/envs/tracer-beta/lib/python3.12/site-packages/anytree/node/nodemixin.py', lineno=132, event='return', arg=None, level=2, locals={}, custom=0),\n",
       " TraceEvent(function='__init__', filename='/home/crimson/miniconda3/envs/tracer-beta/lib/python3.12/site-packages/anytree/node/node.py', lineno=78, event='line', arg=None, level=1, locals={}, custom=0),\n",
       " TraceEvent(function='__init__', filename='/home/crimson/miniconda3/envs/tracer-beta/lib/python3.12/site-packages/anytree/node/node.py', lineno=78, event='return', arg=None, level=1, locals={}, custom=0),\n",
       " TraceEvent(function='lvl1', filename='/home/crimson/manager/crimson/tracer/example/script.py', lineno=11, event='line', arg=None, level=0, locals={}, custom=0),\n",
       " TraceEvent(function='lvl2_1', filename='/home/crimson/manager/crimson/tracer/example/script.py', lineno=21, event='call', arg=None, level=1, locals={}, custom=0),\n",
       " TraceEvent(function='lvl2_1', filename='/home/crimson/manager/crimson/tracer/example/script.py', lineno=27, event='line', arg=None, level=1, locals={}, custom=0),\n",
       " TraceEvent(function='lvl2_1', filename='/home/crimson/manager/crimson/tracer/example/script.py', lineno=27, event='return', arg=1, level=1, locals={}, custom=0),\n",
       " TraceEvent(function='lvl1', filename='/home/crimson/manager/crimson/tracer/example/script.py', lineno=16, event='line', arg=None, level=0, locals={}, custom=0),\n",
       " TraceEvent(function='lvl2_2', filename='/home/crimson/manager/crimson/tracer/example/script.py', lineno=30, event='call', arg=None, level=1, locals={}, custom=0),\n",
       " TraceEvent(function='lvl2_2', filename='/home/crimson/manager/crimson/tracer/example/script.py', lineno=34, event='line', arg=None, level=1, locals={}, custom=0),\n",
       " TraceEvent(function='lvl3', filename='/home/crimson/manager/crimson/tracer/example/script.py', lineno=40, event='call', arg=None, level=2, locals={}, custom=1),\n",
       " TraceEvent(function='lvl3', filename='/home/crimson/manager/crimson/tracer/example/script.py', lineno=41, event='line', arg=None, level=2, locals={}, custom=0),\n",
       " TraceEvent(function='lvl3', filename='/home/crimson/manager/crimson/tracer/example/script.py', lineno=41, event='return', arg=None, level=2, locals={}, custom=0),\n",
       " TraceEvent(function='lvl2_2', filename='/home/crimson/manager/crimson/tracer/example/script.py', lineno=36, event='line', arg=None, level=1, locals={}, custom=0),\n",
       " TraceEvent(function='lvl2_2', filename='/home/crimson/manager/crimson/tracer/example/script.py', lineno=37, event='line', arg=None, level=1, locals={}, custom=0),\n",
       " TraceEvent(function='lvl2_2', filename='/home/crimson/manager/crimson/tracer/example/script.py', lineno=37, event='return', arg='return value with variable', level=1, locals={}, custom=0),\n",
       " TraceEvent(function='lvl1', filename='/home/crimson/manager/crimson/tracer/example/script.py', lineno=18, event='line', arg=None, level=0, locals={}, custom=0),\n",
       " TraceEvent(function='lvl3', filename='/home/crimson/manager/crimson/tracer/example/script.py', lineno=40, event='call', arg=None, level=1, locals={}, custom=1),\n",
       " TraceEvent(function='lvl3', filename='/home/crimson/manager/crimson/tracer/example/script.py', lineno=41, event='line', arg=None, level=1, locals={}, custom=0),\n",
       " TraceEvent(function='lvl3', filename='/home/crimson/manager/crimson/tracer/example/script.py', lineno=41, event='return', arg=None, level=1, locals={}, custom=0),\n",
       " TraceEvent(function='lvl1', filename='/home/crimson/manager/crimson/tracer/example/script.py', lineno=18, event='return', arg=None, level=0, locals={}, custom=0)]"
      ]
     },
     "execution_count": 5,
     "metadata": {},
     "output_type": "execute_result"
    }
   ],
   "source": [
    "def event_editor(trace_event: TraceEvent) -> TraceEvent:\n",
    "    trace_event.custom = len(trace_event.locals)\n",
    "    trace_event.locals = {}\n",
    "\n",
    "    return trace_event\n",
    "\n",
    "def frame_filter_dummy(frame):\n",
    "    return True\n",
    "\n",
    "TraceManager.set_event_editor(event_editor=event_editor)\n",
    "TraceManager.set_frame_filter(frame_filter_dummy)\n",
    "\n",
    "TraceManager.run_trace(func = lvl1, name = 'lighter locals')\n",
    "trace_result = TraceManager.get_trace('lighter locals', custom_type=int)\n",
    "trace_result"
   ]
  },
  {
   "cell_type": "markdown",
   "metadata": {},
   "source": [
    "IDE knows the type of `TraceEvent.custom`.\n",
    "\n",
    "<!--StartFragment--><div style=\"color: #cccccc;background-color: #1f1f1f;font-family: Consolas, 'Courier New', monospace;font-weight: normal;font-size: 14px;line-height: 19px;white-space: pre;\"><div><span style=\"color: #9cdcfe;\">trace_result</span><span style=\"color: #cccccc;\">[</span><span style=\"color: #b5cea8;\">0</span><span style=\"color: #cccccc;\">].</span><span style=\"color: #9cdcfe;\">custom</span><span style=\"color: #cccccc;\">.</span><span style=\"color: #9cdcfe;\">imag</span></div></div><!--EndFragment-->\n"
   ]
  }
 ],
 "metadata": {
  "kernelspec": {
   "display_name": "tracer-beta",
   "language": "python",
   "name": "python3"
  },
  "language_info": {
   "codemirror_mode": {
    "name": "ipython",
    "version": 3
   },
   "file_extension": ".py",
   "mimetype": "text/x-python",
   "name": "python",
   "nbconvert_exporter": "python",
   "pygments_lexer": "ipython3",
   "version": "3.12.7"
  }
 },
 "nbformat": 4,
 "nbformat_minor": 2
}
