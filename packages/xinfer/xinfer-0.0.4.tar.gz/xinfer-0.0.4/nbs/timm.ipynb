{
 "cells": [
  {
   "cell_type": "code",
   "execution_count": 1,
   "metadata": {},
   "outputs": [
    {
     "name": "stderr",
     "output_type": "stream",
     "text": [
      "/home/dnth/mambaforge-pypy3/envs/xinfer-test/lib/python3.11/site-packages/tqdm/auto.py:21: TqdmWarning: IProgress not found. Please update jupyter and ipywidgets. See https://ipywidgets.readthedocs.io/en/stable/user_install.html\n",
      "  from .autonotebook import tqdm as notebook_tqdm\n"
     ]
    },
    {
     "data": {
      "text/html": [
       "<pre style=\"white-space:pre;overflow-x:auto;line-height:normal;font-family:Menlo,'DejaVu Sans Mono',consolas,'Courier New',monospace\"><span style=\"font-style: italic\">                                   Available Models                                    </span>\n",
       "┏━━━━━━━━━━━━━━━━┳━━━━━━━━━━━━━━━━━━━━━━━━━━━━━━━━━━━━━━━━━━━━━━━━━┳━━━━━━━━━━━━━━━━━━┓\n",
       "┃<span style=\"font-weight: bold\"> Implementation </span>┃<span style=\"font-weight: bold\"> Model ID                                        </span>┃<span style=\"font-weight: bold\"> Input --&gt; Output </span>┃\n",
       "┡━━━━━━━━━━━━━━━━╇━━━━━━━━━━━━━━━━━━━━━━━━━━━━━━━━━━━━━━━━━━━━━━━━━╇━━━━━━━━━━━━━━━━━━┩\n",
       "│<span style=\"color: #008080; text-decoration-color: #008080\"> timm           </span>│<span style=\"color: #800080; text-decoration-color: #800080\"> eva02_large_patch14_448.mim_m38m_ft_in22k_in1k  </span>│<span style=\"color: #008000; text-decoration-color: #008000\"> image --&gt; class  </span>│\n",
       "│<span style=\"color: #008080; text-decoration-color: #008080\"> timm           </span>│<span style=\"color: #800080; text-decoration-color: #800080\"> eva02_large_patch14_448.mim_m38m_ft_in1k        </span>│<span style=\"color: #008000; text-decoration-color: #008000\"> image --&gt; class  </span>│\n",
       "│<span style=\"color: #008080; text-decoration-color: #008080\"> timm           </span>│<span style=\"color: #800080; text-decoration-color: #800080\"> eva02_large_patch14_448.mim_in22k_ft_in22k_in1k </span>│<span style=\"color: #008000; text-decoration-color: #008000\"> image --&gt; class  </span>│\n",
       "│<span style=\"color: #008080; text-decoration-color: #008080\"> timm           </span>│<span style=\"color: #800080; text-decoration-color: #800080\"> eva02_large_patch14_448.mim_in22k_ft_in1k       </span>│<span style=\"color: #008000; text-decoration-color: #008000\"> image --&gt; class  </span>│\n",
       "│<span style=\"color: #008080; text-decoration-color: #008080\"> timm           </span>│<span style=\"color: #800080; text-decoration-color: #800080\"> eva02_base_patch14_448.mim_in22k_ft_in22k_in1k  </span>│<span style=\"color: #008000; text-decoration-color: #008000\"> image --&gt; class  </span>│\n",
       "│<span style=\"color: #008080; text-decoration-color: #008080\"> timm           </span>│<span style=\"color: #800080; text-decoration-color: #800080\"> eva02_base_patch14_448.mim_in22k_ft_in1k        </span>│<span style=\"color: #008000; text-decoration-color: #008000\"> image --&gt; class  </span>│\n",
       "│<span style=\"color: #008080; text-decoration-color: #008080\"> timm           </span>│<span style=\"color: #800080; text-decoration-color: #800080\"> eva02_small_patch14_336.mim_in22k_ft_in1k       </span>│<span style=\"color: #008000; text-decoration-color: #008000\"> image --&gt; class  </span>│\n",
       "│<span style=\"color: #008080; text-decoration-color: #008080\"> timm           </span>│<span style=\"color: #800080; text-decoration-color: #800080\"> eva02_tiny_patch14_336.mim_in22k_ft_in1k        </span>│<span style=\"color: #008000; text-decoration-color: #008000\"> image --&gt; class  </span>│\n",
       "└────────────────┴─────────────────────────────────────────────────┴──────────────────┘\n",
       "</pre>\n"
      ],
      "text/plain": [
       "\u001b[3m                                   Available Models                                    \u001b[0m\n",
       "┏━━━━━━━━━━━━━━━━┳━━━━━━━━━━━━━━━━━━━━━━━━━━━━━━━━━━━━━━━━━━━━━━━━━┳━━━━━━━━━━━━━━━━━━┓\n",
       "┃\u001b[1m \u001b[0m\u001b[1mImplementation\u001b[0m\u001b[1m \u001b[0m┃\u001b[1m \u001b[0m\u001b[1mModel ID                                       \u001b[0m\u001b[1m \u001b[0m┃\u001b[1m \u001b[0m\u001b[1mInput --> Output\u001b[0m\u001b[1m \u001b[0m┃\n",
       "┡━━━━━━━━━━━━━━━━╇━━━━━━━━━━━━━━━━━━━━━━━━━━━━━━━━━━━━━━━━━━━━━━━━━╇━━━━━━━━━━━━━━━━━━┩\n",
       "│\u001b[36m \u001b[0m\u001b[36mtimm          \u001b[0m\u001b[36m \u001b[0m│\u001b[35m \u001b[0m\u001b[35meva02_large_patch14_448.mim_m38m_ft_in22k_in1k \u001b[0m\u001b[35m \u001b[0m│\u001b[32m \u001b[0m\u001b[32mimage --> class \u001b[0m\u001b[32m \u001b[0m│\n",
       "│\u001b[36m \u001b[0m\u001b[36mtimm          \u001b[0m\u001b[36m \u001b[0m│\u001b[35m \u001b[0m\u001b[35meva02_large_patch14_448.mim_m38m_ft_in1k       \u001b[0m\u001b[35m \u001b[0m│\u001b[32m \u001b[0m\u001b[32mimage --> class \u001b[0m\u001b[32m \u001b[0m│\n",
       "│\u001b[36m \u001b[0m\u001b[36mtimm          \u001b[0m\u001b[36m \u001b[0m│\u001b[35m \u001b[0m\u001b[35meva02_large_patch14_448.mim_in22k_ft_in22k_in1k\u001b[0m\u001b[35m \u001b[0m│\u001b[32m \u001b[0m\u001b[32mimage --> class \u001b[0m\u001b[32m \u001b[0m│\n",
       "│\u001b[36m \u001b[0m\u001b[36mtimm          \u001b[0m\u001b[36m \u001b[0m│\u001b[35m \u001b[0m\u001b[35meva02_large_patch14_448.mim_in22k_ft_in1k      \u001b[0m\u001b[35m \u001b[0m│\u001b[32m \u001b[0m\u001b[32mimage --> class \u001b[0m\u001b[32m \u001b[0m│\n",
       "│\u001b[36m \u001b[0m\u001b[36mtimm          \u001b[0m\u001b[36m \u001b[0m│\u001b[35m \u001b[0m\u001b[35meva02_base_patch14_448.mim_in22k_ft_in22k_in1k \u001b[0m\u001b[35m \u001b[0m│\u001b[32m \u001b[0m\u001b[32mimage --> class \u001b[0m\u001b[32m \u001b[0m│\n",
       "│\u001b[36m \u001b[0m\u001b[36mtimm          \u001b[0m\u001b[36m \u001b[0m│\u001b[35m \u001b[0m\u001b[35meva02_base_patch14_448.mim_in22k_ft_in1k       \u001b[0m\u001b[35m \u001b[0m│\u001b[32m \u001b[0m\u001b[32mimage --> class \u001b[0m\u001b[32m \u001b[0m│\n",
       "│\u001b[36m \u001b[0m\u001b[36mtimm          \u001b[0m\u001b[36m \u001b[0m│\u001b[35m \u001b[0m\u001b[35meva02_small_patch14_336.mim_in22k_ft_in1k      \u001b[0m\u001b[35m \u001b[0m│\u001b[32m \u001b[0m\u001b[32mimage --> class \u001b[0m\u001b[32m \u001b[0m│\n",
       "│\u001b[36m \u001b[0m\u001b[36mtimm          \u001b[0m\u001b[36m \u001b[0m│\u001b[35m \u001b[0m\u001b[35meva02_tiny_patch14_336.mim_in22k_ft_in1k       \u001b[0m\u001b[35m \u001b[0m│\u001b[32m \u001b[0m\u001b[32mimage --> class \u001b[0m\u001b[32m \u001b[0m│\n",
       "└────────────────┴─────────────────────────────────────────────────┴──────────────────┘\n"
      ]
     },
     "metadata": {},
     "output_type": "display_data"
    }
   ],
   "source": [
    "import xinfer\n",
    "\n",
    "xinfer.list_models()"
   ]
  },
  {
   "cell_type": "code",
   "execution_count": 2,
   "metadata": {},
   "outputs": [
    {
     "name": "stderr",
     "output_type": "stream",
     "text": [
      "\u001b[32m2024-10-15 11:12:36.585\u001b[0m | \u001b[1mINFO    \u001b[0m | \u001b[36mxinfer.timm.timm_model\u001b[0m:\u001b[36m__init__\u001b[0m:\u001b[36m19\u001b[0m - \u001b[1mModel: eva02_small_patch14_336.mim_in22k_ft_in1k\u001b[0m\n",
      "\u001b[32m2024-10-15 11:12:36.586\u001b[0m | \u001b[1mINFO    \u001b[0m | \u001b[36mxinfer.timm.timm_model\u001b[0m:\u001b[36m__init__\u001b[0m:\u001b[36m20\u001b[0m - \u001b[1mDevice: cuda\u001b[0m\n",
      "\u001b[32m2024-10-15 11:12:36.586\u001b[0m | \u001b[1mINFO    \u001b[0m | \u001b[36mxinfer.timm.timm_model\u001b[0m:\u001b[36m__init__\u001b[0m:\u001b[36m21\u001b[0m - \u001b[1mDtype: bfloat16\u001b[0m\n",
      "\u001b[32m2024-10-15 11:12:36.586\u001b[0m | \u001b[1mINFO    \u001b[0m | \u001b[36mxinfer.timm.timm_model\u001b[0m:\u001b[36mload_model\u001b[0m:\u001b[36m36\u001b[0m - \u001b[1mLoading model: eva02_small_patch14_336.mim_in22k_ft_in1k\u001b[0m\n"
     ]
    }
   ],
   "source": [
    "model = xinfer.create_model(\"eva02_small_patch14_336.mim_in22k_ft_in1k\", device=\"cuda\", dtype=\"bfloat16\")"
   ]
  },
  {
   "cell_type": "code",
   "execution_count": 3,
   "metadata": {},
   "outputs": [
    {
     "name": "stderr",
     "output_type": "stream",
     "text": [
      "\u001b[32m2024-10-15 11:12:52.836\u001b[0m | \u001b[1mINFO    \u001b[0m | \u001b[36mxinfer.timm.timm_model\u001b[0m:\u001b[36minfer\u001b[0m:\u001b[36m87\u001b[0m - \u001b[1mInference time: 14725.6737 ms\u001b[0m\n",
      "\u001b[32m2024-10-15 11:12:52.836\u001b[0m | \u001b[1mINFO    \u001b[0m | \u001b[36mxinfer.timm.timm_model\u001b[0m:\u001b[36minfer\u001b[0m:\u001b[36m88\u001b[0m - \u001b[1mDevice: cuda\u001b[0m\n",
      "\u001b[32m2024-10-15 11:12:52.837\u001b[0m | \u001b[1mINFO    \u001b[0m | \u001b[36mxinfer.timm.timm_model\u001b[0m:\u001b[36minfer\u001b[0m:\u001b[36m89\u001b[0m - \u001b[1mDtype: torch.bfloat16\u001b[0m\n"
     ]
    },
    {
     "data": {
      "text/plain": [
       "[{'class': 'trolleybus, trolley coach, trackless trolley',\n",
       "  'id': 874,\n",
       "  'confidence': 87.0},\n",
       " {'class': 'streetcar, tram, tramcar, trolley, trolley car',\n",
       "  'id': 829,\n",
       "  'confidence': 3.59375},\n",
       " {'class': 'minibus', 'id': 654, 'confidence': 2.3125},\n",
       " {'class': 'passenger car, coach, carriage', 'id': 705, 'confidence': 0.6875},\n",
       " {'class': 'amphibian, amphibious vehicle',\n",
       "  'id': 408,\n",
       "  'confidence': 0.1435546875},\n",
       " {'class': 'school bus', 'id': 779, 'confidence': 0.130859375},\n",
       " {'class': 'Loafer', 'id': 630, 'confidence': 0.1083984375},\n",
       " {'class': 'traffic light, traffic signal, stoplight',\n",
       "  'id': 920,\n",
       "  'confidence': 0.08056640625},\n",
       " {'class': 'street sign', 'id': 919, 'confidence': 0.06982421875},\n",
       " {'class': 'fur coat', 'id': 568, 'confidence': 0.06689453125}]"
      ]
     },
     "execution_count": 3,
     "metadata": {},
     "output_type": "execute_result"
    }
   ],
   "source": [
    "model.infer(\"https://ultralytics.com/images/bus.jpg\", top_k=10, verbose=True)"
   ]
  },
  {
   "cell_type": "code",
   "execution_count": 4,
   "metadata": {},
   "outputs": [
    {
     "data": {
      "text/plain": [
       "[[{'class': 'trolleybus, trolley coach, trackless trolley',\n",
       "   'id': 874,\n",
       "   'confidence': 87.0},\n",
       "  {'class': 'streetcar, tram, tramcar, trolley, trolley car',\n",
       "   'id': 829,\n",
       "   'confidence': 3.59375},\n",
       "  {'class': 'minibus', 'id': 654, 'confidence': 2.3125},\n",
       "  {'class': 'passenger car, coach, carriage', 'id': 705, 'confidence': 0.6875},\n",
       "  {'class': 'amphibian, amphibious vehicle',\n",
       "   'id': 408,\n",
       "   'confidence': 0.1435546875},\n",
       "  {'class': 'school bus', 'id': 779, 'confidence': 0.130859375},\n",
       "  {'class': 'Loafer', 'id': 630, 'confidence': 0.1083984375},\n",
       "  {'class': 'traffic light, traffic signal, stoplight',\n",
       "   'id': 920,\n",
       "   'confidence': 0.08056640625},\n",
       "  {'class': 'street sign', 'id': 919, 'confidence': 0.06982421875},\n",
       "  {'class': 'fur coat', 'id': 568, 'confidence': 0.06689453125}],\n",
       " [{'class': 'trolleybus, trolley coach, trackless trolley',\n",
       "   'id': 874,\n",
       "   'confidence': 87.0},\n",
       "  {'class': 'streetcar, tram, tramcar, trolley, trolley car',\n",
       "   'id': 829,\n",
       "   'confidence': 3.59375},\n",
       "  {'class': 'minibus', 'id': 654, 'confidence': 2.3125},\n",
       "  {'class': 'passenger car, coach, carriage', 'id': 705, 'confidence': 0.6875},\n",
       "  {'class': 'amphibian, amphibious vehicle',\n",
       "   'id': 408,\n",
       "   'confidence': 0.1435546875},\n",
       "  {'class': 'school bus', 'id': 779, 'confidence': 0.130859375},\n",
       "  {'class': 'Loafer', 'id': 630, 'confidence': 0.1083984375},\n",
       "  {'class': 'traffic light, traffic signal, stoplight',\n",
       "   'id': 920,\n",
       "   'confidence': 0.08056640625},\n",
       "  {'class': 'street sign', 'id': 919, 'confidence': 0.06982421875},\n",
       "  {'class': 'fur coat', 'id': 568, 'confidence': 0.06689453125}]]"
      ]
     },
     "execution_count": 4,
     "metadata": {},
     "output_type": "execute_result"
    }
   ],
   "source": [
    "model.infer_batch([\"https://ultralytics.com/images/bus.jpg\", \"https://ultralytics.com/images/bus.jpg\"], top_k=10)"
   ]
  },
  {
   "cell_type": "code",
   "execution_count": 5,
   "metadata": {},
   "outputs": [
    {
     "name": "stderr",
     "output_type": "stream",
     "text": [
      "\u001b[32m2024-10-15 11:13:13.540\u001b[0m | \u001b[1mINFO    \u001b[0m | \u001b[36mxinfer.timm.timm_model\u001b[0m:\u001b[36m__init__\u001b[0m:\u001b[36m19\u001b[0m - \u001b[1mModel: resnet18\u001b[0m\n",
      "\u001b[32m2024-10-15 11:13:13.540\u001b[0m | \u001b[1mINFO    \u001b[0m | \u001b[36mxinfer.timm.timm_model\u001b[0m:\u001b[36m__init__\u001b[0m:\u001b[36m20\u001b[0m - \u001b[1mDevice: cuda\u001b[0m\n",
      "\u001b[32m2024-10-15 11:13:13.541\u001b[0m | \u001b[1mINFO    \u001b[0m | \u001b[36mxinfer.timm.timm_model\u001b[0m:\u001b[36m__init__\u001b[0m:\u001b[36m21\u001b[0m - \u001b[1mDtype: bfloat16\u001b[0m\n",
      "\u001b[32m2024-10-15 11:13:13.541\u001b[0m | \u001b[1mINFO    \u001b[0m | \u001b[36mxinfer.timm.timm_model\u001b[0m:\u001b[36mload_model\u001b[0m:\u001b[36m36\u001b[0m - \u001b[1mLoading model: resnet18\u001b[0m\n"
     ]
    }
   ],
   "source": [
    "from xinfer.timm import TimmModel\n",
    "\n",
    "model = TimmModel(\"resnet18\", device=\"cuda\", dtype=\"bfloat16\")\n",
    "model = xinfer.create_model(model)"
   ]
  },
  {
   "cell_type": "code",
   "execution_count": 6,
   "metadata": {},
   "outputs": [
    {
     "name": "stderr",
     "output_type": "stream",
     "text": [
      "\u001b[32m2024-10-15 11:13:18.590\u001b[0m | \u001b[1mINFO    \u001b[0m | \u001b[36mxinfer.timm.timm_model\u001b[0m:\u001b[36minfer\u001b[0m:\u001b[36m87\u001b[0m - \u001b[1mInference time: 4240.6645 ms\u001b[0m\n",
      "\u001b[32m2024-10-15 11:13:18.591\u001b[0m | \u001b[1mINFO    \u001b[0m | \u001b[36mxinfer.timm.timm_model\u001b[0m:\u001b[36minfer\u001b[0m:\u001b[36m88\u001b[0m - \u001b[1mDevice: cuda\u001b[0m\n",
      "\u001b[32m2024-10-15 11:13:18.591\u001b[0m | \u001b[1mINFO    \u001b[0m | \u001b[36mxinfer.timm.timm_model\u001b[0m:\u001b[36minfer\u001b[0m:\u001b[36m89\u001b[0m - \u001b[1mDtype: torch.bfloat16\u001b[0m\n"
     ]
    }
   ],
   "source": [
    "# model = xinfer.create_model(\"eva02_tiny_patch14_336.mim_in22k_ft_in1k\")\n",
    "\n",
    "result = model.infer(\"../assets/xinfer.jpg\", top_k=10, verbose=True)"
   ]
  },
  {
   "cell_type": "code",
   "execution_count": 7,
   "metadata": {},
   "outputs": [
    {
     "data": {
      "text/plain": [
       "[{'class': 'analog clock', 'id': 409, 'confidence': 39.75},\n",
       " {'class': 'wall clock', 'id': 892, 'confidence': 7.03125},\n",
       " {'class': 'digital clock', 'id': 530, 'confidence': 4.40625},\n",
       " {'class': 'hook, claw', 'id': 600, 'confidence': 1.2734375},\n",
       " {'class': 'stopwatch, stop watch', 'id': 826, 'confidence': 1.2421875},\n",
       " {'class': 'magnetic compass', 'id': 635, 'confidence': 1.1640625},\n",
       " {'class': \"loupe, jeweler's loupe\", 'id': 633, 'confidence': 1.09375},\n",
       " {'class': 'web site, website, internet site, site',\n",
       "  'id': 916,\n",
       "  'confidence': 0.96484375},\n",
       " {'class': 'screw', 'id': 783, 'confidence': 0.90234375},\n",
       " {'class': 'barometer', 'id': 426, 'confidence': 0.84765625}]"
      ]
     },
     "execution_count": 7,
     "metadata": {},
     "output_type": "execute_result"
    }
   ],
   "source": [
    "result"
   ]
  },
  {
   "cell_type": "code",
   "execution_count": null,
   "metadata": {},
   "outputs": [],
   "source": []
  }
 ],
 "metadata": {
  "kernelspec": {
   "display_name": "xinfer",
   "language": "python",
   "name": "python3"
  },
  "language_info": {
   "codemirror_mode": {
    "name": "ipython",
    "version": 3
   },
   "file_extension": ".py",
   "mimetype": "text/x-python",
   "name": "python",
   "nbconvert_exporter": "python",
   "pygments_lexer": "ipython3",
   "version": "3.11.10"
  }
 },
 "nbformat": 4,
 "nbformat_minor": 2
}
